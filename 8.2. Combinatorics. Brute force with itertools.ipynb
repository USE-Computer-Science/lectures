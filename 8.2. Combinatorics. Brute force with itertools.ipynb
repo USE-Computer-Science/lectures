{
  "nbformat": 4,
  "nbformat_minor": 0,
  "metadata": {
    "colab": {
      "provenance": [],
      "collapsed_sections": [
        "T_PYPM_7ouxN",
        "ezktmtYKYstE"
      ],
      "authorship_tag": "ABX9TyNDLJsjhKvrbj3ZNkCWEwiZ",
      "include_colab_link": true
    },
    "kernelspec": {
      "name": "python3",
      "display_name": "Python 3"
    },
    "language_info": {
      "name": "python"
    }
  },
  "cells": [
    {
      "cell_type": "markdown",
      "metadata": {
        "id": "view-in-github",
        "colab_type": "text"
      },
      "source": [
        "<a href=\"https://colab.research.google.com/github/USE-Computer-Science/lectures/blob/main/8.2.%20Combinatorics.%20Brute%20force%20with%20itertools.ipynb\" target=\"_parent\"><img src=\"https://colab.research.google.com/assets/colab-badge.svg\" alt=\"Open In Colab\"/></a>"
      ]
    },
    {
      "cell_type": "markdown",
      "source": [
        "### **Брутфорс комбинаторики с помощью модуля itertools**"
      ],
      "metadata": {
        "id": "YDLoVHAVmBm7"
      }
    },
    {
      "cell_type": "markdown",
      "source": [
        "#### **модуль itertools**"
      ],
      "metadata": {
        "id": "4hm-UYY65ddt"
      }
    },
    {
      "cell_type": "code",
      "source": [
        "import itertools                   # импорт модуля целиком\n",
        "from itertools import permutations # импорт конкретной библиотеки из модуля"
      ],
      "metadata": {
        "id": "QtorTCut5wQW"
      },
      "execution_count": 1,
      "outputs": []
    },
    {
      "cell_type": "code",
      "source": [
        "# полный перебор всех возможных сочетаний длиной repeat из алфавита 'год' (декартово произведение)\n",
        "[*itertools.product('год', repeat = 2)]"
      ],
      "metadata": {
        "colab": {
          "base_uri": "https://localhost:8080/"
        },
        "id": "PZj75D_C6CL6",
        "outputId": "4862c8bd-baef-4263-f96f-dfcef0bea863"
      },
      "execution_count": 2,
      "outputs": [
        {
          "output_type": "execute_result",
          "data": {
            "text/plain": [
              "[('г', 'г'),\n",
              " ('г', 'о'),\n",
              " ('г', 'д'),\n",
              " ('о', 'г'),\n",
              " ('о', 'о'),\n",
              " ('о', 'д'),\n",
              " ('д', 'г'),\n",
              " ('д', 'о'),\n",
              " ('д', 'д')]"
            ]
          },
          "metadata": {},
          "execution_count": 2
        }
      ]
    },
    {
      "cell_type": "code",
      "source": [
        "# полный перебор всех возможных перестановок длиной r из алфавита 'год' без повторений символов\n",
        "[*permutations('год', r = 2)]"
      ],
      "metadata": {
        "colab": {
          "base_uri": "https://localhost:8080/"
        },
        "id": "z7oEGvJ266Of",
        "outputId": "70d05525-b16e-4bf3-c39d-e0a1a430fcae"
      },
      "execution_count": 3,
      "outputs": [
        {
          "output_type": "execute_result",
          "data": {
            "text/plain": [
              "[('г', 'о'), ('г', 'д'), ('о', 'г'), ('о', 'д'), ('д', 'г'), ('д', 'о')]"
            ]
          },
          "metadata": {},
          "execution_count": 3
        }
      ]
    },
    {
      "cell_type": "code",
      "source": [
        "# полный перебор всех возможных перестановок длиной r из алфавита 'год' без учёта порядка\n",
        "[*itertools.combinations('год', r = 3)]"
      ],
      "metadata": {
        "colab": {
          "base_uri": "https://localhost:8080/"
        },
        "id": "4-dx8V_x7sjL",
        "outputId": "2296a3ce-4ada-485c-b690-c3e4ba6fa6bb"
      },
      "execution_count": 4,
      "outputs": [
        {
          "output_type": "execute_result",
          "data": {
            "text/plain": [
              "[('г', 'о', 'д')]"
            ]
          },
          "metadata": {},
          "execution_count": 4
        }
      ]
    },
    {
      "cell_type": "code",
      "source": [
        "# полный перебор всех возможных перестановок длиной r из алфавита 'год' без учёта порядка с повторениями\n",
        "[*itertools.combinations_with_replacement('год', r = 3)]"
      ],
      "metadata": {
        "colab": {
          "base_uri": "https://localhost:8080/"
        },
        "id": "QS7NMq_i8Ewk",
        "outputId": "1b69a710-268d-463d-b4c3-60601d806fae"
      },
      "execution_count": 5,
      "outputs": [
        {
          "output_type": "execute_result",
          "data": {
            "text/plain": [
              "[('г', 'г', 'г'),\n",
              " ('г', 'г', 'о'),\n",
              " ('г', 'г', 'д'),\n",
              " ('г', 'о', 'о'),\n",
              " ('г', 'о', 'д'),\n",
              " ('г', 'д', 'д'),\n",
              " ('о', 'о', 'о'),\n",
              " ('о', 'о', 'д'),\n",
              " ('о', 'д', 'д'),\n",
              " ('д', 'д', 'д')]"
            ]
          },
          "metadata": {},
          "execution_count": 5
        }
      ]
    },
    {
      "cell_type": "markdown",
      "source": [
        "#### **Обобщённая схема решения**"
      ],
      "metadata": {
        "id": "cl2MYgARmCRb"
      }
    },
    {
      "cell_type": "code",
      "source": [
        "from itertools import product      # для задач, в которых разрешён повтор символов\n",
        "from itertools import permutations # для задач, в которых запрещён повтор символов\n",
        "\n",
        "cnt = 0    # инициализируем счётчик нулём, если нужно что-то посчитать\n",
        "index = 1  # инициализируем индекс, если нужно найти номер слова (числа), слово по номеру или количество слов между двумя словами\n",
        "\n",
        "# cоздаём цикл перебора выбранного итератора   \n",
        "for p in product('АЛФАВИТ', repeat = 4):  # repeat - длина получаемых списков у prodcut\n",
        "#for p in permutations('АЛФАВИТ', r = 4): # r - длина получаемых списков у permutations          \n",
        "    \n",
        "    # формируем слово из возвращаемого итератором списка\n",
        "    word = ''.join(p)   \n",
        "          \n",
        "    # если требуется подсчитать количество специальных слов - проверяем условие для текущего слова \n",
        "    if ('условие_для_слова_верно'):\n",
        "      # увеличиваем счётчик на 1\n",
        "      cnt += 1\n",
        "          \n",
        "      # если требуется найти индекс какого-то слова - проверяем не добрались ли мы до этого слова \n",
        "      if (word == 'искомое_слово'):\n",
        "        # печатаем индекс найденного слова\n",
        "        print(index)\n",
        "\n",
        "      # если требуется найти слово по индексу - проверяем не добрались ли мы до этого индекса \n",
        "      if (index == искомый_индекс):\n",
        "        # печатаем найденное слово\n",
        "        print(word)\n",
        "          \n",
        "      # на каждой итерации увеличиваем индекс\n",
        "      index += 1 \n",
        "\n",
        "# если требовалось что-то посчитать - печатаем ответ после всех циклов\n",
        "print(cnt)"
      ],
      "metadata": {
        "id": "_EZnSqwsl_-9"
      },
      "execution_count": null,
      "outputs": []
    },
    {
      "cell_type": "markdown",
      "source": [
        "#### **Задачи**"
      ],
      "metadata": {
        "id": "z8i-dgGvsWJ2"
      }
    },
    {
      "cell_type": "markdown",
      "source": [
        "***(№1)*** Шифр кодового замка представляет собой последовательность из пяти символов, каждый из которых является цифрой от 1 до 4. Сколько различных вариантов шифра можно задать, если известно, что цифра 1 встречается ровно два раза, а каждая из других допустимых цифр может встречаться в шифре любое количество раз или не встречаться совсем?\n",
        "<br>\n",
        "270"
      ],
      "metadata": {
        "id": "6ttwY0UbjHSN"
      }
    },
    {
      "cell_type": "code",
      "source": [
        "# цифры могут повторяться -> itertools.product\n",
        "from itertools import product\n",
        "# инициализируем счётчик\n",
        "cnt = 0\n",
        "# алфавит - 1234, пять символов - repeat = 5\n",
        "for p in product('1234', repeat = 5):\n",
        "  # формируем строку из объекта итератора\n",
        "  word = ''.join(p)\n",
        "  # если единица в шифре ровно 1\n",
        "  if word.count('1') == 2:\n",
        "    # увеличиваем счётчик\n",
        "    cnt += 1\n",
        "# печатаем ответ\n",
        "print(cnt)\n"
      ],
      "metadata": {
        "colab": {
          "base_uri": "https://localhost:8080/"
        },
        "id": "KmqDzFomLFTc",
        "outputId": "bdb7ee36-be13-43b5-9038-554177698eed"
      },
      "execution_count": null,
      "outputs": [
        {
          "output_type": "stream",
          "name": "stdout",
          "text": [
            "270\n"
          ]
        }
      ]
    },
    {
      "cell_type": "markdown",
      "source": [
        "***(№ 2)*** Определите количество семизначных чисел, записанных в девятеричной системе счисления, учитывая, что числа не могут начинаться с цифр 2, 4 и 6 и не должны заканчиваться на тройку одинаковых цифр (например, на 000).\n",
        "\n",
        "\n",
        "2624400"
      ],
      "metadata": {
        "id": "zL2WNN6opbr9"
      }
    },
    {
      "cell_type": "code",
      "source": [
        "# цифры могут повторяться -> itertools.product\n",
        "from itertools import product\n",
        "cnt = 0\n",
        "# девятеричная система - алфавит 012345678, длина слов 7 - repeat = 7\n",
        "for word in product('012345678', repeat = 7):\n",
        "  word = ''.join(word)\n",
        "  # пропускаем цифры 2, 4, 6\n",
        "  if word[0] == '0' or word[0] == '2' or word[0] == '4' or word[0] == '6':\n",
        "    continue\n",
        "  # пропускаем 3 последних одинаковых символа\n",
        "  if word[len(word) - 1] == word[len(word) - 2] == word[len(word) - 3]:\n",
        "    continue\n",
        "  # увеличиваем счётчик\n",
        "  cnt += 1\n",
        "# печатаем ответ\n",
        "print(cnt)"
      ],
      "metadata": {
        "colab": {
          "base_uri": "https://localhost:8080/"
        },
        "id": "AoyfBjNtqagq",
        "outputId": "0fe9a710-e4fc-4168-ded1-7345844a985e"
      },
      "execution_count": null,
      "outputs": [
        {
          "output_type": "stream",
          "name": "stdout",
          "text": [
            "2624400\n"
          ]
        }
      ]
    },
    {
      "cell_type": "markdown",
      "source": [
        "***(№3)*** Все 5-буквенные слова, составленные из букв слова **ПАРУС** записаны в алфавитном порядке и пронумерованы. Вот начало списка:\n",
        "\n",
        "1. ААААА\n",
        "2. ААААП\n",
        "3. ААААР\n",
        "4. ААААС\n",
        "5. ААААУ\n",
        "6. АААПА\n",
        "\n",
        "Укажите номер первого слова в списке, начинающегося на У, в котором две буквы А НЕ стоят рядом?\n",
        "<br>\n",
        "<br>\n",
        "Ответ: 2527"
      ],
      "metadata": {
        "id": "3J3S60BTrsP3"
      }
    },
    {
      "cell_type": "code",
      "execution_count": 91,
      "metadata": {
        "id": "rrqXFA5nYED8",
        "colab": {
          "base_uri": "https://localhost:8080/"
        },
        "outputId": "5ed8f004-0a86-4359-ac8d-d387cdd2bc7e"
      },
      "outputs": [
        {
          "output_type": "stream",
          "name": "stdout",
          "text": [
            "2527\n"
          ]
        }
      ],
      "source": [
        "# буквы могут повторяться -> itertools.product\n",
        "from itertools import product\n",
        "\n",
        "# инициализируем индекс вхождения слова\n",
        "index = 1\n",
        "\n",
        "for word in product('АПРСУ', repeat = 5):\n",
        "  # получим строку из объекта перебора\n",
        "  word = ''.join(word)\n",
        "  \n",
        "  # найдём слова, начинающиеся с У и не содержащие 'АА'\n",
        "  if ( (word[0] == 'У') and ( not 'АА' in word ) ):   \n",
        "    # выйдем из цикла при первом вхождении такого слова, индекс вхождения и есть ответ\n",
        "    break\n",
        "  \n",
        "  # увеличиваем индекс на каждой итерации\n",
        "  index = index + 1\n",
        "# печатаем ответ\n",
        "print(index) "
      ]
    },
    {
      "cell_type": "markdown",
      "source": [
        "***(№4)*** Ольга составляет 5-буквенные коды из букв О, Л, Ь, Г, А. Каждую букву нужно использовать ровно 1 раз, при этом Ь нельзя ставить первым и нельзя ставить после гласной. Сколько различных кодов может составить Ольга?\n",
        "\n",
        "Ответ: 48"
      ],
      "metadata": {
        "id": "nGuiZTX5QgeL"
      }
    },
    {
      "cell_type": "code",
      "source": [
        "# буквы не могут повторяться -> itertools.permutations\n",
        "from itertools import permutations\n",
        "cnt = 0\n",
        "# слова длины 5 -> r = 5\n",
        "for word in permutations('ОЛЬГА', r = 5):\n",
        "  word = ''.join(word)\n",
        "  # пропустим все комбинации с мягким знаком на первом месте, либо Ь, стоящим перед гласными\n",
        "  if word[0] == 'Ь' or 'ОЬ' in word or 'АЬ' in word:\n",
        "    continue\n",
        "  \n",
        "  # увеличиваем индекс на каждой итерации\n",
        "  cnt += 1\n",
        "  \n",
        "# печатаем ответ\n",
        "print(cnt)"
      ],
      "metadata": {
        "id": "2iBZgDA4R_Jc",
        "colab": {
          "base_uri": "https://localhost:8080/"
        },
        "outputId": "0651f5fb-9154-4dee-f7c1-acebe0185582"
      },
      "execution_count": 96,
      "outputs": [
        {
          "output_type": "stream",
          "name": "stdout",
          "text": [
            "48\n"
          ]
        }
      ]
    },
    {
      "cell_type": "markdown",
      "source": [
        "***(№ 5)*** Из букв слова КАНКАН составляются 6-буквенные последовательности. Сколько можно составить различных последовательностей, если известно, что в каждой из них содержится не менее 3 согласных?\n",
        "\n",
        "Ответ: 656"
      ],
      "metadata": {
        "id": "vCnDp0caDQE6"
      }
    },
    {
      "cell_type": "code",
      "source": [
        "# буквы могут повторяться -> itertools.product\n",
        "from itertools import product\n",
        "cnt = 0\n",
        "# удаляем повторяющиеся буквы\n",
        "for word in product('КАН', repeat = 6):\n",
        "  word = ''.join(word)\n",
        "  # если согласных не менее 3\n",
        "  if word.count('К') + word.count('Н') >= 3:\n",
        "    # увеличиваем счётчик\n",
        "    cnt +=1\n",
        "# печатаем ответ\n",
        "print(cnt)"
      ],
      "metadata": {
        "id": "2rXztXMGGRDZ",
        "colab": {
          "base_uri": "https://localhost:8080/"
        },
        "outputId": "3fdebdea-24e7-4dda-e78f-5a870bd1cdd3"
      },
      "execution_count": null,
      "outputs": [
        {
          "output_type": "stream",
          "name": "stdout",
          "text": [
            "656\n"
          ]
        }
      ]
    },
    {
      "cell_type": "markdown",
      "source": [
        "***(№ 6)*** (Е. Джобс) Петя составляет четырёхбуквенные слова из букв слова СТЕПУХА и записывает их в алфавитном порядке в список. Вот начало списка:\n",
        "1. АААА\n",
        "2. АААЕ\n",
        "3. АААП\n",
        "4. АААС\n",
        "5. АААТ\n",
        "6. АААУ\n",
        "7. АААХ\n",
        "8. ААЕА\n",
        "<br>\n",
        "...\n",
        "<br>\n",
        "\n",
        "Сколько существует слов, стоящих на позициях с номером большим 1000, в которых нет двух одинаковых подряд идущих букв?\n",
        "\n",
        "Ответ: 883"
      ],
      "metadata": {
        "id": "t9FqPMRXaLoa"
      }
    },
    {
      "cell_type": "code",
      "source": [
        "# буквы могут повторяться -> itertools.product\n",
        "from itertools import product\n",
        "index = 1\n",
        "cnt = 0\n",
        "# упорядочиваем алфавит по алфавиту\n",
        "for word in product('АЕПСТУХ', repeat = 4):\n",
        "  word = ''.join(word)\n",
        "  # если номер больше 1000\n",
        "  if (index > 1000):\n",
        "    # и нет двух одинаковых букв подряд\n",
        "    if not('АА' in word or 'ЕЕ' in word or 'ПП' in word or 'СС' in word or 'ТТ' in word or 'УУ' in word or 'ХХ' in word):\n",
        "      # увеличиваем счётчик\n",
        "      cnt +=1\n",
        "  # увеличиваем индекс\n",
        "  index += 1\n",
        "# печатаем ответ\n",
        "print(cnt)"
      ],
      "metadata": {
        "id": "hcoDtEQfaXaB",
        "colab": {
          "base_uri": "https://localhost:8080/"
        },
        "outputId": "0b8cc3cf-c8c0-479f-8ba9-4e1ca8c8c50a"
      },
      "execution_count": 92,
      "outputs": [
        {
          "output_type": "stream",
          "name": "stdout",
          "text": [
            "883\n"
          ]
        }
      ]
    },
    {
      "cell_type": "markdown",
      "source": [
        "***(№ 7)*** Вася составляет слова из букв слова БАРХАТКА. Код должен состоять из 8 букв, и каждая буква в нём должна встречаться столько же раз, сколько в заданном слове. Кроме того, в коде НЕ должны стоять рядом две гласные и две согласные буквы. Сколько различных слов может составить Вася?\n",
        "\n",
        "Ответ: 0"
      ],
      "metadata": {
        "id": "Q5X-cSIas-ZV"
      }
    },
    {
      "cell_type": "code",
      "source": [
        "# буквы не могут повторяться -> itertools.permutations\n",
        "from itertools import permutations\n",
        "\n",
        "# счётчик\n",
        "cnt = 0\n",
        "for p in permutations('БАРХТК'):\n",
        "    # получим строку из обЪекта перебора\n",
        "    word = ''.join(p)\n",
        "    \n",
        "    # создадим числовую строку, заменив гласные на 0, а согласные на 1 \n",
        "    num_string = word.replace('А', '0', 3).replace('Б', '1').replace('Р', '1').replace('Х', '1').replace('Т', '1').replace('К', '1')\n",
        "    \n",
        "    if ('00' in num_string or '11' in num_string):\n",
        "      # пропустим все комбинации с двумя гласными/согласными подряд\n",
        "      continue\n",
        "    \n",
        "    # увеличиваем счётчик\n",
        "    cnt += 1\n",
        "\n",
        "# печатаем ответ\n",
        "print(cnt)"
      ],
      "metadata": {
        "id": "yFgVUQ0LQrwE",
        "colab": {
          "base_uri": "https://localhost:8080/"
        },
        "outputId": "8e42f860-7f49-40c4-e7e5-bba02621d4b2"
      },
      "execution_count": null,
      "outputs": [
        {
          "output_type": "stream",
          "name": "stdout",
          "text": [
            "0\n"
          ]
        }
      ]
    },
    {
      "cell_type": "markdown",
      "source": [
        "***(№ 8)*** Все 5-буквенные слова, составленные из букв П, О, Р, Т, записаны в алфавитном порядке и пронумерованы. Вот начало списка:\n",
        "1. ООООО\n",
        "2. ООООП\n",
        "3. ООООР\n",
        "4. ООООТ\n",
        "5. ОООПО\n",
        "...\n",
        "\n",
        "Какое количество слов находятся между словами ТОПОР и РОПОТ (включая эти слова)?\n",
        "\n",
        "Ответ: 256\n"
      ],
      "metadata": {
        "id": "blM_ueb2d1oz"
      }
    },
    {
      "cell_type": "code",
      "source": [
        "# буквы могут повторяться -> itertools.product\n",
        "from itertools import product\n",
        "index = 1     # общий индекс\n",
        "idx_topor = 0 # индекс топора\n",
        "idx_ropot = 0 # индекс ропота\n",
        "# упорядочиваем алфавит по алфавиту, длина слов 5, значит, repeat = 5\n",
        "for word in product('ОПРТ', repeat = 5):\n",
        "  word = ''.join(word)\n",
        "  # если нашли топор\n",
        "  if (word == 'ТОПОР'):\n",
        "    # фиксируем его индекс\n",
        "    idx_topor = index\n",
        "  # если нашли ропот\n",
        "  if (word == 'РОПОТ'):\n",
        "    # фиксируем его индекс  \n",
        "    idx_ropot = index\n",
        "  #увеличиваем индекс на каждой итерации\n",
        "  index += 1\n",
        "# печатаем количество слов между топором и ропотом включительно\n",
        "print(idx_topor - idx_ropot + 1)"
      ],
      "metadata": {
        "id": "L9XmEsgreDBe",
        "colab": {
          "base_uri": "https://localhost:8080/"
        },
        "outputId": "8e3bee06-0b3e-4ec9-a5e0-f6d8430f2e80"
      },
      "execution_count": 97,
      "outputs": [
        {
          "output_type": "stream",
          "name": "stdout",
          "text": [
            "256\n"
          ]
        }
      ]
    },
    {
      "cell_type": "markdown",
      "source": [
        "***(№ 9)*** Артур составляет 6-буквенные коды из букв З, Д, А, Н, И, Е. Каждую букву нужно использовать ровно один раз, при этом нельзя ставить рядом две гласные. Сколько различных кодов может составить Артур?\n",
        "\n",
        "Ответ: 144"
      ],
      "metadata": {
        "id": "5N0aBTYFG7WZ"
      }
    },
    {
      "cell_type": "code",
      "source": [
        "# цифры не могут повторяться -> itertools.permutations\n",
        "from itertools import permutations\n",
        "cnt = 0\n",
        "for word in permutations('ЗДАНИЕ', r = 6):\n",
        "  word = ''.join(word)\n",
        "  num_word = word.replace('А','1').replace('И','1').replace('Е','1')\n",
        "  # если 2 гласных подряд нет\n",
        "  if not '11' in num_word:\n",
        "    # увеличиваем счётчик\n",
        "    cnt +=1\n",
        "# печатаем ответ\n",
        "print(cnt)"
      ],
      "metadata": {
        "id": "N2u2RfCkHkKg",
        "colab": {
          "base_uri": "https://localhost:8080/"
        },
        "outputId": "3ae2f122-19cf-436b-e93d-4dc4e02d90b0"
      },
      "execution_count": 98,
      "outputs": [
        {
          "output_type": "stream",
          "name": "stdout",
          "text": [
            "144\n"
          ]
        }
      ]
    },
    {
      "cell_type": "markdown",
      "source": [
        "#### **Домашка**"
      ],
      "metadata": {
        "id": "RqaEC2G634kR"
      }
    },
    {
      "cell_type": "markdown",
      "source": [
        "***1*** Все четырёхзначные числа, в пятиричной системе счисления записаны по возрастанию и пронумерованы.\n",
        "\n",
        "Вот начало списка:\n",
        "\n",
        "1. 1000\n",
        "\n",
        "2. 1001\n",
        "\n",
        "3. 1002\n",
        "\n",
        "4. 1003\n",
        "\n",
        "5. 1004\n",
        "\n",
        "6. 1010\n",
        "\n",
        "……\n",
        "\n",
        "Запишите число, которое стоит под номером 139."
      ],
      "metadata": {
        "id": "-y08UP1L4Gkd"
      }
    },
    {
      "cell_type": "code",
      "source": [],
      "metadata": {
        "id": "MsopdyfG4HtU"
      },
      "execution_count": null,
      "outputs": []
    },
    {
      "cell_type": "markdown",
      "source": [
        "***2*** Сколько в восьмеричной системе счисления существует пятизначных чисел делящихся на 5 без остатка?"
      ],
      "metadata": {
        "id": "gsACQ2TI4qDn"
      }
    },
    {
      "cell_type": "code",
      "source": [],
      "metadata": {
        "id": "7Mb8yaba4r60"
      },
      "execution_count": null,
      "outputs": []
    },
    {
      "cell_type": "markdown",
      "source": [
        "***3*** Сколько в восьмеричной системе счисления существует четырёхзначных чисел, начинающихся с чётной цифры, в которых все цифры располагаются в невозрастающем порядке?"
      ],
      "metadata": {
        "id": "AhsjW0eq4tWZ"
      }
    },
    {
      "cell_type": "code",
      "source": [],
      "metadata": {
        "id": "fkHxpsJ34tf5"
      },
      "execution_count": null,
      "outputs": []
    },
    {
      "cell_type": "markdown",
      "source": [
        "***4*** Выведите на экран количество таких чисел, девятеричная запись которых содержит 6 неповторяющихся цифр, и никакие две чётные и две нечётные цифры не стоят рядом."
      ],
      "metadata": {
        "id": "U842927q4twa"
      }
    },
    {
      "cell_type": "code",
      "source": [],
      "metadata": {
        "id": "WeBlaRTk4t30"
      },
      "execution_count": null,
      "outputs": []
    },
    {
      "cell_type": "markdown",
      "source": [
        "***5*** Богдан составляет пятизначные числа в шестнадцатеричной системе счисления, в которых цифры расположены в порядке возрастания. Сколько различных чисел всего может составить Богдан?"
      ],
      "metadata": {
        "id": "Zpj-MBur4uFY"
      }
    },
    {
      "cell_type": "code",
      "source": [],
      "metadata": {
        "id": "sWRQr4qI4uLo"
      },
      "execution_count": null,
      "outputs": []
    },
    {
      "cell_type": "markdown",
      "source": [
        "***6*** Все пятизначные числа в семеричной системе счисления, состоящие из неповторяющихся цифр записаны по убыванию и пронумерованы. Вот начало списка:\n",
        "\n",
        "1. 65432\n",
        "\n",
        "2. 65431\n",
        "\n",
        "3. 65430\n",
        "\n",
        "4. 65423\n",
        "\n",
        "……\n",
        "\n",
        "Выведите на экран индекс числа 43210."
      ],
      "metadata": {
        "id": "mAV8OA3V4uSm"
      }
    },
    {
      "cell_type": "code",
      "source": [],
      "metadata": {
        "id": "ZvxoAbJH4uYG"
      },
      "execution_count": null,
      "outputs": []
    },
    {
      "cell_type": "markdown",
      "source": [
        "***7*** Сколько существует нечётных шестеричных чисел длиной 5, начинающихся с цифры 3?"
      ],
      "metadata": {
        "id": "RBhfXaXH4uez"
      }
    },
    {
      "cell_type": "code",
      "source": [],
      "metadata": {
        "id": "EbFX7P7p4ukq"
      },
      "execution_count": null,
      "outputs": []
    },
    {
      "cell_type": "markdown",
      "source": [
        "***8*** Определите количество шестизначных чисел, записанных в восьмеричной системе счисления, учитывая, что числа не могут начинаться с цифр 1 и 5 и не должны содержать сочетания цифр 22 и 33 одновременно."
      ],
      "metadata": {
        "id": "4XcDJj654uqp"
      }
    },
    {
      "cell_type": "code",
      "source": [],
      "metadata": {
        "id": "b_IZJfeb4uv5"
      },
      "execution_count": null,
      "outputs": []
    },
    {
      "cell_type": "markdown",
      "source": [
        "***9*** (ЕГЭ-2022) Определите количество пятизначных чисел, записанных в девятеричной системе счисления, которые не начинаются с нечётных цифр, не оканчиваются цифрами 1 или 8, а также содержат в своей записи не более одной цифры 3."
      ],
      "metadata": {
        "id": "xCryI2GL4u2R"
      }
    },
    {
      "cell_type": "code",
      "source": [],
      "metadata": {
        "id": "rQEQidR04u7c"
      },
      "execution_count": null,
      "outputs": []
    },
    {
      "cell_type": "markdown",
      "source": [
        "***10*** (демо ЕГЭ 2023) Определите количество пятизначных чисел, записанных в восьмеричной системе счисления, в записи которых только одна цифра 6, при этом никакая нечётная цифра не стоит рядом с цифрой 6."
      ],
      "metadata": {
        "id": "gKOXz7Ha4vB6"
      }
    },
    {
      "cell_type": "code",
      "source": [],
      "metadata": {
        "id": "wy57vUDc4vHx"
      },
      "execution_count": null,
      "outputs": []
    }
  ]
}