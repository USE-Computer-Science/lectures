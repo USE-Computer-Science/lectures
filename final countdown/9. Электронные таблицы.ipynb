{
  "nbformat": 4,
  "nbformat_minor": 0,
  "metadata": {
    "colab": {
      "provenance": [],
      "authorship_tag": "ABX9TyM3cvwpjMOsAaPd/fRvKDKi",
      "include_colab_link": true
    },
    "kernelspec": {
      "name": "python3",
      "display_name": "Python 3"
    },
    "language_info": {
      "name": "python"
    }
  },
  "cells": [
    {
      "cell_type": "markdown",
      "metadata": {
        "id": "view-in-github",
        "colab_type": "text"
      },
      "source": [
        "<a href=\"https://colab.research.google.com/github/USE-Computer-Science/lectures/blob/main/final%20countdown/9.%20%D0%AD%D0%BB%D0%B5%D0%BA%D1%82%D1%80%D0%BE%D0%BD%D0%BD%D1%8B%D0%B5%20%D1%82%D0%B0%D0%B1%D0%BB%D0%B8%D1%86%D1%8B.ipynb\" target=\"_parent\"><img src=\"https://colab.research.google.com/assets/colab-badge.svg\" alt=\"Open In Colab\"/></a>"
      ]
    },
    {
      "cell_type": "markdown",
      "source": [
        "**Пример 1.** В файле электронной таблицы в каждой строке содержатся пять натуральных чисел. Определите количество строк таблицы, в которых среднее значение всех пяти чисел меньше среднего значения между максимальным и минимальным из них.\n",
        "\n",
        "**Ответ:** 2203"
      ],
      "metadata": {
        "id": "80uP6vbWkq9m"
      }
    },
    {
      "cell_type": "code",
      "source": [
        "# инициализируем счётчик\n",
        "cnt = 0\n",
        "\n",
        "# построчно считываем файл\n",
        "for s in open('9-25.csv'):\n",
        "  # формируем список из строки\n",
        "  row = [int(item) for item in s.split(';')]\n",
        "\n",
        "  # если среднее всех чисел строки меньше среднего между максимумом и минимумом\n",
        "  if sum(row) / len(row) < ( max(row) + min(row) ) / 2:\n",
        "    # увеличиваем счётчик\n",
        "    cnt += 1\n",
        "\n",
        "# печатаем ответ\n",
        "print(cnt)\n"
      ],
      "metadata": {
        "id": "bwWJiIm1kGaF",
        "colab": {
          "base_uri": "https://localhost:8080/"
        },
        "outputId": "fcb20b98-2241-4367-88eb-8b9988c0f98c"
      },
      "execution_count": null,
      "outputs": [
        {
          "output_type": "stream",
          "name": "stdout",
          "text": [
            "2203\n"
          ]
        }
      ]
    },
    {
      "cell_type": "markdown",
      "source": [
        "**Пример 2.** В файле электронной таблицы в каждой строке содержатся четыре натуральных числа. Определите количество строк таблицы, для которых выполнены оба условия:\n",
        "\n",
        "В строке есть одно повторяющееся ровно 2 раза число;\n",
        "\n",
        "Сумма квадратов повторяющихся чисел меньше квадрата суммы неповторяющихся.\n",
        "\n",
        "**Ответ:** 116"
      ],
      "metadata": {
        "id": "s2d5NVXM98h8"
      }
    },
    {
      "cell_type": "code",
      "source": [
        "# инициализируем счётчик\n",
        "cnt = 0\n",
        "\n",
        "# построчно считываем файл\n",
        "for s in open('9-24.csv'):\n",
        "  # разбиваем строку в список с помощью метода split('разделитель')\n",
        "  # преобразовываем каждый элемент получаемого списка к целому числу int(item)\n",
        "  row = [int(item) for item in s.split(';')]\n",
        "\n",
        "  # печатаем для отладки строки файла\n",
        "  #print(row)\n",
        "\n",
        "  # пропускаем строки, где не ровно 1 повторяющийся 2 раза элемент\n",
        "  if len(row) != len(set(row)) + 1:\n",
        "    continue\n",
        "\n",
        "  # повторяющееся число\n",
        "  dup = sum(row) - sum(set(row))\n",
        "  # сумма неповторяющихся чисел\n",
        "  sum_unique = sum(row) - 2 * dup\n",
        "\n",
        "  # если сумма квадратов повторяющихся < квадрата суммы неповторяющихся\n",
        "  if  dup**2 + dup**2 < sum_unique**2:\n",
        "    # увеличиваем счётчик\n",
        "    cnt += 1\n",
        "\n",
        "# печатаем ответ\n",
        "print(cnt)"
      ],
      "metadata": {
        "id": "s6sYfQ1MF6EJ",
        "colab": {
          "base_uri": "https://localhost:8080/"
        },
        "outputId": "415396f9-259f-4a94-f7ff-75b1df80ec88"
      },
      "execution_count": null,
      "outputs": [
        {
          "output_type": "stream",
          "name": "stdout",
          "text": [
            "116\n"
          ]
        }
      ]
    },
    {
      "cell_type": "markdown",
      "source": [
        "**Пример 3.** В каждой строке файла электронной таблицы в каждой строке содержатся четыре натуральных числа. Определите количество строк таблицы, содержащих числа, для которых выполнены оба условия:\n",
        "\n",
        "1. наибольшее из четырёх чисел меньше суммы трёх других;\n",
        "\n",
        "2. четыре числа можно разбить на две пары чисел с равными суммами.\n",
        "\n",
        "**Ответ:** 78"
      ],
      "metadata": {
        "id": "W5ue-IYqlgGi"
      }
    },
    {
      "cell_type": "code",
      "source": [
        "# инициализируем счётчик\n",
        "cnt = 0\n",
        "\n",
        "# построчно считываем файл\n",
        "for s in open('9-24.csv'):\n",
        "  # формируем список из строки\n",
        "  row = [int(item) for item in s.split(';')]\n",
        "\n",
        "  # сортируем строку\n",
        "  row = sorted(row)\n",
        "\n",
        "  # отбрасываем строки, которые невозможно разбить на пары чисел с равными суммами\n",
        "  if row[1] + row[2] != row[0] + row[3]:\n",
        "    continue\n",
        "\n",
        "  # если максимальное число меньше суммы остальных\n",
        "  if max(row) < sum(row) - max(row):\n",
        "    # увеличиваем счётчик\n",
        "    cnt += 1\n",
        "\n",
        "# печатаем ответ\n",
        "print(cnt)"
      ],
      "metadata": {
        "id": "QG2SKenllgsb",
        "colab": {
          "base_uri": "https://localhost:8080/"
        },
        "outputId": "19fb3452-2d30-4c83-972e-e3b2e495ec0e"
      },
      "execution_count": null,
      "outputs": [
        {
          "output_type": "stream",
          "name": "stdout",
          "text": [
            "78\n"
          ]
        }
      ]
    },
    {
      "cell_type": "markdown",
      "source": [
        "**Задания**"
      ],
      "metadata": {
        "id": "cWRMoUmkncIV"
      }
    },
    {
      "cell_type": "markdown",
      "source": [
        "**1.** В файле электронной таблицы в каждой строке содержатся четыре натуральных числа. Определите количество строк таблицы, для которых выполнены оба условия:\n",
        "\n",
        "1. Сумма двух наименьших чисел строки не больше второго наибольшего по величине числа строки.\n",
        "\n",
        "2. В строке нет повторяющихся чисел.\n",
        "\n",
        "**Ответ:** 1709"
      ],
      "metadata": {
        "id": "AjrqJ1qWMvGO"
      }
    },
    {
      "cell_type": "code",
      "source": [
        "cnt = 0\n",
        "\n",
        "for s in open('9-24.csv'):\n",
        "\n",
        "  row = [int(item) for item in s.split(';')]\n",
        "\n",
        "  if len(row) != len(set(row)):\n",
        "    continue\n",
        "\n",
        "  row = sorted(row)\n",
        "\n",
        "  if row[0] + row[1] <= row[2]:\n",
        "    cnt += 1\n",
        "\n",
        "print(cnt)"
      ],
      "metadata": {
        "colab": {
          "base_uri": "https://localhost:8080/"
        },
        "id": "0XeyK0wtUumS",
        "outputId": "824e4d27-47dc-475d-9877-583b5989d6f5"
      },
      "execution_count": null,
      "outputs": [
        {
          "output_type": "stream",
          "name": "stdout",
          "text": [
            "1709\n"
          ]
        }
      ]
    },
    {
      "cell_type": "markdown",
      "source": [
        "**2.** Откройте файл электронной таблицы, содержащей в каждой строке пять натуральных чисел.\n",
        "\n",
        "Определите количество строк таблицы, содержащих числа, для которых выполнены оба условия:\n",
        "\n",
        "1. Каждое число в строке встречается по одному разу.\n",
        "\n",
        "2. Утроенная сумма максимального и минимального значений превышает удвоенную сумму оставшихся чисел."
      ],
      "metadata": {
        "id": "0sJmXfOwmTH5"
      }
    },
    {
      "cell_type": "markdown",
      "source": [
        "**Ответ:** 1974"
      ],
      "metadata": {
        "id": "GEPkrpvz-za8"
      }
    },
    {
      "cell_type": "code",
      "source": [
        "f = open('9-25.csv')\n",
        "\n",
        "# счётчик подходящих строк\n",
        "cnt = 0\n",
        "for s in f:\n",
        "  # построчно считываем файл в список\n",
        "  row = [int(item) for item in s.split(';')]\n",
        "  # пропускаем строки, в которых есть повторяющиеся элементы\n",
        "  if len(row) != len(set(row)):\n",
        "    continue\n",
        "\n",
        "  # если утроенная сумма макс и мин значений строки не превышает удвоенной суммы оставшихся чисел\n",
        "  if 3*(min(row) + max(row)) > 2*(sum(row) - min(row) - max(row)):\n",
        "    # увеличиваем счётчик на 1\n",
        "    cnt += 1\n",
        "print(cnt)"
      ],
      "metadata": {
        "id": "EQwsOEwj-za8",
        "colab": {
          "base_uri": "https://localhost:8080/"
        },
        "outputId": "621f0069-dfde-48b5-937c-f633ab3fe88f"
      },
      "execution_count": null,
      "outputs": [
        {
          "output_type": "stream",
          "name": "stdout",
          "text": [
            "1974\n"
          ]
        }
      ]
    },
    {
      "cell_type": "markdown",
      "source": [
        "**3.** В файле электронной таблицы в каждой строке содержатся четыре натуральных числа. Определите количество строк таблицы, содержащих числа, для которых одновременно выполнены оба условия:\n",
        "\n",
        "1. наибольшее из четырёх чисел больше суммы трёх других;\n",
        "\n",
        "2. среди четырех чисел есть только одна пара равных чисел.\n",
        "\n",
        "**Ответ:** 40"
      ],
      "metadata": {
        "id": "fmialtVGMu9H"
      }
    },
    {
      "cell_type": "code",
      "source": [
        "cnt = 0\n",
        "\n",
        "for s in open('9-24.csv'):\n",
        "\n",
        "  row = [int(item) for item in s.split(';')]\n",
        "\n",
        "  if len(row) != len(set(row)) + 1:\n",
        "    continue\n",
        "\n",
        "  if max(row) > sum(row) - max(row):\n",
        "    cnt += 1\n",
        "\n",
        "print(cnt)"
      ],
      "metadata": {
        "colab": {
          "base_uri": "https://localhost:8080/"
        },
        "id": "8mD7LKHTTuhn",
        "outputId": "a11d38c3-714d-485b-b7e7-f97fd03dbcbe"
      },
      "execution_count": null,
      "outputs": [
        {
          "output_type": "stream",
          "name": "stdout",
          "text": [
            "40\n"
          ]
        }
      ]
    },
    {
      "cell_type": "markdown",
      "source": [
        "**4.** В каждой строке файла электронной таблицы записаны пять натуральных чисел. Определите количество строк таблицы, в которых одновременно выполняются 2 условия:\n",
        "1. Все числа в строке различны.\n",
        "2. Больше половины чисел превосходят по величине среднее арифметическое всех чисел строки.\n",
        "\n",
        "**Ответ:** 911"
      ],
      "metadata": {
        "id": "gmp7f4s0MvPG"
      }
    },
    {
      "cell_type": "code",
      "source": [
        "cnt = 0\n",
        "\n",
        "for s in open('9-25.csv'):\n",
        "\n",
        "  row = [int(item) for item in s.split(';')]\n",
        "\n",
        "  if len(row) == len(set(row)):\n",
        "    row = sorted(row)\n",
        "    mean = sum(row) / len(row)\n",
        "    if row[2] > mean:\n",
        "      cnt += 1\n",
        "\n",
        "print(cnt)"
      ],
      "metadata": {
        "colab": {
          "base_uri": "https://localhost:8080/"
        },
        "id": "-JahRC1NeqeQ",
        "outputId": "192c3171-4a18-415c-b5d8-1ed647531992"
      },
      "execution_count": null,
      "outputs": [
        {
          "output_type": "stream",
          "name": "stdout",
          "text": [
            "911\n"
          ]
        }
      ]
    },
    {
      "cell_type": "markdown",
      "source": [
        "**5.** Откройте файл электронной таблицы, содержащей в каждой строке пять натуральных чисел.\n",
        "\n",
        "Определите количество строк таблицы, для которых выполнены все условия:\n",
        "\n",
        "1. В строке встречается ровно четыре различных числа (одно из них два раза, три – по одному).\n",
        "\n",
        "2. Сумма повторяющихся чисел не больше суммы неповторяющихся.\n"
      ],
      "metadata": {
        "id": "-WYziYuPwGPt"
      }
    },
    {
      "cell_type": "markdown",
      "source": [
        "**Ответ:** 272"
      ],
      "metadata": {
        "id": "F4upSv0twGQD"
      }
    },
    {
      "cell_type": "code",
      "source": [
        "f = open('9-25.csv')\n",
        "\n",
        "# счётчик подходящих строк\n",
        "cnt = 0\n",
        "for s in f:\n",
        "  # построчно считываем файл в список\n",
        "  row = [int(item) for item in s.split(';')]\n",
        "  # пропускаем строки, в которых не ровно 1 повторяющийся элемент\n",
        "  if len(row) != len(set(row)) + 1:\n",
        "    continue\n",
        "\n",
        "  sum_dup = (sum(row) - sum(set(row))) * 2\n",
        "  sum_uniques = sum(row) - sum_dup\n",
        "\n",
        "  # если сумма повторяющихся элементов больше суммы неповторяющихся\n",
        "  if sum_dup <= sum_uniques:\n",
        "    # увеличиваем счётчик на 1\n",
        "    cnt += 1\n",
        "print(cnt)"
      ],
      "metadata": {
        "colab": {
          "base_uri": "https://localhost:8080/"
        },
        "outputId": "0bd1f2f5-58b9-4e08-b889-690938cfacdb",
        "id": "Udv3-yXrwGQE"
      },
      "execution_count": null,
      "outputs": [
        {
          "output_type": "stream",
          "name": "stdout",
          "text": [
            "272\n"
          ]
        }
      ]
    },
    {
      "cell_type": "markdown",
      "source": [
        "**6.** В файле электронной таблицы в каждой строке содержатся шесть натуральных чисел. Определите минимальную сумму строки таблицы, для которой одновременно выполняются оба условия:\n",
        "\n",
        "1. Сумма наименьшего и наибольшего чисел строки не больше суммы остальных чисел строки.\n",
        "\n",
        "2. В строке нет повторяющихся чисел.\n",
        "\n",
        "**Ответ:** 44"
      ],
      "metadata": {
        "id": "CHsvdJSs0fge"
      }
    },
    {
      "cell_type": "code",
      "source": [
        "mn = float('inf')\n",
        "\n",
        "for s in open('9-26.csv'):\n",
        "\n",
        "  row = [int(item) for item in s.split(';')]\n",
        "\n",
        "  if len(row) != len(set(row)):\n",
        "    continue\n",
        "\n",
        "  row = sorted(row)\n",
        "\n",
        "  if row[0] + row[5] <= sum(row) - row[0] - row[5]:\n",
        "    mn = min(mn, sum(row))\n",
        "\n",
        "print(mn)"
      ],
      "metadata": {
        "colab": {
          "base_uri": "https://localhost:8080/"
        },
        "outputId": "74501b2c-8dd7-4247-9102-2bfe5e7aa893",
        "id": "CkgaXtVK0fgj"
      },
      "execution_count": null,
      "outputs": [
        {
          "output_type": "stream",
          "name": "stdout",
          "text": [
            "44\n"
          ]
        }
      ]
    },
    {
      "cell_type": "markdown",
      "source": [
        "**7.** В файле электронной таблицы в каждой строке содержатся четыре натуральных числа. Определите максимальную сумму строки таблицы, которая содержащит числа, для которых одновременно выполнены оба условия:\n",
        "\n",
        "1. В строке есть повторяющееся ровно 3 раза число;\n",
        "\n",
        "2. Куб неповторяющегося числа меньше произведения повторяющихся чисел.\n",
        "\n",
        "**Ответ:** 311"
      ],
      "metadata": {
        "id": "ldVB8lzLyDGk"
      }
    },
    {
      "cell_type": "code",
      "source": [
        "mx = 0\n",
        "\n",
        "for s in open('9-24.csv'):\n",
        "\n",
        "  row = [int(item) for item in s.split(';')]\n",
        "\n",
        "  if len(set(row)) != 2:\n",
        "    continue\n",
        "\n",
        "  for item in row:\n",
        "    if row.count(item) == 3:\n",
        "      triple = item\n",
        "      unique = sum(row) - 3 * triple\n",
        "      if unique**3 < triple**3:\n",
        "        mx = max(mx, sum(row))\n",
        "\n",
        "print(mx)"
      ],
      "metadata": {
        "colab": {
          "base_uri": "https://localhost:8080/"
        },
        "outputId": "0f057974-7651-4f01-96f4-f3da0d4438d8",
        "id": "-2HMINITyDGn"
      },
      "execution_count": null,
      "outputs": [
        {
          "output_type": "stream",
          "name": "stdout",
          "text": [
            "311\n"
          ]
        }
      ]
    }
  ]
}