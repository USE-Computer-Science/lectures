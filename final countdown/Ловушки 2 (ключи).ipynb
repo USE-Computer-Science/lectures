{
  "nbformat": 4,
  "nbformat_minor": 0,
  "metadata": {
    "colab": {
      "provenance": [],
      "include_colab_link": true
    },
    "kernelspec": {
      "name": "python3",
      "display_name": "Python 3"
    },
    "language_info": {
      "name": "python"
    }
  },
  "cells": [
    {
      "cell_type": "markdown",
      "metadata": {
        "id": "view-in-github",
        "colab_type": "text"
      },
      "source": [
        "<a href=\"https://colab.research.google.com/github/USE-Computer-Science/lectures/blob/main/final%20countdown/%D0%9B%D0%BE%D0%B2%D1%83%D1%88%D0%BA%D0%B8%202%20(%D0%BA%D0%BB%D1%8E%D1%87%D0%B8).ipynb\" target=\"_parent\"><img src=\"https://colab.research.google.com/assets/colab-badge.svg\" alt=\"Open In Colab\"/></a>"
      ]
    },
    {
      "cell_type": "markdown",
      "source": [
        "**2.1.** Логическая функция F задаётся выражением ((z → x) ≡ w) ∨ y. На рисунке приведён частично заполненный фрагмент таблицы истинности функции F, содержащий неповторяющиеся строки.\n",
        "\n",
        "![image.png](data:image/png;base64,iVBORw0KGgoAAAANSUhEUgAAAQMAAABXCAIAAACP27fJAAADfklEQVR4nO3dUW6rMBCF4fFVdwRrgjXBmsKafB9G13KTXmrBGMb4/56KKjVHgVMIYSDEGAXo3p+7AwAu0ARAhCYA6itfCCHclQO4Xv4h+Wvnd06EEEhViFTl3v7vc3QEiNAEQNEEQKRSE0Jm27YaL3EAqcp5SxX+Y11Xq5cwbsK2bSGEaZpijDHGaZrGcbz9rSRV66k0if6gXq+X7UtU2ScMw6A/aHrD4p5BqnI+U1X1fhb1pGEY8vNl+g6mt/UupCrnM1VuHEcReb1exmdmY+Zt8Yy080r72cNIVe7BqXTvpLSutqm+feVh+A1IKu75P0Wqcg9ONc/zuq4xRqtgb6mMj44SV/vThFTlfKYSo3J+qrVPMESqcg9OlfYJJpHkI1WVc0d6Js7JqeiEVOW8pUpfHYQQ9OjI/iXYJxxDqnJNpOJqC0CEJgCKJgAiNAFQNAEQoQmAogmAyOf3CTdGAS62d92R/29AnCBVObep8kWOjgARmgCoKk2Y57nelVKHjeOoV5W5CuYzlU9VtyvjJqzranvHASvzPG/bloaVnGx2PlM5dMV2tTPPdsYwDCYjdtEilc52LMuii8uyyL9BWFJdoIntqovPCXqRfRrC0h9u33H5TNWtjprgjc9U3eqiCcCvumiCz+F0n6m61VET3g7B8/vn3MJnqm71cr+j/M4IJtkenMpcG9vVznmlA378l3byJmrnU6n8LM35v/bsVLaa2K64t8VBpCrXRKouPicAv6IJgAhNABRNAESY3kTP8o2f6c2DSFXObap8kaMjQIQmAKqj6U2U87kGq0669jK9iUJu12D1SdedKzHOcDW9WcPjU7lagxdMuvI5AQ24YNKVJqABF0y60gRAhCagCRdMutIENOCCSVeagAYMwzBNU2rCPM96asvyNXbOKx3geXrT1lNTeV6DVSddmd48iFTlmkjF0REgQhMARRMAEZoAKKY30a/I9OZ5pCrnNlW+yNERIEITANVRE3w+5dLnnKTPVC1Nb7rl8CmXPuckfaaSdqc3DZ1P5fwpl67mJBNXqZjetMFTLlvH9KYNnnLZOqY3gYt00QSectk6pjdt8JTL1l2wBnuZ1PH8lEtvzylV3lJVX4M755WcsErl7SmXPuckfaZSTG+SqhSpyjG9CfyAJgAiNAFQzKyhX982focfZYDrcXQEiNAEQNEEQETkLwVOAScqRC/GAAAAAElFTkSuQmCC)\n",
        "\n",
        "Определите, какому столбцу таблицы истинности функции F соответствует каждая из переменных x, y, z, w. В ответе напишите буквы x, y, z, w в том порядке, в котором идут соответствующие им столбцы.\n",
        "\n",
        "**Ответ:** wyxz"
      ],
      "metadata": {
        "id": "0sptLCPYjfdP"
      }
    },
    {
      "cell_type": "code",
      "source": [
        "from itertools import *\n",
        "\n",
        "def f(x,y,z,w):\n",
        "  return ((z <= x) == w) or y\n",
        "\n",
        "for a1,a2,a3,a4 in product([0,1], repeat = 4):\n",
        "  table = [(1,0,0,a1),(1,a2,a3,1),(a4,0,1,1)]\n",
        "  if len(table) == len(set(table)):\n",
        "    for p in permutations('xyzw', r = 4):\n",
        "      if [f(**dict(zip(p,t))) for t in table] == [1,0,0]:\n",
        "        print(p)"
      ],
      "metadata": {
        "colab": {
          "base_uri": "https://localhost:8080/"
        },
        "id": "pXaO_Kn-j_Mk",
        "outputId": "b8156388-b55b-4992-dc5b-5a2ef2fe1f77"
      },
      "execution_count": null,
      "outputs": [
        {
          "output_type": "stream",
          "name": "stdout",
          "text": [
            "('w', 'y', 'x', 'z')\n"
          ]
        }
      ]
    },
    {
      "cell_type": "markdown",
      "source": [
        "**2.2.** Логическая функция F задаётся выражением ((x → y ∧ w) ∧ (z → x ∨ y)) ≠ w. На рисунке приведён частично заполненный фрагмент таблицы истинности функции F, содержащий неповторяющиеся строки.\n",
        "\n",
        "![image.png](data:image/png;base64,iVBORw0KGgoAAAANSUhEUgAAAQQAAABVCAIAAAAgzw27AAADAElEQVR4nO3dUW6jMBSFYTyaHZk12WvCa7LX5HngFjEJim6IXS7x/z01rZQcQU8wDbe4WusEYJr+XB0AsIIyAIIyAOLvw2Pn3CU5gEvsz5kfy/DwYyOcc6RSIpXew1s/yyRAUAZAUAZA9CpDjNH9KKV0epV3kUrPWqqUkjuSUmr1El3KEGOcpqnWWmvNOc/z3ONV3kUqPYOpQgg55xBC3QkhNHyJXkeGLaX3PoRg4a1lItU7bKbqq/7v+Tuf897nnD95BlLpfXGq7cjwfIg45yFV3xPoUopzLoTgve/6Qm8hlZ61VOuZQ69l2+uufCLn7L1v8lSk0vviVL2PDI+fC5r9pJBUSl+cqpSSUlqWpUmk6SlVx2XSPM9t//LVBKn0bKbqhw/dcA8ppXmet08belSUZdJ5pNK7RSqODICgDICgDICgDIA4OIG+Kgrw+/a//4x9nkcqPbOp9g9ZJgGCMgBiuDLM87xOruC19XrVjpeIntVvDw5UhnXXGrkU2bhSSoxxvZYzhGDk7aP3HhyoDNuuvTrIDcQYc87r1+sWszDp1nsPDlQG4DXKABULR4beKAMgKANURvjDA2XAsf26aIQ10kQZcGhZlm2UrJTivR/hyPAb/zfpc01SPe/OZVkuT9Vcq1T7fyL2+bPdYg8y9nkeqfRukYplEiAoAyAoAyAoAyAY+8TQKmOfTZBKz2yq/UOWSYCgDIAYrgw2xz5JpcfYZwM2xz5JpcfYZzPr9SfWxj5Jpdc71UBlAF6jDICgDICgDICgDICgDMCP14NwRjRJZXPsk1R2UjH2eR6p9G6RimUSICgDICgDICgDIBj7xNAqY59NkErPbKr9Q5ZJgKAMgOhYBptDgzYZ3Fbc7bMNm0ODNtncVtzts5ltI/Z48i9jc1txt09gaJQBKhaODL1RBkBQBqhYO8XvgTLgGHf7BKaJu30eDsKdY3NosLnv3lbc7dPuBVWkUiKVHmOfwDHKAAjKAAjKAAjGPjG0/e+/xXN84BIskwBBGQBBGQDxD0mK6mG3reB4AAAAAElFTkSuQmCC)\n",
        "\n",
        "Определите, какому столбцу таблицы истинности функции F соответствует каждая из переменных x, y, z, w. В ответе напишите буквы x, y, z, w в том порядке, в котором идут соответствующие им столбцы.\n",
        "\n",
        "**Ответ:** ywzx"
      ],
      "metadata": {
        "id": "pw-Wqxasl3Xm"
      }
    },
    {
      "cell_type": "code",
      "source": [
        "from itertools import *\n",
        "\n",
        "def f(x,y,z,w):\n",
        "  return ((x <= (y and w)) and (z <= (x or y))) != w\n",
        "\n",
        "for a1,a2,a3,a4 in product([0,1], repeat = 4):\n",
        "  table = [(a1,1,a2,0),(a3,1,1,1),(1,a4,1,0)]\n",
        "  if len(table) == len(set(table)):\n",
        "    for p in permutations('xyzw', r = 4):\n",
        "      if [f(**dict(zip(p,t))) for t in table] == [1,1,1]:\n",
        "        print(p)"
      ],
      "metadata": {
        "colab": {
          "base_uri": "https://localhost:8080/"
        },
        "outputId": "5e50021d-7c12-46b6-c7aa-ba8b84736854",
        "id": "tQyh1w1qmLMq"
      },
      "execution_count": null,
      "outputs": [
        {
          "output_type": "stream",
          "name": "stdout",
          "text": [
            "('y', 'w', 'z', 'x')\n"
          ]
        }
      ]
    },
    {
      "cell_type": "markdown",
      "source": [
        "**4.1.** Для кодирования некоторой последовательности, состоящей из букв П, А, К, Е и Т, используется неравномерный двоичный код, позволяющий однозначно декодировать полученную двоичную последовательность. Вот этот код:\n",
        "\n",
        "П – 000;\n",
        "\n",
        "А – 11;\n",
        "\n",
        "К – 010;\n",
        "\n",
        "Е – 110;\n",
        "\n",
        "Т – 101.\n",
        "\n",
        "Как можно сократить длину кодового слова для буквы Т так, чтобы код по-прежнему можно было декодировать однозначно? Коды остальных букв меняться не должны. Если есть несколько вариантов, выберите кодовое слово с наименьшим значением."
      ],
      "metadata": {
        "id": "l266JwJjjH-6"
      }
    },
    {
      "cell_type": "markdown",
      "source": [
        "**4.2.**\n",
        "\n",
        "По каналу связи передаются сообщения, содержащие только пять букв: Ц, И, Ф, Р, А. Для передачи используется двоичный код, допускающий однозначное декодирование. Для букв Ц, Ф, А используются такие кодовые слова:\n",
        "\n",
        "Ц – 00;\n",
        "\n",
        "Ф – 110;\n",
        "\n",
        "А – 1.\n",
        "\n",
        "Укажите кратчайшее кодовое слово для буквы И, при котором код будет допускать однозначное декодирование. Если таких кодов несколько, укажите код с наибольшим числовым значением."
      ],
      "metadata": {
        "id": "c2XS6ARPi-QC"
      }
    },
    {
      "cell_type": "markdown",
      "source": [
        "**5.1.** На вход алгоритма подаётся натуральное число N. Алгоритм строит по нему новое число R следующим образом.\n",
        "\n",
        "1. Строится двоичная запись числа N.\n",
        "2. К этой записи дописываются ещё несколько разрядов по следующему правилу:\n",
        "\n",
        "а) если сумма цифр в двоичной записи числа чётная, то к этой записи справа дописывается 0, а затем два левых разряда заменяются на 10;\n",
        "\n",
        "б) если сумма цифр в двоичной записи числа нечётная, то к этой записи справа дописывается 1, а затем два левых разряда заменяются на 11.\n",
        "\n",
        "3. Результат переводится в десятичную систему и выводится на экран.\n",
        "\n",
        "Например, для исходного числа $6 = 110_2$ результатом является число $1000_2 = 8$, а для исходного числа $4 = 100_2$ результатом является число $1101_2 = 13$.\n",
        "<br>\n",
        "Укажите минимальное N, после обработки которого с помощью этого алгоритма получается число R, не меньшее, чем $16$.\n",
        "\n",
        "\n",
        "**Ответ:** 8"
      ],
      "metadata": {
        "id": "ogGwMGwhdSHA"
      }
    },
    {
      "cell_type": "code",
      "source": [
        "for n in range(1, 1000):\n",
        "  s = bin(n)[2:]\n",
        "  if s.count('1') % 2 == 0:\n",
        "    s = '10' + s[2:] + '0'\n",
        "  else:\n",
        "    s = '11' + s[2:] + '1'\n",
        "  r = int(s, 2)\n",
        "  if (r >= 16):\n",
        "    print(n)\n",
        "    break"
      ],
      "metadata": {
        "colab": {
          "base_uri": "https://localhost:8080/"
        },
        "id": "7ZOkBzEPp9tP",
        "outputId": "748fa100-323f-4ed7-9730-c3416a7a321e"
      },
      "execution_count": null,
      "outputs": [
        {
          "output_type": "stream",
          "name": "stdout",
          "text": [
            "8\n"
          ]
        }
      ]
    },
    {
      "cell_type": "markdown",
      "source": [
        "**5.2.** Автомат обрабатывает натуральное число N по следующему алгоритму:\n",
        "\n",
        "1. Строится двоичная запись числа N.\n",
        "2. Запись «переворачивается», то есть читается справа налево. Если при этом появляются ведущие нули, они отбрасываются.\n",
        "3. Полученное число переводится в десятичную систему счисления и выводится на экран.\n",
        "\n",
        "Какое наименьшее число, превышающее 500, после обработки автоматом даёт результат 15?\n",
        "\n",
        "**Ответ:** 960"
      ],
      "metadata": {
        "id": "x33-cN4GSV62"
      }
    },
    {
      "cell_type": "code",
      "source": [
        "for n in range(500, 10000):\n",
        "  #b = '0' * (8 - len(b)) + b\n",
        "  # b = b.zfill(8)\n",
        "\n",
        "  b = bin(n)[2:]\n",
        "  b = b[::-1]\n",
        "  r = int(b, 2)\n",
        "  if (r == 15):\n",
        "    print(n)\n",
        "    break"
      ],
      "metadata": {
        "colab": {
          "base_uri": "https://localhost:8080/"
        },
        "id": "o_NIZ0YJdUIX",
        "outputId": "121b4f63-6149-4d74-8339-2157800f1658"
      },
      "execution_count": null,
      "outputs": [
        {
          "output_type": "stream",
          "name": "stdout",
          "text": [
            "960\n"
          ]
        }
      ]
    },
    {
      "cell_type": "markdown",
      "source": [
        "**6.1.** Черепахе был дан для исполнения следующий алгоритм:\n",
        "\n",
        "<pre>\n",
        "Повтори 8 [Направо 15 Вперёд 4 Направо 30]\n",
        "</pre>\n",
        "\n",
        "Определите, сколько точек с целочисленными координатами будут находиться внутри области, ограниченной линией, заданной данным алгоритмом. Точки на линии следует учитывать.\n",
        "\n",
        "**Ответ:** 78"
      ],
      "metadata": {
        "id": "zyz74wAkfXxp"
      }
    },
    {
      "cell_type": "code",
      "source": [
        "from turtle import *\n",
        "\n",
        "# отключаем анимацию\n",
        "tracer(0)\n",
        "# убираем значёк черепахи (лишняя точка)\n",
        "hideturtle()\n",
        "# задаём коэффициент масштабирования\n",
        "r = 50\n",
        "# подгоняем размер экрана под размер фигуры\n",
        "screensize(50 * r, 50 * r)\n",
        "\n",
        "# задаём цвета границы (чёрный) и заливки (красный)\n",
        "color('black', 'red')\n",
        "\n",
        "left(90)\n",
        "# заливаем получаемую фигуру\n",
        "begin_fill()\n",
        "for i in range(8):\n",
        "    right(15)\n",
        "    forward(4 * r)\n",
        "    right(30)\n",
        "end_fill()\n",
        "\n",
        "# поднимаем перо черепахи\n",
        "up()\n",
        "# отрисовываем координатные точки\n",
        "for x in range(-50, 50):\n",
        "    for y in range(-50, 50):\n",
        "        goto(x*r, y*r)\n",
        "        dot(5, 'blue')\n",
        "\n",
        "# обновляем холст\n",
        "update()\n",
        "\n",
        "# завершаем работу с исполнителем черепаха\n",
        "done()\n"
      ],
      "metadata": {
        "id": "8lhemnYEfXxv"
      },
      "execution_count": null,
      "outputs": []
    },
    {
      "cell_type": "markdown",
      "source": [
        "**6.2.** Черепахе был дан для исполнения следующий алгоритм:\n",
        "\n",
        "<pre>\n",
        "Повтори 2 [Направо 90 Вперёд 15 Направо 90 Вперёд 14]\n",
        "Направо 90\n",
        "Поднять хвост\n",
        "Вперёд 5\n",
        "Направо 90\n",
        "Вперёд 7\n",
        "Направо 270\n",
        "Опустить хвост\n",
        "Повтори 4 [Вперёд 16 Направо 90]\n",
        "</pre>\n",
        "\n",
        "Определите, сколько точек с целочисленными координатами будут находиться внутри пересечения фигур, ограниченных заданными алгоритмом линиями, не включая точки на границах этого пересечения.\n",
        "\n",
        "**Ответ:** 54"
      ],
      "metadata": {
        "id": "aauqrOqvxyC7"
      }
    },
    {
      "cell_type": "code",
      "source": [
        "from turtle import *\n",
        "\n",
        "def belong(item, color):\n",
        "    return any(i > 3 and canvas.itemcget(i, 'fill') == color for i in item)\n",
        "\n",
        "tracer(0)\n",
        "hideturtle()\n",
        "r = 20   # коэффициент масштабирования\n",
        "e = 0.1  # размер области поиска пересечений\n",
        "screensize(50 * r, 50 * r)  # размер экрана\n",
        "\n",
        "left(90)\n",
        "color('black', 'red') # цвета границы (чёрный) и заливки (красный)\n",
        "begin_fill()\n",
        "for i in range(2):\n",
        "    right(90)\n",
        "    forward(15 * r)\n",
        "    right(90)\n",
        "    forward(14 * r)\n",
        "end_fill()\n",
        "\n",
        "up()\n",
        "right(90)\n",
        "forward(5*r)\n",
        "right(90)\n",
        "forward(7*r)\n",
        "right(270)\n",
        "down()\n",
        "\n",
        "color('black', 'green')\n",
        "begin_fill()\n",
        "for i in range(4):\n",
        "    forward(16*r)\n",
        "    right(90)\n",
        "end_fill()\n",
        "up()\n",
        "\n",
        "cnt = 0\n",
        "canvas = getcanvas()\n",
        "for x in range(-50*r, 50*r, r):\n",
        "    for y in range(-50*r, 50*r, r):\n",
        "        item = canvas.find_overlapping(x-e, y-e, x+e, y+e)\n",
        "        if belong(item, 'red') and belong(item, 'green'):\n",
        "            if not belong(item, 'black'):\n",
        "                        cnt += 1\n",
        "                        goto(x,-y)\n",
        "                        dot(5, 'blue')\n",
        "print(cnt)\n",
        "\n",
        "update()\n",
        "done()"
      ],
      "metadata": {
        "id": "9gcrmyswxyC9"
      },
      "execution_count": null,
      "outputs": []
    },
    {
      "cell_type": "markdown",
      "source": [
        "**7.1.** Изображение размером 1280х1080 пикселей кодируется с использованием палитры из 11000 цветов. После кодирования пикселей изображение сжимается. Сжатый размер закодированного фрагмента меньше исходного на 15%. После выполнения сжатия к полученному файлу дописывается дополнительная информация, которая суммарно занимает 14 килобайт. Какое минимальное целое количество килобайт памяти необходимо зарезервировать для хранения сжатого файла?\n",
        "\n",
        "**Ответ:** 2023"
      ],
      "metadata": {
        "id": "-AEeM0k7FgZv"
      }
    },
    {
      "cell_type": "code",
      "source": [
        "from math import log2\n",
        "i = ceil(log2(11000))\n",
        "V1 = 1280*1080*i\n",
        "V2 = V1 * 0.85\n",
        "print (f'Минимальный объём для хранения сжатого изображения: {V2} бит')\n",
        "kb = ceil(V2 / 1024 / 8 + 14)\n",
        "print (f'Минимальный объём для хранения сжатого изображения: {kb} Кб')"
      ],
      "metadata": {
        "id": "so-lh7VQFgZw",
        "colab": {
          "base_uri": "https://localhost:8080/"
        },
        "outputId": "0944e4c1-e526-4952-9e1e-933e438ddf5f"
      },
      "execution_count": null,
      "outputs": [
        {
          "output_type": "stream",
          "name": "stdout",
          "text": [
            "Минимальный объём для хранения сжатого изображения: 16450560.0 бит\n",
            "Минимальный объём для хранения сжатого изображения: 2023 Кб\n"
          ]
        }
      ]
    },
    {
      "cell_type": "markdown",
      "source": [
        "**7.2.** Аудиофайл, записанный в формате 7.1 (восьмиканальная запись) передаётся со скоростью 1 мегабайт в секунду. Известно, что файл был записан с частотой дискретизации 48 000 отсчётов в секунду и глубиной кодирования 128 бит, длительность записи – три с половиной минуты. Сколько времени (в минутах) потребуется для полной передачи файла? В ответе запишите целое число минут.\n",
        "\n",
        "**Ответ:** 21"
      ],
      "metadata": {
        "id": "TFND0gO2Fsla"
      }
    },
    {
      "cell_type": "code",
      "source": [
        "from math import ceil\n",
        "V = 48_000 * 8 * 128 * 210\n",
        "v = 2**23\n",
        "print (f'Время передачи файла: {V/v} секунд')\n",
        "print (f'Время передачи файла: {ceil(V/v/60)} минута')"
      ],
      "metadata": {
        "id": "sKD5Vl6bFsla",
        "colab": {
          "base_uri": "https://localhost:8080/"
        },
        "outputId": "086a1134-825e-4a94-ca8a-4beff998709d"
      },
      "execution_count": null,
      "outputs": [
        {
          "output_type": "stream",
          "name": "stdout",
          "text": [
            "Время передачи файла: 1230.46875 секунд\n",
            "Время передачи файла: 21 минуты\n"
          ]
        }
      ]
    },
    {
      "cell_type": "markdown",
      "source": [
        "**8.1.** Ольга составляет 5-буквенные коды из букв О, Л, Ь, Г, А. Каждую букву нужно использовать ровно 1 раз, при этом Ь нельзя ставить первым и нельзя ставить после гласной. Сколько различных кодов может составить Ольга?\n",
        "\n",
        "**Ответ:** 48"
      ],
      "metadata": {
        "id": "nGuiZTX5QgeL"
      }
    },
    {
      "cell_type": "code",
      "source": [
        "cnt = 0\n",
        "for b1 in 'ОЛГА':\n",
        "  for b2 in 'ОЛЬГА':\n",
        "    for b3 in 'ОЛЬГА':\n",
        "      for b4 in 'ОЛЬГА':\n",
        "        for b5 in 'ОЛЬГА':\n",
        "          word = b1 + b2 + b3 + b4 + b5\n",
        "          if len(set(word)) == len(word):\n",
        "          #if word.count('О') == 1 and word.count('Л') == 1 and word.count('Ь') == 1 and word.count('Г') == 1 and word.count('А') == 1:\n",
        "            if ('ОЬ' in word) or ('АЬ' in word):\n",
        "              continue\n",
        "            cnt += 1\n",
        "print(cnt)\n"
      ],
      "metadata": {
        "colab": {
          "base_uri": "https://localhost:8080/"
        },
        "id": "ijgIgJPiQoNs",
        "outputId": "4480385d-d56d-4659-b7cf-f2144661796e"
      },
      "execution_count": null,
      "outputs": [
        {
          "output_type": "stream",
          "name": "stdout",
          "text": [
            "48\n"
          ]
        }
      ]
    },
    {
      "cell_type": "markdown",
      "source": [
        "**8.2.** Определите количество семизначных чисел, записанных в девятеричной системе счисления, учитывая, что числа не могут начинаться с цифр 2, 4 и 6 и не должны заканчиваться на тройку одинаковых цифр (например, на 000).\n",
        "\n",
        "**Ответ:** 2624400"
      ],
      "metadata": {
        "id": "zL2WNN6opbr9"
      }
    },
    {
      "cell_type": "code",
      "source": [
        "cnt = 0\n",
        "for b1 in '13578':\n",
        "  for b2 in '012345678':\n",
        "    for b3 in '012345678':\n",
        "      for b4 in '012345678':\n",
        "        for b5 in '012345678':\n",
        "          for b6 in '012345678':\n",
        "            for b7 in '012345678':\n",
        "              if b5 == b6 and b6 == b7:\n",
        "                continue\n",
        "              cnt +=1\n",
        "print(cnt)\n"
      ],
      "metadata": {
        "colab": {
          "base_uri": "https://localhost:8080/"
        },
        "id": "LQ8ukScnp3_Q",
        "outputId": "b60f5256-fab3-4a1e-bc5c-f04e66d3b112"
      },
      "execution_count": null,
      "outputs": [
        {
          "output_type": "stream",
          "name": "stdout",
          "text": [
            "2624400\n"
          ]
        }
      ]
    },
    {
      "cell_type": "markdown",
      "source": [
        "**9.1.** Откройте файл электронной таблицы, содержащей в каждой строке пять натуральных чисел.\n",
        "\n",
        "Определите количество строк таблицы, для которых выполнены все условия:\n",
        "\n",
        "1. В строке встречается ровно четыре различных числа (одно из них два раза, три – по одному).\n",
        "\n",
        "2. Сумма повторяющихся чисел не больше суммы неповторяющихся.\n"
      ],
      "metadata": {
        "id": "-WYziYuPwGPt"
      }
    },
    {
      "cell_type": "markdown",
      "source": [
        "**Ответ:** 272"
      ],
      "metadata": {
        "id": "F4upSv0twGQD"
      }
    },
    {
      "cell_type": "code",
      "source": [
        "f = open('9-25.csv')\n",
        "\n",
        "# счётчик подходящих строк\n",
        "cnt = 0\n",
        "for s in f:\n",
        "  # построчно считываем файл в список\n",
        "  row = [int(item) for item in s.split(';')]\n",
        "  # пропускаем строки, в которых не ровно 1 повторяющийся элемент\n",
        "  if len(row) != len(set(row)) + 1:\n",
        "    continue\n",
        "\n",
        "  sum_dup = (sum(row) - sum(set(row))) * 2\n",
        "  sum_uniques = sum(row) - sum_dup\n",
        "\n",
        "  # если сумма повторяющихся элементов больше суммы неповторяющихся\n",
        "  if sum_dup <= sum_uniques:\n",
        "    # увеличиваем счётчик на 1\n",
        "    cnt += 1\n",
        "print(cnt)"
      ],
      "metadata": {
        "colab": {
          "base_uri": "https://localhost:8080/"
        },
        "outputId": "0bd1f2f5-58b9-4e08-b889-690938cfacdb",
        "id": "Udv3-yXrwGQE"
      },
      "execution_count": null,
      "outputs": [
        {
          "output_type": "stream",
          "name": "stdout",
          "text": [
            "272\n"
          ]
        }
      ]
    },
    {
      "cell_type": "markdown",
      "source": [
        "**9.2.** В файле электронной таблицы в каждой строке содержатся четыре натуральных числа. Определите максимальную сумму строки таблицы, которая содержит числа, для которых одновременно выполнены оба условия:\n",
        "\n",
        "1. В строке есть повторяющееся ровно 3 раза число;\n",
        "\n",
        "2. Куб неповторяющегося числа меньше произведения повторяющихся чисел.\n",
        "\n",
        "**Ответ:** 311"
      ],
      "metadata": {
        "id": "ldVB8lzLyDGk"
      }
    },
    {
      "cell_type": "code",
      "source": [
        "mx = 0\n",
        "\n",
        "for s in open('9-24.csv'):\n",
        "\n",
        "  row = [int(item) for item in s.split(';')]\n",
        "\n",
        "  if len(set(row)) != 2:\n",
        "    continue\n",
        "\n",
        "  for item in row:\n",
        "    if row.count(item) == 3:\n",
        "      triple = item\n",
        "      unique = sum(row) - 3 * triple\n",
        "      if unique**3 < triple**3:\n",
        "        mx = max(mx, sum(row))\n",
        "\n",
        "print(mx)"
      ],
      "metadata": {
        "colab": {
          "base_uri": "https://localhost:8080/"
        },
        "outputId": "0f057974-7651-4f01-96f4-f3da0d4438d8",
        "id": "-2HMINITyDGn"
      },
      "execution_count": null,
      "outputs": [
        {
          "output_type": "stream",
          "name": "stdout",
          "text": [
            "311\n"
          ]
        }
      ]
    },
    {
      "cell_type": "markdown",
      "source": [
        "**11.1.** При регистрации в компьютерной системе каждому пользователю присваивается уникальный идентификатор, состоящий из 25 символов. Первым символом идентификатора является одна из 26-ти заглавных латинских букв, вторым и последним десятичная цифра. Оставшиеся символы могут быть заглавными или строчными латинскими буквами, десятичными цифрами, либо одним из специальных символов: !@#$%. Каждый символ в идентификаторе кодируется с помощью минимально допустимого и одинакового количества бит. Для кодирования каждого идентификатора отведено одинаковое минимально возможное целое число байтов. Известно, что для хранения идентификаторов в системе выделено 17 килобайт памяти. Какое наибольшее количество пользователей можно зарегистрировать в системе? В ответе запишите только целое число.\n",
        "\n",
        "**Ответ:** 828"
      ],
      "metadata": {
        "id": "_Da7Cq7ohxMy"
      }
    },
    {
      "cell_type": "code",
      "source": [
        "from math import ceil\n",
        "v = 5 + 4 + 7*22 + 4\n",
        "v = ceil(v / 8)\n",
        "17 * 1024 / v"
      ],
      "metadata": {
        "colab": {
          "base_uri": "https://localhost:8080/"
        },
        "id": "y0eFLWHLi74r",
        "outputId": "aca3da45-6fdd-44f7-8942-b10f7718601c"
      },
      "execution_count": null,
      "outputs": [
        {
          "output_type": "execute_result",
          "data": {
            "text/plain": [
              "828.952380952381"
            ]
          },
          "metadata": {},
          "execution_count": 115
        }
      ]
    },
    {
      "cell_type": "markdown",
      "source": [
        "**11.2.** При регистрации в компьютерной системе каждому объекту присваивается идентификатор, состоящий из 302 символов и содержащий только десятичные цифры и символы из 2000-символьного специального алфавита. Для хранения каждого идентификатора отведено одинаковое и минимально возможное целое число байтов. При этом используется посимвольное кодирование идентификатора, все символы кодируются одинаковым и минимально возможным количеством бит. Помимо идентификатора, в базе данных для каждого объекта хранятся дополнительные сведения. Определите объём памяти (в килобайтах), необходимый для хранения информации о 1000 объектов, если известно, что для хранения дополнительных сведений об одном объекте в системе зарезервировано 89 байтов данных."
      ],
      "metadata": {
        "id": "14SCwsKkaA65"
      }
    },
    {
      "cell_type": "markdown",
      "source": [
        "**Ответ:** 494"
      ],
      "metadata": {
        "id": "x_JbwWzlSdd3"
      }
    },
    {
      "cell_type": "code",
      "source": [
        "from math import ceil\n",
        "\n",
        "i = 11\n",
        "id = ceil(302 * i / 8)\n",
        "inf = 89\n",
        "v = id + inf\n",
        "V = ceil(v * 1000 / 1024)\n",
        "print(V)"
      ],
      "metadata": {
        "colab": {
          "base_uri": "https://localhost:8080/"
        },
        "id": "yubDdKoBaXe5",
        "outputId": "32fb002c-2a6a-404f-86cf-0c42fafbd169"
      },
      "execution_count": null,
      "outputs": [
        {
          "output_type": "stream",
          "name": "stdout",
          "text": [
            "494\n"
          ]
        }
      ]
    },
    {
      "cell_type": "markdown",
      "source": [
        "**12.1.** Дана программа для исполнителя Редактор:\n",
        "\n",
        "<pre>\n",
        "НАЧАЛО\n",
        "ПОКА нашлось (333)\n",
        "  ЕСЛИ нашлось (333)\n",
        "    ТО заменить (333,2)\n",
        "  КОНЕЦ ЕСЛИ\n",
        "  ЕСЛИ нашлось (222)\n",
        "    ТО заменить (222,1)\n",
        "  КОНЕЦ ЕСЛИ\n",
        "  ЕСЛИ нашлось (111)\n",
        "    ТО заменить (111,3)\n",
        "  КОНЕЦ ЕСЛИ\n",
        "КОНЕЦ ПОКА\n",
        "КОНЕЦ\n",
        "</pre>\n",
        "\n",
        "Известно, что в результате применения данной программы к исходной строке, состоящей только из цифр 3, получилась строка 123. Какое наименьшее количество цифр 3 могло находиться в исходной строке?\n",
        "\n",
        "**Ответ:** 13"
      ],
      "metadata": {
        "id": "XxhBG3oEtmWm"
      }
    },
    {
      "cell_type": "code",
      "source": [
        "answers = set()\n",
        "for n in range(0,1001):\n",
        "  s = n * '3'\n",
        "  t = s\n",
        "  while '333' in s:\n",
        "    s = s.replace('333','2',1)\n",
        "    s = s.replace('222','1',1)\n",
        "    s = s.replace('111','3',1)\n",
        "  if s == '123':\n",
        "    answers.add(t.count('3'))\n",
        "print(min(answers))"
      ],
      "metadata": {
        "colab": {
          "base_uri": "https://localhost:8080/"
        },
        "id": "gRmO7v-Eoh9W",
        "outputId": "8b5f7776-e107-4667-f0f6-fde486c118ff"
      },
      "execution_count": null,
      "outputs": [
        {
          "output_type": "stream",
          "name": "stdout",
          "text": [
            "13\n"
          ]
        }
      ]
    },
    {
      "cell_type": "markdown",
      "source": [
        "**12.2.** Дана программа для исполнителя Редактор:\n",
        "<pre>\n",
        "НАЧАЛО\n",
        "ПОКА нашлось (35)\n",
        "  ЕСЛИ нашлось (35)\n",
        "    ТО заменить (35,533)\n",
        "  КОНЕЦ ЕСЛИ\n",
        "  ЕСЛИ нашлось (5)\n",
        "    ТО заменить (5,53)\n",
        "  КОНЕЦ ЕСЛИ\n",
        "КОНЕЦ ПОКА\n",
        "КОНЕЦ\n",
        "</pre>\n",
        "На вход приведённой программы поступает строка, состоящая из n цифр (n - натуральное число, состоящее не более чем из двух цифр), все элементы которой, кроме предпоследнего - тройки. Предпоследний элемент - цифра 5. Определите сколько существует значений n, при которых длина получившейся строки будет являться простым числом.\n",
        "\n",
        "**Ответ:** 33"
      ],
      "metadata": {
        "id": "FUu69AMxttxm"
      }
    },
    {
      "cell_type": "code",
      "source": [
        "def is_simple(x):\n",
        "  if x == 1:\n",
        "    return False\n",
        "  if x == 2:\n",
        "    return True\n",
        "  for d in range(2, x):\n",
        "    if x % d == 0:\n",
        "      return False\n",
        "  return True\n",
        "\n",
        "answers = set()\n",
        "for n in range(2,100):\n",
        "  s = (n-2) * '3' + '53'\n",
        "  while '35' in s:\n",
        "    if '35' in s:\n",
        "      s = s.replace('35', '533', 1)\n",
        "    if '5' in s:\n",
        "      s = s.replace('5', '53', 1)\n",
        "\n",
        "  if is_simple(len(s)):\n",
        "    answers.add(len(s))\n",
        "\n",
        "len(answers)\n"
      ],
      "metadata": {
        "colab": {
          "base_uri": "https://localhost:8080/"
        },
        "id": "dnpfhbPnmT13",
        "outputId": "8fe0c5dd-5e1e-4c17-8bf0-451747079b63"
      },
      "execution_count": null,
      "outputs": [
        {
          "output_type": "execute_result",
          "data": {
            "text/plain": [
              "33"
            ]
          },
          "metadata": {},
          "execution_count": 35
        }
      ]
    },
    {
      "cell_type": "markdown",
      "source": [
        "**14.1.** Определите в какой системе счисления выполняется равенство\n",
        "\n",
        "$$EFI8F_{x} + IGB_{x} = EGE23_{x}$$\n",
        "\n",
        "В ответе укажите основание системы счисления.\n",
        "\n",
        "**Ответ:** 23"
      ],
      "metadata": {
        "id": "_ZBofFYeEJfX"
      }
    },
    {
      "cell_type": "code",
      "source": [
        "for x in range(19,100):\n",
        "  t1 = 15 + 8*x + 18*x**2 + 15*x**3 + 14*x**4\n",
        "  t1+= 11 + 16*x + 18*x**2\n",
        "  t2 = 3 + 2*x + 14*x**2 + 16*x**3 + 14*x**4\n",
        "  if t1 == t2:\n",
        "    print(x)"
      ],
      "metadata": {
        "colab": {
          "base_uri": "https://localhost:8080/"
        },
        "id": "wwhqu_5SFJ0V",
        "outputId": "b4e36526-7c36-4d2b-9786-551820eca966"
      },
      "execution_count": null,
      "outputs": [
        {
          "output_type": "stream",
          "name": "stdout",
          "text": [
            "23\n"
          ]
        }
      ]
    },
    {
      "cell_type": "code",
      "source": [
        "for x in range(19, 33):\n",
        "  if int('EFI8F', x) + int('IGB', x) == int('EGE23', x):\n",
        "    print(x)"
      ],
      "metadata": {
        "colab": {
          "base_uri": "https://localhost:8080/"
        },
        "id": "LBE6p36BOdEN",
        "outputId": "a40d2af4-fc01-4b06-9f04-4c1115ce9357"
      },
      "execution_count": null,
      "outputs": [
        {
          "output_type": "stream",
          "name": "stdout",
          "text": [
            "23\n"
          ]
        }
      ]
    },
    {
      "cell_type": "markdown",
      "source": [
        "**14.2.** Операнды арифметического выражения записаны в системе счисления\n",
        "с основаниями 16 и 18:\n",
        "\n",
        "$$y3x46_{16} + 1x0y4_{18}$$\n",
        "\n",
        "В записи чисел переменными x и y обозначены неизвестные цифры из алфавита 16-ричной системы счисления. Определите значения x и y, при которых значение данного арифметического выражения является наименьшим возможным числом кратным 422. Для найденных x и y вычислите частное от деления значения арифметического выражения на 422 и укажите его в ответе в десятичной системе счисления. Основание системы счисления в ответе указывать не нужно.\n",
        "\n",
        "**Ответ:** 733"
      ],
      "metadata": {
        "id": "WhXA37yY5Pv-"
      }
    },
    {
      "cell_type": "code",
      "source": [
        "for y in range(1,16):\n",
        "  for x in range(0,16):\n",
        "    t = 6 + 4*16+x*16**2+3*16**3+y*16**4\n",
        "    t += 4 + y*18 + x*18**3 + 18**4\n",
        "    if t % 422 == 0:\n",
        "      print(t // 422)\n",
        "      break\n",
        "  else:\n",
        "    continue\n",
        "  break"
      ],
      "metadata": {
        "colab": {
          "base_uri": "https://localhost:8080/"
        },
        "id": "jvm-Ccu76u52",
        "outputId": "0c0f3f80-1519-4fc7-f58f-2a35fc1da38b"
      },
      "execution_count": null,
      "outputs": [
        {
          "output_type": "stream",
          "name": "stdout",
          "text": [
            "733\n"
          ]
        }
      ]
    },
    {
      "cell_type": "code",
      "source": [
        "for y in '123456789abcdef':\n",
        "  for x in '0123456789abcdef':\n",
        "    t = int(y + '3' + x + '46', 16) + int('1' + x + '0' + y + '4', 18)\n",
        "    if t % 422 == 0:\n",
        "      print(t // 422)"
      ],
      "metadata": {
        "colab": {
          "base_uri": "https://localhost:8080/"
        },
        "id": "KFxcgzg7PTnD",
        "outputId": "cdfc88b7-5b90-4433-8912-c4f6781c5fcb"
      },
      "execution_count": null,
      "outputs": [
        {
          "output_type": "stream",
          "name": "stdout",
          "text": [
            "733\n",
            "1452\n",
            "2171\n"
          ]
        }
      ]
    },
    {
      "cell_type": "markdown",
      "source": [
        "**15.1.** Элементами множеств А, P и Q являются натуральные числа, причём\n",
        "\n",
        "P = {2, 4, 6, 8, 10, 12, 14, 16, 20, 24},\n",
        "\n",
        "Q = {3, 6, 9, 12, 15, 18, 21, 24, 27, 30}.\n",
        "\n",
        "Известно, что выражение\n",
        "\n",
        "$$((x ∈ A) → (x ∉ P)) → ¬((x ∈ A) → (x ∈ Q))$$\n",
        "\n",
        "тождественно ложно (т. е. принимает значение 0 при любом значении переменной х). Определите наибольшее возможное значение суммы элементов множества A."
      ],
      "metadata": {
        "id": "C1zDEyTH9oD7"
      }
    },
    {
      "cell_type": "markdown",
      "source": [
        "**Ответ:** 123"
      ],
      "metadata": {
        "id": "rkefv0m9APNf"
      }
    },
    {
      "cell_type": "code",
      "source": [
        "P = {2, 4, 6, 8, 10, 12, 14, 16, 20, 24}\n",
        "Q = {3, 6, 9, 12, 15, 18, 21, 24, 27, 30}\n",
        "A = set([*range(0,100)])\n",
        "\n",
        "\n",
        "def f(x,A):\n",
        "  return ((x in A) <= (x not in P)) <= (not((x in A) <= (x in Q)))\n",
        "\n",
        "for x in range(0, 100):\n",
        "  if f(x,A):\n",
        "    A.remove(x)\n",
        "\n",
        "for x in range(0,100):\n",
        "  if f(x,A):\n",
        "    print('Шеф, всё пропало')\n",
        "    break\n",
        "\n",
        "print(sum(A))"
      ],
      "metadata": {
        "colab": {
          "base_uri": "https://localhost:8080/"
        },
        "id": "orZ5rHzCwPKq",
        "outputId": "150b078e-be8e-4a56-b867-52a7235ef62c"
      },
      "execution_count": null,
      "outputs": [
        {
          "output_type": "stream",
          "name": "stdout",
          "text": [
            "123\n"
          ]
        }
      ]
    },
    {
      "cell_type": "markdown",
      "source": [
        "**15.2.** На числовой прямой даны два отрезка: В = [25; 40] и С = [12; 33]. Укажите наименьшую возможную длину такого отрезка А, что логическое выражение\n",
        "\n",
        "((x ∈ B) → (x ∈ A)) ∧ (¬(x ∈ C) ∨ (x ∈ A))\n",
        "\n",
        "истинно (т.е. принимает значение 1) при любом значении переменной х.\n",
        "\n",
        "**Ответ:** 28"
      ],
      "metadata": {
        "id": "fQKtcNdMDFOB"
      }
    },
    {
      "cell_type": "code",
      "source": [
        "from itertools import combinations\n",
        "\n",
        "def f(x, a1, a2):\n",
        "  B = 25 <= x <= 40\n",
        "  C = 12 <= x <= 33\n",
        "  A = a1 <= x <= a2\n",
        "  return (B <= A) and ((not C) or A)\n",
        "\n",
        "Ox = [x/4 for x in range(10*4, 40*4+1)]\n",
        "answers = []\n",
        "\n",
        "for a1, a2 in combinations(Ox, 2):\n",
        "  if all(f(x,a1,a2) for x in Ox):\n",
        "    answers.append(round(a2) - round(a1))\n",
        "\n",
        "print(min(answers))"
      ],
      "metadata": {
        "colab": {
          "base_uri": "https://localhost:8080/"
        },
        "id": "MHJXZG4RDSXi",
        "outputId": "4f2c7400-0f6c-4a6f-90a3-a513f61b6c20"
      },
      "execution_count": null,
      "outputs": [
        {
          "output_type": "stream",
          "name": "stdout",
          "text": [
            "28\n"
          ]
        }
      ]
    },
    {
      "cell_type": "markdown",
      "source": [
        "**16.** Алгоритм вычисления значения функции F(n), где n – целое неотрицательное число, задан следующими соотношениями:\n",
        "\n",
        "F(n) = 0 при n = 0\n",
        "\n",
        "F(n) = F(n/2) - 2 при чётных n > 0\n",
        "\n",
        "F(n) = 2 + F(n–1) при нечётных n > 0\n",
        "\n",
        "Сколько существует чисел n, меньших 1000, для которых значение F(n) будет равно -2?\n",
        "\n",
        "**Ответ:** 111"
      ],
      "metadata": {
        "id": "qCX-EXZxAhEO"
      }
    },
    {
      "cell_type": "code",
      "source": [
        "def f(n):\n",
        "  if n == 0: return 0\n",
        "  if n % 2 == 0: return f(n/2) - 2\n",
        "  return 2 + f(n-1)\n",
        "\n",
        "cnt = 0\n",
        "for n in range(1000):\n",
        "  if f(n) == -2:\n",
        "    cnt += 1\n",
        "\n",
        "print(cnt)"
      ],
      "metadata": {
        "colab": {
          "base_uri": "https://localhost:8080/"
        },
        "id": "OHKD8zMfBowI",
        "outputId": "8900795c-9775-4cd7-b7f3-e9cfa22b1c08"
      },
      "execution_count": null,
      "outputs": [
        {
          "output_type": "stream",
          "name": "stdout",
          "text": [
            "111\n"
          ]
        }
      ]
    },
    {
      "cell_type": "markdown",
      "source": [
        "**17.1.** В файле содержится последовательность целых чисел. Элементы последовательности могут принимать любое значение от  $-10$ $000$  до  $10$ $000$  включительно. Определите количество пар элементов последовательности, в которых оба числа заканчиваются на разные чётные цифры, а их сумма больше минимального члена последовательности, кратного 123. В ответе запишите количество найденных пар, затем модуль наименьшей из сумм элементов таких пар. В данной задаче под парой подразумевается два идущих подряд элемента последовательности.\n",
        "\n",
        "**Ответ:** 1797 9558"
      ],
      "metadata": {
        "id": "URGi0zJRAhsC"
      }
    },
    {
      "cell_type": "code",
      "source": [
        "f = open('17-1.txt')\n",
        "nums = [int(x) for x in f]\n",
        "mn = min([x for x in nums if abs(x)%123 == 0])\n",
        "sums = [a+b for a,b in zip(nums,nums[1:]) if (abs(a) % 10 != abs(b) % 10) and (abs(a) % 2 == 0) and (abs(b) % 2 == 0) and (a+b > mn)]\n",
        "print(len(sums), abs(min(sums)))"
      ],
      "metadata": {
        "colab": {
          "base_uri": "https://localhost:8080/"
        },
        "outputId": "e38a592b-7026-4b18-eee7-50348ee637a9",
        "id": "ePRdKYyTAhsE"
      },
      "execution_count": null,
      "outputs": [
        {
          "output_type": "stream",
          "name": "stdout",
          "text": [
            "1797 9558\n"
          ]
        }
      ]
    },
    {
      "cell_type": "markdown",
      "source": [
        "**17.2.** В файле содержится последовательность целых чисел, по модулю не превышающих 10000. Определите количество пар элементов последовательности, в которых запись большего из двух элементов заканчивается цифрой 2, а сумма квадратов элементов пары меньше, чем квадрат наибольшего из всех элементов последовательности, запись которых заканчивается цифрой 9. В ответе запишите два числа: сначала количество найденных пар, затем максимальную сумму квадратов элементов этих пар. В данной задаче под парой подразумевается два идущих подряд элемента последовательности."
      ],
      "metadata": {
        "id": "9VzuPMfZndBB"
      }
    },
    {
      "cell_type": "markdown",
      "source": [
        "**Ответ:** 795 99823365"
      ],
      "metadata": {
        "id": "09bsHaQWn1bq"
      }
    },
    {
      "cell_type": "code",
      "source": [
        "f = open('17-1.txt')\n",
        "nums = [int(x) for x in f]\n",
        "mx = max([x for x in nums if abs(x) % 10 == 9])\n",
        "\n",
        "sqrs = [a**2 + b**2 for a,b in zip(nums, nums[1:]) if a**2 + b**2 < mx**2 and abs(max(a,b)) % 10 == 2]\n",
        "print(len(sqrs), max(sqrs))"
      ],
      "metadata": {
        "colab": {
          "base_uri": "https://localhost:8080/"
        },
        "id": "pY3hriuJnqBE",
        "outputId": "cfee5aa4-021d-4d4d-d0f8-8fab62b0087c"
      },
      "execution_count": null,
      "outputs": [
        {
          "output_type": "stream",
          "name": "stdout",
          "text": [
            "795 99823365\n"
          ]
        }
      ]
    },
    {
      "cell_type": "markdown",
      "source": [
        "**19.** Два игрока, Паша и Витя, играют в следующую игру. Перед игроками лежат две кучи камней. Игроки ходят по очереди, первый ход делает Паша. За один ход игрок может добавить в одну из куч (по своему выбору) два камня или увеличить количество камней в куче в два раза. Например, пусть в одной куче 10 камней, а в другой 5 камней; такую позицию в игре будем обозначать (10, 5). Тогда за один ход можно получить любую из четырёх позиций:\n",
        "(12, 5), (20, 5), (10, 7), (10, 10). Для того чтобы делать ходы, у каждого игрока есть неограниченное количество камней.\n",
        "Игра завершается в тот момент, когда суммарное количество камней в кучах становится не менее 63. Если при этом в двух кучах оказалось не более 74 камней, то победителем считается игрок, сделавший последний ход. В противном случае победителем становится его противник, при этом считается, что противник сделал ход.\n",
        "В начальный момент в первой куче было пятнадцать камней, во второй куче – S камней; 1 ≤ S ≤ 47.\n",
        "\n",
        "Известно, что Витя победил после первого неудачного хода Паши. Назовите минимальное S, при котором это возможно.\n",
        "\n",
        "**Ответ:** 3"
      ],
      "metadata": {
        "id": "bpnO3iIR6RUZ"
      }
    },
    {
      "cell_type": "code",
      "source": [
        "from functools import lru_cache\n",
        "@lru_cache(maxsize=None)\n",
        "def f(a, b):\n",
        "  if (a+b >= 63) and (a+b <= 74):\n",
        "    return 0\n",
        "  if a+b > 74:\n",
        "    return 1\n",
        "  moves = [f(a+2, b), f(a*2, b), f(a, b+2), f(a, b*2)]\n",
        "  loses = [x for x in moves if x <= 0]\n",
        "  if loses:\n",
        "    return -max(loses) + 1\n",
        "  return -max(moves)\n",
        "\n",
        "for s in range(1, 48):\n",
        "  if f(15+2, s) == 1 or f(15*2, s) == 1 or f(15, s+2) == 1 or f(15, s*2) == 1:\n",
        "    print(s)\n",
        "    break"
      ],
      "metadata": {
        "colab": {
          "base_uri": "https://localhost:8080/"
        },
        "id": "qc75pi34GOuL",
        "outputId": "e3a97fa2-4f12-4a36-e2e2-ec8d26170f9e"
      },
      "execution_count": null,
      "outputs": [
        {
          "output_type": "stream",
          "name": "stdout",
          "text": [
            "3\n"
          ]
        }
      ]
    },
    {
      "cell_type": "code",
      "source": [
        "from functools import lru_cache\n",
        "@lru_cache(maxsize=None)\n",
        "def f(a,b):\n",
        "  if a+b >= 63 and (a+b <= 74):\n",
        "    return 0\n",
        "  if a+b > 74:\n",
        "    return 1\n",
        "  moves = [f(a+2,b), f(a*2,b), f(a,b+2), f(a,b*2)]\n",
        "  loses = [x for x in moves if x <=0]\n",
        "  if loses:\n",
        "    return 1 - max(loses)\n",
        "  else:\n",
        "    return -max(moves)\n",
        "\n",
        "for s in range(1,48):\n",
        "  if f(15,s) == -2:\n",
        "    print(s)\n"
      ],
      "metadata": {
        "colab": {
          "base_uri": "https://localhost:8080/"
        },
        "id": "MPs6R7-LvR7c",
        "outputId": "a908500a-26ba-4c4e-9eaf-a805b181644f"
      },
      "execution_count": null,
      "outputs": [
        {
          "output_type": "stream",
          "name": "stdout",
          "text": [
            "14\n"
          ]
        }
      ]
    },
    {
      "cell_type": "markdown",
      "source": [
        "**20.** Для игры, описанной в задаче 19 укажите минимальное и максимальное значения S, при которых у Паши есть выигрышная стратегия, причём одновременно выполняются два условия:\n",
        "1. Паша не может выиграть за один ход.\n",
        "2. Паша может выиграть своим вторым ходом независимо от того, как будет ходить Витя.\n",
        "\n",
        "**Ответ:** 2 30"
      ],
      "metadata": {
        "id": "x7U5QW2L0dcN"
      }
    },
    {
      "cell_type": "code",
      "source": [
        "wins = []\n",
        "for s in range(1, 48):\n",
        "  if f(15, s) == 2:\n",
        "    wins.append(s)\n",
        "print(min(wins), max(wins))"
      ],
      "metadata": {
        "colab": {
          "base_uri": "https://localhost:8080/"
        },
        "id": "aXLJk5GI03gE",
        "outputId": "8cc82951-2663-480d-af63-f5b625ccf6c4"
      },
      "execution_count": null,
      "outputs": [
        {
          "output_type": "stream",
          "name": "stdout",
          "text": [
            "2 30\n"
          ]
        }
      ]
    },
    {
      "cell_type": "markdown",
      "source": [
        "**21.** Для игры, описанной в задаче 19 значение S, при котором одновременно выполняются два условия:\n",
        "1. У Вити есть выигрышная стратегия, позволяющая ему выиграть первым или вторым ходом при любой игре Паши;\n",
        "2. У Вити нет стратегии, которая позволит ему гарантированно выиграть первым ходом.\n",
        "\n",
        "**Ответ:** 14"
      ],
      "metadata": {
        "id": "EMCr5j-b1eFX"
      }
    },
    {
      "cell_type": "code",
      "source": [
        "for s in range(1, 48):\n",
        "  if f(15, s) == -2:\n",
        "    print(s)"
      ],
      "metadata": {
        "colab": {
          "base_uri": "https://localhost:8080/"
        },
        "outputId": "e67bc080-6d03-4ae7-d9b9-37fc433933c8",
        "id": "HV4mzSN61eFZ"
      },
      "execution_count": null,
      "outputs": [
        {
          "output_type": "stream",
          "name": "stdout",
          "text": [
            "14\n"
          ]
        }
      ]
    },
    {
      "cell_type": "markdown",
      "source": [
        "**23.1.** У исполнителя Калькулятор имеются три команды, которым присвоены номера:\n",
        "1. Вычти 2\n",
        "2. Раздели нацело на 2\n",
        "3. Раздели нацело на 3\n",
        "\n",
        "Выполняя первую из них, исполнитель уменьшает число на экране на 1, выполняя вторую – делит нацело на 2, выполняя третью – делит нацело на 2. Сколько существует программ, для которых при исходном числе 40 результатом является число 2, и при этом траектория вычислений содержит число 15, но не содержит число 22?\n",
        "\n",
        "**Ответ:** 39"
      ],
      "metadata": {
        "id": "AK3OqaDeoENr"
      }
    },
    {
      "cell_type": "code",
      "source": [
        "def f(cur, fin):\n",
        "  if cur == fin:\n",
        "    return 1\n",
        "  if cur < fin or cur == 22:\n",
        "    return 0\n",
        "  return f(cur-2, fin) + f(cur//2, fin) + f(cur//3, fin)\n",
        "\n",
        "f(40,15)*f(15,2)"
      ],
      "metadata": {
        "colab": {
          "base_uri": "https://localhost:8080/"
        },
        "outputId": "1bf7cef6-b91a-4311-dbdd-9e6b4c346c3a",
        "id": "zhuRRcJyoEOF"
      },
      "execution_count": null,
      "outputs": [
        {
          "output_type": "execute_result",
          "data": {
            "text/plain": [
              "39"
            ]
          },
          "metadata": {},
          "execution_count": 9
        }
      ]
    },
    {
      "cell_type": "markdown",
      "source": [
        "**23.2.** Исполнитель преобразовывает число, записанное на экране. У него есть три команды, которым присвоены номера:\n",
        "\n",
        "1. Прибавить 2\n",
        "2. Умножить на 3\n",
        "3. Вычесть 1\n",
        "\n",
        "Выполняя первую из них, исполнитель увеличивает число на экране на 2, выполняя вторую – умножает его на 3, выполняя третью – уменьшает число на 1. Программой для исполнителя называется последовательность команд. Сколько существует программ длиной не более 8 команд, которые преобразуют число 2 в число 23?\n",
        "\n",
        "**Ответ:** 89"
      ],
      "metadata": {
        "id": "9FrXnrTqobJF"
      }
    },
    {
      "cell_type": "code",
      "source": [
        "def f(cur, fin, step):\n",
        "  if step >= 0 and cur == fin: return 1\n",
        "  if step <= 0: return 0\n",
        "  return f(cur+2,fin,step-1) + f(cur*3,fin,step-1) + f(cur-1,fin,step-1)\n",
        "\n",
        "f(2,23,8)"
      ],
      "metadata": {
        "colab": {
          "base_uri": "https://localhost:8080/"
        },
        "id": "SpNHvFEzobPb",
        "outputId": "ed90d4da-3fe7-4c00-c43f-86141df689f8"
      },
      "execution_count": null,
      "outputs": [
        {
          "output_type": "execute_result",
          "data": {
            "text/plain": [
              "89"
            ]
          },
          "metadata": {},
          "execution_count": 164
        }
      ]
    },
    {
      "cell_type": "markdown",
      "source": [
        "**24.1.** Текстовый файл состоит не более, чем из 1 200 000 прописных символов латинского алфавита. Определите максимальное количество идущих подряд символов, среди которых любые два символа из набора Q, R, S в различных комбинациях (с учётом повторений) не стоят рядом.\n",
        "\n",
        "**Ответ:** 544"
      ],
      "metadata": {
        "id": "MY7SR6N_Idt2"
      }
    },
    {
      "cell_type": "code",
      "source": [
        "# создаём поток для чтения файла\n",
        "s = open('24.txt').readline()\n",
        "\n",
        "s = s.replace('R', 'Q').replace('S','Q')\n",
        "while 'QQ' in s:\n",
        "  s = s.replace('QQ', 'Q Q')\n",
        "lst = s.split()\n",
        "\n",
        "print(len(max(lst, key = len)))"
      ],
      "metadata": {
        "colab": {
          "base_uri": "https://localhost:8080/"
        },
        "id": "xXXJdlhD6ANv",
        "outputId": "39ac295b-6cca-4604-f17b-4decb167252d"
      },
      "execution_count": null,
      "outputs": [
        {
          "output_type": "stream",
          "name": "stdout",
          "text": [
            "544\n"
          ]
        }
      ]
    },
    {
      "cell_type": "code",
      "source": [
        "# создаём поток для чтения файла\n",
        "s = open('24.txt').readline()\n",
        "s = s.replace('R', 'Q').replace('S','Q')\n",
        "\n",
        "mx = 0\n",
        "k = 1\n",
        "for i in range(len(s)-1):\n",
        "  if (s[i] != s[i+1]) or (s[i] != 'Q'):\n",
        "    k += 1\n",
        "    mx = max(mx, k)\n",
        "  else:\n",
        "    k = 1\n",
        "\n",
        "# печатаем длину полученного списка и его максимальный элемент\n",
        "print(mx)"
      ],
      "metadata": {
        "colab": {
          "base_uri": "https://localhost:8080/"
        },
        "id": "lBeYDqOP2LJ2",
        "outputId": "54882190-4aac-412f-d4be-cf229002fb75"
      },
      "execution_count": null,
      "outputs": [
        {
          "output_type": "stream",
          "name": "stdout",
          "text": [
            "544\n"
          ]
        }
      ]
    },
    {
      "cell_type": "markdown",
      "source": [
        "**24.2.** Текстовый файл ***24-2.txt*** состоит не более чем из  $10^6$  символов A, M, D. Найдите максимальное количество подряд идущих пар символов MM или AA. Искомая подстрока может включать только пары АA, только пары MM или  пары АA и CC одновременно.\n",
        "\n",
        "**Ответ:** 10"
      ],
      "metadata": {
        "id": "hdUhoJfI72tD"
      }
    },
    {
      "cell_type": "code",
      "source": [
        "s = open('24-2.txt').readline()\n",
        "\n",
        "mx = 0\n",
        "for shift in range(2):\n",
        "  k = 0\n",
        "  for i in range(shift, len(s)-1, 2):\n",
        "    if (s[i] == 'A' and s[i+1] == 'A') or (s[i] == 'M' and s[i+1] == 'M'):\n",
        "      k +=1\n",
        "      mx = max(k,mx)\n",
        "    else:\n",
        "      k = 0\n",
        "mx"
      ],
      "metadata": {
        "id": "owjqHrz9DYmK",
        "colab": {
          "base_uri": "https://localhost:8080/"
        },
        "outputId": "1012887c-d58a-492f-c93f-e1dee7712c1c"
      },
      "execution_count": null,
      "outputs": [
        {
          "output_type": "execute_result",
          "data": {
            "text/plain": [
              "10"
            ]
          },
          "metadata": {},
          "execution_count": 27
        }
      ]
    },
    {
      "cell_type": "markdown",
      "source": [
        "**24.3.** Текстовый файл ***24-3.txt*** содержит строку из символов A, B, C и цифр 1, 2, 3, всего не более чем $10^6$ символов. Определите максимальное количество идущих подряд троек символов вида «буква + цифра + цифра» (например: «A50»).\n",
        "\n",
        "**Ответ:** 8"
      ],
      "metadata": {
        "id": "JzeZCNikM8vk"
      }
    },
    {
      "cell_type": "code",
      "source": [
        "s = open('24-3.txt').readline()\n",
        "\n",
        "mx = 0\n",
        "for shift in range (3):\n",
        "  k = 0\n",
        "  for i in range(shift,len(s)-2, 3):\n",
        "    if (s[i] in 'ABC') and (s[i+1] in '123') and (s[i+2] in '123'):\n",
        "      k += 1\n",
        "      mx = max(k, mx)\n",
        "    else:\n",
        "      k = 0\n",
        "mx"
      ],
      "metadata": {
        "colab": {
          "base_uri": "https://localhost:8080/"
        },
        "outputId": "58807a87-0428-44e8-cb5e-cf9796c46b89",
        "id": "vNCnLNZsM8vl"
      },
      "execution_count": null,
      "outputs": [
        {
          "output_type": "execute_result",
          "data": {
            "text/plain": [
              "8"
            ]
          },
          "metadata": {},
          "execution_count": 29
        }
      ]
    },
    {
      "cell_type": "markdown",
      "source": [
        "**25.** Назовём маской числа последовательность цифр, в которой также могут встречаться следующие символы:\n",
        "\n",
        "— символ «?» означает ровно одну произвольную цифру;\n",
        "— символ «*» означает любую последовательность цифр произвольной длины; в том числе «*» может задавать и пустую последовательность.\n",
        "\n",
        "Найдите все натуральные числа, не превышающие $10^{10}$, которые соответствуют маске 1?2\\*0\\*2?1 и при этом содержат ровно три делителя. В ответе запишите все найденные числа в порядке возрастания, справа от каждого числа запишите его второй по величине делитель.\n",
        "\n",
        "**Ответ:**\n",
        "\n",
        "152004241 12329\n",
        "\n",
        "1129027201 33601\n",
        "\n",
        "1320668281 36341\n",
        "\n",
        "1628203201 40351"
      ],
      "metadata": {
        "id": "BQWeuN5J90YH"
      }
    },
    {
      "cell_type": "code",
      "source": [
        "from fnmatch import fnmatch\n",
        "\n",
        "def f(n):\n",
        "  for d in range(2, n):\n",
        "    if n**2 % d == 0:\n",
        "      return False\n",
        "  return True\n",
        "\n",
        "for n in range(0, 10**5):\n",
        "  if fnmatch(str(n**2), '1?2*0*2?1'):\n",
        "    if f(n):\n",
        "      print(n**2, n)"
      ],
      "metadata": {
        "colab": {
          "base_uri": "https://localhost:8080/"
        },
        "id": "ij2dkImF-m-k",
        "outputId": "59e6ba7c-1ed6-4ab0-975e-e741e8df3e9c"
      },
      "execution_count": null,
      "outputs": [
        {
          "output_type": "stream",
          "name": "stdout",
          "text": [
            "152004241 12329\n",
            "1129027201 33601\n",
            "1320668281 36341\n",
            "1628203201 40351\n"
          ]
        }
      ]
    }
  ]
}