{
  "nbformat": 4,
  "nbformat_minor": 0,
  "metadata": {
    "colab": {
      "provenance": [],
      "collapsed_sections": [
        "mM2zr7hPO3wu",
        "CsKxe_-HXLEq",
        "QYzQ2mkvbAhs",
        "gNta11LTkssV",
        "rVjRMU6TpKt_",
        "m6xeqABDrLTr",
        "B2g2FYbF0Zvh",
        "s3O2BXld2cE7",
        "r8WX9Q3b6mR_",
        "TRpmorqc8Drk",
        "CtTyV8_N-RZk",
        "wRmiGRH8Bs3D"
      ],
      "authorship_tag": "ABX9TyO3pTOBQn8W5ejb6/r4K+nA",
      "include_colab_link": true
    },
    "kernelspec": {
      "name": "python3",
      "display_name": "Python 3"
    },
    "language_info": {
      "name": "python"
    }
  },
  "cells": [
    {
      "cell_type": "markdown",
      "metadata": {
        "id": "view-in-github",
        "colab_type": "text"
      },
      "source": [
        "<a href=\"https://colab.research.google.com/github/USE-Computer-Science/lectures/blob/main/final%20countdown/21-25.%20%D0%9E%D1%82%D0%B2%D0%B5%D1%82%D1%8B%20%D0%BA%20%D0%BB%D0%BE%D0%B2%D1%83%D1%88%D0%BA%D0%B0%D0%BC.ipynb\" target=\"_parent\"><img src=\"https://colab.research.google.com/assets/colab-badge.svg\" alt=\"Open In Colab\"/></a>"
      ]
    },
    {
      "cell_type": "markdown",
      "source": [
        "#### **2. Таблицы истинности**"
      ],
      "metadata": {
        "id": "mM2zr7hPO3wu"
      }
    },
    {
      "cell_type": "markdown",
      "source": [
        "**2.1.**\n",
        "\n",
        "Логическая функция F задаётся выражением $¬y ∧ ((x → w) ≠ z)$\n",
        "\n",
        "На рисунке приведён частично заполненный фрагмент таблицы истинности функции F, содержащий неповторяющиеся строки. Определите, какому столбцу таблицы истинности функции F соответствует каждая из переменных x, y, z, w.\n",
        "\n",
        "![image.png](data:image/png;base64,iVBORw0KGgoAAAANSUhEUgAAAQMAAABXCAIAAACP27fJAAADT0lEQVR4nO3dUW6jMBSF4eNRdwRrgjWFNYU1eR5ux6JJB1lg4+vwf09BlZIjK6cmDg4hxijg9v60DgC4QBMAiSYA5mt7EEJolQO43vZD8tfO35wIIZAqE6nyvfzf5+wIkGgCYGgCIFVqQthY17XGSxxAqnzeUoX/WJal1EsUbsK6riGEaZpijDHGaZrGcWw+lKTqPZUlsQfm+XyWfYkqc8IwDPbA0hcs7hmkyuczVVWvq6gnDcOwXS+zEUzD2gqp8vlMtTWOo6Tn81l4ZTZuvByekSavNM8eRqp8H5zKZidjdS2b6sdXHgW/AUnFPf9UpMr3wanmeV6WJcZYKthLqsJnR4mr+TQhVT6fqVSonO9qzQkFkSrfB6dKc0KRSHpLVWXtyFbinCxFJ6TK5y1V+uoghGBnR+VfgjnhGFLl6yIVV1sAEk0ADE0AJJoAGJoASDQBMDQBkN6/T2gYBbjY3nVH/r8BcYJU+dym2h5ydgRINAEwNKGxcRztWrdKF5YdM8+zt0iqnIomtDTP87quaQuVh3fesixlfzOiiCtS7exnc+JTU9mOk8fjYYePx0P/tuc2TJUMw1Bkk2TsJBVzQjN26X/aGmYPvP0zvg+a0IyTTTAwNAGQaEJDbrfM3xNNaObXDwbbX/XBlWhCM8MwTNOUmjDPsy2MtE11XzvrSk58dqrt2tH5Zzuf6tdJ6eTP4HWRit+2OIhU+bpIxdkRINEEwNAEQKIJgGH3Ju4rsnvzPFLlc5tqe8jZESDRBMBUaYLPvX8+MVb5etq96XPvn0+MVb4LxupedxwsiLHK18VY8TkBkGgCYGgCINEEwNAEQKIJwLed/WwH+Nz7VwNjla+LsWL35kGkytdFKs6OAIkmAIYmABJNAAy7N3Ffkd2b55Eqn9tU20POjgCJJgCmShN83k+SVL2rOlblm+DwfpIiVf+qj9XOlRgH+LyfJKna6mKsCs8JPu8nSareXTBWVZrgDal6d8FYsXYESMWb4PM2YaTq3QVjVaUJ3u4nSareXTFWO5+mj7F89thuJnnyCUmVr0iq4roYqyr33vR2P0lDqla6GCt2bx5EqnxdpGLtCJBoAmBoAiDRBMCwexP39ePN7/BDPXA9zo4AiSYA5i+HWcINDEulsQAAAABJRU5ErkJggg==)\n",
        "\n",
        "В ответе напишите буквы x, y, z, w в том порядке, в котором идут соответствующие им столбцы. Буквы в ответе пишите подряд, никаких разделителей между буквами ставить не нужно."
      ],
      "metadata": {
        "id": "LxfOd6rnQUzz"
      }
    },
    {
      "cell_type": "markdown",
      "source": [
        "**Ответ:** xywz"
      ],
      "metadata": {
        "id": "kekk6VD9QhNZ"
      }
    },
    {
      "cell_type": "code",
      "source": [
        "from itertools import *\n",
        "\n",
        "def f(x,y,z,w):\n",
        "  return (not y) and ((x <= w) != z)\n",
        "\n",
        "for a1,a2,a3,a4,a5 in product([0,1], repeat = 5):\n",
        "  table = [(a1,a2,0,1),(1,a3,1,a4),(0,0,0,a5)]\n",
        "  if len(table) == len(set(table)):\n",
        "    for p in permutations('xyzw'):\n",
        "      if [f(**dict(zip(p,t))) for t in table] == [1,1,0]:\n",
        "        print(''.join(p))"
      ],
      "metadata": {
        "colab": {
          "base_uri": "https://localhost:8080/"
        },
        "outputId": "3fb1a9ca-0bdd-47eb-ffbb-e62cd6e556bf",
        "id": "FQ6pQOEHQhNa"
      },
      "execution_count": null,
      "outputs": [
        {
          "output_type": "stream",
          "name": "stdout",
          "text": [
            "xywz\n"
          ]
        }
      ]
    },
    {
      "cell_type": "markdown",
      "source": [
        "**2.2.**\n",
        "\n",
        "Логическая функция F задаётся выражением $¬(((¬w → ¬y) → ¬z) → x).$\n",
        "\n",
        "На рисунке приведён частично заполненный фрагмент таблицы истинности функции F, содержащий неповторяющиеся строки. Определите, какому столбцу таблицы истинности функции F соответствует каждая из переменных x, y, z, w.\n",
        "\n",
        "![image.png](data:image/png;base64,iVBORw0KGgoAAAANSUhEUgAAAQQAAABVCAIAAAAgzw27AAADMklEQVR4nO3dUW6rMBCFYXzVHdlrstcEa7LX5PvAFFESRQ7xhAH+76lppXAEnGIIDq7WOgAYhn9HBwCsoAyAoAyA+Nm8ds4dkgM4xPqceVuGzZ+NcM6RqhGp2m3+9TNMAgRlAARlAIRWGVJK7lcpRWkp7yJVO2uppmlyz0zT1GsRKmVIKQ3DUGutteacQwgaS3kXqdoZTBVjzDnHGOtKjLHjIrSODEtK732M0cK/loFU77CZSlf96/E3n/Pe55w/eQdStbtwquXI8HiI2GeTSvcEupTinIsxeu9VF/QWUrWzlmo+c9Aatr3uyidyzt77Lm9FqnYXTqV9ZNh+Lmj2k0JSNbpwqlLKNE3jOHaJNDykUhwmhRD6XvnqglTtbKbSw4duOIdpmkIIy6cNGhVlmLQfqdqdIhVHBkBQBkBQBkBQBkA8OYE+Kgrwfev9n2mf+5GqndlU65cMkwBBGQBBGUwIIczzaeyY71dVvEV0L711RRkONu9wRm6QXpRSUkrzvZwxRiNF1V5XlOFgyw53dJA/Uko55/nnOZuFmW7a64oyAIIyoImFI4M2ygAIyoAm1k7xNVAGPLceF91hjDRQBjw1juMylayU4r2/w5HhG9+b9LkLp3rcycZxPDxVXV3B7PIFGadYV0z73I9U7U6RimESICgDICgDICgDIJj2iVurTPvsglTtzKZav2SYBAjKAIjblcHgBEuzbK4rpn12YHOCpU021xXTPruZ7z+xNsHSJpvrSjvVjcoAvEYZAEEZAEEZAEEZAEEZgF+vJ8IZ0SWV2QmWfV14XTHtcxhI9Q5StWPaJ/AcZQAEZQAEZQAE0z5xa5Vpn12Qqp3ZVOuXDJMAQRkAoVWGGz4r8mJsbkHVVCpluOezIq/E5hZUT/X6bo19Nl9iHmPMOX/yhl1SzXLOMcYub9UxVUcX3oLaqThnAMSXynCT5yBdmM0t2DcVRwZAfKkMnLaenc0t2DeV4qXVpz/jLGxuQdVUKmW46bMiL8TmFlRP9fpi0243fFakERfeglU5FdM+9yNVu1Ok4moSICgDICgDICgDIJj2iVtb7/8Wz/GBQzBMAgRlAARlAMR/AF0FAur+cZEAAAAASUVORK5CYII=)\n",
        "\n",
        "В ответе напишите буквы x, y, z, w в том порядке, в котором идут соответствующие им столбцы. Буквы в ответе пишите подряд, никаких разделителей между буквами ставить не нужно."
      ],
      "metadata": {
        "id": "alnjn3-3OfUU"
      }
    },
    {
      "cell_type": "markdown",
      "source": [
        "**Ответ:** xzwy"
      ],
      "metadata": {
        "id": "UGXudeS0O87D"
      }
    },
    {
      "cell_type": "code",
      "source": [
        "from itertools import *\n",
        "\n",
        "def f(x,y,z,w):\n",
        "  return not ((((not w) <= (not y)) <= (not z)) <= x)\n",
        "\n",
        "for a1,a2,a3,a4,a5 in product([0,1], repeat = 5):\n",
        "  table = [(a1,a2,1,0),(a3,1,a4,1),(0,1,a5,0)]\n",
        "  if len(table) == len(set(table)):\n",
        "    for p in permutations('xyzw'):\n",
        "      if [f(**dict(zip(p,t))) for t in table] == [1,1,0]:\n",
        "        print(''.join(p))"
      ],
      "metadata": {
        "colab": {
          "base_uri": "https://localhost:8080/"
        },
        "id": "l1AZc1DbOw5N",
        "outputId": "af7897e6-4809-4c9b-f381-024be9e74f4d"
      },
      "execution_count": null,
      "outputs": [
        {
          "output_type": "stream",
          "name": "stdout",
          "text": [
            "xzwy\n",
            "xzwy\n"
          ]
        }
      ]
    },
    {
      "cell_type": "markdown",
      "source": [
        "#### **4. Условие Фано**"
      ],
      "metadata": {
        "id": "CsKxe_-HXLEq"
      }
    },
    {
      "cell_type": "markdown",
      "source": [
        "**4.1.**\n",
        "\n",
        "Для кодирования некоторой последовательности, состоящей из букв русского алфавита решили использовать неравномерный двоичный код, удовлетворяющий условию Фано. Известно, что слово СПОРТЛОТО закодировано с помощью битовой последовательности минимальной длины. Укажите эту длину."
      ],
      "metadata": {
        "id": "Ng16m2foX461"
      }
    },
    {
      "cell_type": "markdown",
      "source": [
        "**Ответ:** 23"
      ],
      "metadata": {
        "id": "IQwIQNztX94B"
      }
    },
    {
      "cell_type": "markdown",
      "source": [
        "**4.2.**\n",
        "\n",
        "Для кодирования информационных сообщений, состоящих из букв А, Б, В, Г, Д и Е, используется неравномерный двоичный код, удовлетворяющий условию однозначного декодирования. Для букв А, Б и В использовали соответственно кодовые слова: 1, 110, 00. Укажите кратчайшее кодовое слово для буквы Г, при котором код будет допускать однозначное декодирование. Если таких кодов несколько, укажите код с наименьшим числовым значением.\n",
        "Примечание: Обратное условие Фано означает, что никакое кодовое слово не является концом другого кодового слова. Соблюдение этого условия достаточно для однозначного декодирования информации."
      ],
      "metadata": {
        "id": "cxzWGd_XZ7yN"
      }
    },
    {
      "cell_type": "markdown",
      "source": [
        "**Ответ:** 0010"
      ],
      "metadata": {
        "id": "kmeqJlXzZ-mH"
      }
    },
    {
      "cell_type": "markdown",
      "source": [
        "#### **5. Автоматы для работы с числами**"
      ],
      "metadata": {
        "id": "QYzQ2mkvbAhs"
      }
    },
    {
      "cell_type": "markdown",
      "source": [
        "**5.1.**\n",
        "\n",
        "На вход алгоритма подаётся натуральное число N. Алгоритм строит по нему новое число R следующим образом:\n",
        "1. Строится двоичная запись числа N.\n",
        "2. К этой записи дописываются разряды по следующему правилу. Если сумма двоичных разрядов кратна 4, слева дописывается 10, иначе 11.\n",
        "3. К полученной записи справа дописывается еще один разряд – 0, если полученное двоичное число нечетное, 1 в обратном случае.\n",
        "4. Полученная таким образом запись является двоичной записью искомого числа R.\n",
        "Например, для числа $13$ = $1101_2$ получается $1111010_2$ = $122$, для числа $10$ = $1010_2$ получается $1110101_2$ = $117$. Укажите максимальное число N, для которого значение R не превышает 250. В ответе это число запишите в десятичной системе счисления."
      ],
      "metadata": {
        "id": "jV6jMIpxbGJ4"
      }
    },
    {
      "cell_type": "markdown",
      "source": [
        "**Ответ:** 30"
      ],
      "metadata": {
        "id": "6ReVyyRdbIxF"
      }
    },
    {
      "cell_type": "code",
      "source": [
        "def R(n):\n",
        "  b = bin(n)[2:]\n",
        "  if sum(map(int,b)) % 4 == 0:\n",
        "    b = '10' + b\n",
        "  else:\n",
        "    b = '11' + b\n",
        "  if int(n) % 2 == 1:\n",
        "    b = b + '0'\n",
        "  else:\n",
        "    b = b + '1'\n",
        "  return int(b, 2)\n",
        "\n",
        "for n in range(1000, 1, -1):\n",
        "  if R(n) <= 250:\n",
        "    print(n)\n",
        "    break"
      ],
      "metadata": {
        "colab": {
          "base_uri": "https://localhost:8080/"
        },
        "id": "7hEr-YzDbFb2",
        "outputId": "2ed5b30b-ab63-4603-9f57-24db55418f00"
      },
      "execution_count": null,
      "outputs": [
        {
          "output_type": "stream",
          "name": "stdout",
          "text": [
            "30\n"
          ]
        }
      ]
    },
    {
      "cell_type": "markdown",
      "source": [
        "**5.2.**\n",
        "\n",
        "На вход алгоритма подаётся натуральное число N (N > 3). Алгоритм строит по нему новое число R следующим образом:\n",
        "1. Строится двоичная запись числа N.\n",
        "2. Далее эта запись обрабатывается по следующему правилу:\n",
        "  а) если N делится на 4, то в конец этой записи дописывается две последние цифры двоичной записи;\n",
        "  б) если N не делится на 4, то остаток от деления N на 4 умножается на 2 в двоичной системе счисления и дописывается в начало двоичной записи числа N.\n",
        "3. Полученная таким образом запись является двоичной записью искомого числа R.\n",
        "Например, для исходного числа $12_{10}$ = $1100_2$ результатом является число $110000_2$ = $48_{10}$, а для исходного числа $10_{10}$ = $1010_2$ результатом является число $1001010_2$ = $74_{10}$.\n",
        "Укажите максимальное число N, после обработки которого с помощью этого алгоритма получается число R, меньшее 68. В ответе запишите это число в десятичной системе счисления."
      ],
      "metadata": {
        "id": "Yj23KHgAfrpN"
      }
    },
    {
      "cell_type": "markdown",
      "source": [
        "**Ответ:** 16"
      ],
      "metadata": {
        "id": "hHCyslnOhx8s"
      }
    },
    {
      "cell_type": "code",
      "source": [
        "def R(n):\n",
        "  b = bin(n)[2:]\n",
        "  if n % 4 == 0:\n",
        "    b = b + b[-2:]\n",
        "  else:\n",
        "    b = bin(2*(n % 4))[2:] + b\n",
        "  return int(b, 2)\n",
        "\n",
        "for n in range(1000, 1, -1):\n",
        "  if R(n) < 68:\n",
        "    print(n)\n",
        "    break"
      ],
      "metadata": {
        "colab": {
          "base_uri": "https://localhost:8080/"
        },
        "id": "jWNpJ8N0gFWK",
        "outputId": "34cd2f1e-063f-4fea-c31d-aa289408ab26"
      },
      "execution_count": null,
      "outputs": [
        {
          "output_type": "stream",
          "name": "stdout",
          "text": [
            "16\n"
          ]
        }
      ]
    },
    {
      "cell_type": "markdown",
      "source": [
        "**5.3.**\n",
        "\n",
        "Автомат обрабатывает натуральное число N < 256 по следующему алгоритму:\n",
        "\n",
        "1) Строится восьмибитная двоичная запись числа N.\n",
        "\n",
        "2) Инвертируются все разряды исходного числа (0 заменяется на 1, 1 на 0).\n",
        "\n",
        "3) Полученное число переводится в десятичную систему счисления.\n",
        "\n",
        "4) Из нового числа вычитается исходное, полученная разность выводится на экран.\n",
        "\n",
        "Для какого значения N результат работы алгоритма равен 45?"
      ],
      "metadata": {
        "id": "ewn9dh0ei2pd"
      }
    },
    {
      "cell_type": "markdown",
      "source": [
        "**Ответ:** 105"
      ],
      "metadata": {
        "id": "ZpA9F0O9lG2Y"
      }
    },
    {
      "cell_type": "code",
      "source": [
        "for n in range(1, 256):\n",
        "  b = bin(n)[2:]\n",
        "  b = '0'*(8 - len(b)) + b\n",
        "  b = b.replace('0', '*')\n",
        "  b = b.replace('1', '0')\n",
        "  b = b.replace('*', '1')\n",
        "  r = int(b, 2) - n\n",
        "  if r == 45:\n",
        "    print(n)"
      ],
      "metadata": {
        "colab": {
          "base_uri": "https://localhost:8080/"
        },
        "id": "YjbegOrfi5FO",
        "outputId": "c58815a2-0ea2-412a-8bcc-98f8482573ca"
      },
      "execution_count": null,
      "outputs": [
        {
          "output_type": "stream",
          "name": "stdout",
          "text": [
            "105\n"
          ]
        }
      ]
    },
    {
      "cell_type": "markdown",
      "source": [
        "#### **6. Циклические алгоритмы**"
      ],
      "metadata": {
        "id": "gNta11LTkssV"
      }
    },
    {
      "cell_type": "markdown",
      "source": [
        "**6.1.**\n",
        "\n",
        "Черепахе был дан для исполнения следующий алгоритм:\n",
        "<pre>\n",
        "Повтори 4 [Вперёд 3 Налево 270 Вперёд 5 Направо 90]\n",
        "Налево 270\n",
        "Повтори 3 [Вперёд 5 Направо 90 Вперёд 3 Налево 270]\n",
        "</pre>\n",
        "В каждом из двух циклов Черепаха рисует по одной фигуре. Определите, сколько точек с целочисленными координатами будут находиться внутри объединения этих фигур, включая точки на линиях."
      ],
      "metadata": {
        "id": "Del0bm1XmpdC"
      }
    },
    {
      "cell_type": "markdown",
      "source": [
        "**Ответ:** 42"
      ],
      "metadata": {
        "id": "Uk5ce55Tmy2E"
      }
    },
    {
      "cell_type": "code",
      "source": [
        "from turtle import *\n",
        "\n",
        "tracer(0)\n",
        "hideturtle()\n",
        "r = 50\n",
        "screensize(50 * r, 50 * r)\n",
        "\n",
        "left(90)\n",
        "for i in range(2):\n",
        "    forward(3*r)\n",
        "    left(270)\n",
        "    forward(5*r)\n",
        "    right(90)\n",
        "\n",
        "left(270)\n",
        "for i in range(3):\n",
        "    forward(5*r)\n",
        "    right(90)\n",
        "    forward(3*r)\n",
        "    left(270)\n",
        "\n",
        "up()\n",
        "for x in range(-50*r, 50*r, r):\n",
        "    for y in range(-50*r, 50*r, r):\n",
        "            goto(x,y)\n",
        "            dot(5, 'blue')\n",
        "\n",
        "done()"
      ],
      "metadata": {
        "id": "6oPJeXoKnTDX"
      },
      "execution_count": null,
      "outputs": []
    },
    {
      "cell_type": "markdown",
      "source": [
        "**6.2.**\n",
        "\n",
        "Черепахе был дан для исполнения следующий алгоритм:\n",
        "<pre>\n",
        "Налево 15\n",
        "Повтори 7 [Налево 30 Вперед 10 Налево 60]\n",
        "</pre>\n",
        "Определите, сколько точек с целочисленными координатами будут находиться внутри полученного контура. Точки на линии учитывать не следует."
      ],
      "metadata": {
        "id": "sFJlrT-wlGFZ"
      }
    },
    {
      "cell_type": "markdown",
      "source": [
        "**Ответ:** 98"
      ],
      "metadata": {
        "id": "SuC-W5jEmcZ9"
      }
    },
    {
      "cell_type": "code",
      "source": [
        "from turtle import *\n",
        "\n",
        "def belong(item, color):\n",
        "    return any(i > 3 and canvas.itemcget(i, 'fill') == color for i in item)\n",
        "\n",
        "tracer(0)\n",
        "hideturtle()\n",
        "r = 50\n",
        "e = 0.1\n",
        "screensize(50 * r, 50 * r)\n",
        "\n",
        "left(90)\n",
        "color('black', 'red')\n",
        "left(15)\n",
        "begin_fill()\n",
        "for i in range(4):\n",
        "    left(30)\n",
        "    forward(10*r)\n",
        "    left(60)\n",
        "end_fill()\n",
        "up()\n",
        "\n",
        "cnt = 0\n",
        "canvas = getcanvas()\n",
        "for x in range(-50*r, 50*r, r):\n",
        "    for y in range(-50*r, 50*r, r):\n",
        "        item = canvas.find_overlapping(x-e, y-e, x+e, y+e)\n",
        "        if belong(item, 'red') and not belong(item, 'black'):\n",
        "            cnt += 1\n",
        "            goto(x,-y)\n",
        "            dot(3, 'blue')\n",
        "print(cnt)\n",
        "\n",
        "done()"
      ],
      "metadata": {
        "id": "vOqwVIvHlFeY"
      },
      "execution_count": null,
      "outputs": []
    },
    {
      "cell_type": "markdown",
      "source": [
        "#### **7. Кодирование графики и звука**"
      ],
      "metadata": {
        "id": "rVjRMU6TpKt_"
      }
    },
    {
      "cell_type": "markdown",
      "source": [
        "**7.1.**\n",
        "\n",
        "Для хранения произвольного растрового изображения размером 720 на 360 пикселей отведено 400 килобайт памяти без учёта размера заголовка файла. При кодировании каждого пикселя используется 5 бит для определения степени прозрачности и одинаковое количество бит для указания его цвета. Коды пикселей записываются в файл один за другим без промежутков. Какое максимальное количество цветов (без учета степени прозрачности) можно использовать в изображении?"
      ],
      "metadata": {
        "id": "XliJ3QGWpx9t"
      }
    },
    {
      "cell_type": "markdown",
      "source": [
        "**Ответ:** 128"
      ],
      "metadata": {
        "id": "TgNymDeOp1Su"
      }
    },
    {
      "cell_type": "code",
      "source": [
        "# максимальный размер изображения (Кб)\n",
        "V = 400 * 2**13\n",
        "\n",
        "# длина и ширина изображения в пикселях\n",
        "size = 720 * 360\n",
        "\n",
        "# битовая глубина цвета\n",
        "i = int(V/size)\n",
        "\n",
        "# битовая глубина цвета без битов прозрачности\n",
        "i = i - 5\n",
        "\n",
        "# максимально возможное количество цветов\n",
        "print(2**i)"
      ],
      "metadata": {
        "colab": {
          "base_uri": "https://localhost:8080/"
        },
        "id": "XgZns3pZpfsv",
        "outputId": "d64c555c-1291-465a-838f-9519e3108ab8"
      },
      "execution_count": null,
      "outputs": [
        {
          "output_type": "stream",
          "name": "stdout",
          "text": [
            "128\n"
          ]
        }
      ]
    },
    {
      "cell_type": "markdown",
      "source": [
        "**7.2.**\n",
        "\n",
        "Изображение размером 1024×900 пикселей кодируется с использованием палитры из 2000 цветов. После кодирования пикселей изображение сжимается. Сжатый размер закодированного фрагмента меньше исходного на 10%. Какое минимальное целое количество килобайт памяти необходимо зарезервировать для хранения сжатого файла?"
      ],
      "metadata": {
        "id": "PRlOJfVOqGW0"
      }
    },
    {
      "cell_type": "markdown",
      "source": [
        "**Ответ:** 1114"
      ],
      "metadata": {
        "id": "PgvnH8E9qMxo"
      }
    },
    {
      "cell_type": "code",
      "source": [
        "from math import ceil, log2\n",
        "\n",
        "# битовая глубина цвета\n",
        "i = ceil(log2(2000))\n",
        "\n",
        "# объём файла до сжатия (в битах)\n",
        "V1 = 1024*900*i\n",
        "\n",
        "# объём сжатого файла (в битах)\n",
        "V2 = V1 * 0.90\n",
        "\n",
        "# минимальный объём для хранения сжатого файла (в Кб)\n",
        "kb = ceil(V2 / 2**13)\n",
        "print(kb)"
      ],
      "metadata": {
        "colab": {
          "base_uri": "https://localhost:8080/"
        },
        "id": "PxkRWtIgqKll",
        "outputId": "0a28ef33-93bb-4af9-98c5-2408af1a3b77"
      },
      "execution_count": null,
      "outputs": [
        {
          "output_type": "stream",
          "name": "stdout",
          "text": [
            "1114\n"
          ]
        }
      ]
    },
    {
      "cell_type": "markdown",
      "source": [
        "**7.3.**\n",
        "\n",
        "Музыкальный фрагмент был записан в формате стерео (двухканальная запись), оцифрован и сохранён в виде файла без использования сжатия данных. Размер полученного файла – 24 мегабайта. Затем тот же музыкальный фрагмент был записан повторно в формате моно и оцифрован с разрешением в 2 раза выше и частотой дискретизации в 4,5 раза выше, чем в первый раз. Сжатие данных не производилось. Определите размер файла в мегабайтах, полученного при повторной записи. В ответе укажите только целое число."
      ],
      "metadata": {
        "id": "wzJqoUrQq6sG"
      }
    },
    {
      "cell_type": "markdown",
      "source": [
        "**Ответ:** 108"
      ],
      "metadata": {
        "id": "hY7_Nv40q_ji"
      }
    },
    {
      "cell_type": "code",
      "source": [
        "# V1 = k1 * f1 * t * i1\n",
        "# V2 = k2 * f2 * t * i2\n",
        "# V2/V1 = k2/k1 * f2/f1 * i2/i1\n",
        "\n",
        "# объём перезаписанного файла (Мб)\n",
        "V2 = (1/2 * 4.5 * 2) * 24\n",
        "# округление (т.к. в ответе необходимо указать целое число)\n",
        "print (int(V2))"
      ],
      "metadata": {
        "colab": {
          "base_uri": "https://localhost:8080/"
        },
        "id": "nEAkh9nyq8uJ",
        "outputId": "822405d2-ec9b-4047-9ace-f2e2a9d8dba1"
      },
      "execution_count": null,
      "outputs": [
        {
          "output_type": "stream",
          "name": "stdout",
          "text": [
            "108\n"
          ]
        }
      ]
    },
    {
      "cell_type": "markdown",
      "source": [
        "#### **8. Комбинаторика**"
      ],
      "metadata": {
        "id": "m6xeqABDrLTr"
      }
    },
    {
      "cell_type": "markdown",
      "source": [
        "**8.1.**\n",
        "\n",
        "Все пятибуквенные слова, составленные из букв слова ПАРУС записаны в алфавитном порядке и пронумерованы. Вот начало списка:\n",
        "\n",
        "1. ААААА\n",
        "2. ААААП\n",
        "3. ААААР\n",
        "4. ААААС\n",
        "5. ААААУ\n",
        "6. АААПА\n",
        "\n",
        "Укажите номер первого слова в списке, начинающегося на У, в котором две буквы А НЕ стоят рядом?"
      ],
      "metadata": {
        "id": "Exkv1syCsmDj"
      }
    },
    {
      "cell_type": "markdown",
      "source": [
        "**Ответ:** 2527"
      ],
      "metadata": {
        "id": "A7Pu5cPSs1z_"
      }
    },
    {
      "cell_type": "code",
      "source": [
        "# создадим функцию для простоты выхода из циклов\n",
        "def get_index():\n",
        "  # инициализируем индекс\n",
        "  index = 1\n",
        "  # 5-буквенные слова - 5 циклов\n",
        "  for b1 in 'АПРСУ':\n",
        "    for b2 in 'АПРСУ':\n",
        "      for b3 in 'АПРСУ':\n",
        "        for b4 in 'АПРСУ':\n",
        "          for b5 in 'АПРСУ':\n",
        "            # собираем слово на каждой итерации\n",
        "            word = b1+b2+b3+b4+b5\n",
        "            # печатаем все слова с индексами для самоконтроля\n",
        "            #print (index, word)\n",
        "            # если слово начинается на У и не содержит АА\n",
        "            if ((word[0] == 'У') and ( not 'АА' in word )):\n",
        "              # возвращаем его индекс\n",
        "              return index\n",
        "            #увеличиваем индекс на каждой итерации\n",
        "            index += 1\n",
        "# печатаем ответ\n",
        "print(get_index())"
      ],
      "metadata": {
        "colab": {
          "base_uri": "https://localhost:8080/"
        },
        "id": "TaGP32PksEmC",
        "outputId": "d4cfdc9d-11ce-4140-a91e-c1ab0814e213"
      },
      "execution_count": null,
      "outputs": [
        {
          "output_type": "stream",
          "name": "stdout",
          "text": [
            "2527\n"
          ]
        }
      ]
    },
    {
      "cell_type": "markdown",
      "source": [
        "**8.2.**\n",
        "\n",
        "Сколько существует чисел, делящихся на 5, десятичная запись которых содержит 5 цифр, причём все цифры различны и никакие две чётные и две нечётные цифры не стоят рядом."
      ],
      "metadata": {
        "id": "bLkXoedztp_S"
      }
    },
    {
      "cell_type": "markdown",
      "source": [
        "**Ответ:** 480"
      ],
      "metadata": {
        "id": "oOxmQtXBuBK4"
      }
    },
    {
      "cell_type": "code",
      "source": [
        "# инициализируем счётчик\n",
        "cnt = 0\n",
        "# 5-значные слова - 5 циклов\n",
        "for b1 in '123456789':\n",
        "  for b2 in '0123456789':\n",
        "    for b3 in '0123456789':\n",
        "      for b4 in '0123456789':\n",
        "        for b5 in '0123456789':\n",
        "          word = b1 + b2 + b3 + b4 + b5\n",
        "          # пропустим числа с повторяющимися значениями\n",
        "          if len(word) != len(set(word)):\n",
        "            continue\n",
        "          # пропустим числа не делящиеся на 5\n",
        "          if not(word[-1] == '0' or word[-1] == '5'):\n",
        "            continue\n",
        "          # создадим переменную num_word, в которой\n",
        "          num_word = ''\n",
        "          for letter in word:\n",
        "            # на месте чётных цифр из word стоят нули\n",
        "            if letter in '02468': num_word = num_word + '0'\n",
        "            # а на месте нечётных цифр из word стоят единицы\n",
        "            else: num_word = num_word + '1'\n",
        "          # если в числе нет двух подряд идущих (не)чётных цифр\n",
        "          if not('00' in num_word or '11' in num_word):\n",
        "            # увеличиваем счётчик на 1\n",
        "            cnt += 1\n",
        "# печатаем ответ\n",
        "print(cnt)"
      ],
      "metadata": {
        "colab": {
          "base_uri": "https://localhost:8080/"
        },
        "id": "ZC7qrhw3tUSZ",
        "outputId": "298b3b23-3802-45a1-e9d4-6b3169edbc4f"
      },
      "execution_count": null,
      "outputs": [
        {
          "output_type": "stream",
          "name": "stdout",
          "text": [
            "480\n"
          ]
        }
      ]
    },
    {
      "cell_type": "markdown",
      "source": [
        "**8.3.**\n",
        "\n",
        "Сколько различных слов можно составить, переставляя местами буквы слова МУЗЫКА, если каждую букву нужно использовать ровно 1 раз, и нельзя ставить подряд две гласные или две согласные буквы?"
      ],
      "metadata": {
        "id": "yrtvsRrRutOw"
      }
    },
    {
      "cell_type": "markdown",
      "source": [
        "**Ответ:** 72"
      ],
      "metadata": {
        "id": "CzGh5NO_uwcK"
      }
    },
    {
      "cell_type": "code",
      "source": [
        "# каждую букву нужно использовать ровно 1 раз -> itertools.permutations\n",
        "from itertools import permutations\n",
        "\n",
        "# инициализируем счётчик\n",
        "cnt = 0\n",
        "\n",
        "# длина слова 6 -> r = 6\n",
        "for word in permutations('МУЗЫКА', r = 6):\n",
        "\n",
        "  # получим строку из объекта перебора\n",
        "  word = ''.join(word)\n",
        "\n",
        "  # заменим гласные на 0, а согласные на 1\n",
        "  num_word = word.replace('М','1').replace('У','0').replace('З','1').replace('Ы','0').replace('К','1').replace('А','0')\n",
        "  # пропустим все комбинации с двумя гласными/согласными подряд\n",
        "  if ('00' in num_word or '11' in num_word):\n",
        "    continue\n",
        "\n",
        "  # увеличиваем счётчик на 1 для каждой найденной перестановки, удовлетворяющей условиям\n",
        "  cnt += 1\n",
        "\n",
        "# печатаем ответ\n",
        "print(cnt)"
      ],
      "metadata": {
        "colab": {
          "base_uri": "https://localhost:8080/"
        },
        "id": "aW-5qiFnuwh-",
        "outputId": "abcd961f-2269-4bc1-c88a-c45a471c7a92"
      },
      "execution_count": null,
      "outputs": [
        {
          "output_type": "stream",
          "name": "stdout",
          "text": [
            "72\n"
          ]
        }
      ]
    },
    {
      "cell_type": "markdown",
      "source": [
        "#### **9. Работа с таблицами**"
      ],
      "metadata": {
        "id": "WBEvPmNkvm-I"
      }
    },
    {
      "cell_type": "markdown",
      "source": [
        "**9.1.**\n",
        "\n",
        "В каждой строке [файла](https://stepik.org/media/attachments/course/126893/9-25.csv) содержатся пять натуральных чисел. Определите количество строк таблицы, для которых выполнены оба условия:\n",
        "\n",
        "1. В строке есть хотя бы одно повторяющееся число;\n",
        "2. Сумма неповторяющихся чисел строки нечётная."
      ],
      "metadata": {
        "id": "RkKIaVJXzyAi"
      }
    },
    {
      "cell_type": "markdown",
      "source": [
        "**Ответ:** 173"
      ],
      "metadata": {
        "id": "ooMdE_y_0PAv"
      }
    },
    {
      "cell_type": "code",
      "source": [
        "# инициализируем счётчик строк\n",
        "cnt = 0\n",
        "\n",
        "# обходим в цикле все строки файла\n",
        "for s in open('9-2.csv'):\n",
        "  # разбиваем строку по разделителю ';' на шестиэлементный список\n",
        "  # преобразовываем к int каждый элемент списка\n",
        "  row = [int(item) for item in s.split(';')]\n",
        "\n",
        "  # пропускаем строки, в которых нет повторяющихся элементов\n",
        "  if len(row) == len(set(row)):\n",
        "    continue\n",
        "\n",
        "  # инициализируем сумму неповторяющихся чисел\n",
        "  sum_unique = 0\n",
        "  for item in row:\n",
        "    # если нашлось число, встречающееся в строке ровно 1 раз\n",
        "    if row.count(item) == 1:\n",
        "      # увеличиваем сумму неповторяющихся чисел на найденное число\n",
        "      sum_unique += item\n",
        "\n",
        "  # если сумма повторяющихся чисел нечётна\n",
        "  if sum_unique % 2 == 1:\n",
        "    # увеличиваем счётчик\n",
        "    cnt += 1\n",
        "\n",
        "# печатаем ответ\n",
        "print(cnt)"
      ],
      "metadata": {
        "colab": {
          "base_uri": "https://localhost:8080/"
        },
        "id": "p3TgQgsH0Ctr",
        "outputId": "8ce9ed4b-7e7c-4cad-81c1-acabb6efbd98"
      },
      "execution_count": null,
      "outputs": [
        {
          "output_type": "stream",
          "name": "stdout",
          "text": [
            "173\n"
          ]
        }
      ]
    },
    {
      "cell_type": "markdown",
      "source": [
        "**9.2.**\n",
        "\n",
        "В каждой строке [файла](https://stepik.org/media/attachments/course/126893/9-25.csv) электронной таблицы содержатся 5 натуральных чисел. Определите количество строк  электронной таблицы содержатся пять натуральных чисел. Определите количество строк таблицы, для которых выполнены три условия:\n",
        "\n",
        "1. В строке есть число повторяющееся ровно 3 раза.\n",
        "\n",
        "2. В строке есть хотя бы одно неповторяющееся число.\n",
        "\n",
        "3. Наибольшее из пяти чисел строки больше суммы повторяющихся."
      ],
      "metadata": {
        "id": "06bp7By_vuwa"
      }
    },
    {
      "cell_type": "markdown",
      "source": [
        "**Ответ:** 3"
      ],
      "metadata": {
        "id": "3wSjtx-Mv5oK"
      }
    },
    {
      "cell_type": "code",
      "source": [
        "# инициализируем счётчик строк\n",
        "cnt = 0\n",
        "\n",
        "# обходим в цикле все строки файла\n",
        "for s in open('9-2.csv'):\n",
        "  # разбиваем строку по разделителю ';' на шестиэлементный список\n",
        "  # преобразовываем к int каждый элемент списка\n",
        "  row = [int(item) for item in s.split(';')]\n",
        "\n",
        "  # пропускаем строки, в которых не 3 уникальных числа\n",
        "  if len(set(row)) != 3:\n",
        "    continue\n",
        "\n",
        "  #  поэлементно обходим строку\n",
        "  for item in row:\n",
        "    # если нашлось число, повторяющееся 3 раза\n",
        "    if row.count(item) == 3:\n",
        "      # если наибольшее число в строке больше суммы повторяющихся\n",
        "      if max(row) > 3 * item:\n",
        "        # увеличиваем счётчик\n",
        "        cnt += 1\n",
        "        break\n",
        "\n",
        "# печатаем ответ\n",
        "print(cnt)"
      ],
      "metadata": {
        "colab": {
          "base_uri": "https://localhost:8080/"
        },
        "id": "dAnF4_Ybvt37",
        "outputId": "d69be56b-3f16-4748-d7db-edac90cadafd"
      },
      "execution_count": null,
      "outputs": [
        {
          "output_type": "stream",
          "name": "stdout",
          "text": [
            "3\n"
          ]
        }
      ]
    },
    {
      "cell_type": "markdown",
      "source": [
        "#### **11. Количество информации**"
      ],
      "metadata": {
        "id": "B2g2FYbF0Zvh"
      }
    },
    {
      "cell_type": "markdown",
      "source": [
        "**11.1.**\n",
        "\n",
        "При регистрации в компьютерной системе каждому пользователю присваивается уникальный идентификатор, состоящий из 48 символов и содержащий только заглавные буквы латинского алфавита и символы из 1000-символьного специального алфавита. Каждый символ в идентификаторе кодируется с помощью минимально допустимого и одинакового количества бит. Для кодирования каждого идентификатора отведено одинаковое минимально возможное целое число байтов. Известно, что информация об идентификаторах всех зарегистрированных пользователей занимает не более 33 килобайт памяти. Определите максимальное количество пользователей, которые могли быть зарегистрированы в системе."
      ],
      "metadata": {
        "id": "Mafk3GvR04XJ"
      }
    },
    {
      "cell_type": "markdown",
      "source": [
        "**Ответ:** 512"
      ],
      "metadata": {
        "id": "VXtESw6s09Vw"
      }
    },
    {
      "cell_type": "code",
      "source": [
        "from math import ceil, log2\n",
        "\n",
        "# количество информации, содержащейся в 1 символе (в битах)\n",
        "# i = log2(N), где N - мощность алфавита (количество символов в алфавите)\n",
        "N = 1000 + 26\n",
        "i = ceil(log2(N)) # окгругляем вверх до целого числа бит\n",
        "\n",
        "# информационный объём одного идентификатора (в битах)\n",
        "# v = i * k, где к - количество символов в сообщении\n",
        "v = i * 48\n",
        "# информационный объём одного идентификатора (в байтах)\n",
        "v = ceil(v / 8) # окгругляем вверх до целого числа байтов\n",
        "\n",
        "# Суммарный информационный объём идентификаторов зарегистрированных пользователей (в байтах)\n",
        "V = 33 * 1024\n",
        "\n",
        "# Максимальное количество зарегистрированных пользователей\n",
        "cnt = int(V/v) # округляем вниз, чтобы памяти хватило\n",
        "print(cnt)"
      ],
      "metadata": {
        "colab": {
          "base_uri": "https://localhost:8080/"
        },
        "id": "bthDbFXO0guC",
        "outputId": "e8fd9e1b-49ab-45ec-cfbd-3ed528bc1167"
      },
      "execution_count": null,
      "outputs": [
        {
          "output_type": "stream",
          "name": "stdout",
          "text": [
            "512\n"
          ]
        }
      ]
    },
    {
      "cell_type": "markdown",
      "source": [
        "**11.2.**\n",
        "\n",
        "При регистрации в компьютерной системе каждому пользователю присваивается идентификатор, состоящий из 40 символов и содержащий только символы из 100-символьного специального алфавита. При этом используется посимвольное кодирование идентификатора, все символы кодируются одинаковым и минимально возможным количеством бит. Помимо идентификатора, в базе данных для каждого пользователя хранятся дополнительные сведения. Определите объём памяти (в битах), отведённый для хранения дополнительных сведений, если известно, что информация о 208 пользователях занимает в компьютерной системе 13 килобайт?"
      ],
      "metadata": {
        "id": "KsAP1m4o1LcO"
      }
    },
    {
      "cell_type": "markdown",
      "source": [
        "**Ответ:** 232"
      ],
      "metadata": {
        "id": "7OFJ7DKP136a"
      }
    },
    {
      "cell_type": "code",
      "source": [
        "from math import ceil, log2\n",
        "\n",
        "# Суммарный информационный объём данных о всех пользователях (в битах)\n",
        "V = 13 * 1024 * 8\n",
        "\n",
        "# информационный объём данных об одном пользователе (в битах)\n",
        "v = V / 208\n",
        "\n",
        "# количество информации, содержащейся в 1 символе идентификатора (в битах)\n",
        "i = ceil(log2(100))\n",
        "\n",
        "# информационный объём одного идентификатора (в битах)\n",
        "id = 40*i\n",
        "\n",
        "# информационный объём дополнительных сведений (в битах)\n",
        "add = v - id\n",
        "print(int(add)) # т.к. ответ должен быть целым числом без нулей после точки"
      ],
      "metadata": {
        "colab": {
          "base_uri": "https://localhost:8080/"
        },
        "id": "eHbHss4p1QpT",
        "outputId": "72989b00-d512-447f-9c0c-48de9c887af1"
      },
      "execution_count": null,
      "outputs": [
        {
          "output_type": "stream",
          "name": "stdout",
          "text": [
            "232\n"
          ]
        }
      ]
    },
    {
      "cell_type": "markdown",
      "source": [
        "#### **12. Строковые исполнители**"
      ],
      "metadata": {
        "id": "s3O2BXld2cE7"
      }
    },
    {
      "cell_type": "markdown",
      "source": [
        "**12.1.**\n",
        "\n",
        "Дана программа для исполнителя Редактор:\n",
        "<pre>\n",
        "НАЧАЛО\n",
        "ПОКА нашлось(>1) ИЛИ нашлось(>2) ИЛИ нашлось (>3)\n",
        "  ЕСЛИ нашлось(>1)\n",
        "    ТО заменить(>1,21>3)\n",
        "  КОНЕЦ ЕСЛИ\n",
        "  ЕСЛИ нашлось(>2)\n",
        "    ТО заменить(>2,13>)\n",
        "  КОНЕЦ ЕСЛИ\n",
        "  ЕСЛИ нашлось(>3)\n",
        "    ТО заменить(>3,1>2)\n",
        "  КОНЕЦ ЕСЛИ\n",
        "КОНЕЦ ПОКА\n",
        "КОНЕЦ\n",
        "</pre>\n",
        "Определите сумму числовых значений цифр строки, начинающейся с символа \">\", а затем содержащей 20 цифр 1, 10 двоек и 10 троек, расположенных в произвольном порядке."
      ],
      "metadata": {
        "id": "OQEk6P6q2H38"
      }
    },
    {
      "cell_type": "markdown",
      "source": [
        "**Ответ:** 250"
      ],
      "metadata": {
        "id": "su6Sf1Y12Tik"
      }
    },
    {
      "cell_type": "code",
      "source": [
        "# формуируем исходную строку (заметим, что результат не зависит от порядка цифр)\n",
        "s = '>' + 20 * '1' + 10 * '2' + 10 * '3'\n",
        "# переписываем заданный алгоритм\n",
        "while '>1' in s or '>2' in s or '>3' in s:\n",
        "  if '>1' in s:\n",
        "    s = s.replace('>1','21>3',1)\n",
        "  if '>2' in s:\n",
        "    s = s.replace('>2','13>',1)\n",
        "  if '>3' in s:\n",
        "    s = s.replace('>3','1>2',1)\n",
        "# избавляемся от нечислового символа '>' в строке\n",
        "s = s[:-1]\n",
        "# вычисляем сумму цифр строки с помощью генератора списка и функции sum\n",
        "print(sum([int(x) for x in s]))"
      ],
      "metadata": {
        "colab": {
          "base_uri": "https://localhost:8080/"
        },
        "id": "liGRr3U-2NsZ",
        "outputId": "531684d1-209a-45e2-cf53-3fc3b95c9aaa"
      },
      "execution_count": null,
      "outputs": [
        {
          "output_type": "stream",
          "name": "stdout",
          "text": [
            "250\n"
          ]
        }
      ]
    },
    {
      "cell_type": "markdown",
      "source": [
        "**12.2.**\n",
        "\n",
        "Дана программа для исполнителя Редактор:\n",
        "\n",
        "<pre>\n",
        "НАЧАЛО\n",
        "ПОКА нашлось(12) ИЛИ нашлось(23)\n",
        "  ЕСЛИ нашлось(12)\n",
        "    ТО заменить(12,11)\n",
        "  КОНЕЦ ЕСЛИ\n",
        "  ЕСЛИ нашлось(23)\n",
        "    ТО заменить(23,12)\n",
        "  КОНЕЦ ЕСЛИ\n",
        "КОНЕЦ ПОКА\n",
        "КОНЕЦ\n",
        "</pre>\n",
        "\n",
        "На вход приведённой программы поступает строка, состоящая из последовательно расположенных n единиц (n - натуральное двузначное число), 5 двоек и 8 троек. Определите сколько существует значений n, при которых длина получившейся строки будет являться простым числом."
      ],
      "metadata": {
        "id": "Umz7yHP62ptu"
      }
    },
    {
      "cell_type": "markdown",
      "source": [
        "**Ответ:** 21"
      ],
      "metadata": {
        "id": "8ShzzG8I23O2"
      }
    },
    {
      "cell_type": "code",
      "source": [
        "# функция проверки простоты двузначного числа\n",
        "def is_simple(x):\n",
        "  for d in range(2, x):\n",
        "    # если проверяемое число x делится без остатка хотя бы на 1 число, большее единицы\n",
        "    if x % d == 0:\n",
        "      # это число не простое\n",
        "      return False\n",
        "  # если же число x не делится ни на одно число в диапазоне [2, x-1] - оно простое\n",
        "  return True\n",
        "\n",
        "# создаём множество для хранения вариантов количества единиц в исходной строке\n",
        "answers = set()\n",
        "# перебираем все двузначные значения n\n",
        "for n in range(10,100):\n",
        "  # формируем исходную строку на каждой итерации цикла\n",
        "  s = n*'1' + 5*'2' + 8*'3'\n",
        "  # переписываем заданный алгоритм\n",
        "  while '12' in s or '23' in s:\n",
        "    if '12' in s:\n",
        "      s = s.replace('12', '11', 1)\n",
        "    if '23' in s:\n",
        "      s = s.replace('23', '12', 1)\n",
        "  # если длина получившейся строки - простое число\n",
        "  if is_simple(len(s)):\n",
        "    # добавляем число n (количество единиц в исходной строке) в множество ответов\n",
        "    answers.add(len(s))\n",
        "\n",
        "# выводим на экран количество подходящих значений количества единиц в исходной строке\n",
        "len(answers)"
      ],
      "metadata": {
        "colab": {
          "base_uri": "https://localhost:8080/"
        },
        "id": "wfGcyHTR2y6w",
        "outputId": "e150dd66-8a9d-4802-f378-a6f01204b07d"
      },
      "execution_count": null,
      "outputs": [
        {
          "output_type": "execute_result",
          "data": {
            "text/plain": [
              "21"
            ]
          },
          "metadata": {},
          "execution_count": 1
        }
      ]
    },
    {
      "cell_type": "markdown",
      "source": [
        "#### **14. Системы счисления**"
      ],
      "metadata": {
        "id": "r8WX9Q3b6mR_"
      }
    },
    {
      "cell_type": "markdown",
      "source": [
        "**14.1.**\n",
        "\n",
        "При каком наименьшем натуральном значении переменной x в выражении\n",
        "$$49^{25} –7x + 343$$\n",
        "сумма цифр в шестеричной записи числа равна 134?"
      ],
      "metadata": {
        "id": "vfzWz78E3xME"
      }
    },
    {
      "cell_type": "markdown",
      "source": [
        "**Ответ:** 344"
      ],
      "metadata": {
        "id": "obhaY2NE4Hq7"
      }
    },
    {
      "cell_type": "code",
      "source": [
        "for x in range(1,10000):\n",
        "  # вычисляем значение выражения в десятичной системе счисления для каждого x\n",
        "  n = 49**25 - 7*x + 343\n",
        "\n",
        "  # список для хранения цифр шестеричной записи числа\n",
        "  s = []\n",
        "  # получаем шестеричное представление числа в виде списка\n",
        "  while n > 0:\n",
        "    # записываем каждый следующий получаемый разряд в начало представления\n",
        "    s = [n % 6] + s\n",
        "    # избавляемся от добавленного разряда\n",
        "    n = n // 6\n",
        "\n",
        "  # если сумма цифр полученного числа равна 134\n",
        "  if sum(s) == 134:\n",
        "    # выводим x на экран\n",
        "    print(x)\n",
        "    break"
      ],
      "metadata": {
        "colab": {
          "base_uri": "https://localhost:8080/"
        },
        "id": "jzV7itti4E1i",
        "outputId": "9c00cf9c-7ca8-4362-c0e3-79949ade3fc3"
      },
      "execution_count": null,
      "outputs": [
        {
          "output_type": "stream",
          "name": "stdout",
          "text": [
            "344\n"
          ]
        }
      ]
    },
    {
      "cell_type": "markdown",
      "source": [
        "**14.2.**\n",
        "\n",
        "Операнды арифметического уравнения записаны в разных системах счисления.\n",
        "\n",
        "$$2x45_7 + x46_{15} =x107_8$$\n",
        "\n",
        "В записи чисел переменной x обозначена неизвестная цифра. Определите наименьшее значение x, при котором данное уравнение обращается в тождество. В ответе укажите значение правой части уравнения в десятичной системе счисления. Основание системы счисления в ответе указывать не нужно."
      ],
      "metadata": {
        "id": "3LQpC4Na60nH"
      }
    },
    {
      "cell_type": "markdown",
      "source": [
        "**Ответ:** 1607"
      ],
      "metadata": {
        "id": "K259chSz7IR-"
      }
    },
    {
      "cell_type": "code",
      "source": [
        "# перебираем все возможные цифры, которыми может оказаться x\n",
        "# x < 7, т.к. в уравнении есть операнд, записанный в семеричной системе счисления\n",
        "for x in range(0,7):\n",
        "  # вычисляем значение левой части уравнения для текущего x\n",
        "  t1 = (5 + 4*7 + x*7**2 + 2*7**3) + (6 + 4*15 + x*15**2)\n",
        "  # вычисляем значение правой части уравнения для текущего x\n",
        "  t2 = 7 + 8**2 + x*8**3\n",
        "  # если при текущем значении x левая и правая части уравнения равны\n",
        "  if t1 == t2:\n",
        "    # выводим на экран правую часть выражения\n",
        "    print(t2)\n",
        "    break"
      ],
      "metadata": {
        "colab": {
          "base_uri": "https://localhost:8080/"
        },
        "id": "yo3_j8417Fme",
        "outputId": "879c28d9-d632-4edc-a650-68fae611a664"
      },
      "execution_count": null,
      "outputs": [
        {
          "output_type": "stream",
          "name": "stdout",
          "text": [
            "1607\n"
          ]
        }
      ]
    },
    {
      "cell_type": "markdown",
      "source": [
        "#### **15. Логические выражения**"
      ],
      "metadata": {
        "id": "TRpmorqc8Drk"
      }
    },
    {
      "cell_type": "markdown",
      "source": [
        "**15.1.**\n",
        "\n",
        "Для какого наименьшего натурального числа А логическое выражение\n",
        "$$¬(ДЕЛ(x,42)→¬ДЕЛ(x,4))∧(2A<943−3x)$$\n",
        "тождественно ложно (то есть принимает значение 0 при любом натуральном значении переменной х)?"
      ],
      "metadata": {
        "id": "Ypk_5O6l9n3x"
      }
    },
    {
      "cell_type": "markdown",
      "source": [
        "**Ответ:** 346"
      ],
      "metadata": {
        "id": "Z1dDfYSo90lR"
      }
    },
    {
      "cell_type": "code",
      "source": [
        "# логическое выражение\n",
        "def f(x, a):\n",
        "  return not((x % 42 == 0) <= (x % 4 != 0)) and (2*a < 943 - 3*x)\n",
        "\n",
        "for a in range(1, 1000):\n",
        "  if all(not f(x,a) for x in range(1,5000)):\n",
        "    print(a)\n",
        "    break"
      ],
      "metadata": {
        "colab": {
          "base_uri": "https://localhost:8080/"
        },
        "id": "JdKYhpUd93vN",
        "outputId": "2592f3df-9746-4bbd-9b0b-17bef5d2f82e"
      },
      "execution_count": null,
      "outputs": [
        {
          "output_type": "stream",
          "name": "stdout",
          "text": [
            "346\n"
          ]
        }
      ]
    },
    {
      "cell_type": "markdown",
      "source": [
        "**15.2.**\n",
        "\n",
        "Для какого наибольшего целого неотрицательного A логическое выражение\n",
        "\n",
        "$$¬(y≥A)→(¬(y≤64−x)→(y+24≤x))$$\n",
        "\n",
        "тождественно истинно (т.е. принимает значение 1 при любых целых неотрицательных x и y)?"
      ],
      "metadata": {
        "id": "Sgsshxuz8Q7t"
      }
    },
    {
      "cell_type": "markdown",
      "source": [
        "**Ответ:** 21"
      ],
      "metadata": {
        "id": "taTkVkhe9xRa"
      }
    },
    {
      "cell_type": "code",
      "source": [
        "# логическое выражение\n",
        "def f(x,y,a):\n",
        "  return (y<a) <= ((y > 64-x) <= (y+24 <= x))\n",
        "\n",
        "# обходим цикл по убыванию, т.к. ищем наибольшее значение a\n",
        "for a in range(100,1,-1):\n",
        "  if all(f(x,y,a) for x in range(1000) for y in range(1000)):\n",
        "    print(a)\n",
        "    break"
      ],
      "metadata": {
        "colab": {
          "base_uri": "https://localhost:8080/"
        },
        "id": "9c2bqbhS8H3j",
        "outputId": "6e4334dd-bb25-44fe-a8fc-c5f48cd6b77c"
      },
      "execution_count": null,
      "outputs": [
        {
          "output_type": "stream",
          "name": "stdout",
          "text": [
            "21\n"
          ]
        }
      ]
    },
    {
      "cell_type": "markdown",
      "source": [
        "#### **16. Рекурсивные алгоритмы**"
      ],
      "metadata": {
        "id": "CtTyV8_N-RZk"
      }
    },
    {
      "cell_type": "markdown",
      "source": [
        "**16.1.**\n",
        "\n",
        "Последовательность чисел Падована задается следующим соотношением:\n",
        "\n",
        "$F(1)= F(2)=F(3)=1;$\n",
        "\n",
        "$F(n)=F(n−3)+F(n−2),n>3,$где $n$ − натуральное число.\n",
        "\n",
        "Чему равно сотое число в последовательности Падована?"
      ],
      "metadata": {
        "id": "Ug0l3QbN-1gG"
      }
    },
    {
      "cell_type": "markdown",
      "source": [
        "**Ответ:** 888855064897"
      ],
      "metadata": {
        "id": "Y6fJeTf4_QaP"
      }
    },
    {
      "cell_type": "code",
      "source": [
        "# импортируем декоратор lru_cache из модуля functools\n",
        "from functools import lru_cache\n",
        "\n",
        "# кэшируем значения рекурсивной функции с помощью декоратора\n",
        "@lru_cache(maxsize=None)\n",
        "def F(n):\n",
        "  if n <= 3:\n",
        "    return 1\n",
        "  if n > 3:\n",
        "    return F(n-3) + F(n-2)\n",
        "\n",
        "# находим сотое число в последовательности Падована\n",
        "print(F(100))"
      ],
      "metadata": {
        "colab": {
          "base_uri": "https://localhost:8080/"
        },
        "id": "4DrgeC3b-Tnj",
        "outputId": "eef72b97-cd45-4da4-bf60-09577baecb43"
      },
      "execution_count": null,
      "outputs": [
        {
          "output_type": "stream",
          "name": "stdout",
          "text": [
            "888855064897\n"
          ]
        }
      ]
    },
    {
      "cell_type": "markdown",
      "source": [
        "**16.2.**\n",
        "\n",
        "Алгоритм вычисления функции F(n), где n – целое неотрицательное число, задан следующими соотношениями:\n",
        "\n",
        "$F(0)=1;$\n",
        "\n",
        "$F(n)=n⋅F(n−1), n>0;$\n",
        "\n",
        "​\n",
        "Чему равна сумма цифр $F(1050)$?\n",
        "\n",
        "​"
      ],
      "metadata": {
        "id": "PkRD4zzt_vQc"
      }
    },
    {
      "cell_type": "markdown",
      "source": [
        "**Ответ:** 11250"
      ],
      "metadata": {
        "id": "ANsqEeAOAStQ"
      }
    },
    {
      "cell_type": "code",
      "source": [
        "import sys\n",
        "# увеличиваем глубину рекурсии до 2000\n",
        "sys.setrecursionlimit(2000)\n",
        "\n",
        "# создаём рекурсивную функцию для вычисления факториала\n",
        "def F(n):\n",
        "  # при n = 0\n",
        "  if n == 0:\n",
        "    # возвращаем 1\n",
        "    return 1\n",
        "  # в остальных случаях возвращаем F(n-1) * n\n",
        "  return n * F(n-1)\n",
        "\n",
        "# вычисляем 1050!\n",
        "n = F(1050)\n",
        "# инициализируем переменную для подсчёта суммы цифр в числе 1050!\n",
        "sm = 0\n",
        "# пока в числе n есть хотя бы одна значащая цифра\n",
        "while n > 0:\n",
        "  # прибавляем к сумме последнюю цифру (младший разряд) числа n\n",
        "  sm += n % 10\n",
        "  # удаляем из n младший разряд\n",
        "  n = n // 10\n",
        "# печатаем ответ\n",
        "print(sm)"
      ],
      "metadata": {
        "colab": {
          "base_uri": "https://localhost:8080/"
        },
        "id": "3MY30mbX_6gP",
        "outputId": "90065fb1-9af4-42a5-ad43-847023b2d5b5"
      },
      "execution_count": null,
      "outputs": [
        {
          "output_type": "stream",
          "name": "stdout",
          "text": [
            "11250\n"
          ]
        }
      ]
    },
    {
      "cell_type": "markdown",
      "source": [
        "#### **17. Анализ числовых последовательностей**"
      ],
      "metadata": {
        "id": "mQUOxcUzAmzj"
      }
    },
    {
      "cell_type": "markdown",
      "source": [
        "**17.1.**\n",
        "\n",
        "В [файле](https://kpolyakov.spb.ru/cms/files/ege-seq/17-354.txt) содержится последовательность целых чисел, по модулю не превышающих 10000. Определите количество пар элементов последовательности, в которых запись большего из двух элементов заканчивается цифрой 2, а сумма квадратов элементов пары меньше, чем квадрат наибольшего из всех элементов последовательности, запись которых заканчивается цифрой 9. В ответе запишите два числа: сначала количество найденных пар, затем максимальную сумму квадратов элементов этих пар. В данной задаче под парой подразумевается два идущих подряд элемента последовательности."
      ],
      "metadata": {
        "id": "T482Duj12uae"
      }
    },
    {
      "cell_type": "markdown",
      "source": [
        "**Ответ:** 405 99405385"
      ],
      "metadata": {
        "id": "D4YrTr_lOddd"
      }
    },
    {
      "cell_type": "code",
      "source": [
        "f = open('17-1.txt')\n",
        "nums = [int(x) for x in f]\n",
        "mx = max([x for x in nums if abs(x) % 10 == 9])\n",
        "\n",
        "sqrs = [a**2 + b**2 for a,b in zip(nums, nums[1:]) if a**2 + b**2 < mx**2 and abs(max(a,b)) % 10 == 2]\n",
        "print(len(sqrs), max(sqrs))"
      ],
      "metadata": {
        "id": "gmXeKkwk76Ee",
        "colab": {
          "base_uri": "https://localhost:8080/"
        },
        "outputId": "06fbfd49-a5cf-4865-9582-c0b469c470f8"
      },
      "execution_count": null,
      "outputs": [
        {
          "output_type": "stream",
          "name": "stdout",
          "text": [
            "405 99405385\n"
          ]
        }
      ]
    },
    {
      "cell_type": "code",
      "source": [
        "f = open('17-354.txt')\n",
        "nums = [int(x) for x in f]\n",
        "mx = max([x for x in nums if str(x)[-1] == '9'])\n",
        "\n",
        "sqrs = [a**2 + b**2 for a,b in zip(nums, nums[1:]) if a**2 + b**2 < mx**2 and str(max(a,b))[-1] == '2']\n",
        "print(len(sqrs), max(sqrs))"
      ],
      "metadata": {
        "colab": {
          "base_uri": "https://localhost:8080/"
        },
        "id": "yXwwabGI2xrE",
        "outputId": "be23af39-ce79-4700-e6de-5c715ff39030"
      },
      "execution_count": null,
      "outputs": [
        {
          "output_type": "stream",
          "name": "stdout",
          "text": [
            "405 99405385\n"
          ]
        }
      ]
    },
    {
      "cell_type": "markdown",
      "source": [
        "**17.2.** В [файле](https://stepik.org/media/attachments/course/126893/17-ex3.txt) содержится последовательность целых чисел. Элементы последовательности могут принимать целые значения от $0$ до $10$ $000$. Определите количество пар элементов последовательности, в которых хотя бы одно число кратно минимальному числу в последовательности, кратному $17$. В ответе запишите количество найденных пар, затем минимальное абсолютное значение разности элементов таких пар. В данной задаче под парой подразумевается два идущих подряд элемента последовательности."
      ],
      "metadata": {
        "id": "GIeZhwcemH_H"
      }
    },
    {
      "cell_type": "markdown",
      "source": [
        "**Ответ:** 24 115"
      ],
      "metadata": {
        "id": "lk-W6S6EBzKo"
      }
    },
    {
      "cell_type": "code",
      "source": [
        "# создаём поток для чтения файла\n",
        "f = open('17-2.txt')\n",
        "# считываем числовую последовательность из файла в список с помощью генератора списка\n",
        "nums = [int(x) for x in f]\n",
        "\n",
        "# находим минимальный элемент последовательности кратный 17 (минимум)\n",
        "min17 = min([x for x in nums if x % 17 == 0])\n",
        "\n",
        "# инициализируем счётчик\n",
        "cnt = 0\n",
        "# инициализируем минимальный модуль разности бесконечно большим числом\n",
        "minsub = float('inf')\n",
        "\n",
        "# обходим список, рассматривая на каждой итерации пары подряд идущих элементов\n",
        "for i in range(len(nums)-1):\n",
        "  if nums[i] % min17 == 0 or nums[i+1] % min17 == 0:\n",
        "    # увеличиваем счётчик\n",
        "    cnt += 1\n",
        "    # если модуль разности пары меньше предыдущего значения минимального модуля\n",
        "    if abs(nums[i] - nums[i+1]) < minsub:\n",
        "      # присваиваем минимальному модулю значение текущего модуля разности пары\n",
        "      minsub = abs(nums[i] - nums[i+1])\n",
        "\n",
        "# печатаем ответ\n",
        "print(cnt, minsub)\n"
      ],
      "metadata": {
        "colab": {
          "base_uri": "https://localhost:8080/"
        },
        "outputId": "73a4f591-15a6-4318-98b6-0633cc58fc8e",
        "id": "tzqdYy7wmH_I"
      },
      "execution_count": null,
      "outputs": [
        {
          "output_type": "stream",
          "name": "stdout",
          "text": [
            "24 115\n"
          ]
        }
      ]
    },
    {
      "cell_type": "markdown",
      "source": [
        "#### **19-21. Теория игр**"
      ],
      "metadata": {
        "id": "wRmiGRH8Bs3D"
      }
    },
    {
      "cell_type": "markdown",
      "source": [
        "**19-21.1.**\n",
        "\n",
        "Два игрока, Петя и Вова, играют в следующую игру. Перед игроками лежат две кучи камней. Игроки ходят по очереди, первый ход делает Петя. За один ход игрок может убрать из одной из куч один камень или уменьшить количество камней в куче в два раза (если количество камней в куче нечётно, остаётся на 1 камень меньше, чем убирается). Предположим, например, что в первой куче было 5, а во второй 8 камней. За один ход из позиции (5, 8) можно получить любую из четырёх позиций: (4, 8), (5, 7), (2, 8), (5, 4). Игра завершается в тот момент, когда суммарное количество камней в кучах становится не более 30. Победителем считается игрок, сделавший последний ход, то есть первым получивший позицию, в которой в кучах будет 30 или меньше камней. В начальный момент в первой куче было 20 камней, во второй куче – S камней, S > 10.\n",
        "\n",
        "Ответьте на следующие вопросы:\n",
        "\n",
        "**Вопрос 1.** Найдите значение S, при котором Вова выигрывает своим первым ходом при любой игре Пети.\n",
        "\n",
        "**Вопрос 2.** Найдите минимальное и максимальное значение S, при котором у Пети есть выигрышная стратегия, причём одновременно выполняются два условия:\n",
        "\n",
        "− Петя не может выиграть за один ход;\n",
        "\n",
        "− Петя может выиграть своим вторым ходом независимо от того, как будет ходить Вова.\n",
        "\n",
        "Найденные значения запишите в ответе через пробел в порядке возрастания.\n",
        "\n",
        "**Вопрос 3.** Найдите значение S, при котором одновременно выполняются два условия:\n",
        "\n",
        "– у Вовы есть выигрышная стратегия, позволяющая ему выиграть первым или вторым ходом при любой игре Пети;\n",
        "\n",
        "– у Вовы нет стратегии, которая позволит ему гарантированно выиграть первым ходом."
      ],
      "metadata": {
        "id": "M6v5j_XcCa79"
      }
    },
    {
      "cell_type": "markdown",
      "source": [
        "**Ответ:**\n",
        "\n",
        "22\n",
        "\n",
        "23 45\n",
        "\n",
        "25"
      ],
      "metadata": {
        "id": "aGN_i1WiDLZ_"
      }
    },
    {
      "cell_type": "code",
      "source": [
        "# кэшируем рекурсивную функцию\n",
        "from functools import lru_cache\n",
        "@lru_cache(maxsize=None)\n",
        "def f(a, b):\n",
        "\n",
        "  # условие завершения игры\n",
        "  if a + b <= 30:\n",
        "    return 0\n",
        "\n",
        "  # список оценок позиций, в которые можно сходить из текущей позиции\n",
        "  moves = []\n",
        "  # если в первой куче есть хотя бы 1 камень (страховка от ухода в минус)\n",
        "  if a > 0:\n",
        "    # можно убрать этот камень из первой кучи\n",
        "    moves += [f(a-1, b)]\n",
        "  # если во второй куче есть хотя бы 1 камень (страховка от ухода в минус)\n",
        "  if b > 0:\n",
        "    # можно убрать этот камень из второй кучи\n",
        "    moves += [f(a, b-1)]\n",
        "\n",
        "  # если в первой куче есть хотя бы 1 камень (страховка от зацикливания в нуле)\n",
        "  if a > 0:\n",
        "    # если текущее количество камней в первой куче чётно\n",
        "    if a % 2 == 0:\n",
        "      # можно убрать половину камней из первой кучи\n",
        "      moves += [f(a//2, b)]\n",
        "    # если текущее количество камней в первой куче нечётно\n",
        "    else:\n",
        "      # можно убрать на 1 камень  меньше, чем останется в первой куче\n",
        "      moves += [ f((a//2), b)]\n",
        "  # если во второй куче есть хотя бы 1 камень (страховка от зацикливания в нуле)\n",
        "  if b > 0:\n",
        "    # если текущее количество камней во второй куче чётно\n",
        "    if b % 2 == 0:\n",
        "      # можно убрать половину камней из второй кучи\n",
        "      moves += [f(a, b//2)]\n",
        "    # если текущее количество камней во второй куче нечётно\n",
        "    else:\n",
        "      # можно убрать на 1 камень  меньше, чем останется во второй куче\n",
        "      moves += [f(a, (b//2))]\n",
        "\n",
        "  # список проигранных для оппонента позиций, в которые можно попасть из текущей позиции\n",
        "  loses = [x for x in moves if x <= 0]\n",
        "  # если есть возможность сходить хотя бы в 1 проигрышную позицию\n",
        "  if loses:\n",
        "    # текущая позиция - выигрышная за -max(loses) + 1 ходов\n",
        "    return 1 - max(loses)\n",
        "  # если же все ходы из текущей позиции ведут в выигрышные позиции\n",
        "  else:\n",
        "    # текущая позиция - проигрышная за -max(moves) ходов\n",
        "    return - max(moves)\n",
        "\n",
        "# Вопрос 1\n",
        "for s in range(11,100):\n",
        "  # f(20, s) = -1 - позиции, в которых Вова выигрывает своим первым ходом\n",
        "  if f(20, s) == -1:\n",
        "    print(s)\n",
        "\n",
        "# Вопрос 2\n",
        "# заводим список для хранения искомого количества камней во второй куче\n",
        "wins = []\n",
        "for s in range(11,100):\n",
        "  # f(20, s) = 2 - позиции, в которых Петя выигрывает своим вторым ходом\n",
        "  if f(20, s) == 2:\n",
        "    # добавляем найденные значения s в список\n",
        "    wins += [s]\n",
        "# выводим минимальное и максимальное найденные значения s\n",
        "print(min(wins), max(wins))\n",
        "\n",
        "# Вопрос 3\n",
        "for s in range(11,100):\n",
        "  # f(20, s) = -2 - позиции, в которых Вова выигрывает своим вторым ходом\n",
        "  if f(20, s) == -2:\n",
        "    print(s)"
      ],
      "metadata": {
        "colab": {
          "base_uri": "https://localhost:8080/"
        },
        "id": "-G1Sz-SNB9iR",
        "outputId": "f3d0a22c-ff59-458d-8de9-a8a1bb918768"
      },
      "execution_count": null,
      "outputs": [
        {
          "output_type": "stream",
          "name": "stdout",
          "text": [
            "22\n",
            "23 45\n",
            "25\n"
          ]
        }
      ]
    },
    {
      "cell_type": "markdown",
      "source": [
        "**19-21.2. (Запрет повторения хода).**\n",
        "\n",
        "Два игрока, Петя и Ваня, играют в следующую игру. Перед игроками лежит куча камней. Игроки ходят по очереди, первый ход делает Петя. За один ход игрок может добавить в кучу один камень, добавить три камня или увеличить количество камней в куче в два раза. При этом нельзя повторять ход, который только что сделал второй игрок. Например, если в начале игры в куче 4 камня, Петя может первым ходом получить кучу из 5, 7 или 8 камней. Если Петя добавил 1 камень и получил кучу из 5 камней, то следующим ходом Ваня может либо добавить 3 камня (и получить 8 камней), либо удвоить количество камней в куче (их станет 10). Получить 6 камней Ваня не может, так как для этого нужно добавить 1 камень, а такой ход только что сделал Петя.\n",
        "Чтобы делать ходы, у каждого игрока есть неограниченное количество камней.\n",
        "Игра завершается, когда количество камней в куче становится не менее 144. Победителем считается игрок, сделавший последний ход, то есть первым получивший кучу, в которой будет 144 или больше камней. В начальный момент в куче было S камней, 1 ≤ S ≤ 143.\n",
        "\n",
        "Ответьте на следующие вопросы:\n",
        "\n",
        "  ***Вопрос 1.*** Укажите такое значение S, при котором Петя не может выиграть за один ход, но при любом ходе Пети Ваня может выиграть своим первым ходом.\n",
        "\n",
        "  ***Вопрос 2.*** Определите минимальное и максимальное значения S, при которых у Пети есть выигрышная стратегия, причём одновременно выполняются два условия:\n",
        "\n",
        "− Петя не может выиграть за один ход;\n",
        "\n",
        "− Петя может выиграть своим вторым ходом независимо от того, как будет ходить Ваня.\n",
        "\n",
        "Найденные значения запишите в ответе через пробел в порядке возрастания.\n",
        "\n",
        "  ***Вопрос 3.*** Найдите значение S, при котором одновременно выполняются два условия:\n",
        "\n",
        "– у Вани есть выигрышная стратегия, позволяющая ему выиграть первым или вторым ходом при любой игре Пети;\n",
        "\n",
        "– у Вани нет стратегии, которая позволит ему гарантированно выиграть первым ходом."
      ],
      "metadata": {
        "id": "KqG06UlZAa8v"
      }
    },
    {
      "cell_type": "markdown",
      "source": [
        "**Ответ:**\n",
        "\n",
        "1) 71\n",
        "\n",
        "2) 36 70\n",
        "\n",
        "3) 35"
      ],
      "metadata": {
        "id": "PLZNE1EUAa8v"
      }
    },
    {
      "cell_type": "code",
      "source": [
        "# кэшируем рекурсивную функцию\n",
        "from functools import lru_cache\n",
        "@lru_cache(maxsize=None)\n",
        "# функция принимает дополнительный параметр type - id хода, сделанного на предыдущем шаге\n",
        "def f(type, s):\n",
        "  # условие завершения игры\n",
        "  if s > 143:\n",
        "    return 0\n",
        "  # список оценок позиций, в которые можно сходить из текущей позиции\n",
        "  moves = []\n",
        "  # если текущий ход первый в игре\n",
        "  if type == '0':\n",
        "    # допустимы все возможные действия\n",
        "    moves = [f('1', s+1), f('2', s*2), f('3', s+3)]\n",
        "  # если на предыдущем ходе в кучу добавили 1 камень\n",
        "  if type == '1':\n",
        "    # допустимы все действия, кроме добавления в кучу одного камня\n",
        "    moves += [f('2', s*2), f('3', s+3)]\n",
        "  # если на предыдущем ходе в кучу добавили 3 камня\n",
        "  if type == '3':\n",
        "    # допустимы все действия, кроме добавления в кучу трёх камней\n",
        "    moves += [f('1', s+1), f('2', s*2)]\n",
        "  # если на предыдущем ходе количество камней в куче удволили\n",
        "  if type == '2':\n",
        "    # допустимы все действия, кроме удвоения количества камней в куче\n",
        "    moves += [f('1', s+1), f('3', s+3)]\n",
        "\n",
        "  # список проигранных для оппонента позиций, в которые можно попасть из текущей позиции\n",
        "  loses = [x for x in moves if x <= 0]\n",
        "  # если есть возможность сходить хотя бы в 1 проигрышную позицию\n",
        "  if loses:\n",
        "    # текущая позиция - выигрышная за -max(loses) + 1 ходов\n",
        "    return 1 - max(loses)\n",
        "  # если же все ходы из текущей позиции ведут в выигрышные позиции\n",
        "  else:\n",
        "    # текущая позиция - проигрышная за -max(moves) ходов\n",
        "    return - max(moves)\n",
        "\n",
        "# Вопрос 1\n",
        "for s in range(1,144):\n",
        "  # f('0', s) = -1 - позиции, в которых Ваня выигрывает своим первым ходом\n",
        "  if f('0', s) == -1:\n",
        "    print(s)\n",
        "\n",
        "# Вопрос 2\n",
        "# заводим список для хранения искомых позиций\n",
        "wins = []\n",
        "for s in range(1,144):\n",
        "  # f(s) = 2 - позиции, в которых Петя выигрывает своим вторым ходом\n",
        "  if f('0', s) == 2:\n",
        "    # добавляем найденные значения s в список\n",
        "    wins += [s]\n",
        "# выводим минимальное и максимальное из найденных значений s\n",
        "print(min(wins), max(wins))\n",
        "\n",
        "# Вопрос 3\n",
        "wins = []\n",
        "for s in range(1,144):\n",
        "  # f(s) = 2 - позиции, в которых Ваня выигрывает своим вторым ходом\n",
        "  if f('0', s) == -2:\n",
        "    print(s)"
      ],
      "metadata": {
        "colab": {
          "base_uri": "https://localhost:8080/"
        },
        "outputId": "43c9fa87-dcf7-4371-b0f5-d98d66455f90",
        "id": "-KNen3JwAa8w"
      },
      "execution_count": null,
      "outputs": [
        {
          "output_type": "stream",
          "name": "stdout",
          "text": [
            "71\n",
            "36 70\n",
            "35\n"
          ]
        }
      ]
    },
    {
      "cell_type": "markdown",
      "source": [
        "#### **23. Деревья вариантов**"
      ],
      "metadata": {
        "id": "sGGgZngPESdI"
      }
    },
    {
      "cell_type": "markdown",
      "source": [
        "**23.1.** Исполнитель преобразовывает число на экране. У исполнителя есть две команды, которым присвоены номера:\n",
        "\n",
        "1. Прибавить 2\n",
        "2. Умножить на 3\n",
        "\n",
        "Программа для исполнителя – это последовательность команд. Траектория вычислений — это последовательность результатов выполнения всех команд программы. Например, для программы «212» при исходном числе 1 траектория будет состоять из чисел 1\\*3=3, 3+2=5, 5\\*3=15. Сколько существует программ, для которых при исходном числе 1 результатом является число 63 и при этом траектория вычислений содержит число 25 и не содержит числа 6?"
      ],
      "metadata": {
        "id": "ce3VVTj7EXKq"
      }
    },
    {
      "cell_type": "markdown",
      "source": [
        "**Ответ:** 8"
      ],
      "metadata": {
        "id": "l8GPXvBCEaxV"
      }
    },
    {
      "cell_type": "code",
      "source": [
        "# рекурсивная функция обхода дерева вычислений\n",
        "# cur - текущее значение на экране\n",
        "# fin - число, которое необходимо достичь\n",
        "def f(cur, fin):\n",
        "  # исключаем траектории, не попадающие в пункт назначения или проходящие через 6\n",
        "  if cur > fin or cur == 6: return 0\n",
        "  # если текущее число равно числу назначения - одна из траекторий найдена (т.к. мы попали в fin)\n",
        "  if cur == fin: return 1\n",
        "  # если текущее число меньше числа назначения - продолжаем рекурсивный подсчёт суммы путей\n",
        "  return f(cur+2, fin) + f(cur*3, fin)\n",
        "\n",
        "# строим мост через 25\n",
        "f(1, 25) * f(25, 63)"
      ],
      "metadata": {
        "colab": {
          "base_uri": "https://localhost:8080/"
        },
        "id": "40f4u93UEXRr",
        "outputId": "07ee6797-4c30-4707-fc88-fa260ad9bc32"
      },
      "execution_count": null,
      "outputs": [
        {
          "output_type": "execute_result",
          "data": {
            "text/plain": [
              "8"
            ]
          },
          "metadata": {},
          "execution_count": 27
        }
      ]
    },
    {
      "cell_type": "markdown",
      "source": [
        "**23.2.** Исполнитель преобразовывает число, записанное на экране. У него есть три команды, которым присвоены номера:\n",
        "\n",
        "1. Прибавить 1, если число нечётное\n",
        "2. Умножить на 2, если число чётное\n",
        "3. Вычесть 3\n",
        "\n",
        "Первая команда увеличивает число на экране на 1 и может использоваться только в том случае, если текущее число на экране нечётное. Вторая команда увеличивает число в 2 раза и доступна только для чётных текущих чисел. Третья команда уменьшает число на 3 и применима к любым числам. Программой для исполнителя называется последовательность команд. Сколько существует программ длиной не более 15 команд, которые преобразовывают число 5 в число 44?"
      ],
      "metadata": {
        "id": "Vjrrc6GzSD-V"
      }
    },
    {
      "cell_type": "markdown",
      "source": [
        "**Ответ:** 150"
      ],
      "metadata": {
        "id": "_dskGZCEFBds"
      }
    },
    {
      "cell_type": "code",
      "source": [
        "# рекурсивная функция обхода дерева вычислений\n",
        "# cur - текущее число на экране\n",
        "# fin - число, которое необходимо получить\n",
        "# step - номер текущей команды в программе (уровень рекурсии)\n",
        "def f(cur, fin, step):\n",
        "  # если число fin получено не более чем за 8 команд - одна из программ найдена\n",
        "  if step <= 15 and cur == fin: return 1\n",
        "  # если за 15 команд не удалось получить fin - обрываем эту ветвь рекурсии\n",
        "  if step >= 15: return 0\n",
        "  # если выполнено менее пятнадцати команд - продолжаем рекурсивный обход\n",
        "  if cur % 2 != 0:\n",
        "    # для нечётных чисел доступны операции сложения и вычитания\n",
        "    return f(cur+1,fin,step+1) + f(cur-3,fin,step+1)\n",
        "  if cur % 2 == 0:\n",
        "    # для чётных чисел доступны операции умножения и вычитания\n",
        "    return f(cur*2,fin,step+1) + f(cur-3,fin,step+1)\n",
        "\n",
        "# печатаем ответ\n",
        "f(5,44,0)"
      ],
      "metadata": {
        "colab": {
          "base_uri": "https://localhost:8080/"
        },
        "outputId": "f023915c-ddf2-4164-d729-5aecbf530f33",
        "id": "xitBqklwSD-u"
      },
      "execution_count": null,
      "outputs": [
        {
          "output_type": "execute_result",
          "data": {
            "text/plain": [
              "150"
            ]
          },
          "metadata": {},
          "execution_count": 51
        }
      ]
    },
    {
      "cell_type": "markdown",
      "source": [
        "#### **24. Обработка символьных строк**"
      ],
      "metadata": {
        "id": "uQQjTjSgFEL4"
      }
    },
    {
      "cell_type": "markdown",
      "source": [
        "**24.1.**\n",
        "\n",
        "[Текстовый файл](https://stepik.org/media/attachments/course/126893/24-3.txt) состоит не более чем из $10^6$ символов и содержит только заглавные буквы латинского алфавита (A..Z). Определите максимальное количество идущих подряд символов, среди которых нет сочетания букв GO."
      ],
      "metadata": {
        "id": "WDXcQW9yMckp"
      }
    },
    {
      "cell_type": "markdown",
      "source": [
        "***Ответ:*** 5462"
      ],
      "metadata": {
        "id": "6QPmXbgPRvNi"
      }
    },
    {
      "cell_type": "code",
      "source": [
        "# считываем текстовый файл в строковую переменную\n",
        "s = open('24-1.txt').readline()\n",
        "\n",
        "# т.к. необходимо найти максимальную подстроку, не содержащую сочетания GO\n",
        "# нужно получить список подстрок исходной строки, полученных методом разбиения\n",
        "# каждого найденного сочетания GO по середине (между символами G и O).\n",
        "# А затем найти максимальную длину подстроки в этом списке.\n",
        "while 'GO' in s:\n",
        "  # меняем каждое сочетания 'GO' в строке на 'G O'\n",
        "  s = s.replace('GO', 'G O')\n",
        "# находим максимальную из длин полученных подстрок\n",
        "max(map(len,s.split()))"
      ],
      "metadata": {
        "colab": {
          "base_uri": "https://localhost:8080/"
        },
        "outputId": "6dafd5e6-0ff1-42c0-9695-6e501a00a12b",
        "id": "L1gsAWoPRvNi"
      },
      "execution_count": null,
      "outputs": [
        {
          "output_type": "execute_result",
          "data": {
            "text/plain": [
              "5462"
            ]
          },
          "metadata": {},
          "execution_count": 7
        }
      ]
    },
    {
      "cell_type": "markdown",
      "source": [
        "**24.2.**\n",
        "\n",
        "[Текстовый файл](https://stepik.org/media/attachments/course/126893/24-10.txt) содержит строку из символов A, B, C и цифр 1, 2, 3, всего не более чем $10^6$ символов. Определите максимальное количество идущих подряд троек символов вида «буква + буква + цифра» (например: «CA2»)."
      ],
      "metadata": {
        "id": "2yJz5OAOG4iH"
      }
    },
    {
      "cell_type": "markdown",
      "source": [
        "**Ответ:** 6"
      ],
      "metadata": {
        "id": "sepSGvLbG4iQ"
      }
    },
    {
      "cell_type": "code",
      "source": [
        "# считываем текстовый файл в строковую переменную\n",
        "s = open('24-2.txt').readline()\n",
        "\n",
        "# максимальное количество идущих подряд троек вида: буква-буква-цифра\n",
        "mx = 0\n",
        "\n",
        "# т.к. рассматриваются тройки - существует 3 варианта разбиения строки на тройки,\n",
        "# начиная с нулевого, первого и второго элемента. Рассмотрим все 3 варианта\n",
        "for shift in range (3):\n",
        "  # количество идущих подряд троек вида: буква-буква-цифра\n",
        "  k = 0\n",
        "  # обходим строку по тройкам символов, начиная с заданного отступа shift\n",
        "  for i in range(shift,len(s)-2, 3):\n",
        "    # если текущая тройка символов: буква-буква-цифра\n",
        "    if (s[i] in 'ABC') and (s[i+1] in 'ABC') and (s[i+2] in '123'):\n",
        "      # увеличиваем количество идущих подряд троек на 1\n",
        "      k += 1\n",
        "      # обновляем максимум\n",
        "      mx = max(k, mx)\n",
        "    else:\n",
        "      # сбрасываем количество идущих подряд троек до 0\n",
        "      k = 0\n",
        "\n",
        "# печатаем максимальную длину искомой последовательности\n",
        "print(mx)"
      ],
      "metadata": {
        "colab": {
          "base_uri": "https://localhost:8080/"
        },
        "outputId": "feebe0b2-f9bc-4d4e-ee27-a27695a30ee3",
        "id": "-5KqDKJkG4iR"
      },
      "execution_count": null,
      "outputs": [
        {
          "output_type": "stream",
          "name": "stdout",
          "text": [
            "6\n"
          ]
        }
      ]
    },
    {
      "cell_type": "markdown",
      "source": [
        "#### **25. Обработка целочисленной информации**"
      ],
      "metadata": {
        "id": "xLOs3NccIbFh"
      }
    },
    {
      "cell_type": "markdown",
      "source": [
        "**25.1. Проверка числа на соответствие маске и простоту**\n",
        "\n",
        "Назовём маской числа последовательность цифр, в которой также могут встречаться следующие символы:\n",
        "\n",
        "*   символ «?» означает ровно одну произвольную цифру;\n",
        "*   символ «*» означает любую последовательность цифр произвольной длины (в том числе и пустую последовательность).\n",
        "\n",
        "Например, маске 123*4?5 соответствуют числа 123405 и 12300495.\n",
        "\n",
        "Найдите восемь наименьших простых чисел, превышающих $10^6$ и соответствующих маске 18\\*1?2\\*. В первом столбце ответа укажите найденные числа в порядке возрастания, а во втором — сумму цифр этих чисел."
      ],
      "metadata": {
        "id": "NQ2tj-p3KQe_"
      }
    },
    {
      "cell_type": "markdown",
      "source": [
        "**Ответ:**\n",
        "\n",
        "1801021 13\n",
        "\n",
        "1801223 17\n",
        "\n",
        "1801229 23\n",
        "\n",
        "1801529 26\n",
        "\n",
        "1801727 26\n",
        "\n",
        "1801823 23\n",
        "\n",
        "1801927 28\n",
        "\n",
        "1810213 16"
      ],
      "metadata": {
        "id": "QULRA-yRwWfA"
      }
    },
    {
      "cell_type": "code",
      "source": [
        "from fnmatch import fnmatch\n",
        "\n",
        "# функция проверки простоты числа n\n",
        "def simple(n):\n",
        "  # обходим все числа до следующего целого после корня из числа n\n",
        "  for k in range(2, int(n**0.5)+1):\n",
        "    # если n делится на текущее число\n",
        "    if n % k == 0:\n",
        "      # n - составное число\n",
        "      return False\n",
        "  # если же ни одного делителя не нашлось - n - простое число\n",
        "  return True\n",
        "\n",
        "# счётчик найденных чисел\n",
        "cnt = 0\n",
        "# обходим все числа, большие 1 000 000 в порядке возрастания\n",
        "for n in range(10**6+1, 10**10):\n",
        "  # если текущее число n соответствует заданной маске\n",
        "  if fnmatch(str(n), '18*1?2*'):\n",
        "    # и n - просто число\n",
        "    if simple(n):\n",
        "      # печатаем число n и сумму его цифр\n",
        "      print(n, sum(map(int,str(n))))\n",
        "      # увеличиваем счётчик найденных чисел на 1\n",
        "      cnt += 1\n",
        "    # если напечатано уже 8 чисел\n",
        "    if cnt == 8:\n",
        "      # выходим из цикла\n",
        "      break"
      ],
      "metadata": {
        "colab": {
          "base_uri": "https://localhost:8080/"
        },
        "id": "gGyj6AoKKQmQ",
        "outputId": "543232c2-7491-4a09-ffe2-0bab175199e8"
      },
      "execution_count": null,
      "outputs": [
        {
          "output_type": "stream",
          "name": "stdout",
          "text": [
            "1801021 13\n",
            "1801223 17\n",
            "1801229 23\n",
            "1801529 26\n",
            "1801727 26\n",
            "1801823 23\n",
            "1801927 28\n",
            "1810213 16\n"
          ]
        }
      ]
    },
    {
      "cell_type": "markdown",
      "source": [
        "**25.2. Проверка суммы всех натуральных делителей числа на делимость**\n",
        "\n",
        "Пусть ***S*** — сумма всех натуральных делителей целого числа, не считая самого числа и единицы.\n",
        "\n",
        "Напишите программу, которая найдёт 4 наименьших числа, больших 5 500 000, для которых значение ***S*** кратно 123. В ответе необходимо в порядке возрастания вывести 4 этих числа и соответствующие им результаты целочисленного деления ***S*** на 123."
      ],
      "metadata": {
        "id": "z8mfgbYbKREc"
      }
    },
    {
      "cell_type": "code",
      "source": [
        "# функция, возвращающая сумму нетривиальных делителей числа n\n",
        "def S(n):\n",
        "  # множество делителей числа n\n",
        "  divs = set()\n",
        "  # у каждого делителя числа n, меньшего, чем корень из n есть парный делитель, больший корня из n\n",
        "  # будем обходить все числа до корня, и при нахождении делителя k, добавлять его парный делитель n//k\n",
        "  # обходим все числа до следующего целого после корня из числа n\n",
        "  for k in range(2,int(n**0.5)+1):\n",
        "    # если текущее число k - делитель числа n\n",
        "    if n % k == 0:\n",
        "      # добавляем число k d список делителей числа n\n",
        "      divs.add(k)\n",
        "      # добавляем обратный ему делитель n//k в список делителей\n",
        "      # если k - корень из n (k = n//k) число уже есть в множестве и добавления не произойдёт\n",
        "      divs.add(n//k)\n",
        "  # возвращаем сумму всех делителей числа n\n",
        "  return(sum(divs))\n",
        "\n",
        "# счётчик найденных чисел\n",
        "cnt = 0\n",
        "# обходим все числа, большие чем 5 500 000\n",
        "for n in range(5_500_000+1, 10**10):\n",
        "  # если сумма нетривиальных делителей числа кратна 123 и не равна нулю\n",
        "  if S(n) % 123 == 0 and S(n) != 0:\n",
        "    # выводим на экран это число и результат деления суммы делителей этого числа на 123\n",
        "    print(n, S(n) // 123)\n",
        "    # увеличиваем счётчик найденных чисел на 1\n",
        "    cnt += 1\n",
        "  # если найдено уже 4 числа\n",
        "  if cnt == 4:\n",
        "    # выходим из цикла\n",
        "    break"
      ],
      "metadata": {
        "colab": {
          "base_uri": "https://localhost:8080/"
        },
        "id": "zXbayTkNKRKk",
        "outputId": "c4caea28-4317-4c04-8841-79215002d531"
      },
      "execution_count": null,
      "outputs": [
        {
          "output_type": "stream",
          "name": "stdout",
          "text": [
            "5500019 6388\n",
            "5500144 51709\n",
            "5500388 36353\n",
            "5500641 15066\n"
          ]
        }
      ]
    }
  ]
}