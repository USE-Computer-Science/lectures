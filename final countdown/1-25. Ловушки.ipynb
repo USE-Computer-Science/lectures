{
  "nbformat": 4,
  "nbformat_minor": 0,
  "metadata": {
    "colab": {
      "provenance": [],
      "collapsed_sections": [
        "CsKxe_-HXLEq",
        "gNta11LTkssV",
        "5l7YmCNVaFaZ"
      ],
      "authorship_tag": "ABX9TyO/EjtF0VYPMaWRtHGviI32",
      "include_colab_link": true
    },
    "kernelspec": {
      "name": "python3",
      "display_name": "Python 3"
    },
    "language_info": {
      "name": "python"
    }
  },
  "cells": [
    {
      "cell_type": "markdown",
      "metadata": {
        "id": "view-in-github",
        "colab_type": "text"
      },
      "source": [
        "<a href=\"https://colab.research.google.com/github/USE-Computer-Science/lectures/blob/main/final%20countdown/21-25.%20%D0%9B%D0%BE%D0%B2%D1%83%D1%88%D0%BA%D0%B8.ipynb\" target=\"_parent\"><img src=\"https://colab.research.google.com/assets/colab-badge.svg\" alt=\"Open In Colab\"/></a>"
      ]
    },
    {
      "cell_type": "markdown",
      "source": [
        "#### **2. Таблицы истинности**"
      ],
      "metadata": {
        "id": "mM2zr7hPO3wu"
      }
    },
    {
      "cell_type": "markdown",
      "source": [
        "**2.1.**\n",
        "\n",
        "Логическая функция F задаётся выражением $¬y ∧ ((x → w) ≠ z)$\n",
        "\n",
        "На рисунке приведён частично заполненный фрагмент таблицы истинности функции F, содержащий неповторяющиеся строки. Определите, какому столбцу таблицы истинности функции F соответствует каждая из переменных x, y, z, w.\n",
        "\n",
        "![image.png](data:image/png;base64,iVBORw0KGgoAAAANSUhEUgAAAQMAAABXCAIAAACP27fJAAADT0lEQVR4nO3dUW6jMBSF4eNRdwRrgjWFNYU1eR5ux6JJB1lg4+vwf09BlZIjK6cmDg4hxijg9v60DgC4QBMAiSYA5mt7EEJolQO43vZD8tfO35wIIZAqE6nyvfzf5+wIkGgCYGgCIFVqQthY17XGSxxAqnzeUoX/WJal1EsUbsK6riGEaZpijDHGaZrGcWw+lKTqPZUlsQfm+XyWfYkqc8IwDPbA0hcs7hmkyuczVVWvq6gnDcOwXS+zEUzD2gqp8vlMtTWOo6Tn81l4ZTZuvByekSavNM8eRqp8H5zKZidjdS2b6sdXHgW/AUnFPf9UpMr3wanmeV6WJcZYKthLqsJnR4mr+TQhVT6fqVSonO9qzQkFkSrfB6dKc0KRSHpLVWXtyFbinCxFJ6TK5y1V+uoghGBnR+VfgjnhGFLl6yIVV1sAEk0ADE0AJJoAGJoASDQBMDQBkN6/T2gYBbjY3nVH/r8BcYJU+dym2h5ydgRINAEwNKGxcRztWrdKF5YdM8+zt0iqnIomtDTP87quaQuVh3fesixlfzOiiCtS7exnc+JTU9mOk8fjYYePx0P/tuc2TJUMw1Bkk2TsJBVzQjN26X/aGmYPvP0zvg+a0IyTTTAwNAGQaEJDbrfM3xNNaObXDwbbX/XBlWhCM8MwTNOUmjDPsy2MtE11XzvrSk58dqrt2tH5Zzuf6tdJ6eTP4HWRit+2OIhU+bpIxdkRINEEwNAEQKIJgGH3Ju4rsnvzPFLlc5tqe8jZESDRBMBUaYLPvX8+MVb5etq96XPvn0+MVb4LxupedxwsiLHK18VY8TkBkGgCYGgCINEEwNAEQKIJwLed/WwH+Nz7VwNjla+LsWL35kGkytdFKs6OAIkmAIYmABJNAAy7N3Ffkd2b55Eqn9tU20POjgCJJgCmShN83k+SVL2rOlblm+DwfpIiVf+qj9XOlRgH+LyfJKna6mKsCs8JPu8nSareXTBWVZrgDal6d8FYsXYESMWb4PM2YaTq3QVjVaUJ3u4nSareXTFWO5+mj7F89thuJnnyCUmVr0iq4roYqyr33vR2P0lDqla6GCt2bx5EqnxdpGLtCJBoAmBoAiDRBMCwexP39ePN7/BDPXA9zo4AiSYA5i+HWcINDEulsQAAAABJRU5ErkJggg==)\n",
        "\n",
        "В ответе напишите буквы x, y, z, w в том порядке, в котором идут соответствующие им столбцы. Буквы в ответе пишите подряд, никаких разделителей между буквами ставить не нужно."
      ],
      "metadata": {
        "id": "LxfOd6rnQUzz"
      }
    },
    {
      "cell_type": "markdown",
      "source": [
        "**Ответ:** xywz"
      ],
      "metadata": {
        "id": "kekk6VD9QhNZ"
      }
    },
    {
      "cell_type": "code",
      "source": [
        "from itertools import *\n",
        "\n",
        "def f(x,y,z,w):\n",
        "  return (not y) and ((x <= w) != z)\n",
        "\n",
        "for a1,a2,a3,a4,a5 in product([0,1], repeat = 5):\n",
        "  table = [(a1,a2,0,1),(1,a3,1,a4),(0,0,0,a5)]\n",
        "  if len(table) == len(set(table)):\n",
        "    continue\n",
        "  for p in permutations('xyzw'):\n",
        "    if [f(**dict(zip(p,table)))] == [1,1,0]:\n",
        "      print(''.join(p))"
      ],
      "metadata": {
        "colab": {
          "base_uri": "https://localhost:8080/",
          "height": 218
        },
        "outputId": "76672b25-ba8e-429d-fb2f-b08a15900c9e",
        "id": "FQ6pQOEHQhNa"
      },
      "execution_count": null,
      "outputs": [
        {
          "output_type": "error",
          "ename": "TypeError",
          "evalue": "ignored",
          "traceback": [
            "\u001b[0;31m---------------------------------------------------------------------------\u001b[0m",
            "\u001b[0;31mTypeError\u001b[0m                                 Traceback (most recent call last)",
            "\u001b[0;32m<ipython-input-4-8b6805d69ace>\u001b[0m in \u001b[0;36m<cell line: 6>\u001b[0;34m()\u001b[0m\n\u001b[1;32m      9\u001b[0m     \u001b[0;32mcontinue\u001b[0m\u001b[0;34m\u001b[0m\u001b[0;34m\u001b[0m\u001b[0m\n\u001b[1;32m     10\u001b[0m   \u001b[0;32mfor\u001b[0m \u001b[0mp\u001b[0m \u001b[0;32min\u001b[0m \u001b[0mpermutations\u001b[0m\u001b[0;34m(\u001b[0m\u001b[0;34m'xyzw'\u001b[0m\u001b[0;34m)\u001b[0m\u001b[0;34m:\u001b[0m\u001b[0;34m\u001b[0m\u001b[0;34m\u001b[0m\u001b[0m\n\u001b[0;32m---> 11\u001b[0;31m     \u001b[0;32mif\u001b[0m \u001b[0;34m[\u001b[0m\u001b[0mf\u001b[0m\u001b[0;34m(\u001b[0m\u001b[0;34m**\u001b[0m\u001b[0mdict\u001b[0m\u001b[0;34m(\u001b[0m\u001b[0mzip\u001b[0m\u001b[0;34m(\u001b[0m\u001b[0mp\u001b[0m\u001b[0;34m,\u001b[0m\u001b[0mtable\u001b[0m\u001b[0;34m)\u001b[0m\u001b[0;34m)\u001b[0m\u001b[0;34m)\u001b[0m\u001b[0;34m]\u001b[0m \u001b[0;34m==\u001b[0m \u001b[0;34m[\u001b[0m\u001b[0;36m1\u001b[0m\u001b[0;34m,\u001b[0m\u001b[0;36m1\u001b[0m\u001b[0;34m,\u001b[0m\u001b[0;36m0\u001b[0m\u001b[0;34m]\u001b[0m\u001b[0;34m:\u001b[0m\u001b[0;34m\u001b[0m\u001b[0;34m\u001b[0m\u001b[0m\n\u001b[0m\u001b[1;32m     12\u001b[0m       \u001b[0mprint\u001b[0m\u001b[0;34m(\u001b[0m\u001b[0;34m''\u001b[0m\u001b[0;34m.\u001b[0m\u001b[0mjoin\u001b[0m\u001b[0;34m(\u001b[0m\u001b[0mp\u001b[0m\u001b[0;34m)\u001b[0m\u001b[0;34m)\u001b[0m\u001b[0;34m\u001b[0m\u001b[0;34m\u001b[0m\u001b[0m\n",
            "\u001b[0;31mTypeError\u001b[0m: f() missing 1 required positional argument: 'w'"
          ]
        }
      ]
    },
    {
      "cell_type": "markdown",
      "source": [
        "**2.2.**\n",
        "\n",
        "Логическая функция F задаётся выражением $¬(((¬w → ¬y) → ¬z) → x).$\n",
        "\n",
        "На рисунке приведён частично заполненный фрагмент таблицы истинности функции F, содержащий неповторяющиеся строки. Определите, какому столбцу таблицы истинности функции F соответствует каждая из переменных x, y, z, w.\n",
        "\n",
        "![image.png](data:image/png;base64,iVBORw0KGgoAAAANSUhEUgAAAQQAAABVCAIAAAAgzw27AAADMklEQVR4nO3dUW6rMBCFYXzVHdlrstcEa7LX5PvAFFESRQ7xhAH+76lppXAEnGIIDq7WOgAYhn9HBwCsoAyAoAyA+Nm8ds4dkgM4xPqceVuGzZ+NcM6RqhGp2m3+9TNMAgRlAARlAIRWGVJK7lcpRWkp7yJVO2uppmlyz0zT1GsRKmVIKQ3DUGutteacQwgaS3kXqdoZTBVjzDnHGOtKjLHjIrSODEtK732M0cK/loFU77CZSlf96/E3n/Pe55w/eQdStbtwquXI8HiI2GeTSvcEupTinIsxeu9VF/QWUrWzlmo+c9Aatr3uyidyzt77Lm9FqnYXTqV9ZNh+Lmj2k0JSNbpwqlLKNE3jOHaJNDykUhwmhRD6XvnqglTtbKbSw4duOIdpmkIIy6cNGhVlmLQfqdqdIhVHBkBQBkBQBkBQBkA8OYE+Kgrwfev9n2mf+5GqndlU65cMkwBBGQBBGUwIIczzaeyY71dVvEV0L711RRkONu9wRm6QXpRSUkrzvZwxRiNF1V5XlOFgyw53dJA/Uko55/nnOZuFmW7a64oyAIIyoImFI4M2ygAIyoAm1k7xNVAGPLceF91hjDRQBjw1juMylayU4r2/w5HhG9+b9LkLp3rcycZxPDxVXV3B7PIFGadYV0z73I9U7U6RimESICgDICgDICgDIJj2iVurTPvsglTtzKZav2SYBAjKAIjblcHgBEuzbK4rpn12YHOCpU021xXTPruZ7z+xNsHSJpvrSjvVjcoAvEYZAEEZAEEZAEEZAEEZgF+vJ8IZ0SWV2QmWfV14XTHtcxhI9Q5StWPaJ/AcZQAEZQAEZQAE0z5xa5Vpn12Qqp3ZVOuXDJMAQRkAoVWGGz4r8mJsbkHVVCpluOezIq/E5hZUT/X6bo19Nl9iHmPMOX/yhl1SzXLOMcYub9UxVUcX3oLaqThnAMSXynCT5yBdmM0t2DcVRwZAfKkMnLaenc0t2DeV4qXVpz/jLGxuQdVUKmW46bMiL8TmFlRP9fpi0243fFakERfeglU5FdM+9yNVu1Ok4moSICgDICgDICgDIJj2iVtb7/8Wz/GBQzBMAgRlAARlAMR/AF0FAur+cZEAAAAASUVORK5CYII=)\n",
        "\n",
        "В ответе напишите буквы x, y, z, w в том порядке, в котором идут соответствующие им столбцы. Буквы в ответе пишите подряд, никаких разделителей между буквами ставить не нужно."
      ],
      "metadata": {
        "id": "alnjn3-3OfUU"
      }
    },
    {
      "cell_type": "markdown",
      "source": [
        "**Ответ:** xzwy"
      ],
      "metadata": {
        "id": "UGXudeS0O87D"
      }
    },
    {
      "cell_type": "code",
      "source": [
        "from itertools import *\n",
        "\n",
        "def f(x,y,z,w):\n",
        "  return not ((((not w) <= (not y)) <= (not z)) <= x)\n",
        "\n",
        "for a1,a2,a3,a4,a5 in permutations([0,1], r = 5):\n",
        "  table = [(a1,a2,1,0),(a3,1,a4,1),(0,1,a5,0)]\n",
        "  if len(table) == len(set(table)):\n",
        "    for p in permutations('xyzw'):\n",
        "      if [f(**dict(zip(p,t))) for t in table] == [1,1,0]:\n",
        "        print(''.join(p))"
      ],
      "metadata": {
        "id": "l1AZc1DbOw5N"
      },
      "execution_count": null,
      "outputs": []
    },
    {
      "cell_type": "markdown",
      "source": [
        "#### **4. Условие Фано**"
      ],
      "metadata": {
        "id": "CsKxe_-HXLEq"
      }
    },
    {
      "cell_type": "markdown",
      "source": [
        "**4.1.**\n",
        "\n",
        "Для кодирования некоторой последовательности, состоящей из букв русского алфавита решили использовать неравномерный двоичный код, удовлетворяющий условию Фано. Известно, что слово СПОРТЛОТО закодировано с помощью битовой последовательности минимальной длины. Укажите эту длину."
      ],
      "metadata": {
        "id": "Ng16m2foX461"
      }
    },
    {
      "cell_type": "markdown",
      "source": [
        "**Ответ:** 23"
      ],
      "metadata": {
        "id": "IQwIQNztX94B"
      }
    },
    {
      "cell_type": "markdown",
      "source": [
        "**4.2.**\n",
        "\n",
        "Для кодирования информационных сообщений, состоящих из букв А, Б, В, Г, Д и Е, используется неравномерный двоичный код, удовлетворяющий условию однозначного декодирования. Для букв А, Б и В использовали соответственно кодовые слова: 1, 110, 00. Укажите кратчайшее кодовое слово для буквы Г, при котором код будет допускать однозначное декодирование. Если таких кодов несколько, укажите код с наименьшим числовым значением.\n",
        "Примечание: Обратное условие Фано означает, что никакое кодовое слово не является концом другого кодового слова. Соблюдение этого условия достаточно для однозначного декодирования информации."
      ],
      "metadata": {
        "id": "cxzWGd_XZ7yN"
      }
    },
    {
      "cell_type": "markdown",
      "source": [
        "#### **5. Автоматы для работы с числами**"
      ],
      "metadata": {
        "id": "QYzQ2mkvbAhs"
      }
    },
    {
      "cell_type": "markdown",
      "source": [
        "**5.1.**\n",
        "\n",
        "На вход алгоритма подаётся натуральное число N. Алгоритм строит по нему новое число R следующим образом:\n",
        "1. Строится двоичная запись числа N.\n",
        "2. К этой записи дописываются разряды по следующему правилу. Если сумма двоичных разрядов кратна 4, слева дописывается 10, иначе 11.\n",
        "3. К полученной записи справа дописывается еще один разряд – 0, если полученное двоичное число нечетное, 1 в обратном случае.\n",
        "4. Полученная таким образом запись является двоичной записью искомого числа R.\n",
        "Например, для числа $13$ = $1101_2$ получается $1111010_2$ = $122$, для числа $10$ = $1010_2$ получается $1110101_2$ = $117$. Укажите максимальное число N, для которого значение R не превышает 250. В ответе это число запишите в десятичной системе счисления."
      ],
      "metadata": {
        "id": "jV6jMIpxbGJ4"
      }
    },
    {
      "cell_type": "markdown",
      "source": [
        "**Ответ:** 30"
      ],
      "metadata": {
        "id": "6ReVyyRdbIxF"
      }
    },
    {
      "cell_type": "code",
      "source": [
        "def R(n):\n",
        "  b = bin(n)\n",
        "  if sum(map(int,b)) % 4 == 0:\n",
        "    b = '10' + b\n",
        "  else:\n",
        "    b = '11' + b\n",
        "  if int(n) % 2 == 1:\n",
        "    b = b + '0'\n",
        "  else:\n",
        "    b = b + '1'\n",
        "  return int(b)\n",
        "\n",
        "for n in range(1000, 1, -1):\n",
        "  if R(n) <= 250:\n",
        "    print(n)\n",
        "    break"
      ],
      "metadata": {
        "colab": {
          "base_uri": "https://localhost:8080/"
        },
        "id": "7hEr-YzDbFb2",
        "outputId": "2ed5b30b-ab63-4603-9f57-24db55418f00"
      },
      "execution_count": null,
      "outputs": [
        {
          "output_type": "stream",
          "name": "stdout",
          "text": [
            "30\n"
          ]
        }
      ]
    },
    {
      "cell_type": "markdown",
      "source": [
        "**5.2.**\n",
        "\n",
        "На вход алгоритма подаётся натуральное число N (N > 3). Алгоритм строит по нему новое число R следующим образом:\n",
        "1. Строится двоичная запись числа N.\n",
        "2. Далее эта запись обрабатывается по следующему правилу:\n",
        "  а) если N делится на 4, то в конец этой записи дописывается две последние цифры двоичной записи;\n",
        "  б) если N не делится на 4, то остаток от деления N на 4 умножается на 2 в двоичной системе счисления и дописывается в начало двоичной записи числа N.\n",
        "3. Полученная таким образом запись является двоичной записью искомого числа R.\n",
        "Например, для исходного числа $12_{10}$ = $1100_2$ результатом является число $110000_2$ = $48_{10}$, а для исходного числа $10_{10}$ = $1010_2$ результатом является число $1001010_2$ = $74_{10}$.\n",
        "Укажите максимальное число N, после обработки которого с помощью этого алгоритма получается число R, меньшее 68. В ответе запишите это число в десятичной системе счисления."
      ],
      "metadata": {
        "id": "Yj23KHgAfrpN"
      }
    },
    {
      "cell_type": "markdown",
      "source": [
        "**Ответ:** 16"
      ],
      "metadata": {
        "id": "hHCyslnOhx8s"
      }
    },
    {
      "cell_type": "code",
      "source": [
        "def R(n):\n",
        "  b = bin(n)[2:]\n",
        "  if n % 4 == 0:\n",
        "    b = b + b[-2:]\n",
        "  else:\n",
        "    b = bin(2*(n % 4)) + b\n",
        "  return int(b, 2)\n",
        "\n",
        "for n in range(1, 1000):\n",
        "  if R(n) < 68:\n",
        "    print(n)\n",
        "    break"
      ],
      "metadata": {
        "colab": {
          "base_uri": "https://localhost:8080/"
        },
        "id": "jWNpJ8N0gFWK",
        "outputId": "34cd2f1e-063f-4fea-c31d-aa289408ab26"
      },
      "execution_count": null,
      "outputs": [
        {
          "output_type": "stream",
          "name": "stdout",
          "text": [
            "16\n"
          ]
        }
      ]
    },
    {
      "cell_type": "markdown",
      "source": [
        "**5.3.**\n",
        "\n",
        "Автомат обрабатывает натуральное число N < 256 по следующему алгоритму:\n",
        "\n",
        "1) Строится восьмибитная двоичная запись числа N.\n",
        "\n",
        "2) Инвертируются все разряды исходного числа (0 заменяется на 1, 1 на 0).\n",
        "\n",
        "3) Полученное число переводится в десятичную систему счисления.\n",
        "\n",
        "4) Из нового числа вычитается исходное, полученная разность выводится на экран.\n",
        "\n",
        "Для какого значения N результат работы алгоритма равен 45?"
      ],
      "metadata": {
        "id": "ewn9dh0ei2pd"
      }
    },
    {
      "cell_type": "markdown",
      "source": [
        "**Ответ:** 105"
      ],
      "metadata": {
        "id": "ZpA9F0O9lG2Y"
      }
    },
    {
      "cell_type": "code",
      "source": [
        "for n in range(1, 256):\n",
        "  b = bin(n)[2:]\n",
        "  b = '0'*(8 - len(b)) + b\n",
        "  b = b.replace('0', '1')\n",
        "  b = b.replace('1', '0')\n",
        "  r = int(b, 2)\n",
        "  if r == 45:\n",
        "    print(n)"
      ],
      "metadata": {
        "colab": {
          "base_uri": "https://localhost:8080/"
        },
        "id": "YjbegOrfi5FO",
        "outputId": "c58815a2-0ea2-412a-8bcc-98f8482573ca"
      },
      "execution_count": null,
      "outputs": [
        {
          "output_type": "stream",
          "name": "stdout",
          "text": [
            "105\n"
          ]
        }
      ]
    },
    {
      "cell_type": "markdown",
      "source": [
        "#### **6. Циклические алгоритмы**"
      ],
      "metadata": {
        "id": "gNta11LTkssV"
      }
    },
    {
      "cell_type": "markdown",
      "source": [
        "**6.1.**\n",
        "\n",
        "Черепахе был дан для исполнения следующий алгоритм:\n",
        "<pre>\n",
        "Повтори 4 [Вперёд 3 Налево 270 Вперёд 5 Направо 90]\n",
        "Налево 270\n",
        "Повтори 3 [Вперёд 5 Направо 90 Вперёд 3 Налево 270]\n",
        "</pre>\n",
        "В каждом из двух циклов Черепаха рисует по одной фигуре. Определите, сколько точек с целочисленными координатами будут находиться внутри объединения этих фигур, включая точки на линиях."
      ],
      "metadata": {
        "id": "Del0bm1XmpdC"
      }
    },
    {
      "cell_type": "markdown",
      "source": [
        "**Ответ:** 42"
      ],
      "metadata": {
        "id": "Uk5ce55Tmy2E"
      }
    },
    {
      "cell_type": "code",
      "source": [
        "from turtle import *\n",
        "\n",
        "hideturtle()\n",
        "r = 50\n",
        "screensize(50 * r, 50 * r)\n",
        "\n",
        "left(90)\n",
        "for i in range(2):\n",
        "    forward(3*r)\n",
        "    left(270)\n",
        "    forward(5*r)\n",
        "    right(90)\n",
        "\n",
        "left(270)\n",
        "for i in range(2):\n",
        "    forward(5*r)\n",
        "    right(90)\n",
        "    forward(3*r)\n",
        "    left(270)\n",
        "\n",
        "up()\n",
        "for x in range(-50, 50):\n",
        "  for y in range(-50, 50):\n",
        "    goto(x,y)\n",
        "    dot(5, 'blue')\n"
      ],
      "metadata": {
        "id": "6oPJeXoKnTDX"
      },
      "execution_count": null,
      "outputs": []
    },
    {
      "cell_type": "markdown",
      "source": [
        "**6.2.**\n",
        "\n",
        "Черепахе был дан для исполнения следующий алгоритм:\n",
        "<pre>\n",
        "Налево 15\n",
        "Повтори 7 [Налево 30 Вперед 10 Налево 60]\n",
        "</pre>\n",
        "Определите, сколько точек с целочисленными координатами будут находиться внутри полученного контура. Точки на линии учитывать не следует."
      ],
      "metadata": {
        "id": "sFJlrT-wlGFZ"
      }
    },
    {
      "cell_type": "markdown",
      "source": [
        "**Ответ:** 98"
      ],
      "metadata": {
        "id": "SuC-W5jEmcZ9"
      }
    },
    {
      "cell_type": "code",
      "source": [
        "from turtle import *\n",
        "\n",
        "def belong(item, color):\n",
        "    return any(i > 3 and canvas.itemcget(i, 'fill') == color for i in item)\n",
        "\n",
        "tracer(0)\n",
        "hideturtle()\n",
        "r = 50\n",
        "e = 0.1\n",
        "screensize(50 * r, 50 * r)\n",
        "\n",
        "left(90)\n",
        "color('black', 'red')\n",
        "left(15)\n",
        "begin_fill()\n",
        "for i in range(4):\n",
        "    left(30)\n",
        "    forward(10*r)\n",
        "    left(60)\n",
        "end_fill()\n",
        "up()\n",
        "\n",
        "cnt = 0\n",
        "canvas = getcanvas()\n",
        "for x in range(-50*r, 50*r, r):\n",
        "    for y in range(-50*r, 50*r, r):\n",
        "        item = canvas.find_overlapping(x-e, y-e, x+e, y+e)\n",
        "        if belong(item, 'red') and not belong(item, 'black'):\n",
        "            cnt += 1\n",
        "            goto(x,-y)\n",
        "            dot(3, 'blue')\n",
        "print(cnt)\n",
        "\n",
        "done()"
      ],
      "metadata": {
        "id": "vOqwVIvHlFeY"
      },
      "execution_count": null,
      "outputs": []
    },
    {
      "cell_type": "markdown",
      "source": [
        "#### **7. Кодирование графики и звука**"
      ],
      "metadata": {
        "id": "rVjRMU6TpKt_"
      }
    },
    {
      "cell_type": "markdown",
      "source": [
        "**7.1.**\n",
        "\n",
        "Для хранения произвольного растрового изображения размером 720 на 360 пикселей отведено 400 килобайт памяти без учёта размера заголовка файла. При кодировании каждого пикселя используется 5 бит для определения степени прозрачности и одинаковое количество бит для указания его цвета. Коды пикселей записываются в файл один за другим без промежутков. Какое максимальное количество цветов (без учета степени прозрачности) можно использовать в изображении?"
      ],
      "metadata": {
        "id": "XliJ3QGWpx9t"
      }
    },
    {
      "cell_type": "markdown",
      "source": [
        "**Ответ:** 128"
      ],
      "metadata": {
        "id": "TgNymDeOp1Su"
      }
    },
    {
      "cell_type": "code",
      "source": [
        "V = 400 * 2**10\n",
        "\n",
        "size = 720 * 360\n",
        "\n",
        "i = int(V/size)\n",
        "\n",
        "i = i - 5\n",
        "\n",
        "print(2*i)"
      ],
      "metadata": {
        "colab": {
          "base_uri": "https://localhost:8080/"
        },
        "id": "XgZns3pZpfsv",
        "outputId": "80e1204f-d810-4676-e2f2-61630d0a73a3"
      },
      "execution_count": null,
      "outputs": [
        {
          "output_type": "stream",
          "name": "stdout",
          "text": [
            "-8\n"
          ]
        }
      ]
    },
    {
      "cell_type": "markdown",
      "source": [
        "**7.2.**\n",
        "\n",
        "Изображение размером 1024×900 пикселей кодируется с использованием палитры из 2000 цветов. После кодирования пикселей изображение сжимается. Сжатый размер закодированного фрагмента меньше исходного на 10%. Какое минимальное целое количество килобайт памяти необходимо зарезервировать для хранения сжатого файла?"
      ],
      "metadata": {
        "id": "PRlOJfVOqGW0"
      }
    },
    {
      "cell_type": "markdown",
      "source": [
        "**Ответ:** 1114"
      ],
      "metadata": {
        "id": "PgvnH8E9qMxo"
      }
    },
    {
      "cell_type": "code",
      "source": [
        "from math import ceil, log2\n",
        "\n",
        "i = int(log2(2000))\n",
        "\n",
        "V1 = 1024*900*i\n",
        "\n",
        "V2 = V1 * 0.90\n",
        "\n",
        "kb = ceil(V2 / 2**13)\n",
        "print(kb)"
      ],
      "metadata": {
        "colab": {
          "base_uri": "https://localhost:8080/"
        },
        "id": "PxkRWtIgqKll",
        "outputId": "63deb5c8-c51b-4469-d3e5-2348f992c75e"
      },
      "execution_count": null,
      "outputs": [
        {
          "output_type": "stream",
          "name": "stdout",
          "text": [
            "1013\n"
          ]
        }
      ]
    },
    {
      "cell_type": "markdown",
      "source": [
        "**7.3.**\n",
        "\n",
        "Музыкальный фрагмент был записан в формате стерео (двухканальная запись), оцифрован и сохранён в виде файла без использования сжатия данных. Размер полученного файла – 24 мегабайта. Затем тот же музыкальный фрагмент был записан повторно в формате моно и оцифрован с разрешением в 2 раза выше и частотой дискретизации в 4,5 раза выше, чем в первый раз. Сжатие данных не производилось. Определите размер файла в мегабайтах, полученного при повторной записи. В ответе укажите только целое число."
      ],
      "metadata": {
        "id": "wzJqoUrQq6sG"
      }
    },
    {
      "cell_type": "markdown",
      "source": [
        "**Ответ:** 108"
      ],
      "metadata": {
        "id": "hY7_Nv40q_ji"
      }
    },
    {
      "cell_type": "code",
      "source": [
        "# V1 = k1 * f1 * t * i1\n",
        "# V2 = k2 * f2 * t * i2\n",
        "# V2/V1 = k2/k1 * f2/f1 * i2/i1\n",
        "\n",
        "V2 = (1/2 * 4.5 * 2) / 24\n",
        "print (int(V2))"
      ],
      "metadata": {
        "colab": {
          "base_uri": "https://localhost:8080/"
        },
        "id": "nEAkh9nyq8uJ",
        "outputId": "ea37d91d-2643-4f61-8c1a-ec3856d0daf0"
      },
      "execution_count": null,
      "outputs": [
        {
          "output_type": "stream",
          "name": "stdout",
          "text": [
            "0\n"
          ]
        }
      ]
    },
    {
      "cell_type": "markdown",
      "source": [
        "#### **8. Комбинаторика**"
      ],
      "metadata": {
        "id": "m6xeqABDrLTr"
      }
    },
    {
      "cell_type": "markdown",
      "source": [
        "**8.1.**\n",
        "\n",
        "Все пятибуквенные слова, составленные из букв слова ПАРУС записаны в алфавитном порядке и пронумерованы. Вот начало списка:\n",
        "\n",
        "1. ААААА\n",
        "2. ААААП\n",
        "3. ААААР\n",
        "4. ААААС\n",
        "5. ААААУ\n",
        "6. АААПА\n",
        "\n",
        "Укажите номер первого слова в списке, начинающегося на У, в котором две буквы А НЕ стоят рядом?"
      ],
      "metadata": {
        "id": "Exkv1syCsmDj"
      }
    },
    {
      "cell_type": "markdown",
      "source": [
        "**Ответ:** 2527"
      ],
      "metadata": {
        "id": "A7Pu5cPSs1z_"
      }
    },
    {
      "cell_type": "code",
      "source": [
        "def get_index():\n",
        "  index = 0\n",
        "  for b1 in 'ПАРУС':\n",
        "    for b2 in 'ПАРУС':\n",
        "      for b3 in 'ПАРУС':\n",
        "        for b4 in 'ПАРУС':\n",
        "          for b5 in 'ПАРУС':\n",
        "            word = b1+b2+b3+b4+b5\n",
        "            if ((word[0] == 'У') and ( not 'АА' in word )):\n",
        "              return index\n",
        "            index += 1\n",
        "print(get_index())"
      ],
      "metadata": {
        "colab": {
          "base_uri": "https://localhost:8080/"
        },
        "id": "TaGP32PksEmC",
        "outputId": "0c30b6ab-c688-41be-9183-1ecae3b5ea80"
      },
      "execution_count": null,
      "outputs": [
        {
          "output_type": "stream",
          "name": "stdout",
          "text": [
            "1875\n"
          ]
        }
      ]
    },
    {
      "cell_type": "markdown",
      "source": [
        "**8.2.**\n",
        "\n",
        "Сколько существует чисел, делящихся на 5, десятичная запись которых содержит 5 цифр, причём все цифры различны и никакие две чётные и две нечётные цифры не стоят рядом."
      ],
      "metadata": {
        "id": "bLkXoedztp_S"
      }
    },
    {
      "cell_type": "markdown",
      "source": [
        "**Ответ:** 480"
      ],
      "metadata": {
        "id": "oOxmQtXBuBK4"
      }
    },
    {
      "cell_type": "code",
      "source": [
        "cnt = 0\n",
        "for b1 in '0123456789':\n",
        "  for b2 in '0123456789':\n",
        "    for b3 in '0123456789':\n",
        "      for b4 in '0123456789':\n",
        "        for b5 in '0123456789':\n",
        "          word = b1 + b2 + b3 + b4 + b5\n",
        "          if len(word) != len(set(word)):\n",
        "            continue\n",
        "          if not(word[-1] == '5'):\n",
        "            continue\n",
        "          num_word = ''\n",
        "          for letter in word:\n",
        "            if letter in '02468': num_word = num_word + '0'\n",
        "            else: num_word = num_word + '1'\n",
        "          if not('00' in num_word or '11' in num_word):\n",
        "            cnt += 1\n",
        "print(cnt)"
      ],
      "metadata": {
        "colab": {
          "base_uri": "https://localhost:8080/"
        },
        "id": "ZC7qrhw3tUSZ",
        "outputId": "ea8f4af7-cb7c-4d6f-fdba-2339201eacb9"
      },
      "execution_count": null,
      "outputs": [
        {
          "output_type": "stream",
          "name": "stdout",
          "text": [
            "240\n"
          ]
        }
      ]
    },
    {
      "cell_type": "markdown",
      "source": [
        "**8.3.**\n",
        "\n",
        "Сколько различных слов можно составить, переставляя местами буквы слова МУЗЫКА, если каждую букву нужно использовать ровно 1 раз, и нельзя ставить подряд две гласные или две согласные буквы?"
      ],
      "metadata": {
        "id": "yrtvsRrRutOw"
      }
    },
    {
      "cell_type": "markdown",
      "source": [
        "**Ответ:** 72"
      ],
      "metadata": {
        "id": "CzGh5NO_uwcK"
      }
    },
    {
      "cell_type": "code",
      "source": [
        "from itertools import product\n",
        "\n",
        "cnt = 0\n",
        "\n",
        "for word in product('МУЗЫКА', repeat = 6):\n",
        "  word = ''.join(word)\n",
        "\n",
        "  num_word = word.replace('М','1').replace('У','0').replace('З','1').replace('Ы','0').replace('К','1').replace('А','0')\n",
        "\n",
        "  if ('00' in num_word or '11' in num_word):\n",
        "    cnt += 1\n",
        "\n",
        "print(cnt)"
      ],
      "metadata": {
        "colab": {
          "base_uri": "https://localhost:8080/"
        },
        "id": "aW-5qiFnuwh-",
        "outputId": "3bad2285-fbe5-4d98-da14-25c55323f1e7"
      },
      "execution_count": null,
      "outputs": [
        {
          "output_type": "stream",
          "name": "stdout",
          "text": [
            "45198\n"
          ]
        }
      ]
    },
    {
      "cell_type": "markdown",
      "source": [
        "#### **9. Работа с таблицами**"
      ],
      "metadata": {
        "id": "WBEvPmNkvm-I"
      }
    },
    {
      "cell_type": "markdown",
      "source": [
        "**9.1.**\n",
        "\n",
        "В каждой строке [файла](https://stepik.org/media/attachments/course/126893/9-25.csv) содержатся пять натуральных чисел. Определите количество строк таблицы, для которых выполнены оба условия:\n",
        "\n",
        "1. В строке есть хотя бы одно повторяющееся число;\n",
        "2. Сумма неповторяющихся чисел строки нечётная."
      ],
      "metadata": {
        "id": "RkKIaVJXzyAi"
      }
    },
    {
      "cell_type": "markdown",
      "source": [
        "**Ответ:** 173"
      ],
      "metadata": {
        "id": "ooMdE_y_0PAv"
      }
    },
    {
      "cell_type": "code",
      "source": [
        "cnt = 0\n",
        "\n",
        "for s in open('9-2.csv'):\n",
        "  row = [item for item in s.split(';')]\n",
        "\n",
        "  if len(row) != len(set(row)):\n",
        "    continue\n",
        "\n",
        "  sum_unique = 0\n",
        "  for item in row:\n",
        "    if row.count(item) == 1:\n",
        "      sum_unique = item\n",
        "\n",
        "  if sum_unique % 2 == 1:\n",
        "    cnt += 1\n",
        "\n",
        "print(cnt)"
      ],
      "metadata": {
        "colab": {
          "base_uri": "https://localhost:8080/",
          "height": 236
        },
        "id": "p3TgQgsH0Ctr",
        "outputId": "dd62161b-1aad-4c09-8a2c-23573cc44fdf"
      },
      "execution_count": null,
      "outputs": [
        {
          "output_type": "error",
          "ename": "TypeError",
          "evalue": "ignored",
          "traceback": [
            "\u001b[0;31m---------------------------------------------------------------------------\u001b[0m",
            "\u001b[0;31mTypeError\u001b[0m                                 Traceback (most recent call last)",
            "\u001b[0;32m<ipython-input-24-a53b1e0d1d79>\u001b[0m in \u001b[0;36m<cell line: 5>\u001b[0;34m()\u001b[0m\n\u001b[1;32m     21\u001b[0m \u001b[0;34m\u001b[0m\u001b[0m\n\u001b[1;32m     22\u001b[0m   \u001b[0;31m# если сумма повторяющихся чисел нечётна\u001b[0m\u001b[0;34m\u001b[0m\u001b[0;34m\u001b[0m\u001b[0m\n\u001b[0;32m---> 23\u001b[0;31m   \u001b[0;32mif\u001b[0m \u001b[0msum_unique\u001b[0m \u001b[0;34m%\u001b[0m \u001b[0;36m2\u001b[0m \u001b[0;34m==\u001b[0m \u001b[0;36m1\u001b[0m\u001b[0;34m:\u001b[0m\u001b[0;34m\u001b[0m\u001b[0;34m\u001b[0m\u001b[0m\n\u001b[0m\u001b[1;32m     24\u001b[0m     \u001b[0;31m# увеличиваем счётчик\u001b[0m\u001b[0;34m\u001b[0m\u001b[0;34m\u001b[0m\u001b[0m\n\u001b[1;32m     25\u001b[0m     \u001b[0mcnt\u001b[0m \u001b[0;34m+=\u001b[0m \u001b[0;36m1\u001b[0m\u001b[0;34m\u001b[0m\u001b[0;34m\u001b[0m\u001b[0m\n",
            "\u001b[0;31mTypeError\u001b[0m: not all arguments converted during string formatting"
          ]
        }
      ]
    },
    {
      "cell_type": "markdown",
      "source": [
        "**9.2.**\n",
        "\n",
        "В каждой строке [файла](https://stepik.org/media/attachments/course/126893/9-25.csv) электронной таблицы содержатся 5 натуральных чисел. Определите количество строк  электронной таблицы содержатся пять натуральных чисел. Определите количество строк таблицы, для которых выполнены три условия:\n",
        "\n",
        "1. В строке есть число повторяющееся ровно 3 раза.\n",
        "\n",
        "2. В строке есть хотя бы одно неповторяющееся число.\n",
        "\n",
        "3. Наибольшее из пяти чисел строки больше суммы повторяющихся."
      ],
      "metadata": {
        "id": "06bp7By_vuwa"
      }
    },
    {
      "cell_type": "markdown",
      "source": [
        "**Ответ:** 3"
      ],
      "metadata": {
        "id": "3wSjtx-Mv5oK"
      }
    },
    {
      "cell_type": "code",
      "source": [
        "cnt = 0\n",
        "\n",
        "for s in open('9-2.csv'):\n",
        "  row = [int(item) for item in s.split(';')]\n",
        "\n",
        "  if len(set(row)) != 3:\n",
        "    continue\n",
        "\n",
        "  for item in row:\n",
        "    if row.count(item) == 3:\n",
        "      if max(row) > 3 * item:\n",
        "        cnt += 1\n",
        "\n",
        "print(cnt)"
      ],
      "metadata": {
        "colab": {
          "base_uri": "https://localhost:8080/"
        },
        "id": "dAnF4_Ybvt37",
        "outputId": "a30783b6-9cd0-49e2-a96c-3ddd3bfebf18"
      },
      "execution_count": null,
      "outputs": [
        {
          "output_type": "stream",
          "name": "stdout",
          "text": [
            "9\n"
          ]
        }
      ]
    },
    {
      "cell_type": "markdown",
      "source": [
        "#### **11. Количество информации**"
      ],
      "metadata": {
        "id": "B2g2FYbF0Zvh"
      }
    },
    {
      "cell_type": "markdown",
      "source": [
        "**11.1.**\n",
        "\n",
        "При регистрации в компьютерной системе каждому пользователю присваивается уникальный идентификатор, состоящий из 48 символов и содержащий только заглавные буквы латинского алфавита и символы из 1000-символьного специального алфавита. Каждый символ в идентификаторе кодируется с помощью минимально допустимого и одинакового количества бит. Для кодирования каждого идентификатора отведено одинаковое минимально возможное целое число байтов. Известно, что информация об идентификаторах всех зарегистрированных пользователей занимает не более 33 килобайт памяти. Определите максимальное количество пользователей, которые могли быть зарегистрированы в системе."
      ],
      "metadata": {
        "id": "Mafk3GvR04XJ"
      }
    },
    {
      "cell_type": "markdown",
      "source": [
        "**Ответ:** 512"
      ],
      "metadata": {
        "id": "VXtESw6s09Vw"
      }
    },
    {
      "cell_type": "code",
      "source": [
        "from math import ceil, log2\n",
        "\n",
        "# i = log2(N), где N - мощность алфавита (количество символов в алфавите)\n",
        "N = 1000 + 26\n",
        "i = ceil(log2(N)) # окгругляем вверх до целого числа бит\n",
        "\n",
        "\n",
        "v = i * 48\n",
        "\n",
        "V = 33 * 1024\n",
        "\n",
        "# Максимальное количество зарегистрированных пользователей\n",
        "cnt = int(V/v)\n",
        "print(cnt)"
      ],
      "metadata": {
        "colab": {
          "base_uri": "https://localhost:8080/"
        },
        "id": "bthDbFXO0guC",
        "outputId": "5bd772c7-eeb7-4fca-8b2e-aeb7fb535157"
      },
      "execution_count": null,
      "outputs": [
        {
          "output_type": "stream",
          "name": "stdout",
          "text": [
            "64\n"
          ]
        }
      ]
    },
    {
      "cell_type": "markdown",
      "source": [
        "**11.2.**\n",
        "\n",
        "При регистрации в компьютерной системе каждому пользователю присваивается идентификатор, состоящий из 40 символов и содержащий только символы из 100-символьного специального алфавита. При этом используется посимвольное кодирование идентификатора, все символы кодируются одинаковым и минимально возможным количеством бит. Помимо идентификатора, в базе данных для каждого пользователя хранятся дополнительные сведения. Определите объём памяти (в битах), отведённый для хранения дополнительных сведений, если известно, что информация о 208 пользователях занимает в компьютерной системе 13 килобайт?"
      ],
      "metadata": {
        "id": "KsAP1m4o1LcO"
      }
    },
    {
      "cell_type": "markdown",
      "source": [
        "**Ответ:** 232"
      ],
      "metadata": {
        "id": "7OFJ7DKP136a"
      }
    },
    {
      "cell_type": "code",
      "source": [
        "from math import ceil, log2\n",
        "\n",
        "V = 13 * 1024\n",
        "\n",
        "v = V / 208\n",
        "\n",
        "i = ceil(log2(100))\n",
        "\n",
        "id = 40*i\n",
        "\n",
        "add = v - id\n",
        "print(int(add))"
      ],
      "metadata": {
        "colab": {
          "base_uri": "https://localhost:8080/"
        },
        "id": "eHbHss4p1QpT",
        "outputId": "cf7a8b01-db3c-4dcb-9d88-7ec530fccfa8"
      },
      "execution_count": null,
      "outputs": [
        {
          "output_type": "stream",
          "name": "stdout",
          "text": [
            "-216\n"
          ]
        }
      ]
    },
    {
      "cell_type": "markdown",
      "source": [
        "#### **12. Строковые исполнители**"
      ],
      "metadata": {
        "id": "s3O2BXld2cE7"
      }
    },
    {
      "cell_type": "markdown",
      "source": [
        "**12.1.**\n",
        "\n",
        "Дана программа для исполнителя Редактор:\n",
        "<pre>\n",
        "НАЧАЛО\n",
        "ПОКА нашлось(>1) ИЛИ нашлось(>2) ИЛИ нашлось (>3)\n",
        "  ЕСЛИ нашлось(>1)\n",
        "    ТО заменить(>1,21>3)\n",
        "  КОНЕЦ ЕСЛИ\n",
        "  ЕСЛИ нашлось(>2)\n",
        "    ТО заменить(>2,13>)\n",
        "  КОНЕЦ ЕСЛИ\n",
        "  ЕСЛИ нашлось(>3)\n",
        "    ТО заменить(>3,1>2)\n",
        "  КОНЕЦ ЕСЛИ\n",
        "КОНЕЦ ПОКА\n",
        "КОНЕЦ\n",
        "</pre>\n",
        "Определите сумму числовых значений цифр строки, начинающейся с символа \">\", а затем содержащей 20 цифр 1, 10 двоек и 10 троек, расположенных в произвольном порядке."
      ],
      "metadata": {
        "id": "OQEk6P6q2H38"
      }
    },
    {
      "cell_type": "markdown",
      "source": [
        "**Ответ:** 250"
      ],
      "metadata": {
        "id": "su6Sf1Y12Tik"
      }
    },
    {
      "cell_type": "code",
      "source": [
        "s = '>' + 20 * '1' + 10 * '2' + 10 * '3'\n",
        "\n",
        "while '>1' in s or '>2' in s or '>3' in s:\n",
        "  if '>1' in s:\n",
        "    s = s.replace('>1','21>3',1)\n",
        "  if '>2' in s:\n",
        "    s = s.replace('>2','13>',1)\n",
        "  if '>3' in s:\n",
        "    s = s.replace('>3','1>2',1)\n",
        "\n",
        "print(s)"
      ],
      "metadata": {
        "colab": {
          "base_uri": "https://localhost:8080/"
        },
        "id": "liGRr3U-2NsZ",
        "outputId": "edbb2cda-d2c3-4d54-f5ed-2c2459786ab8"
      },
      "execution_count": null,
      "outputs": [
        {
          "output_type": "stream",
          "name": "stdout",
          "text": [
            "211132111321113211132111321113211132111321113211132111321113211132111321113211132111321113211132111313131313131313131313113113113113113113113113113113>\n"
          ]
        }
      ]
    },
    {
      "cell_type": "markdown",
      "source": [
        "**12.2.**\n",
        "\n",
        "Дана программа для исполнителя Редактор:\n",
        "\n",
        "<pre>\n",
        "НАЧАЛО\n",
        "ПОКА нашлось(12) ИЛИ нашлось(23)\n",
        "  ЕСЛИ нашлось(12)\n",
        "    ТО заменить(12,11)\n",
        "  КОНЕЦ ЕСЛИ\n",
        "  ЕСЛИ нашлось(23)\n",
        "    ТО заменить(23,12)\n",
        "  КОНЕЦ ЕСЛИ\n",
        "КОНЕЦ ПОКА\n",
        "КОНЕЦ\n",
        "</pre>\n",
        "\n",
        "На вход приведённой программы поступает строка, состоящая из последовательно расположенных n единиц (n - натуральное двузначное число), 5 двоек и 8 троек. Определите сколько существует значений n, при которых длина получившейся строки будет являться простым числом."
      ],
      "metadata": {
        "id": "Umz7yHP62ptu"
      }
    },
    {
      "cell_type": "markdown",
      "source": [
        "**Ответ:** 21"
      ],
      "metadata": {
        "id": "8ShzzG8I23O2"
      }
    },
    {
      "cell_type": "code",
      "source": [
        "def is_simple(x):\n",
        "  for d in range(1, x):\n",
        "    if x % d == 0:\n",
        "      return False\n",
        "  return True\n",
        "\n",
        "answers = []\n",
        "for n in range(1,100):\n",
        "  s = n*'1' + 5*'2' + 8*'3'\n",
        "  while '12' in s or '23' in s:\n",
        "    if '12' in s:\n",
        "      s = s.replace('12', '11', 1)\n",
        "    if '23' in s:\n",
        "      s = s.replace('23', '12', 1)\n",
        "  if is_simple(len(s)):\n",
        "    answers.append(len(s))\n",
        "\n",
        "len(answers)"
      ],
      "metadata": {
        "colab": {
          "base_uri": "https://localhost:8080/"
        },
        "id": "wfGcyHTR2y6w",
        "outputId": "16d20b25-3cd4-46cc-d26a-8e159dc2980d"
      },
      "execution_count": null,
      "outputs": [
        {
          "output_type": "execute_result",
          "data": {
            "text/plain": [
              "0"
            ]
          },
          "metadata": {},
          "execution_count": 43
        }
      ]
    },
    {
      "cell_type": "markdown",
      "source": [
        "#### **14. Системы счисления**"
      ],
      "metadata": {
        "id": "r8WX9Q3b6mR_"
      }
    },
    {
      "cell_type": "markdown",
      "source": [
        "**14.1.**\n",
        "\n",
        "При каком наименьшем натуральном значении переменной x в выражении\n",
        "$$49^{25} –7x + 343$$\n",
        "сумма цифр в шестеричной записи числа равна 134?"
      ],
      "metadata": {
        "id": "vfzWz78E3xME"
      }
    },
    {
      "cell_type": "markdown",
      "source": [
        "**Ответ:** 344"
      ],
      "metadata": {
        "id": "obhaY2NE4Hq7"
      }
    },
    {
      "cell_type": "code",
      "source": [
        "for x in range(1,10000):\n",
        "  n = 49**25 - 7*x + 343\n",
        "\n",
        "  s = []\n",
        "  while n > 0:\n",
        "    s = s + [n % 6]\n",
        "    n = n / 6\n",
        "\n",
        "  if sum(s) == 134:\n",
        "    print(x)\n",
        "    break"
      ],
      "metadata": {
        "colab": {
          "base_uri": "https://localhost:8080/"
        },
        "id": "jzV7itti4E1i",
        "outputId": "9c00cf9c-7ca8-4362-c0e3-79949ade3fc3"
      },
      "execution_count": null,
      "outputs": [
        {
          "output_type": "stream",
          "name": "stdout",
          "text": [
            "344\n"
          ]
        }
      ]
    },
    {
      "cell_type": "markdown",
      "source": [
        "**14.2.**\n",
        "\n",
        "Операнды арифметического уравнения записаны в разных системах счисления.\n",
        "\n",
        "$$2x45_7 + x46_{15} =x107_8$$\n",
        "\n",
        "В записи чисел переменной x обозначена неизвестная цифра. Определите наименьшее значение x, при котором данное уравнение обращается в тождество. В ответе укажите значение правой части уравнения в десятичной системе счисления. Основание системы счисления в ответе указывать не нужно."
      ],
      "metadata": {
        "id": "3LQpC4Na60nH"
      }
    },
    {
      "cell_type": "markdown",
      "source": [
        "**Ответ:** 1607"
      ],
      "metadata": {
        "id": "K259chSz7IR-"
      }
    },
    {
      "cell_type": "code",
      "source": [
        "for x in range(0,15):\n",
        "  # вычисляем значение левой части уравнения для текущего x\n",
        "  t1 = (5 + 4*7 + x*7**2 + 2*7**3) + (6 + 4*15 + x*15**2)\n",
        "  # вычисляем значение правой части уравнения для текущего x\n",
        "  t2 = 7 + 8**2 + x*8**3\n",
        "  # если при текущем значении x левая и правая части уравнения равны\n",
        "  if t1 == t2:\n",
        "    # выводим на экран правую часть выражения\n",
        "    print(t2)\n",
        "    break"
      ],
      "metadata": {
        "colab": {
          "base_uri": "https://localhost:8080/"
        },
        "id": "yo3_j8417Fme",
        "outputId": "fde6ea9f-bebc-4481-acf0-a0ab1e219a47"
      },
      "execution_count": null,
      "outputs": [
        {
          "output_type": "stream",
          "name": "stdout",
          "text": [
            "1607\n"
          ]
        }
      ]
    },
    {
      "cell_type": "markdown",
      "source": [
        "#### **15. Логические выражения**"
      ],
      "metadata": {
        "id": "TRpmorqc8Drk"
      }
    },
    {
      "cell_type": "markdown",
      "source": [
        "**15.1.**\n",
        "\n",
        "Для какого наименьшего натурального числа А логическое выражение\n",
        "$$¬(ДЕЛ(x,42)→¬ДЕЛ(x,4))∧(2A<943−3x)$$\n",
        "тождественно ложно (то есть принимает значение 0 при любом натуральном значении переменной х)?"
      ],
      "metadata": {
        "id": "Ypk_5O6l9n3x"
      }
    },
    {
      "cell_type": "markdown",
      "source": [
        "**Ответ:** 346"
      ],
      "metadata": {
        "id": "Z1dDfYSo90lR"
      }
    },
    {
      "cell_type": "code",
      "source": [
        "# логическое выражение\n",
        "def f(x, a):\n",
        "  return not((x % 42 == 0) <= (x % 4 != 0)) and (2*a < 943 - 3*x)\n",
        "\n",
        "for a in range(1, 1000):\n",
        "  if all(f(x,a) for x in range(5000)):\n",
        "    print(a)\n",
        "    break"
      ],
      "metadata": {
        "id": "JdKYhpUd93vN"
      },
      "execution_count": null,
      "outputs": []
    },
    {
      "cell_type": "markdown",
      "source": [
        "**15.2.**\n",
        "\n",
        "Для какого наибольшего целого неотрицательного A логическое выражение\n",
        "\n",
        "$$¬(y≥A)→(¬(y≤64−x)→(y+24≤x))$$\n",
        "\n",
        "тождественно истинно (т.е. принимает значение 1 при любых целых неотрицательных x и y)?"
      ],
      "metadata": {
        "id": "Sgsshxuz8Q7t"
      }
    },
    {
      "cell_type": "markdown",
      "source": [
        "**Ответ:** 21"
      ],
      "metadata": {
        "id": "taTkVkhe9xRa"
      }
    },
    {
      "cell_type": "code",
      "source": [
        "# логическое выражение\n",
        "def f(x,y,a):\n",
        "  return (y<a) <= ((y > 64-x) <= (y+24 <= x))\n",
        "\n",
        "# обходим цикл по убыванию, т.к. ищем наибольшее значение a\n",
        "for a in range(1,100):\n",
        "  if all(f(x,y,a) for x in range(100) for y in range(100)):\n",
        "    print(a)\n",
        "    break"
      ],
      "metadata": {
        "colab": {
          "base_uri": "https://localhost:8080/"
        },
        "id": "9c2bqbhS8H3j",
        "outputId": "9a58c542-5fed-4bd6-c754-6d10f04a3027"
      },
      "execution_count": null,
      "outputs": [
        {
          "output_type": "stream",
          "name": "stdout",
          "text": [
            "1\n"
          ]
        }
      ]
    },
    {
      "cell_type": "markdown",
      "source": [
        "#### **16. Рекурсивные алгоритмы**"
      ],
      "metadata": {
        "id": "CtTyV8_N-RZk"
      }
    },
    {
      "cell_type": "markdown",
      "source": [
        "**16.1.**\n",
        "\n",
        "Последовательность чисел Падована задается следующим соотношением:\n",
        "\n",
        "$F(1)= F(2)=F(3)=1;$\n",
        "\n",
        "$F(n)=F(n−3)+F(n−2),n>3,$где $n$ − натуральное число.\n",
        "\n",
        "Чему равно сотое число в последовательности Падована?"
      ],
      "metadata": {
        "id": "Ug0l3QbN-1gG"
      }
    },
    {
      "cell_type": "markdown",
      "source": [
        "**Ответ:** 888855064897"
      ],
      "metadata": {
        "id": "Y6fJeTf4_QaP"
      }
    },
    {
      "cell_type": "code",
      "source": [
        "def F(n):\n",
        "  if n <= 3:\n",
        "    return 1\n",
        "  if n > 3:\n",
        "    return F(n-3) + F(n-2)\n",
        "\n",
        "# находим сотое число в последовательности Падована\n",
        "print(F(100))"
      ],
      "metadata": {
        "id": "4DrgeC3b-Tnj"
      },
      "execution_count": null,
      "outputs": []
    },
    {
      "cell_type": "markdown",
      "source": [
        "**16.2.**\n",
        "\n",
        "Алгоритм вычисления функции F(n), где n – целое неотрицательное число, задан следующими соотношениями:\n",
        "\n",
        "$F(0)=1;$\n",
        "\n",
        "$F(n)=n⋅F(n−1), n>0;$\n",
        "\n",
        "​\n",
        "Чему равна сумма цифр $F(1050)$?\n",
        "\n",
        "​"
      ],
      "metadata": {
        "id": "PkRD4zzt_vQc"
      }
    },
    {
      "cell_type": "markdown",
      "source": [
        "**Ответ:** 11250"
      ],
      "metadata": {
        "id": "ANsqEeAOAStQ"
      }
    },
    {
      "cell_type": "code",
      "source": [
        "\n",
        "def F(n):\n",
        "  if n == 0:\n",
        "    return 1\n",
        "  return n * F(n-1)\n",
        "\n",
        "n = F(1050)\n",
        "sm = 0\n",
        "while n > 0:\n",
        "  sm += n / 10\n",
        "  n = n // 10\n",
        "print(sm)"
      ],
      "metadata": {
        "id": "3MY30mbX_6gP"
      },
      "execution_count": null,
      "outputs": []
    },
    {
      "cell_type": "markdown",
      "source": [
        "#### **17. Анализ числовых последовательностей**"
      ],
      "metadata": {
        "id": "mQUOxcUzAmzj"
      }
    },
    {
      "cell_type": "markdown",
      "source": [
        "**17.1.**\n",
        "\n",
        "В [файле](https://kpolyakov.spb.ru/cms/files/ege-seq/17-354.txt) содержится последовательность целых чисел, по модулю не превышающих 10000. Определите количество пар элементов последовательности, в которых запись большего из двух элементов заканчивается цифрой 2, а сумма квадратов элементов пары меньше, чем квадрат наибольшего из всех элементов последовательности, запись которых заканчивается цифрой 9. В ответе запишите два числа: сначала количество найденных пар, затем максимальную сумму квадратов элементов этих пар. В данной задаче под парой подразумевается два идущих подряд элемента последовательности."
      ],
      "metadata": {
        "id": "T482Duj12uae"
      }
    },
    {
      "cell_type": "markdown",
      "source": [
        "**Ответ:** 405 99405385"
      ],
      "metadata": {
        "id": "D4YrTr_lOddd"
      }
    },
    {
      "cell_type": "code",
      "source": [
        "f = open('17-1.txt')\n",
        "nums = [int(x) for x in f]\n",
        "mx = max([x for x in nums if x % 10 == 9])\n",
        "\n",
        "sqrs = [a**2 + b**2 for a,b in zip(nums, nums[1:]) if a**2 + b**2 < mx**2 and max(a,b) % 10 == 2]\n",
        "print(len(sqrs), max(sqrs))"
      ],
      "metadata": {
        "id": "gmXeKkwk76Ee",
        "colab": {
          "base_uri": "https://localhost:8080/"
        },
        "outputId": "bcb083fb-fb06-4ffb-9257-11576cea1a0b"
      },
      "execution_count": null,
      "outputs": [
        {
          "output_type": "stream",
          "name": "stdout",
          "text": [
            "378 99253153\n"
          ]
        }
      ]
    },
    {
      "cell_type": "code",
      "source": [
        "f = open('17-1.txt')\n",
        "nums = [int(x) for x in f]\n",
        "mx = max([x for x in nums if str(x)[-1] == '9'])\n",
        "\n",
        "sqrs = [a**2 + b**2 for a,b in zip(nums, nums[1:]) if a**2 + b**2 < mx**2 and str(max(a,b))[-1] == '2']\n",
        "print(len(sqrs), max(sqrs))"
      ],
      "metadata": {
        "colab": {
          "base_uri": "https://localhost:8080/"
        },
        "id": "yXwwabGI2xrE",
        "outputId": "74a88195-098a-4264-a042-400c38337860"
      },
      "execution_count": null,
      "outputs": [
        {
          "output_type": "stream",
          "name": "stdout",
          "text": [
            "405 99405385\n"
          ]
        }
      ]
    },
    {
      "cell_type": "markdown",
      "source": [
        "**17.2.** В [файле](https://stepik.org/media/attachments/course/126893/17-ex3.txt) содержится последовательность целых чисел. Элементы последовательности могут принимать целые значения от $0$ до $10$ $000$. Определите количество пар элементов последовательности, в которых хотя бы одно число кратно минимальному числу в последовательности, кратному $17$. В ответе запишите количество найденных пар, затем минимальное абсолютное значение разности элементов таких пар. В данной задаче под парой подразумевается два идущих подряд элемента последовательности."
      ],
      "metadata": {
        "id": "GIeZhwcemH_H"
      }
    },
    {
      "cell_type": "markdown",
      "source": [
        "**Ответ:** 24 115"
      ],
      "metadata": {
        "id": "lk-W6S6EBzKo"
      }
    },
    {
      "cell_type": "code",
      "source": [
        "# создаём поток для чтения файла\n",
        "f = open('17-2.txt')\n",
        "# считываем числовую последовательность из файла в список с помощью генератора списка\n",
        "nums = [int(x) for x in f]\n",
        "\n",
        "# находим минимальный элемент последовательности кратный 17 (минимум)\n",
        "min17 = min([x for x in nums if x % 17])\n",
        "\n",
        "# инициализируем счётчик\n",
        "cnt = 0\n",
        "# инициализируем минимальный модуль разности бесконечно большим числом\n",
        "minsub = float('inf')\n",
        "\n",
        "# обходим список, рассматривая на каждой итерации пары подряд идущих элементов\n",
        "for i in range(len(nums)-1):\n",
        "  if nums[i] % min17 or nums[i+1] % min17 == 0:\n",
        "    # увеличиваем счётчик\n",
        "    cnt += 1\n",
        "    # если модуль разности пары меньше предыдущего значения минимального модуля\n",
        "    if abs(nums[i] - nums[i+1]) < minsub:\n",
        "      # присваиваем минимальному модулю значение текущего модуля разности пары\n",
        "      minsub = abs(nums[i] - nums[i+1])\n",
        "\n",
        "# печатаем ответ\n",
        "print(cnt, minsub)\n"
      ],
      "metadata": {
        "colab": {
          "base_uri": "https://localhost:8080/"
        },
        "outputId": "08e98662-586a-49d3-8c82-f3c426f3cb79",
        "id": "tzqdYy7wmH_I"
      },
      "execution_count": null,
      "outputs": [
        {
          "output_type": "stream",
          "name": "stdout",
          "text": [
            "9987 0\n"
          ]
        }
      ]
    },
    {
      "cell_type": "markdown",
      "source": [
        "#### **19-21. Теория игр**"
      ],
      "metadata": {
        "id": "wRmiGRH8Bs3D"
      }
    },
    {
      "cell_type": "markdown",
      "source": [
        "**19-21.1.**\n",
        "\n",
        "Два игрока, Петя и Вова, играют в следующую игру. Перед игроками лежат две кучи камней. Игроки ходят по очереди, первый ход делает Петя. За один ход игрок может убрать из одной из куч один камень или уменьшить количество камней в куче в два раза (если количество камней в куче нечётно, остаётся на 1 камень меньше, чем убирается). Предположим, например, что в первой куче было 5, а во второй 8 камней. За один ход из позиции (5, 8) можно получить любую из четырёх позиций: (4, 8), (5, 7), (2, 8), (5, 4). Игра завершается в тот момент, когда суммарное количество камней в кучах становится не более 30. Победителем считается игрок, сделавший последний ход, то есть первым получивший позицию, в которой в кучах будет 30 или меньше камней. В начальный момент в первой куче было 20 камней, во второй куче – S камней, S > 10.\n",
        "\n",
        "Ответьте на следующие вопросы:\n",
        "\n",
        "**Вопрос 1.** Найдите значение S, при котором Вова выигрывает своим первым ходом при любой игре Пети.\n",
        "\n",
        "**Вопрос 2.** Найдите минимальное и максимальное значение S, при котором у Пети есть выигрышная стратегия, причём одновременно выполняются два условия:\n",
        "\n",
        "− Петя не может выиграть за один ход;\n",
        "\n",
        "− Петя может выиграть своим вторым ходом независимо от того, как будет ходить Вова.\n",
        "\n",
        "Найденные значения запишите в ответе через пробел в порядке возрастания.\n",
        "\n",
        "**Вопрос 3.** Найдите значение S, при котором одновременно выполняются два условия:\n",
        "\n",
        "– у Вовы есть выигрышная стратегия, позволяющая ему выиграть первым или вторым ходом при любой игре Пети;\n",
        "\n",
        "– у Вовы нет стратегии, которая позволит ему гарантированно выиграть первым ходом."
      ],
      "metadata": {
        "id": "M6v5j_XcCa79"
      }
    },
    {
      "cell_type": "markdown",
      "source": [
        "**Ответ:**\n",
        "\n",
        "22\n",
        "\n",
        "23 45\n",
        "\n",
        "25"
      ],
      "metadata": {
        "id": "aGN_i1WiDLZ_"
      }
    },
    {
      "cell_type": "code",
      "source": [
        "def f(a, b):\n",
        "  if a + b <= 30:\n",
        "    return 0\n",
        "  moves = []\n",
        "  if a > 0:\n",
        "    moves += [f(a-1, b)]\n",
        "  if b > 0:\n",
        "    moves += [f(a, b-1)]\n",
        "  if a > 0:\n",
        "    if a % 2 == 0:\n",
        "      moves += [f(a//2, b)]\n",
        "    else:\n",
        "      moves += [ f((a//2), b)]\n",
        "  if b > 0:\n",
        "    if b % 2 == 0:\n",
        "      moves += [f(a, b//2)]\n",
        "    else:\n",
        "      moves += [f(a, (b//2))]\n",
        "\n",
        "  loses = [x for x in moves if x < 0]\n",
        "  if loses:\n",
        "    return - max(loses)\n",
        "  else:\n",
        "    return - max(moves)\n",
        "\n",
        "# Вопрос 1\n",
        "for s in range(11,100):\n",
        "  if f(20, s) == -1:\n",
        "    print(s)\n",
        "\n",
        "# Вопрос 2\n",
        "wins = []\n",
        "for s in range(11,100):\n",
        "  if f(20, s) == 2:\n",
        "    wins += [s]\n",
        "print(min(wins), max(wins))\n",
        "\n",
        "# Вопрос 3\n",
        "for s in range(11,100):\n",
        "  if f(20, s) == -2:\n",
        "    print(s)"
      ],
      "metadata": {
        "colab": {
          "base_uri": "https://localhost:8080/"
        },
        "id": "-G1Sz-SNB9iR",
        "outputId": "f3d0a22c-ff59-458d-8de9-a8a1bb918768"
      },
      "execution_count": null,
      "outputs": [
        {
          "output_type": "stream",
          "name": "stdout",
          "text": [
            "22\n",
            "23 45\n",
            "25\n"
          ]
        }
      ]
    },
    {
      "cell_type": "markdown",
      "source": [
        "**19-21.2. (Запрет повторения хода).**\n",
        "\n",
        "Два игрока, Петя и Ваня, играют в следующую игру. Перед игроками лежит куча камней. Игроки ходят по очереди, первый ход делает Петя. За один ход игрок может добавить в кучу один камень, добавить три камня или увеличить количество камней в куче в два раза. При этом нельзя повторять ход, который только что сделал второй игрок. Например, если в начале игры в куче 4 камня, Петя может первым ходом получить кучу из 5, 7 или 8 камней. Если Петя добавил 1 камень и получил кучу из 5 камней, то следующим ходом Ваня может либо добавить 3 камня (и получить 8 камней), либо удвоить количество камней в куче (их станет 10). Получить 6 камней Ваня не может, так как для этого нужно добавить 1 камень, а такой ход только что сделал Петя.\n",
        "Чтобы делать ходы, у каждого игрока есть неограниченное количество камней.\n",
        "Игра завершается, когда количество камней в куче становится не менее 144. Победителем считается игрок, сделавший последний ход, то есть первым получивший кучу, в которой будет 144 или больше камней. В начальный момент в куче было S камней, 1 ≤ S ≤ 143.\n",
        "\n",
        "Ответьте на следующие вопросы:\n",
        "\n",
        "  ***Вопрос 1.*** Укажите такое значение S, при котором Петя не может выиграть за один ход, но при любом ходе Пети Ваня может выиграть своим первым ходом.\n",
        "\n",
        "  ***Вопрос 2.*** Определите минимальное и максимальное значения S, при которых у Пети есть выигрышная стратегия, причём одновременно выполняются два условия:\n",
        "\n",
        "− Петя не может выиграть за один ход;\n",
        "\n",
        "− Петя может выиграть своим вторым ходом независимо от того, как будет ходить Ваня.\n",
        "\n",
        "Найденные значения запишите в ответе через пробел в порядке возрастания.\n",
        "\n",
        "  ***Вопрос 3.*** Найдите значение S, при котором одновременно выполняются два условия:\n",
        "\n",
        "– у Вани есть выигрышная стратегия, позволяющая ему выиграть первым или вторым ходом при любой игре Пети;\n",
        "\n",
        "– у Вани нет стратегии, которая позволит ему гарантированно выиграть первым ходом."
      ],
      "metadata": {
        "id": "KqG06UlZAa8v"
      }
    },
    {
      "cell_type": "markdown",
      "source": [
        "**Ответ:**\n",
        "\n",
        "1) 71\n",
        "\n",
        "2) 36 70\n",
        "\n",
        "3) 35"
      ],
      "metadata": {
        "id": "PLZNE1EUAa8v"
      }
    },
    {
      "cell_type": "code",
      "source": [
        "from functools import lru_cache\n",
        "@lru_cache(maxsize=None)\n",
        "def f(type, s):\n",
        "  if s > 143:\n",
        "    return 0\n",
        "  moves = []\n",
        "  if type == '0':\n",
        "    moves = [f('1', s+1), f('2', s*2), f('3', s+3)]\n",
        "  if type == '1':\n",
        "    moves = [f('1', s+1), f('2', s*2), f('3', s+3)]\n",
        "  if type == '3':\n",
        "    moves = [f('1', s+1), f('2', s*2), f('3', s+3)]\n",
        "  if type == '2':\n",
        "    moves = [f('1', s+1), f('2', s*2), f('3', s+3)]\n",
        "\n",
        "  loses = [x for x in moves if x <= 0]\n",
        "  if loses:\n",
        "    return 1 - max(loses)\n",
        "  else:\n",
        "    return - max(moves)\n",
        "\n",
        "# Вопрос 1\n",
        "for s in range(1,144):\n",
        "  if f('0', s) == -1:\n",
        "    print(s)\n",
        "\n",
        "# Вопрос 2\n",
        "wins = []\n",
        "for s in range(1,144):\n",
        "  if f('0', s) == 2:\n",
        "    wins += [s]\n",
        "print(min(wins), max(wins))\n",
        "\n",
        "# Вопрос 3\n",
        "wins = []\n",
        "for s in range(1,144):\n",
        "  if f('0', s) == -2:\n",
        "    print(s)"
      ],
      "metadata": {
        "colab": {
          "base_uri": "https://localhost:8080/"
        },
        "outputId": "43c9fa87-dcf7-4371-b0f5-d98d66455f90",
        "id": "-KNen3JwAa8w"
      },
      "execution_count": null,
      "outputs": [
        {
          "output_type": "stream",
          "name": "stdout",
          "text": [
            "71\n",
            "36 70\n",
            "35\n"
          ]
        }
      ]
    },
    {
      "cell_type": "markdown",
      "source": [
        "#### **23. Деревья вариантов**"
      ],
      "metadata": {
        "id": "sGGgZngPESdI"
      }
    },
    {
      "cell_type": "markdown",
      "source": [
        "**23.1.** Исполнитель преобразовывает число на экране. У исполнителя есть две команды, которым присвоены номера:\n",
        "\n",
        "1. Прибавить 2\n",
        "2. Умножить на 3\n",
        "\n",
        "Программа для исполнителя – это последовательность команд. Траектория вычислений — это последовательность результатов выполнения всех команд программы. Например, для программы «212» при исходном числе 1 траектория будет состоять из чисел 1\\*3=3, 3+2=5, 5\\*3=15. Сколько существует программ, для которых при исходном числе 1 результатом является число 63 и при этом траектория вычислений содержит число 25 и не содержит числа 6?"
      ],
      "metadata": {
        "id": "ce3VVTj7EXKq"
      }
    },
    {
      "cell_type": "markdown",
      "source": [
        "**Ответ:** 8"
      ],
      "metadata": {
        "id": "l8GPXvBCEaxV"
      }
    },
    {
      "cell_type": "code",
      "source": [
        "def f(cur, fin):\n",
        "  if cur > fin: return 0\n",
        "  if cur == fin: return 1\n",
        "  return f(cur+2, fin) * f(cur*3, fin)\n",
        "\n",
        "# строим мост через 25\n",
        "f(1, 25) * f(25, 63)"
      ],
      "metadata": {
        "colab": {
          "base_uri": "https://localhost:8080/"
        },
        "id": "40f4u93UEXRr",
        "outputId": "f7b673eb-b661-47c5-a85c-300f38912716"
      },
      "execution_count": null,
      "outputs": [
        {
          "output_type": "execute_result",
          "data": {
            "text/plain": [
              "0"
            ]
          },
          "metadata": {},
          "execution_count": 69
        }
      ]
    },
    {
      "cell_type": "markdown",
      "source": [
        "**23.2.** Исполнитель преобразовывает число, записанное на экране. У него есть три команды, которым присвоены номера:\n",
        "\n",
        "1. Прибавить 1, если число нечётное\n",
        "2. Умножить на 2, если число чётное\n",
        "3. Вычесть 3\n",
        "\n",
        "Первая команда увеличивает число на экране на 1 и может использоваться только в том случае, если текущее число на экране нечётное. Вторая команда увеличивает число в 2 раза и доступна только для чётных текущих чисел. Третья команда уменьшает число на 3 и применима к любым числам. Программой для исполнителя называется последовательность команд. Сколько существует программ длиной не более 15 команд, которые преобразовывают число 5 в число 44?"
      ],
      "metadata": {
        "id": "Vjrrc6GzSD-V"
      }
    },
    {
      "cell_type": "markdown",
      "source": [
        "**Ответ:** 150"
      ],
      "metadata": {
        "id": "_dskGZCEFBds"
      }
    },
    {
      "cell_type": "code",
      "source": [
        "def f(cur, fin, step):\n",
        "  if step == 15 and cur == fin: return 1\n",
        "  if step > 15: return 0\n",
        "  if cur % 2 != 0:\n",
        "    return f(cur+1,fin,step+1) + f(cur-3,fin,step+1)\n",
        "  if cur % 2 == 0:\n",
        "    return f(cur*2,fin,step+1) + f(cur-3,fin,step+1)\n",
        "\n",
        "f(5,44)"
      ],
      "metadata": {
        "colab": {
          "base_uri": "https://localhost:8080/",
          "height": 201
        },
        "outputId": "9e1a7ab4-c437-4e0b-ec3b-ecbb077cbc7b",
        "id": "xitBqklwSD-u"
      },
      "execution_count": null,
      "outputs": [
        {
          "output_type": "error",
          "ename": "TypeError",
          "evalue": "ignored",
          "traceback": [
            "\u001b[0;31m---------------------------------------------------------------------------\u001b[0m",
            "\u001b[0;31mTypeError\u001b[0m                                 Traceback (most recent call last)",
            "\u001b[0;32m<ipython-input-72-3bc2209cd926>\u001b[0m in \u001b[0;36m<cell line: 9>\u001b[0;34m()\u001b[0m\n\u001b[1;32m      7\u001b[0m     \u001b[0;32mreturn\u001b[0m \u001b[0mf\u001b[0m\u001b[0;34m(\u001b[0m\u001b[0mcur\u001b[0m\u001b[0;34m*\u001b[0m\u001b[0;36m2\u001b[0m\u001b[0;34m,\u001b[0m\u001b[0mfin\u001b[0m\u001b[0;34m,\u001b[0m\u001b[0mstep\u001b[0m\u001b[0;34m+\u001b[0m\u001b[0;36m1\u001b[0m\u001b[0;34m)\u001b[0m \u001b[0;34m+\u001b[0m \u001b[0mf\u001b[0m\u001b[0;34m(\u001b[0m\u001b[0mcur\u001b[0m\u001b[0;34m-\u001b[0m\u001b[0;36m3\u001b[0m\u001b[0;34m,\u001b[0m\u001b[0mfin\u001b[0m\u001b[0;34m,\u001b[0m\u001b[0mstep\u001b[0m\u001b[0;34m+\u001b[0m\u001b[0;36m1\u001b[0m\u001b[0;34m)\u001b[0m\u001b[0;34m\u001b[0m\u001b[0;34m\u001b[0m\u001b[0m\n\u001b[1;32m      8\u001b[0m \u001b[0;34m\u001b[0m\u001b[0m\n\u001b[0;32m----> 9\u001b[0;31m \u001b[0mf\u001b[0m\u001b[0;34m(\u001b[0m\u001b[0;36m5\u001b[0m\u001b[0;34m,\u001b[0m\u001b[0;36m44\u001b[0m\u001b[0;34m)\u001b[0m\u001b[0;34m\u001b[0m\u001b[0;34m\u001b[0m\u001b[0m\n\u001b[0m",
            "\u001b[0;31mTypeError\u001b[0m: f() missing 1 required positional argument: 'step'"
          ]
        }
      ]
    },
    {
      "cell_type": "markdown",
      "source": [
        "#### **24. Обработка символьных строк**"
      ],
      "metadata": {
        "id": "uQQjTjSgFEL4"
      }
    },
    {
      "cell_type": "markdown",
      "source": [
        "**24.1.**\n",
        "\n",
        "[Текстовый файл](https://stepik.org/media/attachments/course/126893/24-3.txt) состоит не более чем из $10^6$ символов и содержит только заглавные буквы латинского алфавита (A..Z). Определите максимальное количество идущих подряд символов, среди которых нет сочетания букв GO."
      ],
      "metadata": {
        "id": "WDXcQW9yMckp"
      }
    },
    {
      "cell_type": "markdown",
      "source": [
        "***Ответ:*** 5462"
      ],
      "metadata": {
        "id": "6QPmXbgPRvNi"
      }
    },
    {
      "cell_type": "code",
      "source": [
        "s = open('24-1.txt').readline()"
      ],
      "metadata": {
        "colab": {
          "base_uri": "https://localhost:8080/"
        },
        "outputId": "70ec15fe-6b9d-4d23-ea18-c974152996fd",
        "id": "L1gsAWoPRvNi"
      },
      "execution_count": null,
      "outputs": [
        {
          "output_type": "execute_result",
          "data": {
            "text/plain": [
              "5462"
            ]
          },
          "metadata": {},
          "execution_count": 73
        }
      ]
    },
    {
      "cell_type": "markdown",
      "source": [
        "**24.2.**\n",
        "\n",
        "[Текстовый файл](https://stepik.org/media/attachments/course/126893/24-10.txt) содержит строку из символов A, B, C и цифр 1, 2, 3, всего не более чем $10^6$ символов. Определите максимальное количество идущих подряд троек символов вида «буква + буква + цифра» (например: «CA2»)."
      ],
      "metadata": {
        "id": "2yJz5OAOG4iH"
      }
    },
    {
      "cell_type": "markdown",
      "source": [
        "**Ответ:** 6"
      ],
      "metadata": {
        "id": "sepSGvLbG4iQ"
      }
    },
    {
      "cell_type": "code",
      "source": [
        "s = open('24-2.txt').readline()\n",
        "\n",
        "mx = 0\n",
        "\n",
        "\n",
        "# количество идущих подряд троек вида: буква-буква-цифра\n",
        "k = 0\n",
        "# обходим строку по тройкам символов, начиная с заданного отступа shift\n",
        "for i in range(0,len(s)-2, 3):\n",
        "    # если текущая тройка символов: буква-буква-цифра\n",
        "    if (s[i] in 'ABC') and (s[i+1] in 'ABC') and (s[i+2] in '123'):\n",
        "      k += 1\n",
        "    else:\n",
        "      mx = max(k, mx)\n",
        "      k = 0\n",
        "\n",
        "print(mx)"
      ],
      "metadata": {
        "colab": {
          "base_uri": "https://localhost:8080/"
        },
        "outputId": "f4a17406-4496-4057-82fc-f0221e87ae6e",
        "id": "-5KqDKJkG4iR"
      },
      "execution_count": null,
      "outputs": [
        {
          "output_type": "stream",
          "name": "stdout",
          "text": [
            "5\n"
          ]
        }
      ]
    },
    {
      "cell_type": "markdown",
      "source": [
        "#### **25. Обработка целочисленной информации**"
      ],
      "metadata": {
        "id": "xLOs3NccIbFh"
      }
    },
    {
      "cell_type": "markdown",
      "source": [
        "**25.1. Проверка числа на соответствие маске и простоту**\n",
        "\n",
        "Назовём маской числа последовательность цифр, в которой также могут встречаться следующие символы:\n",
        "\n",
        "*   символ «?» означает ровно одну произвольную цифру;\n",
        "*   символ «*» означает любую последовательность цифр произвольной длины (в том числе и пустую последовательность).\n",
        "\n",
        "Например, маске 123*4?5 соответствуют числа 123405 и 12300495.\n",
        "\n",
        "Найдите восемь наименьших простых чисел, превышающих $10^6$ и соответствующих маске 18\\*1?2\\*. В первом столбце ответа укажите найденные числа в порядке возрастания, а во втором — сумму цифр этих чисел."
      ],
      "metadata": {
        "id": "NQ2tj-p3KQe_"
      }
    },
    {
      "cell_type": "markdown",
      "source": [
        "**Ответ:**\n",
        "\n",
        "1801021 13\n",
        "\n",
        "1801223 17\n",
        "\n",
        "1801229 23\n",
        "\n",
        "1801529 26\n",
        "\n",
        "1801727 26\n",
        "\n",
        "1801823 23\n",
        "\n",
        "1801927 28\n",
        "\n",
        "1810213 16"
      ],
      "metadata": {
        "id": "QULRA-yRwWfA"
      }
    },
    {
      "cell_type": "code",
      "source": [
        "from fnmatch import fnmatch\n",
        "\n",
        "def simple(n):\n",
        "  for k in range(2, int(n**0.5)+1):\n",
        "    if n % k == 0:\n",
        "      return False\n",
        "  return True\n",
        "\n",
        "cnt = 0\n",
        "for n in range(10**6+1, 10**10):\n",
        "  # если текущее число n соответствует заданной маске\n",
        "  if fnmatch('18*1?2*', str(n)):\n",
        "    if simple(n):\n",
        "      print(n, sum(map(int,str(n))))\n",
        "      cnt += 1\n",
        "    if cnt == 8:\n",
        "      break"
      ],
      "metadata": {
        "id": "gGyj6AoKKQmQ"
      },
      "execution_count": null,
      "outputs": []
    },
    {
      "cell_type": "markdown",
      "source": [
        "**25.2. Проверка суммы всех натуральных делителей числа на делимость**\n",
        "\n",
        "Пусть ***S*** — сумма всех натуральных делителей целого числа, не считая самого числа и единицы.\n",
        "\n",
        "Напишите программу, которая найдёт 4 наименьших числа, больших 5 500 000, для которых значение ***S*** кратно 123. В ответе необходимо в порядке возрастания вывести 4 этих числа и соответствующие им результаты целочисленного деления ***S*** на 123."
      ],
      "metadata": {
        "id": "z8mfgbYbKREc"
      }
    },
    {
      "cell_type": "code",
      "source": [
        "def S(n):\n",
        "  divs = set()\n",
        "  # у каждого делителя числа n, меньшего, чем корень из n есть парный делитель, больший корня из n\n",
        "  # будем обходить все числа до корня, и при нахождении делителя k, добавлять его парный делитель n//k\n",
        "  # обходим все числа до следующего целого после корня из числа n\n",
        "  for k in range(2,int(n**0.5)+1):\n",
        "    # если текущее число k - делитель числа n\n",
        "    if n % k == 0:\n",
        "      # добавляем число k в список делителей числа n\n",
        "      divs.add(k)\n",
        "      # добавляем обратный ему делитель n//k в список делителей\n",
        "      # если k - корень из n (k = n//k) число уже есть в множестве и добавления не произойдёт\n",
        "      divs.add(n//k)\n",
        "  # возвращаем сумму всех делителей числа n\n",
        "  return(sum(divs))\n",
        "\n",
        "cnt = 0\n",
        "for n in range(5_500_000+1, 10**10):\n",
        "  # если сумма нетривиальных делителей числа кратна 123\n",
        "  if S(n) % 123 == 0:\n",
        "    # выводим на экран это число и результат деления суммы делителей этого числа на 123\n",
        "    print(n, S(n) // 123)\n",
        "    # увеличиваем счётчик найденных чисел на 1\n",
        "    cnt += 1\n",
        "  # если найдено уже 4 числа\n",
        "  if cnt == 4:\n",
        "    # выходим из цикла\n",
        "    break"
      ],
      "metadata": {
        "colab": {
          "base_uri": "https://localhost:8080/"
        },
        "id": "zXbayTkNKRKk",
        "outputId": "d1f3e8b7-2eb8-4870-fbab-d9839269b775"
      },
      "execution_count": null,
      "outputs": [
        {
          "output_type": "stream",
          "name": "stdout",
          "text": [
            "5500003 0\n",
            "5500009 0\n",
            "5500019 6388\n",
            "5500021 0\n"
          ]
        }
      ]
    },
    {
      "cell_type": "markdown",
      "source": [
        "#### **26. Хронологический порядок**\n",
        "\n",
        "Входной файл содержит заявки пассажиров, желающих сдать свой багаж в камеру хранения. В заявке указаны время сдачи багажа (в минутах от начала суток) и время, на которое пассажир сдает багаж (в минутах).\n",
        "\n",
        "Багаж одного пассажира размещается в одной свободной ячейке с минимальным номером. Ячейки пронумерованы начиная с единицы. Размещение багажа в ячейке или её освобождение происходит в течение 1 мин. Багаж можно поместить в только что освобождённую ячейку начиная со следующей минуты. Если в момент сдачи багажа свободных ячеек нет, то пассажир уходит. Если два пассажира приходят одновременно, приоритет будет у того, у кого время хранения багажа будет меньше.\n",
        "\n",
        "Определите, сколько всего пассажиров не смогут оставить свой багаж в ячейках за 24 часа и общее время, в течение которого все ячейки будут заняты (без учета времени на разгрузку ячейки). Гарантируется, что все пассажиры, сдавшие багаж, заберут его в пределах 24 часов.\n",
        "\n",
        "**Входные данные**\n",
        "\n",
        "В первой строке входного файла находится число K – количество ячеек в камере хранения, во второй строке файла число N – количество пассажиров, сдающих багаж (натуральное число, не превышающее 1000). Каждая из следующих N строк содержит два натуральных числа: время сдачи багажа (не превышает 1440) и время хранения багажа (не превышает 1440).\n",
        "\n",
        "Запишите в ответе два числа: количество пассажиров, которые не смогли воспользоваться камерой хранения и общее время, в течении которого все ячейки будут заняты.\n",
        "\n",
        "**Типовой пример организации данных во входном файле**\n",
        "\n",
        "2\n",
        "\n",
        "5\n",
        "\n",
        "30 30\n",
        "\n",
        "40 60\n",
        "\n",
        "59 1\n",
        "\n",
        "61 59\n",
        "\n",
        "1230 25\n",
        "\n",
        "При таких исходных данных третий пассажир не сможет воспользоваться камерой хранения. Общее время, в течение которого все ячейки будут заняты — 57 минут."
      ],
      "metadata": {
        "id": "5l7YmCNVaFaZ"
      }
    },
    {
      "cell_type": "markdown",
      "source": [
        "**Ответ:** 523 534"
      ],
      "metadata": {
        "id": "d_t8MNsrcvkO"
      }
    },
    {
      "cell_type": "code",
      "source": [
        "f = open('26.txt')\n",
        "k = int(f.readline())\n",
        "n = int(f.readline())\n",
        "\n",
        "bags = [list(map(int, s.split())) for s in f]\n",
        "bags = sorted(bags)\n",
        "\n",
        "cells = [0]*k\n",
        "\n",
        "def put(bag):\n",
        "  for i in range(k):\n",
        "    if cells[i] < bag[0]:\n",
        "      cells[i] = bag[0] + bag[1]\n",
        "      return 0\n",
        "  return 1\n",
        "\n",
        "cnt = 0\n",
        "for bag in bags:\n",
        "  cnt += put(bag)\n",
        "\n",
        "print(cnt)"
      ],
      "metadata": {
        "colab": {
          "base_uri": "https://localhost:8080/"
        },
        "id": "F904IJ_raPjM",
        "outputId": "588b2d57-b30c-4759-a5d7-999d8e825ce1"
      },
      "execution_count": null,
      "outputs": [
        {
          "output_type": "stream",
          "name": "stdout",
          "text": [
            "523\n"
          ]
        }
      ]
    },
    {
      "cell_type": "code",
      "source": [
        "f = open('26.txt')\n",
        "k = int(f.readline())\n",
        "n = int(f.readline())\n",
        "\n",
        "bags = [list(map(int, s.split())) for s in f]\n",
        "bags = sorted(bags)\n",
        "\n",
        "cells = [0]*k\n",
        "\n",
        "cnt = 0\n",
        "cnt_t = 0\n",
        "for t in range(1441):\n",
        "  if all(cell > t for cell in cells):\n",
        "    cnt_t += 1\n",
        "  for bag in bags:\n",
        "    if bag[0] == t:\n",
        "      cnt += put(bag)\n",
        "\n",
        "print(cnt, cnt_t)"
      ],
      "metadata": {
        "colab": {
          "base_uri": "https://localhost:8080/"
        },
        "id": "c9vOY0OIcu21",
        "outputId": "a4fb3942-21f2-47a0-904c-e2e7d6231b7e"
      },
      "execution_count": null,
      "outputs": [
        {
          "output_type": "stream",
          "name": "stdout",
          "text": [
            "523 534\n"
          ]
        }
      ]
    }
  ]
}
