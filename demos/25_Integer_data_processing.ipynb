{
  "nbformat": 4,
  "nbformat_minor": 0,
  "metadata": {
    "colab": {
      "provenance": [],
      "authorship_tag": "ABX9TyOJ9Lc3nn1UovWG1aljxbXg",
      "include_colab_link": true
    },
    "kernelspec": {
      "name": "python3",
      "display_name": "Python 3"
    },
    "language_info": {
      "name": "python"
    }
  },
  "cells": [
    {
      "cell_type": "markdown",
      "metadata": {
        "id": "view-in-github",
        "colab_type": "text"
      },
      "source": [
        "<a href=\"https://colab.research.google.com/github/USE-Computer-Science/lectures/blob/main/demos/25_Integer_data_processing.ipynb\" target=\"_parent\"><img src=\"https://colab.research.google.com/assets/colab-badge.svg\" alt=\"Open In Colab\"/></a>"
      ]
    },
    {
      "cell_type": "markdown",
      "source": [
        "#### **1. Проверка соответствия маске числа**"
      ],
      "metadata": {
        "id": "qo5uxifuJTad"
      }
    },
    {
      "cell_type": "markdown",
      "source": [
        "**Пример 1. Проверка числа на соответствие маске и делимость**\n",
        "\n",
        "Назовём маской числа последовательность цифр, в которой также могут встречаться следующие символы:\n",
        "\n",
        "\n",
        "*   символ ? означает ровно одну произвольную цифру;\n",
        "*   символ * означает любую последовательность цифр произвольной длины; в том числе * может задавать и пустую последовательность.\n",
        "\n",
        "Например, маске 123*4?5 соответствуют числа 123405 и 12300495.\n",
        "\n",
        "Среди натуральных чисел, не превышающих $10^8$, найдите все числа, соответствующие маске 90*210, делящиеся на 111 без остатка. В первом столбце ответа укажите все найденные числа в порядке возрастания, а во втором — соответствующие результаты деления этих чисел на 111. "
      ],
      "metadata": {
        "id": "m3qvy27gKP61"
      }
    },
    {
      "cell_type": "code",
      "source": [
        "from fnmatch import fnmatch\n",
        "for n in range(111, 10**8, 111):\n",
        "  if fnmatch(str(n), '90*210'):\n",
        "    if n % 111 == 0:\n",
        "      print(n, n//111)"
      ],
      "metadata": {
        "colab": {
          "base_uri": "https://localhost:8080/"
        },
        "id": "ISK-fiWQKQB9",
        "outputId": "46b61bbf-d3d9-4d2a-8952-785b6bb9aab3"
      },
      "execution_count": null,
      "outputs": [
        {
          "output_type": "stream",
          "name": "stdout",
          "text": [
            "900210 8110\n",
            "9003210 81110\n",
            "90033210 811110\n",
            "90144210 812110\n",
            "90255210 813110\n",
            "90366210 814110\n",
            "90477210 815110\n",
            "90588210 816110\n",
            "90699210 817110\n",
            "90810210 818110\n",
            "90921210 819110\n"
          ]
        }
      ]
    },
    {
      "cell_type": "markdown",
      "source": [
        "**Пример 2. Проверка соответствия маске и подсчёт количества натуральных делителей числа**\n",
        "\n",
        "Назовём маской числа последовательность цифр, в которой также могут встречаться следующие символы:\n",
        "\n",
        "*   символ ? означает ровно одну произвольную цифру;\n",
        "*   символ * означает любую последовательность цифр произвольной длины; в том числе * может задавать и пустую последовательность.\n",
        "\n",
        "Например, маске 123*4?5 соответствуют числа 123405 и 12300495.\n",
        "\n",
        "Среди натуральных чисел, не превышающих $10^8$, найдите семь наибольших чисел, соответствующих маске 3\\*14?1\\*, имеющих ровно 42 натуральных делителя. В первом столбце ответа укажите все найденные числа в порядке возрастания, а во втором — их наибольшие натуральные делители. "
      ],
      "metadata": {
        "id": "1b1syemIKQIV"
      }
    },
    {
      "cell_type": "code",
      "source": [
        "from fnmatch import fnmatch\n",
        "def D(n):\n",
        "  mx = 0\n",
        "  num = 0\n",
        "  for k in range(2,int(n**0.5)+1):\n",
        "    if n % k == 0:\n",
        "      if mx == 0:\n",
        "        mx = n // k\n",
        "      num += 1\n",
        "      if k != n//k:\n",
        "        num += 1\n",
        "  return num, mx\n",
        "\n",
        "cnt = 7\n",
        "for n in range(10**8, 0, -1):\n",
        "  if fnmatch(str(n), '9*55?0*'):\n",
        "    num, mx = D(n)\n",
        "    if num == 42:\n",
        "      print(n, mx)\n",
        "      cnt -= 1\n",
        "    if cnt == 0:\n",
        "      break"
      ],
      "metadata": {
        "colab": {
          "base_uri": "https://localhost:8080/"
        },
        "id": "47LiBU8SKQNs",
        "outputId": "c2f2d7df-4077-4396-fdf3-646a83e3cd08"
      },
      "execution_count": null,
      "outputs": [
        {
          "output_type": "stream",
          "name": "stdout",
          "text": [
            "99755008 49877504\n",
            "99435520 49717760\n",
            "97455104 48727552\n",
            "96558080 48279040\n",
            "95595520 47797760\n",
            "95550464 47775232\n",
            "95540224 47770112\n"
          ]
        }
      ]
    },
    {
      "cell_type": "markdown",
      "source": [
        "**Пример 3. Проверка делимости на числа, соответствующие маске**"
      ],
      "metadata": {
        "id": "_I0tBeUAKQTn"
      }
    },
    {
      "cell_type": "code",
      "source": [],
      "metadata": {
        "id": "hWeK0vCZKQY1"
      },
      "execution_count": null,
      "outputs": []
    },
    {
      "cell_type": "markdown",
      "source": [
        "**Пример 4. Проверка числа на соответствие маске и простоту**\n",
        "\n",
        "Назовём маской числа последовательность цифр, в которой также могут встречаться следующие символы:\n",
        "\n",
        "\n",
        "*   символ ? означает ровно одну произвольную цифру;\n",
        "*   символ * означает любую последовательность цифр произвольной длины; в том числе * может задавать и пустую последовательность.\n",
        "\n",
        "Например, маске 123*4?5 соответствуют числа 123405 и 12300495.\n",
        "\n",
        "Найдите восемь наибольших простых чисел, не превышающих $10^9$ и соответствующих маске 11\\*5?7\\*. В первом столбце ответа укажите все найденные числа в порядке возрастания, а во втором — сумму цифр этих чисел. "
      ],
      "metadata": {
        "id": "NQ2tj-p3KQe_"
      }
    },
    {
      "cell_type": "code",
      "source": [
        "def simple(n):\n",
        "  for k in range(2, int(n**0.5)+1):\n",
        "    if n % k == 0:\n",
        "      return False\n",
        "  return True\n",
        "\n",
        "cnt = 0\n",
        "for n in range(10**5, 0, -1):\n",
        "  if fnmatch(str(n), '11*5?7*'):\n",
        "    if simple(n):\n",
        "      print(n, sum(map(int,str(n))))\n",
        "      cnt += 1\n",
        "    if cnt == 8:\n",
        "      break\n",
        "\n"
      ],
      "metadata": {
        "colab": {
          "base_uri": "https://localhost:8080/"
        },
        "id": "gGyj6AoKKQmQ",
        "outputId": "c19547ca-0fb2-4be6-a186-5ef31d7a2770"
      },
      "execution_count": null,
      "outputs": [
        {
          "output_type": "stream",
          "name": "stdout",
          "text": [
            "11597 23\n",
            "11587 22\n",
            "11527 16\n"
          ]
        }
      ]
    },
    {
      "cell_type": "markdown",
      "source": [
        "#### **2. Поиск делителей числа**"
      ],
      "metadata": {
        "id": "KEru7k2pJTgF"
      }
    },
    {
      "cell_type": "markdown",
      "source": [
        "**Пример 1. Проверка суммы всех натуральных делителей числа на делимость**\n",
        "\n",
        "Пусть ***S*** — сумма всех натуральных делителей целого числа, не считая самого числа и единицы.\n",
        "\n",
        "Напишите программу, которая найдёт 4 наименьших числа, больших 5 500 000, для которых значение ***S*** кратно 123. В ответе необходимо в порядке возрастания вывести 4 первых найденных таких числа и соответствующие им значения ***S***. "
      ],
      "metadata": {
        "id": "z8mfgbYbKREc"
      }
    },
    {
      "cell_type": "code",
      "source": [
        "def S(n):\n",
        "  divs = set()\n",
        "  for k in range(2, int(n**0.5)+1):\n",
        "    if n % k == 0:\n",
        "      divs.add(k)\n",
        "      divs.add(n//k)\n",
        "  return(sum(divs))\n",
        "\n",
        "\n",
        "cnt = 0\n",
        "for n in range(5_500_000, 10**10):\n",
        "  if S(n) % 123 == 0 and S(n) != 0:\n",
        "    print(n, S(n))\n",
        "    cnt += 1\n",
        "  if cnt == 4:\n",
        "    break"
      ],
      "metadata": {
        "colab": {
          "base_uri": "https://localhost:8080/"
        },
        "id": "zXbayTkNKRKk",
        "outputId": "ecb43471-87ab-4e42-a66f-b3e53151ee4d"
      },
      "execution_count": null,
      "outputs": [
        {
          "output_type": "stream",
          "name": "stdout",
          "text": [
            "5500019 785724\n",
            "5500144 6360207\n",
            "5500388 4471419\n",
            "5500641 1853118\n"
          ]
        }
      ]
    },
    {
      "cell_type": "markdown",
      "source": [
        "**Пример 2. Проверка окончания модуля разности двух наибольших натуральных делителей числа**\n",
        "\n",
        "Пусть ***M*** — модуль разности двух наибольших нетривиальных (не считая самого числа) натуральных делителей целого числа.\n",
        "\n",
        "Напишите программу, которая перебирает целые числа, большие 777 000 в порядке возрастания и ищет среди них такие, для которых значение ***M*** оканчивается на 1. Необходимо вывести в порядке возрастания 5 первых найденных таких чисел и соответствующие им значения ***M***. "
      ],
      "metadata": {
        "id": "A6MH7ZRhKRQP"
      }
    },
    {
      "cell_type": "code",
      "source": [
        "def M(n):\n",
        "  m = 0\n",
        "  for k in range(2,int(n**0.5)+1):\n",
        "    if n % k == 0:\n",
        "      if m != 0:\n",
        "        return abs(m - n//k)\n",
        "      m = n // k\n",
        "  return 0\n",
        "\n",
        "cnt = 0\n",
        "for n in range(777_000, 10**9):\n",
        "  if M(n) % 10 == 1:\n",
        "    print(n, M(n))\n",
        "    cnt += 1\n",
        "  if cnt == 7:\n",
        "    break"
      ],
      "metadata": {
        "colab": {
          "base_uri": "https://localhost:8080/"
        },
        "id": "hVOrqrveKRVD",
        "outputId": "8aed0fcc-2320-4374-8ca2-80795976d6e2"
      },
      "execution_count": null,
      "outputs": [
        {
          "output_type": "stream",
          "name": "stdout",
          "text": [
            "777004 194251\n",
            "777006 129501\n",
            "777044 194261\n",
            "777066 129511\n",
            "777070 233121\n",
            "777086 373881\n",
            "777124 194281\n"
          ]
        }
      ]
    },
    {
      "cell_type": "markdown",
      "source": [
        "**Пример 3. Проверка суммы максимального и минимального делителей числа на простоту**\n",
        "\n",
        "Пусть ***S*** — сумма максимального и минимального натуральных делителей целого числа, не считая самого этого числа и единицы. Если таких делителей у числа нет — будем считать ***S*** равным нулю.\n",
        "\n",
        "Напишите программу, которая перебирает целые числа, большие 10 000 000 в порядке возрастания и ищет среди них такие, для которых значение ***S*** является простым числом. В ответе необходимо вывести в порядке возрастания 6 первых найденных таких чисел и соответствующие им значения ***S***. "
      ],
      "metadata": {
        "id": "EgaqUGqQKRaN"
      }
    },
    {
      "cell_type": "code",
      "source": [
        "# функция проверки числа на простоту\n",
        "def simple(n):\n",
        "  for k in range(2, int(n**0.5)+1):\n",
        "    if n % k == 0:\n",
        "      return False\n",
        "  return True\n",
        "\n",
        "# функция поиска суммы max и min делителя числа\n",
        "def S(n):\n",
        "  for d in range(2, int(n**0.5)+1):\n",
        "    if n % d == 0:\n",
        "      return d + n//d\n",
        "  return 0\n",
        "\n",
        "cnt = 0\n",
        "for n in range(10**7, 10**10):\n",
        "    if simple(S(n)) and S(n) != 0:\n",
        "      print(n, S(n))\n",
        "      cnt += 1\n",
        "    if cnt == 6:\n",
        "      break\n",
        "\n"
      ],
      "metadata": {
        "colab": {
          "base_uri": "https://localhost:8080/"
        },
        "id": "B6AzeqK5KRft",
        "outputId": "1dccb47d-a4d5-43f7-ccc7-7808178ab91e"
      },
      "execution_count": null,
      "outputs": [
        {
          "output_type": "stream",
          "name": "stdout",
          "text": [
            "10000018 5000011\n",
            "10000150 5000077\n",
            "10000158 5000081\n",
            "10000170 5000087\n",
            "10000198 5000101\n",
            "10000218 5000111\n"
          ]
        }
      ]
    },
    {
      "cell_type": "markdown",
      "source": [
        "**Пример 4. Поиск чисел, имеющих заданное количество простых делителей**\n",
        "\n",
        "Пусть ***C*** — количество всех натуральных делителей целого числа, являющихся простыми числами, не считая самого числа.\n",
        "\n",
        "Напишите программу, которая перебирает целые числа, большие 500 000 в порядке возрастания и ищет среди них такие, для которых значение ***C*** не меньше пяти. Необходимо вывести в порядке возрастания 5 первых найденных таких чисел и соответствующие им значения ***C***. "
      ],
      "metadata": {
        "id": "3AkDZz3wKRlG"
      }
    },
    {
      "cell_type": "code",
      "source": [
        "from math import ceil\n",
        "\n",
        "def simple(n):\n",
        "  for k in range(2, int(n**0.5)+1):\n",
        "    if n % k == 0:\n",
        "      return False\n",
        "  return True\n",
        "\n",
        "def C(n):\n",
        "  cnt = 0\n",
        "  for k in range(2, int(n**0.5)+1):\n",
        "    if n % k == 0 and simple(k):\n",
        "      cnt += 1\n",
        "    d = n//k\n",
        "    if d != k and n % d == 0 and simple(d):\n",
        "      cnt += 1\n",
        "  return cnt\n",
        "\n",
        "cnt = 0\n",
        "for n in range (500001,10**9):\n",
        "  if C(n) >= 5 and C(n) != 0:\n",
        "    print(n, C(n))\n",
        "    cnt += 1\n",
        "  if cnt == 5:\n",
        "    break"
      ],
      "metadata": {
        "colab": {
          "base_uri": "https://localhost:8080/"
        },
        "id": "94MShQSmKRqF",
        "outputId": "97f4e11c-cdd9-4afe-e0a7-8fc1cb6ba997"
      },
      "execution_count": null,
      "outputs": [
        {
          "output_type": "stream",
          "name": "stdout",
          "text": [
            "500004 5\n",
            "500010 5\n",
            "500038 5\n",
            "500055 5\n",
            "500070 5\n"
          ]
        }
      ]
    },
    {
      "cell_type": "markdown",
      "source": [
        "#### **Домашнее задание**"
      ],
      "metadata": {
        "id": "idcM6IyPJTlV"
      }
    },
    {
      "cell_type": "markdown",
      "source": [
        "##### **1. Проверка соответствия маске числа**"
      ],
      "metadata": {
        "id": "P9iFWqgiKMeK"
      }
    },
    {
      "cell_type": "markdown",
      "source": [
        "**1.1. Проверка числа на соответствие маске и делимость** "
      ],
      "metadata": {
        "id": "xdVtoo_SKcJz"
      }
    },
    {
      "cell_type": "code",
      "source": [],
      "metadata": {
        "id": "M-0CvowOKcQ5"
      },
      "execution_count": null,
      "outputs": []
    },
    {
      "cell_type": "markdown",
      "source": [
        "**1.2. Проверка числа на несоответствие маске и делимость**"
      ],
      "metadata": {
        "id": "QUiWzd0zKgHj"
      }
    },
    {
      "cell_type": "code",
      "source": [],
      "metadata": {
        "id": "8m7TOJBsKgHk"
      },
      "execution_count": null,
      "outputs": []
    },
    {
      "cell_type": "markdown",
      "source": [
        "**1.3. Проверка на несоответствие группе масок и делимость**"
      ],
      "metadata": {
        "id": "sZ_d2ZntKgSQ"
      }
    },
    {
      "cell_type": "code",
      "source": [],
      "metadata": {
        "id": "j0KxoBxfKgSQ"
      },
      "execution_count": null,
      "outputs": []
    },
    {
      "cell_type": "markdown",
      "source": [
        "**1.4. Проверка соответствия группе масок и кратности суммы цифр числа**"
      ],
      "metadata": {
        "id": "8Cggd_omKgZv"
      }
    },
    {
      "cell_type": "code",
      "source": [],
      "metadata": {
        "id": "VQdt6gdgKgZv"
      },
      "execution_count": null,
      "outputs": []
    },
    {
      "cell_type": "markdown",
      "source": [
        "**1.5. Проверка на соответствие маске с чётными и нечётными цифрами**"
      ],
      "metadata": {
        "id": "oWr6AlvNKgg_"
      }
    },
    {
      "cell_type": "code",
      "source": [],
      "metadata": {
        "id": "gSZR4kR5Kgg_"
      },
      "execution_count": null,
      "outputs": []
    },
    {
      "cell_type": "markdown",
      "source": [
        "**1.6. Проверка на соответствие маске и количество натуральных делителей**"
      ],
      "metadata": {
        "id": "fR7KFPJpKgnS"
      }
    },
    {
      "cell_type": "code",
      "source": [],
      "metadata": {
        "id": "OWRNHj-mKgnT"
      },
      "execution_count": null,
      "outputs": []
    },
    {
      "cell_type": "markdown",
      "source": [
        "**1.7. Проверка на соответствие маске и нечётное количество натуральных делителей**"
      ],
      "metadata": {
        "id": "gU_UPt3KKguP"
      }
    },
    {
      "cell_type": "code",
      "source": [],
      "metadata": {
        "id": "nIkQ_G-YKguP"
      },
      "execution_count": null,
      "outputs": []
    },
    {
      "cell_type": "markdown",
      "source": [
        "**1.8. Проверка числа на делимость на числа, соответствующие маске**"
      ],
      "metadata": {
        "id": "ljWOaPltKg0P"
      }
    },
    {
      "cell_type": "code",
      "source": [],
      "metadata": {
        "id": "aRNL-No7Kg0Q"
      },
      "execution_count": null,
      "outputs": []
    },
    {
      "cell_type": "markdown",
      "source": [
        "**1.9. Проверка соответствия маске и делимости ровно на 1 число, соответвующее маске**"
      ],
      "metadata": {
        "id": "fFcyVwIOKg7P"
      }
    },
    {
      "cell_type": "code",
      "source": [],
      "metadata": {
        "id": "whmBu3NoKg7P"
      },
      "execution_count": null,
      "outputs": []
    },
    {
      "cell_type": "markdown",
      "source": [
        "**1.10. Проверка на соответствие маске и простоту**"
      ],
      "metadata": {
        "id": "rDGNoeuFKhBw"
      }
    },
    {
      "cell_type": "code",
      "source": [],
      "metadata": {
        "id": "QL85EsKMKhBw"
      },
      "execution_count": null,
      "outputs": []
    },
    {
      "cell_type": "markdown",
      "source": [
        "##### **2. Поиск делителей числа**"
      ],
      "metadata": {
        "id": "ypYYBxbMKMeM"
      }
    },
    {
      "cell_type": "markdown",
      "source": [
        "**2.1. Проверка разности max и min натуральных делителей числа на делимость**"
      ],
      "metadata": {
        "id": "BIO1HR5vKvO0"
      }
    },
    {
      "cell_type": "code",
      "source": [],
      "metadata": {
        "id": "C0v4dlSNKvO1"
      },
      "execution_count": null,
      "outputs": []
    },
    {
      "cell_type": "markdown",
      "source": [
        "**2.2. Проверка окончания суммы max и min натуральных делителей числа**"
      ],
      "metadata": {
        "id": "rUrzgydUKvO1"
      }
    },
    {
      "cell_type": "code",
      "source": [],
      "metadata": {
        "id": "f2QNf0zbKzbK"
      },
      "execution_count": null,
      "outputs": []
    },
    {
      "cell_type": "markdown",
      "source": [
        "**2.3. Проверка суммы всех натуральных делителей числа на делимость**"
      ],
      "metadata": {
        "id": "5xT3pO5kKvO1"
      }
    },
    {
      "cell_type": "code",
      "source": [],
      "metadata": {
        "id": "xi0E8PbXKvO2"
      },
      "execution_count": null,
      "outputs": []
    },
    {
      "cell_type": "markdown",
      "source": [
        "**2.4. Проверка окончания среднего арифметического всех натуральных делителей числа**"
      ],
      "metadata": {
        "id": "GsMRR8rvKvO2"
      }
    },
    {
      "cell_type": "code",
      "source": [],
      "metadata": {
        "id": "C2YdYGpeKvO2"
      },
      "execution_count": null,
      "outputs": []
    },
    {
      "cell_type": "markdown",
      "source": [
        "**2.5. Проверка модуля разности двух наибольших натуральных делителей числа на делимость**"
      ],
      "metadata": {
        "id": "5GDTygBsKvO3"
      }
    },
    {
      "cell_type": "code",
      "source": [],
      "metadata": {
        "id": "LJIe3li-KvO3"
      },
      "execution_count": null,
      "outputs": []
    },
    {
      "cell_type": "markdown",
      "source": [
        "**2.6. Проверка простоты наибольшего делителя**"
      ],
      "metadata": {
        "id": "MI1Jc3VLKvO2"
      }
    },
    {
      "cell_type": "code",
      "source": [],
      "metadata": {
        "id": "Vlue8tykKvO2"
      },
      "execution_count": null,
      "outputs": []
    },
    {
      "cell_type": "markdown",
      "source": [
        "**2.7. Проверка существования делителя с заданным окончанием**"
      ],
      "metadata": {
        "id": "BjQ-DuXzKvO3"
      }
    },
    {
      "cell_type": "code",
      "source": [
        "\n"
      ],
      "metadata": {
        "id": "OAm_iCAJKvO3"
      },
      "execution_count": null,
      "outputs": []
    },
    {
      "cell_type": "markdown",
      "source": [
        "**2.8.Проверка суммы двух наибольших натуральных делителей числа на простоту**"
      ],
      "metadata": {
        "id": "RR-9pKTgKvO4"
      }
    },
    {
      "cell_type": "code",
      "source": [],
      "metadata": {
        "id": "NBBc4nKBKvO4"
      },
      "execution_count": null,
      "outputs": []
    },
    {
      "cell_type": "markdown",
      "source": [
        "**2.9. Поиск чисел, сумма простых делителей которых оканчивается на число**"
      ],
      "metadata": {
        "id": "FRsAJgaxKvO4"
      }
    },
    {
      "cell_type": "code",
      "source": [],
      "metadata": {
        "id": "2GgLfmfmKvO4"
      },
      "execution_count": null,
      "outputs": []
    },
    {
      "cell_type": "markdown",
      "source": [
        "**2.10. Поиск чисел, имеющих заданное количество простых делителей числа**"
      ],
      "metadata": {
        "id": "zLAL_vraKvO4"
      }
    },
    {
      "cell_type": "code",
      "source": [],
      "metadata": {
        "id": "lSH7aKsDKvO5"
      },
      "execution_count": null,
      "outputs": []
    }
  ]
}