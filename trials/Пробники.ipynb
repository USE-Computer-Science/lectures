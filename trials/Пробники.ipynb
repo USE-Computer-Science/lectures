{
  "nbformat": 4,
  "nbformat_minor": 0,
  "metadata": {
    "colab": {
      "provenance": [],
      "collapsed_sections": [
        "Pv1jXWAgr9FU",
        "NunApWdT8KUW",
        "q6jimElq8Sju"
      ],
      "authorship_tag": "ABX9TyNWRy8Oj7B4h6K+2KJbSJXL",
      "include_colab_link": true
    },
    "kernelspec": {
      "name": "python3",
      "display_name": "Python 3"
    },
    "language_info": {
      "name": "python"
    }
  },
  "cells": [
    {
      "cell_type": "markdown",
      "metadata": {
        "id": "view-in-github",
        "colab_type": "text"
      },
      "source": [
        "<a href=\"https://colab.research.google.com/github/USE-Computer-Science/lectures/blob/main/trials/%D0%9F%D1%80%D0%BE%D0%B1%D0%BD%D0%B8%D0%BA%D0%B8.ipynb\" target=\"_parent\"><img src=\"https://colab.research.google.com/assets/colab-badge.svg\" alt=\"Open In Colab\"/></a>"
      ]
    },
    {
      "cell_type": "markdown",
      "source": [
        "#### **Пробник №1**"
      ],
      "metadata": {
        "id": "Pv1jXWAgr9FU"
      }
    },
    {
      "cell_type": "markdown",
      "source": [
        "**Задание 5.**\n",
        "\n",
        "На вход алгоритма подаётся натуральное число $N$. Алгоритм строит по нему новое число R следующим образом.\n",
        "\n",
        "1. Строится двоичная запись числа $N$.\n",
        "\n",
        "2. Далее эта запись обрабатывается по следующему правилу:\n",
        "\n",
        "  а) если число кратно 3, тогда в конец дописывается три младших разряда полученной двоичной записи,\n",
        "\n",
        "  б) если число не кратно 3, тогда в конец дописывается двоичная последовательность, являющаяся результатом умножения 3 на остаток от деления числа $N$ на 3.\n",
        "\n",
        "Полученная таким образом запись является двоичной записью искомого числа $R$.\n",
        "\n",
        "Например, для исходного числа $5_{10} = 101_2$ результатом является число $101110_2 = 46_{10}$, а для исходного числа $9_{10} = 1001_2$ результатом является число $1001001_2 = 73_{10}$. Укажите наибольшее число $N$, после обработки которого с помощью этого алгоритма получается число $R$, меньшее 100. В ответе запишите это число в десятичной системе счисления."
      ],
      "metadata": {
        "id": "4B7uM45Jhouc"
      }
    },
    {
      "cell_type": "markdown",
      "source": [
        "**Ответ:** 22"
      ],
      "metadata": {
        "id": "e0_9CM4h-y9s"
      }
    },
    {
      "cell_type": "code",
      "source": [
        "def R(n):\n",
        "  b = bin(n)[2:]\n",
        "  if n % 3 == 0:\n",
        "    b = b + b[-3:]\n",
        "  else:\n",
        "    b = b + bin(3*(n%3))[2:]\n",
        "  return int(b,2)\n",
        "\n",
        "answer = 0\n",
        "for n in range(200):\n",
        "  if R(n) < 100:\n",
        "    answer = n\n",
        "answer"
      ],
      "metadata": {
        "colab": {
          "base_uri": "https://localhost:8080/"
        },
        "id": "ru0EcOx9-y9s",
        "outputId": "1281ecca-00df-40b7-82e5-184d69cce1c3"
      },
      "execution_count": null,
      "outputs": [
        {
          "output_type": "execute_result",
          "data": {
            "text/plain": [
              "22"
            ]
          },
          "metadata": {},
          "execution_count": 32
        }
      ]
    },
    {
      "cell_type": "markdown",
      "source": [
        "**Задание 9.**\n",
        "\n",
        "Откройте [файл](https://kompege.ru/files/HMTizHDz3.xls) электронной таблицы, содержащей в каждой строке пять натуральных чисел.\n",
        "\n",
        "Определите количество строк таблицы, содержащих числа, для которых выполнены оба условия:\n",
        "\n",
        "- каждое число в строке встречается по одному разу,\n",
        "\n",
        "- утроенная сумма максимального и минимального значений не превышает удвоенной суммы оставшихся чисел.\n",
        "\n",
        "В ответе запишите только число.\n"
      ],
      "metadata": {
        "id": "0sJmXfOwmTH5"
      }
    },
    {
      "cell_type": "markdown",
      "source": [
        "**Ответ:** 853"
      ],
      "metadata": {
        "id": "GEPkrpvz-za8"
      }
    },
    {
      "cell_type": "code",
      "source": [
        "# сохранение\n",
        "\n",
        "f = open('9.tsv')\n",
        "\n",
        "# счётчик подходящих строк\n",
        "cnt = 0\n",
        "for s in f:\n",
        "  # построчно считываем файл в список\n",
        "  row = list(map(int,s.split()))\n",
        "  # пропускаем строки, в которых есть повторяющиеся элементы\n",
        "  if len(row) != len(set(row)):\n",
        "    continue\n",
        "  \n",
        "  #row = sorted(row)\n",
        "  #if 3*(row[0] + row[4]) <= 2*(row[1] + row[2] + row[3]):\n",
        "  \n",
        "  # если утроенная сумма макс и мин значений строки не превышает удвоенной суммы оставшихся чисел\n",
        "  if 3*(min(row) + max(row)) <= 2*(sum(row) - min(row) - max(row)):\n",
        "    # увеличиваем счётчик на 1\n",
        "    cnt += 1\n",
        "print(cnt)"
      ],
      "metadata": {
        "id": "EQwsOEwj-za8",
        "colab": {
          "base_uri": "https://localhost:8080/"
        },
        "outputId": "d2c24f01-713a-44aa-8edb-f33d821f485e"
      },
      "execution_count": null,
      "outputs": [
        {
          "output_type": "stream",
          "name": "stdout",
          "text": [
            "853\n"
          ]
        }
      ]
    },
    {
      "cell_type": "markdown",
      "source": [
        "**Задание 11.**\n",
        "\n",
        "При регистрации в компьютерной системе каждому объекту присваивается идентификатор, состоящий из 113 символов и содержащий только десятичные цифры и символы из 2025-символьного специального алфавита. В базе данных для хранения каждого идентификатора отведено одинаковое и минимально возможное целое число байт. При этом используют посимвольное кодирование идентификаторов, все символы кодируют одинаковым и минимально возможным количеством бит. Определите объём памяти (в Кбайт), необходимый для хранения 32 768 идентификаторов.\n",
        "\n",
        "В ответе запишите только целое число – количество килобайт."
      ],
      "metadata": {
        "id": "mL-er_CUppDs"
      }
    },
    {
      "cell_type": "markdown",
      "source": [
        "**Ответ:** 4992"
      ],
      "metadata": {
        "id": "ufPgGAwn-zos"
      }
    },
    {
      "cell_type": "code",
      "source": [
        "# округление\n",
        "\n",
        "i = 11\n",
        "ln = 113\n",
        "v = i * ln\n",
        "v = v // 8 + bool(v/8)\n",
        "V = 32768 * v\n",
        "V / 1024"
      ],
      "metadata": {
        "colab": {
          "base_uri": "https://localhost:8080/"
        },
        "id": "gf1T3hz5-ziE",
        "outputId": "3b84a323-5fe1-4eb3-a025-b9606c8cfc6f"
      },
      "execution_count": null,
      "outputs": [
        {
          "output_type": "execute_result",
          "data": {
            "text/plain": [
              "4960.0"
            ]
          },
          "metadata": {},
          "execution_count": 1
        }
      ]
    },
    {
      "cell_type": "markdown",
      "source": [
        "**Задание 12.**\n",
        "\n",
        "Исполнитель Редактор получает на вход строку цифр и преобразовывает её.\n",
        "\n",
        "Исполнитель Редактор получает на вход строку начинающуюся на 3 и содержащую далее n цифр 5 (n > 3).\n",
        "\n",
        "На выполнение Редактору дана следующая программа:\n",
        "\n",
        "<pre>\n",
        "НАЧАЛО\n",
        "  ПОКА нашлось (25) ИЛИ нашлось (355) ИЛИ нашлось (555)\n",
        "    ЕСЛИ нашлось (25) ТО\n",
        "      заменить (25,3)\n",
        "    КОНЕЦ ЕСЛИ\n",
        "    ЕСЛИ нашлось (355) ТО\n",
        "      заменить (355,52)\n",
        "    КОНЕЦ ЕСЛИ\n",
        "    ЕСЛИ нашлось (555) ТО\n",
        "      заменить (555,23)\n",
        "    КОНЕЦ ЕСЛИ\n",
        "КОНЕЦ\n",
        "</pre>\n",
        "\n",
        "\n",
        "\n",
        "Найдите минимальное значение n, при котором сумма цифр конечной строки будет равна 27. "
      ],
      "metadata": {
        "id": "LDR6Aqclp56n"
      }
    },
    {
      "cell_type": "markdown",
      "source": [
        "**Ответ:** 16"
      ],
      "metadata": {
        "id": "u5JzHGB2-zvs"
      }
    },
    {
      "cell_type": "code",
      "source": [
        "for n in range(100):\n",
        "  s = '3' + n*'5'\n",
        "  while '25' in s or '355' in s or '555' in s:\n",
        "    if '25' in s:\n",
        "      s = s.replace('25', '3', 1)\n",
        "    if '355' in s:\n",
        "      s = s.replace('355', '52', 1)\n",
        "    if '25' in s:\n",
        "      s = s.replace('555', '23', 1)\n",
        "  # проверка суммы чисел конечной строки\n",
        "  if sum(map(int,s)) == 27:\n",
        "    print(n)\n",
        "    break\n"
      ],
      "metadata": {
        "colab": {
          "base_uri": "https://localhost:8080/"
        },
        "id": "uWEQWLZp-zvt",
        "outputId": "b6025c8e-b34d-4a2d-ec66-d5c9d181941c"
      },
      "execution_count": null,
      "outputs": [
        {
          "output_type": "stream",
          "name": "stdout",
          "text": [
            "16\n"
          ]
        }
      ]
    },
    {
      "cell_type": "markdown",
      "source": [
        "**Задание 13.**\n",
        "\n",
        "На рисунке представлена схема дорог, связывающих города А, Б, В, Г, Д, Е, Ж, З, И, К, Л, М. По каждой дороге можно двигаться только в одном направлении, указанном стрелкой.\n",
        "\n",
        "![image.png](data:image/png;base64,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)\n",
        "\n",
        "Определите количество различных путей, которые начинаются в городе А и заканчиваются в городе М."
      ],
      "metadata": {
        "id": "cP59JIi-rDyy"
      }
    },
    {
      "cell_type": "markdown",
      "source": [
        "**Ответ:** 66"
      ],
      "metadata": {
        "id": "xpgsNVi2-z1l"
      }
    },
    {
      "cell_type": "code",
      "source": [
        "А = 1\n",
        "Б = А\n",
        "В = А + Б\n",
        "Г = Б + В\n",
        "Д = Г\n",
        "Е = Г + Д\n",
        "Ж = Г\n",
        "З = Г + Ж + Е\n",
        "И = Е + Д\n",
        "Л = З + Ж\n",
        "К = И + Е + З + Л\n",
        "М = И + К + Л\n",
        "М"
      ],
      "metadata": {
        "colab": {
          "base_uri": "https://localhost:8080/"
        },
        "id": "TW0Tvvyx-z1l",
        "outputId": "08f65a6c-30fc-4482-ce27-a2f3dbf3f50f"
      },
      "execution_count": null,
      "outputs": [
        {
          "output_type": "execute_result",
          "data": {
            "text/plain": [
              "66"
            ]
          },
          "metadata": {},
          "execution_count": 48
        }
      ]
    },
    {
      "cell_type": "markdown",
      "source": [
        "**Задание 14.**\n",
        "\n",
        "Операнды арифметического выражения записаны в системе счисления с основанием 15.\n",
        "\n",
        "\n",
        "$97968x13_{15} + 7x213_{15}$\n",
        "\n",
        "\n",
        "\n",
        "В записи чисел переменной $x$ обозначена неизвестная цифра из алфавита 15-ричной системы счисления. Определите наименьшее значение x, при котором значение данного арифметического выражения кратно 14. Для найденного значения $x$ вычислите частное от деления значения арифметического выражения на 14 и укажите его в ответе в десятичной системе счисления. Основание системы счисления в ответе указывать не нужно."
      ],
      "metadata": {
        "id": "hLkjHWPDrRKd"
      }
    },
    {
      "cell_type": "markdown",
      "source": [
        "**Ответ:** 116070624"
      ],
      "metadata": {
        "id": "CieAoXfq-z8M"
      }
    },
    {
      "cell_type": "code",
      "source": [
        "for x in '0123456789abcde':\n",
        "  t = int('97968' + x + '13',15) + int('7' + x + '213', 15)\n",
        "  if t % 14 == 0:\n",
        "    print(t//14)\n",
        "    break\n"
      ],
      "metadata": {
        "colab": {
          "base_uri": "https://localhost:8080/"
        },
        "id": "UVSGSS6j-z8M",
        "outputId": "5c1e647c-5dd1-4c1d-94f6-751ae4dabc75"
      },
      "execution_count": null,
      "outputs": [
        {
          "output_type": "stream",
          "name": "stdout",
          "text": [
            "116070624\n"
          ]
        }
      ]
    },
    {
      "cell_type": "code",
      "source": [
        "for x in range(15):\n",
        "  t1 = 3 + 15 + 15**2*x + 15**3*8 + 15**4*6 + 15**5*9 + 15**6*7 + 15**7*9\n",
        "  t2 = 3 + 15 + 15**2*2 + 15**3*x + 15**4*7\n",
        "  if (t1 + t2) % 14 == 0:\n",
        "    print((t1+t2)//14)\n",
        "    break"
      ],
      "metadata": {
        "colab": {
          "base_uri": "https://localhost:8080/"
        },
        "id": "KNusyiUH_8D5",
        "outputId": "6f05d10e-3ca1-480e-d509-74d81dd268e9"
      },
      "execution_count": null,
      "outputs": [
        {
          "output_type": "stream",
          "name": "stdout",
          "text": [
            "116070624\n"
          ]
        }
      ]
    },
    {
      "cell_type": "markdown",
      "source": [
        "**Задание 15.**\n",
        "\n",
        "Обозначим через $m\\;\\&\\;n$ поразрядную конъюнкцию неотрицательных целых чисел $m$ и $n$. Например, $14\\;\\&\\;5 = 1110_2 \\;\\&\\; 0101_2 = 0100_2 = 4$. Для какого наименьшего неотрицательного целого числа А формула\n",
        "\n",
        "$x\\;\\&\\;39 = 0 ∨ (x\\;\\&\\;11 = 0 → ¬(x\\;\\&\\;А = 0))$\n",
        "\n",
        "тождественно истинна (т.е. принимает значение 1 при любом неотрицательном целом значении переменной $x$)?"
      ],
      "metadata": {
        "id": "cSVFohd2rrNX"
      }
    },
    {
      "cell_type": "markdown",
      "source": [
        "**Ответ:** 36"
      ],
      "metadata": {
        "id": "rSDLIMr1-0C8"
      }
    },
    {
      "cell_type": "code",
      "source": [
        "def f(x,a):\n",
        "  return ((x & 39) == 0) or (((x & 11) == 0) <= (not ((x & a) == 0)))\n",
        "\n",
        "for a in range(200):\n",
        "  if all(f(x,a) for x in range(1000)):\n",
        "    print(a)\n",
        "    break"
      ],
      "metadata": {
        "colab": {
          "base_uri": "https://localhost:8080/"
        },
        "id": "62jHNKQV-0C8",
        "outputId": "6f6e82f5-b9c3-4352-98a7-e9a8d912a84b"
      },
      "execution_count": null,
      "outputs": [
        {
          "output_type": "stream",
          "name": "stdout",
          "text": [
            "36\n"
          ]
        }
      ]
    },
    {
      "cell_type": "code",
      "source": [
        "def f(x,a):\n",
        "  return ((x & 39) == 0) or (((x & 11) == 0) <= (not ((x & a) == 0)))\n",
        "\n",
        "for a in range(200):\n",
        "  for x in range(2000):\n",
        "    if f(x,a) == 0:\n",
        "      break\n",
        "  else:\n",
        "    print(a)\n",
        "    break"
      ],
      "metadata": {
        "colab": {
          "base_uri": "https://localhost:8080/"
        },
        "id": "g3oIMOLPAuiU",
        "outputId": "c594695a-4eb9-4d13-8cac-1c15937585d8"
      },
      "execution_count": null,
      "outputs": [
        {
          "output_type": "stream",
          "name": "stdout",
          "text": [
            "36\n"
          ]
        }
      ]
    },
    {
      "cell_type": "markdown",
      "source": [
        "**Задание 17.**\n",
        "\n",
        "В [файле](https://kompege.ru/files/oDvU4U7A-.txt) содержится последовательность целых чисел. Элементы последовательности могут принимать целые значения от 1 до 100 000 включительно. Определите количество пар последовательности, в которых только одно число трехзначное, и сумма элементов пары кратна минимальному трехзначному значению последовательности, оканчивающемуся на 5. В ответе запишите два числа: сначала количество найденных пар, затем минимальную из сумм элементов таких пар. В данной задаче под парой подразумевается два идущих подряд элемента последовательности."
      ],
      "metadata": {
        "id": "0lN7UtwptOVy"
      }
    },
    {
      "cell_type": "markdown",
      "source": [
        "**Ответ:** 2 33120"
      ],
      "metadata": {
        "id": "6oQovWwl-0Om"
      }
    },
    {
      "cell_type": "code",
      "source": [
        "# хотя бы одно: True + False = False + True = 1\n",
        "\n",
        "f = open('17.txt')\n",
        "nums = [int(x) for x in f]\n",
        "nums\n",
        "\n",
        "mn = min([x for x in nums if  (99 < x < 1000) and (x % 10 == 5)])\n",
        "\n",
        "sums = [a+b for a,b in zip(nums, nums[1:]) if ((99 < a < 1000) + (99 < b < 1000) == 1) and ((a+b) % mn == 0)]\n",
        "print(len(sums), min(sums))"
      ],
      "metadata": {
        "colab": {
          "base_uri": "https://localhost:8080/"
        },
        "id": "1OZP7PbY-0Om",
        "outputId": "5fd14b77-bba3-4c48-b52b-ff8b2b2c06ee"
      },
      "execution_count": null,
      "outputs": [
        {
          "output_type": "stream",
          "name": "stdout",
          "text": [
            "2 33120\n"
          ]
        }
      ]
    },
    {
      "cell_type": "code",
      "source": [
        "lst = ['qwerty','Hello World','Hasta','la','Vista']\n",
        "\n",
        "len(max(lst, key = lambda x: len(x)))"
      ],
      "metadata": {
        "colab": {
          "base_uri": "https://localhost:8080/"
        },
        "id": "JP4K7OnKBRVA",
        "outputId": "23eaac73-18f0-446e-daea-2ca9f284e2bb"
      },
      "execution_count": null,
      "outputs": [
        {
          "output_type": "execute_result",
          "data": {
            "text/plain": [
              "11"
            ]
          },
          "metadata": {},
          "execution_count": 6
        }
      ]
    },
    {
      "cell_type": "markdown",
      "source": [
        "**Задание 26.**\n",
        "\n",
        "В аэропорту есть камера хранения из K ячеек, которые пронумерованы с 1. Принимаемый багаж кладется в свободную ячейку с минимальным номером. Известно время, когда пассажиры желают сдать и забрать свой багаж (в минутах с начала суток). Ячейка доступна для багажа, начиная со следующей минуты, после окончания срока хранения. Если свободных ячеек не находится, то багаж не принимается в камеру хранения.\n",
        "\n",
        "Найдите количество багажа, которое будет сдано в камеры за 24 часа и номер ячейки, в которую сдаст багаж последний пассажир.\n",
        "\n",
        "**Входные данные**\n",
        "\n",
        "В первой строке [входного файла](https://kompege.ru/files/i8rvpGJ_d.txt) находится число K – количество ячеек в камере хранения, во второй строке файла число N – количество пассажиров, сдающих багаж (натуральное число, не превышающее 1000). Каждая из следующих N строк содержит два натуральных числа, не превышающих 1440: время сдачи багажа и время выдачи багажа.\n",
        "\n",
        "**Выходные данные**\n",
        "\n",
        "Программа должна вывести два числа: количество сданных в камеру хранения багажей и номер ячейки, в которую попадёт на хранение последний принятый багаж.\n",
        "\n",
        "**Типовой пример организации данных:**\n",
        "\n",
        "2\n",
        "\n",
        "5\n",
        "\n",
        "30 60\n",
        "\n",
        "40 60\n",
        "\n",
        "50 1110\n",
        "\n",
        "61 1010\n",
        "\n",
        "1100 1440\n",
        "\n",
        "Для указанного примера багаж смогут сдать первый, второй, четвёртый и пятый пассажир. Последний пассажир сдаст свой багаж в ячейку 1, так как к этому моменту и первая и вторая ячейка будут свободны.\n",
        "\n"
      ],
      "metadata": {
        "id": "eDymczB7xSUt"
      }
    },
    {
      "cell_type": "markdown",
      "source": [
        "**Ответ:** 586 3"
      ],
      "metadata": {
        "id": "5YyKHNq5ZlCe"
      }
    },
    {
      "cell_type": "code",
      "source": [
        "f = open('26.txt')\n",
        "k = int(f.readline())\n",
        "n = int(f.readline())\n",
        "#k, n = map(int,f.readline().split())\n",
        "\n",
        "# список багажей [время попытки сдачи, время возвращения]\n",
        "bags = []\n",
        "# считываем данные по заявкам на сдачу багажей\n",
        "for i in range(n):\n",
        "  bags += [list(map(int, f.readline().split()))]\n",
        "# упорядочиваем время сдачи в хронологическом порядке\n",
        "bags = sorted(bags)\n",
        "# на случай сохранения очерёдности в файле\n",
        "#bags = sorted(bags, key = lambda x: x[0])\n",
        "\n",
        "# список камер хранения (в каждой ячейке хранится время её очередного освобождения)\n",
        "cells = [0]*k\n",
        "\n",
        "# функция освобождения ячеек от багажа в момент времени m\n",
        "# освобождаются все ячейки, срок хранения в которых закончился на m-1 минуте \n",
        "def free(m):\n",
        "  for i in range(len(cells)):\n",
        "    if cells[i] < m:\n",
        "      cells[i] = 0\n",
        "\n",
        "# функция сдачи багажа в камеру хранения\n",
        "# в первую по индексу свободную ячейку записывается время завершения хранения текущего багажа\n",
        "def put(bag):\n",
        "  for i in range(len(cells)):\n",
        "    # если нашлась первая свободная ячейка \n",
        "    if cells[i] == 0:\n",
        "      # записываем в неё время хранения текущего багажа\n",
        "      cells[i] = bag[1]\n",
        "      # возвращаем индекс этой ячейки (согласно условию, начинаются с единицы)\n",
        "      return i+1\n",
        "  # если ни одной свободной ячейки не оказалось - возвращаем 0\n",
        "  # (багаж сдать не удалось)\n",
        "  return 0  \n",
        "\n",
        "# суммарное количество принятых на хранение багажей \n",
        "cnt = 0\n",
        "# индекс ячейки, в которую удалось положить последний багаж \n",
        "last_index = 0\n",
        "\n",
        "# обходим список багажей\n",
        "for bag in bags:\n",
        "  # освобождаем ячейки, которые должны быть свободны к минуте сдачи текущего багажа\n",
        "  free(bag[0])\n",
        "  # пробуем сдать багаж\n",
        "  index = put(bag)\n",
        "  # если багаж принят на хранение\n",
        "  if index != 0:\n",
        "    # увеличиваем счётчик сданных багажей\n",
        "    cnt += 1\n",
        "    # сохраняем индекс ячейки, в которую удалось положить текущий багаж \n",
        "    last_index = index\n",
        "# печатаем ответ\n",
        "print(cnt, last_index)\n",
        "  \n"
      ],
      "metadata": {
        "colab": {
          "base_uri": "https://localhost:8080/"
        },
        "id": "kRqtSKVx-71g",
        "outputId": "181b1112-783b-4119-db31-7ab5dd670820"
      },
      "execution_count": null,
      "outputs": [
        {
          "output_type": "stream",
          "name": "stdout",
          "text": [
            "586 3\n"
          ]
        }
      ]
    },
    {
      "cell_type": "code",
      "source": [
        "f = open('26.txt')\n",
        "k = int(f.readline())\n",
        "n = int(f.readline())\n",
        "#k, n = map(int,f.readline().split())\n",
        "\n",
        "\n",
        "# список багажей [время попытки сдачи, время возвращения]\n",
        "bags = []\n",
        "# считываем данные по заявкам на сдачу багажей\n",
        "for i in range(n):\n",
        "  bags += [list(map(int,f.readline().split()))]\n",
        "# упорядочиваем время сдачи в хронологическом порядке\n",
        "bags = sorted(bags)\n",
        "# на случай сохранения очерёдности в файле\n",
        "#bags = sorted(bags, key = lambda x: x[0])\n",
        "\n",
        "# список камер хранения (в каждой ячейке хранится время её очередного освобождения)\n",
        "cells = [0]*k\n",
        "\n",
        "# строго говоря, освобождать ячейки для поиска свободной ячейки не обязательно\n",
        "\n",
        "# функция сдачи багажа в камеру хранения\n",
        "# в первую по индексу ячейку, время хранения багажа в которой меньше времени сдачи текущего багажа\n",
        "# записывается время завершения хранения текущего багажа\n",
        "def put(bag):\n",
        "  for i in range(k): # k = len(cells)\n",
        "    # если время хранения багажа в ячейке к текущей минуте уже истекло \n",
        "    if cells[i] < bag[0]:\n",
        "      # записываем в эту ячейку время завершения хранения текущего багажа\n",
        "      cells[i] = bag[1]\n",
        "      # возвращаем индекс ячейки, в которую удалось сдать багаж (начиная с нуля)\n",
        "      return i\n",
        "  # если ни одной свободной ячейки не нашлось - возвращаем -1\n",
        "  return -1  \n",
        "\n",
        "\n",
        "# суммарное количество принятых на хранение багажей \n",
        "cnt = 0\n",
        "# индекс ячейки, в которую удалось положить последний багаж \n",
        "last_index = 0\n",
        "\n",
        "# обходим список багажей\n",
        "for bag in bags:\n",
        "  # пробуем сдать багаж\n",
        "  index = put(bag)\n",
        "  # если багаж принят на хранение\n",
        "  if index != -1:\n",
        "    # увеличиваем счётчик сданных багажей\n",
        "    cnt += 1\n",
        "    # сохраняем индекс ячейки, в которую удалось положить текущий багаж \n",
        "    last_index = index\n",
        "# печатаем ответ\n",
        "print(cnt, last_index+1) # т.к. индексы ячеек в условии начинаются с 1"
      ],
      "metadata": {
        "colab": {
          "base_uri": "https://localhost:8080/"
        },
        "id": "AHojX9ZVWS2Y",
        "outputId": "b2e840ab-8a93-4df8-a4f5-06d0477cabe1"
      },
      "execution_count": null,
      "outputs": [
        {
          "output_type": "stream",
          "name": "stdout",
          "text": [
            "586 3\n"
          ]
        }
      ]
    },
    {
      "cell_type": "markdown",
      "source": [
        "**Задание 27.**\n",
        "\n",
        "Метеорологическая станция ведёт наблюдение за количеством выпавших осадков. Показания записываются каждую минуту в течении N минут. Определяется пара измерений, между которыми прошло не менее K минут. Найдите максимальную сумму показаний среди таких пар.\n",
        "\n",
        "**Входные данные**\n",
        "\n",
        "Даны два входных файла (A и B), каждый из которых в первой строке содержит число N - количество измерений, во второй строке K - минимальное количество минут между искомыми измерениями. В каждой из следующих N строк находится число: количество выпавших осадков.\n",
        "\n",
        "**Выходные данные**\n",
        "\n",
        "В ответе укажите два числа: сначала значение искомой величины для [файла A](https://kompege.ru/files/bd4-QBiYO.txt), затем - для [файла B](https://kompege.ru/files/AnakGi6eG.txt).\n",
        "\n",
        "\n",
        "\n",
        "**Типовой пример организации данных во входном файле**\n",
        "\n",
        "5\n",
        "\n",
        "3\n",
        "\n",
        "10\n",
        "\n",
        "15\n",
        "\n",
        "100\n",
        "\n",
        "1\n",
        "\n",
        "30\n",
        "\n",
        "Ответ для примера: 45\n",
        "\n",
        "**Предупреждение:** для обработки файла B не следует использовать переборный алгоритм, вычисляющий сумму для всех возможных вариантов, поскольку написанная по такому алгоритму программа будет выполняться слишком долго. "
      ],
      "metadata": {
        "id": "OofjaeLDyy63"
      }
    },
    {
      "cell_type": "markdown",
      "source": [
        "**Ответ:** 174902 3094684"
      ],
      "metadata": {
        "id": "P5wJASaLZ2wU"
      }
    },
    {
      "cell_type": "code",
      "source": [
        "f = open('27A.txt')\n",
        "n = int(f.readline())\n",
        "k = int(f.readline())\n",
        "\n",
        "# список наблюдений\n",
        "nums = [int(s) for s in f.readlines()]\n",
        "\n",
        "# максимальная сумма 2 показаний, полученных с разницей не менее чем в k минут\n",
        "mx = 0\n",
        "# генерируем все возможные пары на расстоянии не менее k друг от друга\n",
        "for i in range(0,n-k):\n",
        "  for j in range(i+k,n):\n",
        "    # если текущая сумма пары больше максимальной суммы, найденной до этого\n",
        "    # переписываем значение максимума\n",
        "    mx = max(mx, nums[j]+nums[i])\n",
        "\n",
        "# печатаем ответ\n",
        "print(mx)"
      ],
      "metadata": {
        "colab": {
          "base_uri": "https://localhost:8080/"
        },
        "id": "v8e1SP-u9Drh",
        "outputId": "feeb966e-017a-4678-f0f6-568acd1c6031"
      },
      "execution_count": null,
      "outputs": [
        {
          "output_type": "execute_result",
          "data": {
            "text/plain": [
              "174902"
            ]
          },
          "metadata": {},
          "execution_count": 21
        }
      ]
    },
    {
      "cell_type": "code",
      "source": [
        "# функция эффективного поиска максимальной суммы пары на расстоянии не менее, чем k в массиве arr\n",
        "def getMaxPairSum(arr, n, k):\n",
        "    # массив префиксных максимумов\n",
        "    preMax = [0]*n\n",
        " \n",
        "    # префиксный максимум нулевого элемента списка - это сам нулевой элемент\n",
        "    preMax[0] = arr[0]\n",
        "\n",
        "    # префиксные максимумы списка [1,4,3,5,8,1,5] - это [1,4,4,5,8,8,8]\n",
        "    for i in range(1, n):\n",
        "        preMax[i] = max(preMax[i - 1], arr[i])\n",
        " \n",
        "    # максимальная сумма 2 показаний, полученных с разницей не менее чем в k минут\n",
        "    mx = -float('inf')\n",
        " \n",
        "    # т.к. расстояние должно быть не меньше k - начинаем поиск c k-го элемента\n",
        "    for i in range(k, n):\n",
        "      # если текущая сумма пары больше максимальной суммы, найденной до этого\n",
        "      # переписываем значение максимума\n",
        "      mx = max(mx, arr[i] + preMax[i - k])\n",
        "\n",
        "    return mx\n",
        "\n",
        "f = open('27A.txt')\n",
        "n = int(f.readline())\n",
        "k = int(f.readline())\n",
        "# список наблюдений\n",
        "nums = [int(s) for s in f.readlines()]\n",
        "# печатаем максимальную найденную сумму пары\n",
        "print(getMaxPairSum(nums, n, k))"
      ],
      "metadata": {
        "id": "Ha7iKbIS6VnC",
        "colab": {
          "base_uri": "https://localhost:8080/"
        },
        "outputId": "f7a0bf81-61b3-4cee-c4af-e55260a18cde"
      },
      "execution_count": null,
      "outputs": [
        {
          "output_type": "stream",
          "name": "stdout",
          "text": [
            "174902\n"
          ]
        }
      ]
    },
    {
      "cell_type": "markdown",
      "source": [
        "#### **Пробник 2**"
      ],
      "metadata": {
        "id": "NunApWdT8KUW"
      }
    },
    {
      "cell_type": "markdown",
      "source": [
        "![image.png](data:image/png;base64,iVBORw0KGgoAAAANSUhEUgAABWcAAAFDCAYAAABWXLwvAAAAAXNSR0IArs4c6QAAAARnQU1BAACxjwv8YQUAAAAJcEhZcwAADsMAAA7DAcdvqGQAAKJZSURBVHhe7N1xaFP3/j/+537sAxH8QgUvpLCBEQerbGDkXjDl7g8jXjDiBVMcmOLAxQ1c3GBLFbSdf7jUgUsduHYD1yhMEmHSCBuNMGn8w0sz2KURNpqB0ggbJDChgQkNXOH83uecd5KT9CQ5SdOmdc8HO/MkOU3OeZ/3eZ/3eZ33eb9fUAQQERERERERERER0Zr6/+S/RERERERERERERLSGGJwlIiIiIiIiIiIi6gIGZ4mIiIiIiIiIiIi6gMFZIiIiIiIiIiIioi5gcJaIiIiIiIiIiIioCxicJSIiIiIiIiIiIuoCBmeJiIiIiIiIiIiIuoDBWSIiIiIiIiIiIqIuYHCWiIiIiIiIiIiIqAsYnCUiIiIiIiIiIiLqAgZniYiIiIiIiIiIiLqAwVkiIiIiIiIiIiKiLmBwloiIiIiIiIiIiKgLGJwlIiIiIiIiIiIi6gIGZ4mIiIiIiIiIiIi6gMFZIiIiIiIiIiIioi5gcJaIiIiIiIiIiIioCxicJSIiIiIiIiIiIuoCBmeJiIiIiIiIiIiIuoDBWSIiIiIiIiIiIqIuYHCWiIiIiIiIiIiIqAsYnCUiIiIiIiIiIiLqAgZniYiIiIiIiIiIiLqAwVkiIiIiIiIiIiKiLmBwloiIiIiIiIiIiKgLGJwlalUxj9StONJP5GvquuKvCcTuZlF8Jt8gIiIiIiIiItoAGJwlakHxcRJjb/ej/80wpn4uyHepuwpIfz+GwX9tx8CnCWSfyreJiIiIiIiIiNY5BmeJLCo+TiD09j4M3cyKVykk/5NBgS01u+9pFnP3k9ps4vxBHDwTQ4YBWiIiIiIiIiLaAF5QBDnfVcXHKSTuTGPqm1HEfpRvSs4jAQwc8MB7yI2+rTb5Lj2PivkMZu/GEbs6jvk3okhccKPnRfmhmd+TGLscQ8ZiI9ae130Yet8Ne6PvNFNIY+I9N07dlD/0WgDRW2H4XrWh8N8IQldTMlBrg31/ACNH+8ScmQLS18OYuJ/XX9rdCJ7zoW+z/hJP0ohfjyDy5QQSj/W3evb6MXTcD/9hF+yl5VBE5mYIE3fzYq51VtKh+Hsas6lZpFJpZNXNfrEHzreGEPinXV/AAkv7M5/ExKUY0hb3YRWbHe73RuB5GhHpcwpxmayeS7OIfuhqnHeIiIiIiIiIiLpNDc521f8WldmrAcUlVkVdnYbTi25l+Nt5ZfF/8m/p+bCUU+Z/iCqh466q/e08O9N0Xy+lxxWP4W+aTbZjUWVhSf6xVSKPzlxwV75nh1+ZTC/KDxUllwgqfYbfwI6AMvWwzo+o33XWWVl217Ay84f+0dLDKSW4x/A9NZP96LgyJ5dVFHHcXDSsU4tTo3RYzEwr4eOGdSxPdsX/7YJcqoEW9+fSw6jitxt/p5XJpYTu6/silxg2lCNOJfjdgtLqriYiIiIiIiIiWkvd7dbgWQGpL/zof3cCKflWQ8+SGH1zACO3s221FqT1pIj8L0lEPjmB/v/Xi53/GsTIdUu5oEpxMYecnF8thR8nMHpef2wecCBwcRiDu3rkaxOPJjBxK91alwdPM4ie92OsptW4Uf7mKQSuJJHvQFcKfS/ZsWlZq9Iist+PwNN3EEPX0/I9qzqzP1v2Yi/sPXobZfv+Uxg569LmgTTGLkaQ/F2+JCIiIiIiIiJah7rarUHhP6PwvDFSFZh1Hgth6LgHfX+zwYYiCg9nMXU9hLHv5fPKqlcDmLoThncbuzjYmIrIXh/E9rfj8rU559kZJJt0a5C9dQL9b0ag544euI944Ni8SXtlxva6DyOtdGtQzCL2Xj8Gr8v8d2Qc89cClW4IhPydIbg9Y8jI15qX/IjeHde6PajyrIDkeTf2fSqDn7uGMXN3BLt/DsHjHpXHggP+L6MIHXOh52ka8Yt+DH4hl98m8v69cZH3i8j/mEAys4gl/ZOG8vfGMHKjtIYehH+KIvh3Y4BZD8wO/HsM1WHZPnhOeuFxOmCzbYLjHx64X60NTK9wfxYySN5JI1u0sCVi2dhHYyiFyvven8L0JS8cMpmLj2I4tXcQERmU9V6ZQ/R9Z50uJoiIiIiIiIiIukxrP9sNSzll6n2HfARZneyK/9qc+WPsSwvK1IfGx6zFsjE+srxxLSkL17yG/alPPbucis3wunm3BkvK/JeG7/l7pYuATlm8H1Lc5XVyKsFETn5SsaxbAzmp65+rXX/Tbg0Wq7fjQFiZq/SaoCxloopvq/zM8Bi/ZX/OK+NHSn8PxX58eZcGS9lpJbirsox6jPkuTSvzln6qU/uzOTWtneXvFGmRrFlBrQsKQ3cKu4LK9G/yMyIiIiIiIiKidaZ73RoUs8j8oo56Lx0YQuCw07yVpM0Bz1t+eORLII/5TBZF08e79cer4zdiiHwxitHPI4jciCP5IF9n+WrFvLpeGUtT9vcmnSsUskjdiSF2PYKxT8YwcV3Mf59C9kn9vyv8bviNX+uvc6PliuJ3y5+JNM7XG7m+kLe2nOpZEdkfE4jdiGDiM31b4mprxwbbYsmrXgSvTGH24SJy34fgf1W+b4VYp1zO0KnB37ZgSyebSD7LY/a7aLmVJvYPYtBlfTCs9BcTmP7VQvqIfVcoVEbDsr/kQK+hZa5tqx2Ol+QLFLD4Z2tpXvgpiugt+QJODB5xl1uaap4VkL4xhrEH8jX6EPgmichpD/oa9N5gaiX7s5liBsmbkUrL3iOD8P6jZgVf7EH/ocFKWfEgivh9doNCREREREREROuUDNKuvcV5JXrWr/iP61PgskkrQ4Ol7JTif6nUYg5K3+npmuWXlFxqUgnsrSxTO9kODCtTPzdqCtjaIEvui7PiL0yIbZu+6FMcJn+jT32K/4rY3tqmvw0Gi6rSZLmFb/2KvfQZ3Eo4bdLGWG2N/H5f5TvqLSeo6RrcX1qudnIrwWsiHVpsEbn484wyk84pS8a/+21aCbxa+e6mLS3/l1OmTlZaX/e8M9X6YF+NiPUJvlZZH/flOdP9Xa/lrDo51XxqXCezfZerznf2k1PVefuPGWW43Kq1z7T1bl1iP0eP28vfXdsqV5ObqWo12/d+6+nYkf3ZRHUrZocSiNcZnGxxTgkfqPyuWUthIiIiIiIiIqL1oHstZ3v64Ls4iclr+jT+YeN+QIu/ZzBvGNynt7cXtvLyRWRujcDjOoGJe/ItE8U7oxg4NITIL3Xa0amtT59Z6cGzgXwKY+/24+C5GAztgmtkEPlgHwY/68zgTq0rInt3AiNfVPWSakIsd3sEXpGuY3flW8skMfZ2P/xfpFoaAKvnNTfcu+yGfdiG4iIWC5VUdqgDQ6ktnx+kkLgVR+I/aWR+r7RIbZXa33HyF/kCTrh2OWClIWlPuZUrkP5sAtFfmq+DzdCSNV8Q22XMosUiCobXraRZ4Zc4oqX+csXa+495l7WGzacTSJRbzXrgf8uN3qcZvdX3DXVSW57Xa6mu68j+bKSYRfJbQyvmvX4MvuGQL2r0OND/hlu+ENt3bxZpQ5fVRERERERERETrRfeCs63IpxD9MmwYOMwDzxuVQFnhvxEMvVk9kFHf4QBCV8YR/tgPtyFYhscRjFyOI1snPru0tIIHoIt5JC75MXTLEIzrccN3OozxL0MIHnHKN3XJ8yOI/Nh+8LBtvycRuVgzgJUJLV29pUGqdM7DfgTPBhE46q4KVMY/CiJ8b40jYM8KyBt+Mv3ZQWx3bMdOZz8OvjmAg2/sxs6Xt6DXO4LYf1tN5yKyv6Qreeql3dhd1RdAPU74z4XhK+e5BCLfJOvmN82LNvTu6EM51HgvidnHlT/Ip5NI/ipfiKV6/2YlRCyo3TLEImINpF1++PY6agbHKmjbWckLi5i77MGmv+1Ev2cQg2+p0wD2Obdjk1O9+dGdLgKKvyYQNdxM8B71wrlVvlimB45X+1DugOLx3IqC9EREREREREREq2V9BWefZpG8VWqtF0Pk6wmMvjeAnb39OHWzElzxXAxicJcMUD0rYO67aCUABReC3y1gLj6O4fcDCF6YxEx6DuNHKiGp/O1ppEz7iy2i+NQQxNnmx+T9Ocz/PK9Nc4mwod/b5Yq/JxG9Xgkg9Rwdx9zDGUQvBRE4OYzwt7NYiAdRCdGmMP3DXEstTldMpFfy+hhGf5Sv63mawdTlEVTG33cjlFjAbHwS4YthjMemkUmG4S33jZrCxI0kMmsZuVNbzhq6nK0nf3sUg//wYOT7FgKLIp1yDw3h674+vWVuUzZsedWLoTNe+RrIfBFuEhy2we70wPuafJmP4YTTjcEzoxh57yD6/20IpB/xwL3DynqoAc1pcQxVtsHz1iD6a7vMFWmY/XlWvlClELtpDMcb/BLBKfdBDN3IrG2AVg0yfxup5MVXA/Af6KsJMlfrcfRht5xXt2k+u9iVoDIRERERERERUSPrKzhbyCB+vtRabxAn3j2Fka/ihlZ9DvguzyBi7ALh2SLyjw1tZg8MaI87VwVutjrhOTJYaUlXyCKbNw/VFIuGbg0cDux8zYm+1/r06ZVe9DYYD0odTCxbjsHZMXhkoKZ1nw2OvWLb9suXQvpxHotrGJxVW8OOni8/HF5X4UEcEWNA/HIIgf3GdLXB/oYfQ+cqj48Xvp9GutkgaR2kBtJzlhvrpjD6wSji9bq0qKUGLX+vdJnQ81IvLMVmVf+3BX1qC+NSsFX89vi1ROPWsy+54T/jr7SefZZC7LMRjH4l/k6+hRc9CH80iD7DYGF1qYN8fR9DvDTIm92PwUMmAc2imoZ1Vkysk/ewS74oyWDigxCiDxoFmzur+DiJ2M3KMe7ymQSZa9i2OuDYIV8I+d/zDM4SERERERER0bqzMbo1KMsin8sjVwo4qWwO+L5ZUgc206dEEE6Tp763bLWjV86j3oj3z5ZQLBqCTjZbS31o9vxzGLOl9VByGD9sEkGy9VQFeItPFxv25dlRhTQiF4cq/XbWVUD2pySqupHY60RPbVq82IO+Pa5KS2Dx/XMP1y5opwaIt5QDoGItT09i5ucclv4n0n9xAXOJcfh3yQ9VjyMIx2at9fOrBi0NrXK3bO7Bphbygu0lNwbfq7SezV8fR+R+o0iyDX1HxzH9XQheYzccJf8MYPJ+BME91ro0UFtxR65W9rTzuA/ubSbR5WeLWPxDzpfsEb+VEun42wym4rMiLecRPW0I0hZiGPtGpOOaRDsLSN+OIPJYvtzshf+wSV6sJY7dHkMQO/fHGh5nREREREREREQWra/grG0LnIf88B+X0zEvXDWxqORng3B/MIG0WQzwaRapWxMYefsgtr/wAl4wTFvco1V90pp6VsSSmMo29yxvaWhR4ZcEIp+ewoCrej1e2LQdgzfkQs38kkbyZqTczUO5u4cbUSQeNN2aGgWkb4Qw9L18CQc8h6r7wC1TW41m5uQLVQKnnJuqt0NO1emaQe7J0pq1ULTt8GL8voKl3Dzm0guIXvTD/ZoclKrHAeeBAMZvTSFgCOCm7yQw/0S+aEQN1BtuAvRstrWYF2xwHg5g+J/ypdpy9+spkW8bpM6LNvQdGsbUw0UspGcw9U0U0W+nMZvJYeneOPx7mjQXLSsi8320EtCEB4Pe3eYD7on8XjSu0g4/otfD2m+Vt1cdvO/cBMaPyNdC5nYCs2vRxfDvsyIdKkHmvuPi+LfSrcOLm7DJEJxdfLpWuZKIiIiIiIiIyLr1FZzd6oL/0iQmr8npmynMLipYTE8hdKgSkCncPIXw7ep+L9XH9U+8sR39b57C6HXDo+CtqBlgyt6zBVtajc4+zSLxyUFsef0gTpybQLxZ366NPEtg9IMT5W4eyt09vH0KY3fkMpYUUfhlCuELlR5knafDCB7ZXenqwehZEbkn7bWALXYhCGaz98G5y2HamtK2ww3/25WuF/AgjbSlwaHEdqy0paW9H4Nv+yoDp92KIHo/Z96Cs5BB8qYMwN9KIPWzfAy/qLdijpc+u5Nu3kdxfhZTscq+th8fhPe1Oi1uxXcZ91jfYa958LOnD55DvkrA9vEcsvnVbiVdROZuFGO/yJdwY/BNNyyNyybW1LZJzgqFonrjRb4gIiIiIiIiIlonNkS3Bj27vAhejsBveNw79n0SWdmysfhLBIEDJxB5oL8u63HBe0xvhevbX+7Ns75CDjlDVNdhb7Hl7LM8khcHcfB8ZXiykr5DvkprYPnemlnMIHF5BLFSi9FXAxh512qQqzVFY8vjdaEHva860SdfATksLlpYxxe3qD1QlKnb1fqWqS1hT2Go3MdwGmNfRDBrEtQsPkkj9lF1EN50+noWuYYrogY0Y5go3xRwwn+0wb5+sbrrDpv6Ws5Xs2HLSw5DOhaQs5KOKyHSJH4tJl8IR3zwlgYCbErsL0MwtrentW4piIiIiIiIiIjWQteCs8XfU4gbHtVP/NK4FZ7tJRfce+ULVTanB6mKeSSujlYCj+iD/8oM5hfVfkfVR6L1VrgT5/1Ng6KFfBaZ8qPgPdjZ52ipz9nCgyjGPjWMdH9gGNGfclhSFMx/F9VbA18N49Qxq1FRO9xHDd08lCcf3Gb9kprKYe5WGMHrpSbBDgQuBOHZ0SDI9aINW4yDTv1zGFOpOcz/PN90Gj/SeBT9brCpfQfLeVXVY/z1qGmwRc4LbT8Wv9UJ3zuBykBf9yYweqOtdt3WFNJI3IygfDQd8mPgHw26Q7BtwhZDVigUCvWD0Js2Ve/bVW2JWkT2XhSR/8iXar49dtDaYGiqZ0tYWpTzQuvdUhARERERERERrb4uBmeTCBtaBEbUx73lZ/WZhFcK85i9Xwl29X0YRuikG31WG9iVFZBNJQ2DZfXD2dfbQkCniFx6FpU2sx6MXxyB7++GvjtbtcuP4SuGbh5K09UJDB+r01/sMhnEvoqjFJq1Hw8hcMDReJ1e3IQee6WNJNRuAOxO9L3W13Ry2NcoBFZIYfSNSt+3+z5NVQKSNYqFAipje9lg22xhHV+0oceQh/KFRbTXUNQGx/5BkebyZR02NYh7WQbwG0zR4/3obbD6+ftRTJS7vLDDf9TT+Fiw2dHXVwneZn/OIFsnIYt/5Mr5SL15seVvq7ivCxkkbkxUuifZ78egy2qfu8LTAsRuL9uyZZPYp/IFEREREREREdE60bXgrK3Hjl5DsCR+f7bcTYGZYj6NZMoQHXu5V+sPtvg0j4Khn9je3i0mrV2LWPwt27gfWnXgoW8N3REc9lgbeKisiIKxn9aXetFrFhQT65tbm2Hul9vqQ+gjb/PWhy/2oM/ZX+kr9XEEU/eq+/g1Kj5OIn4n07wv1E6y2eEwPKufVPOPWVDxWR5z95OVoGJPH3a+bGG/2nrh2GYIgGezaDSWV0M9LgyeDBq6BDAh1st9VHZ90WDyHXKa9q2reZrBlDGguUcsv7dJIF5sZ5+rX74Q/jOFqZ8MB1SJmo73kpXv3rYbffaW74BYlk9FESkPXgf4jnrh3CpfWFB8mkO23Ape5JVt9kp+JiIiIiIiIiJaJ7oXnH2pH+5D8oXq5gmcuhRHxiTApgb/Js74EXkk3xA8e/u1IKPN1lPVN2jyThJzVbGlIrJ3xjD0QcTQ6k8wBhLVrhG+DGG03E+nHf4jHjisPkKtqWmR+fs0Evez1QFNtV/RCwEM3ZWvVWI91ipU6z0/hIFXrQScbXC84YX/NflSrGFMHYTs+5rtEYq/xhF6ex8GPDsxeCHRMMDeUbZeOPd65AvhTgjhW7WDZan7fhyhzzPytbDfDaeV1r0vijR4fbchQJ1Htu3orMhRe/0IHJEvVknhQRzRW/KF4PUNoL9pY1OxnXsH4d8mX6r94p4JIVbVzcjydLSL48/ZQkPWlhSzSN6KijWRXgticH9r3WUUshlU1nY3nK/0ynmpWED6jtqlShzJX82i+kREREREREREq697A4Jt7sPAO8NV/cAmPxnAzr/1Y+C9EYx9HUHkqzEMvbUPDsc+DN0yBFB2BRE4LIM1W/vgfsMQJbo3gn19+3DizBjGPjmFwTd6sd0zgni5T1pVDoWnS1prwOTnp3DC58FBY1+xyGP+9ghOvX0CJwyT/9w4IoYIb/KbEALi/ZHraRTUINc/3HDLz9TviLy1E7u9pzD62RhG3j0otm03Br8oh5x0Twvmo/d32uFxjBxr0Oqy1ktu+D/yGVobJjHy7+1w+4b0fXM9grEzA9jdN4DRe/oSiU8nEG/Sd3DnqEFFP4K75EuxB2Lv7kb/2yOYEOsWuT6BUTXN/z2Kyp51Yvi41X5LbdjySh92y1fIJzFrdufAKjW/Hw+KNVglxSwS18Yr2/qSHwMHrAU0bWJfBz7yylfCLxMYdHoweG4Mka8nMPJ2bTq6xbHhWZUB5VSF/8bE/qscaG5LQWajArK/ZCqtfHc50feScWULSH01iN0etUuVAex7I4DIL2t1i4SIiIiIiIiIyEDppv8tKnPX/EqfWA11VSxNdq8ynlqUX6Bb/Glc8faYLNtgcl+eUxaXFpToMZvp561MzrMzyuL/xIos5ZTp007TZepO2wLKVFbfDjU9Zs4a/n7XsDLzh/zMqMlyC9/6FXvpM21yK+H71Wmmql5OLJNekp9IIn2mz7oN39No6lMC3y4oNd/Qmt+mlcCrle8sp2tdS0ruh5DirlqP+pPn4oySa/h9Nf6YVUJ7K3/v+th8fXKJoCEPu5SQSVpr1Px23F7+Pm2qt49btPhTWPEYvldNu5a29c95JXqyr3rd6kzeK7NN9ovU8v4URBpNvW9Yj81eZfLnFnPV4pwSPlD53b73p6vTQmzr5JHK54Bd8Yu8S0RERERERES01rrXclb1Yg+cx8eRvD+JwD/lew24To5jJhVFYE9175E9fw9g4vtx+HbIN5bpg+/DADyGVqPJ1BxynX4E32aH51wUU2cr7WeX2R9A8Jih99HHScw9NOnjs4NcF4bhr0kzS2wOeC5MYfZqoKqF8zI7fAgnpxE+0qR/046zwb4/iGhy3NAFg5k++L+cReRDN+xWWw6rtjrhOVzpOiF1V+yrqhbYLVLT89ipxmnZjmd5zH4brRqMzv/m7ta2dbM4Ri5NYeqCt0HfrC4Ers0hctJlvQV2i4qPkoh+UemQoO8dPw621Pez+I7Hs0iWB0Xrg+dATVqo/Qm/btwL/cu7PSAiIiIiIiIiWgMvqBFaOd9dz4rI/zKL2Z9SYspW+g7d6oDL6cRulxvObU2CNIWsFkBLplL64FBqv6H/8MBzQO1ntIjM3QRm80vaopt6dsK9147kBzsxeEM+0vyqD6EP3GjaJWkhjdhHE0jKl86zM0hecBsCVmJbHoj1uCe25+e81k+rzd6H/v1iXd7og+33FBL357GobuOLm7R1dL+qhsSKyP4ngdTDRahruWmzWMdDLpP1abxc4dckEiINl8T3b1IHfBK/azaYknE5vLgFu/d76/YjWnySRfp+QmxTutyvbI/Dif5/utHv6mueZlY8zSJ5R+w7tcsJbMKWV1zw/NNiwLeYR+a+SPMf55AujQy22Q6nyDdutX/iNlew+EsEg84TiGv50YFAfAbjhx3aZyVqn8hq/8L6/tyCnXs9cFU9Rm8g1jN1J4n5gsyHdfdxC6rSTXzn1t0iz7fQhUWNwq8pJO9OI5nW8245HfeLdNzawoq2sT/zD0QeS+e0fK2mpeMNcWw0O+6NnhWQ+tSD/vOyE4a9Icx+OwxXbf4XZUXyTgLpvCgjXAfh2WNf4xsLRERERERERETrKTjbDcUsYu8agrOHxzH/TaB5n6S/J3Bq/0FM/Kq/XB6cpeeG2i/xeQ/2fSr7ChZ5ZO5aAM42GiLT6is+ioljcxCRx+qrHvi/mcX4sdYGEyMiIiIiIiIiWivd7daAaL170a4NMhYodZlx+xTCtzJ6i1JaX9RA+rWwDMwKh0MIHGJgloiIiIiIiIjWLwZniZqw7fAgcM5X7os19tEIIj/KrhNonSgi+30YQ6UWzvAgfGaQLZyJiIiIiIiIaF1jcJaoKRv6jo4helYOIvU0jlPHhhB5wADt+qAGZkMY9I5BH0qsD4FYeNnAgURERERERERE681fu89ZFFF4nEVODnAF2xY4dlgYGOhZAdlHORS1QaKEnl70vcRA0HOvkEbkAw9O3MhrL90XZzF11lVuUUtd8jSDibd24tRt/aXn0iyiH4r9wj6giYiIiIiIiGid+4sHZ4la9DSLxOenMHB+ESP3Exj+J0Oz3VdE5qtB7Hwvh2BsAiNHnAzMEhEREREREdGGwOAsUcuKyD7IYNMOJ+yb5VvUVcV8BpmnvXDuYLCciIiIiIiIiDYOBmeJiIiIiIiIiIiIuoADghERERERERERERF1AYOzRERERERERERERF3A4CwRERERERERERFRFzA4S0RERERERERERNQFDM4SERERERERERERdQGDs0RERERERERERERdwOAsERERERERERERURcwOEtERERERERERETUBQzOEhEREREREREREXUBg7NEREREREREREREXcDgLBEREREREREREVEXMDhLRERERERERERE1AUMzhIRERERERERERF1AYOzREREREREz7U8Ym++gBdeUKdRpOS7RERE1H3rLDhrrDRYnN6Mib8iIiIiIiLa2Arfn0KvvM4ZuluU7xIREdHzbJ0FZ3PIPZSzREREREREfxVPkwi9O1FueJJ9UpBzRERE9DxbZ8HZIooP5Oz+YUwlZzBjOo3DLxcjIiIiIiLa2IpIXRrCmOGRwPijrJwjIiKi59n67XO2Zyf697rhNp12wyEXIyIiIiIi2tAeTCD4SVrMOODYob+F3CLYdpaIiOj5t+6Cs0vyX9hscoaIiIiIiOh5lUXk3JA2SJfzQhSTb+nvIl/AopwlIiKi59cLiiDnu+/3GAZeHkRcnb8wC+Vjl/b2cimMvtCPEXX2SBS5b32wa+8TdUbh9wxypaYKL26BY4cdthflawOry6mPquV/mcVsOo/FQhb5Z3bYt4rlX+9H/2t1/qZYQPZxDsVn+kub3QHHVpObFo2WeyZ+93EWi4bxJOp+T43i71lkC4Y/7OlF30s98sVyhUcpJFPzWHxSQGFzD3q3OtDn3A3nNvO/6UQaF0VaZn8vraMNW7Y5YN8sX1phIY2brmftd4jtdtjrpK/YH9n/JpF6mMOiuODC1l702vvg/Eef+T5R998jsf/kdzf0og29OxzoqUlDfb+I7yjkkEePlu92inznVPOdXIaIiIi6J3tjANvfEldA9iBmHoax5evd2P2R2oo2hFllGPWuiFqjDrzci8Fb6nwnv5eIiIhWTA3Orhu/RRWvWCV1tXBhVr5pZlYJlZY7ElVy8l1zOSV6RC7bbGrwXYsPp5XJ037F/Zrd/G/l5I01XptasxdKfxsSW2Vu6aeQIipP+nJ7xHJ/yg+M/reozCfGlcARt9JnL32nQ3EdCSjh+LyyKBdbxpDm9dc9p0wdK223XfHFFuT7NRYXlOkrAcW7xyGXheLY41b8F6LKbKNkSYXKyzecTPfPorKgbbdLcZSW2+FS3MdDSjTV2r4oE2k5c9ZZ+d1dw8rMH/IzI0vLLSm51KQS2CuXMZlsB4aVqZ+X76Glnycrx4OYvNcWxLfVWlLmr/mUnnrLLc4p4f2Vz9TJcXJKWVj+RdX+nFPGD1f/nfPsjLL4P/m5wVJ2Rhl/x1W1bGXqUTwfTynztZvXoTRe+Nav2Eufwa2E0802rFrTNLawnrXf4bkyZ7KfxFEk8kGwZl9UJrcSvDa7PH3/mFGGd5ktbzK9GlCmf5N/Jyw9nFHC7xjWvWayHxb5Ll23ZGjISrmlsrqckptVohcM5au9T3GLsms8afEYrv17UU717fUqgSvTyoLZJlotc4yTofzJxbzyfbldy35flL3NyiDDOoRS8r1llpTZjyv7cNlylspvwepyIr+3dh5p4fxqmJZv7/JyXD93mJQdtYz1hiaT2bZbzqP1WNqPgtXlunIeFXsyFVVCxw37vXQMJhbq1x+a6XT+VK2grKjs62ZTk7zwvNR1rKZ7w7xrKAMa1KGVrOE4bbScKIPm4uFl2+k9GTatJ1XrTH1f+WNe3797+yr1C8vr0KbfphSfduyJOva3+ppVzjM+ZarB7mlk8SdR7yinpXpe9Cjucp3Co/hPesrHvP01jzhnzig5k3reMu0eA4Y8p+Wl/+WU2VhI8RvS2rHHr4Ris/XXo6bM94h6myV/TCl+w98Z8/zshdK52ynqkfJNE0s/BMt/74/X5AWrx7eYGp0Dln6TZZwhbe2vibQ9PanMtJkPiIhoY2Bw1jiZfteSMnfZYwgANZ6aXljUaHph+KfY1j1yGbtPiWbl+wZLmUnFv6P0PeaTfa/4frOgroXK+ULMV95+l9gvZoGnhe+Cirt8MW82ORT/tXnTv237giU7rQT3lipU5pPj+KQyb7bdjXQocKjmnflvg4qz9HmjaZtfmfy5OnWsBGeXMlHF95Lhe2qXMwnOAt5lv1VrMTlcuSEgJ7Pg7GI6qgReq17ObLIfm1TmjPXYDqXxxgjOLikL8eXpaTZ5L9cEaNsMzi6mJhVfkzJBnzxKKLE8XzXTueCsenPBX7kIN5kcx6PKQt2LRVE+X/E2/HvY3crwD+1fRJUnQ/lTuWj2KuGrjfetSz1u5N9VaRjw0FXdmDNbzmpwxcJy7Z1HOhCcVfN4o3Jc7L/Q/QYBkZoL9UaT2bavp+BsV86j6o24I5UggNlk31unfG6mg/lz5WWFcV83m+rnheeqrmN1/zTMu1aCs8Yb/A2Wa7qddsX9cZ3yVLPy+n6zPKatw0XzenD7FpXpk3K7D0wq5VDj/WH5m25l8qF8zzKxLVcrdfdWprrXC9KKjgFjnrs0qQyXrm/Mpj11yp3aMn9XWJmTHzUyd8lQlxNTVZ5Ph8t1deelet+2pMycLv29X5mqXTerx7eYzM8Bor75sbvJPhNp+63FYDQREW0466vP2XwWs3LWbRenp45YwlLpkeTjUSwsLmKxaprH5GH5uYnC90PwfJSANnDqHj/G43PLv+PnSYiKwirIIvaeFyM/qvN2BL+JwLdN+6Di9zj8e08g8kjM290IXpvBfE5fr1xmBtGzHq3Lh/y9EXjPJFoeVKD44ygGfTF9+w9MIvqxa9mj0IU7p7Dv32NIqgvt8CIUK63DAubiYXi1QQ2yiLzthv9m41FnvVfnq9PWOF31VrqveJLAqf0HMXZP/VEHvBeimMnktOUW0lMIHxHVayF7/QTc78XEr6+9wn8jGHpzDOpDaSV9hwMIXRlH+GM/3C/JN1WPIxi5HEfW0ItAU8Us4ldGEPtdvrYsjsjtNAr1HpUX35u8FdP6PWson8TER4OY+EW+Fmz/9CJwehjBd7xVj8rlb5zAyPVU/d98jmn5wDtalZ7Ow34EzwYROOqGsdOH+EdBhLU8vQJiv4RPn0BMLRNKXnLDdzKI4EkfPKVBRjQJjLw3ivgvrWS8zsneFMfB2xHt+LTvDWIyOY+cOIbVsmvyQ7d2vGevD2LgQgpma5j+4iA8H4jjRszb9xrK59w8Zq4FxXlEfCDSY/RfHoz+aPiGvweXly+Gcty0HDKWP2VxDL0r9q1W7k1jJj2P+dQMpq6I7ZILpz7dB/+NdkqgNCbeH2l+HHZC2+cRu0irmnQS0/RZ+TGGMV3zmToF/y4/fprC6KF9GC2V45emMJdVlzGcO8T+G3nDj9hj7S+WKy6V18cfW1j2W6t3fu6srpxH1Tz2bw9O3dKOILjfGcdUWk9D4zGYvzeKfYdEPn+q/VFXrLSsEBkFS3/K2V0hzBrTRE6VfGuOdZ32FL4PIXCjyXlNLQuOGrZTlAWz2nbmMJ+MIqRtZx7JT/bB82m6zj5eWX0/f8s8j5XWYfiQdjQgec6Loe9brU3XV7wbgv8rdbtdCF/0i62XbJtkPkgi/0Sbsaz43zH435V1d5FXw6VzY3YGw/u1RQRxzpTHuzEvNbpe6OQxED9zQpyX9Tw9nZzDfGYWM/FxcS6SuV9cf+yzkqcfhDF1r0kdppjE1GVjbbzGLjcGd+mz6Viyqt5eVpxF8oacP+6Be6ucl4p/lnoGdiJ0v5TnDFNiWH5upoj0px7s+0Tsa/HKcURsk9w3etqKdNmjLifS9s1BjD1Q54mI6Lkjg7Trg+GuY8O7+EorLWcNy5q2xm10139BmTwgP7MHlZl6d5Kttj4w0ajVzsI3pdZZ9Vuszl0u3Qn21Lmzbnws1mSZRuv+52yl1V6dVrvKH9NKoHQHXe1ywaxJg7H1r9k6WN7vJYZWBnDVaVUltvtC5VF7z9UW7jR3olWn+tnHxkf9XUrwu5oWin+oLZZslWV6RBo/rCzRuFXnktZ6oc/wuelypi1nxVTzCLxR7e+WpqqWs2L7Zi95DJ/3KN7LM0rOsIFLD6eVYWN3Dsbf7EQaC+u+5eyf88rk0Z7K34t1rG6puqTkkmHFu7ny9z3Hosp8aYGalrP2k1ONHzn8X64m34my47T4PuMh8ueCMn3BuO9grasLg460nH04qXjk79vFNi8/Qo3HsMmjhulwuVWp9vdm6ZKNykdFxdSoDFe1UI5XWs6K3z4UVubMvrfqt0Xer83fDVujibx9tXofmS5ndZ2bLLfi80gNa/lDbYVkKMdTJhnQmIbHp9prgdxk263m5bqa/X5Jo+W6ch5V93vp+LIrvm/Mz5HGJ2fsp2cMZZcFHcqfKy4rNM1beDbMC89jXcfq/mmYx5uk658zSrCUbqVp2XKiLDjbpCxQ0+J0szJoJfV9UVcqnWuNrVeNjHXiesu0yvCdzo9r6vlW988yxmuX2rq7sXVxbT5fUKLlFs4mx1EnjgHDNsHuMa+z/c+4HnYl8F3NDxm/ozTVOz9Ii3F/9fJiqk3Thatu+VmdMkQcB6WycNk6CcYnaqJm9etGx9GiSFv5Wd1y1tA1iF3Ux1sqi4mIaENYXy1nny3JGdQZVGmNFTJI35Hz7wzA3cpAQyuktVhVBwYQxMWIaYtVleNAGDPJGTGFMVDVIq7EBpdnQM4nkM5Yvduvt9od1e7OuhC6bdJqV8h+P4EJ7da8E6HPg3CZjf202YXhG5MQF1dCAiPXknVaPVj0aAoTWisD8asXxhD8p9mPiu3+OApRQdUkzkeQXNGPtujZIvKPDffeDwxg8A1H9T7c6oTnyGClhYw6uFXe4kr+nkTk4hgy8mXLfp1A9G5m+X54VkBa7Gs95zWQn0X0WkK+AHqOhRF6xw3jOFi2HR6cOh0UOUP6NYFEWt9vfxWFB3FEblaOOc/lEAL7jfnABvsbfgydc8vXaiujaaTLg5y1pvj7LOI3DW0tj4xj4pwPfcZDZLMDntPjiJ4st89B9qsoko/W8gApInltRJQGKi/GLvoqrYXKxDF8OoRh7QBJI/y9sQ2p+Ptvw7JVqfx7s3PGNh8i3wT1Yyw/hjGthWBn+c+IPG52bhC/PXZZXEqp8hOI32+hpdXjGIbelalzRH7HKlq980gDj6IY+8xQju8xOcOJNAxd1M8cuB5FouWnBDaGrpxH1ZZkl+QxdUQcG8eWH4Eqx9EIoqf1s1T+szFEjS3y18RKy4rOYF2nHUWkLg1hTN2EXV54yy02azxJIPapvp32syHzsgA98JwZgV+bF3WJVKfLcnFevKyWgWK6PGCSxwSxfw+WiuM7aay8GCwi/UVQr2fbAwh9UFPPVwdWlbPZfE7OWfAoiZi8dnF+NGRadzfngO98SObfNKL3qtuPdvwYeGcEwV0m+/pFsR6ifqsndR4Tt5N1n/rzHvfrdczrIUTqtibNYurriDZnb/BUpmOvr7Ltd5e3nU3dHddbIiMo8rLZxq+AbTf82jl4BokP+qvzQck2NwaO6LN5Nf/ps0RE9BxZV8HZ/G+VU83Ol+ufQNtlf9H0dFdfsYjSQyr4P/nvWniaxMhh+TjrnhDiX5pdjOh6XnXDvVed+qoej64n99RarT379SkMao+h2eGLRTFsWlnOInlTBuj2B+AzXUbaMQD/cX02fz21okpF9l5MXqi5EThqHrTWOTDwjl6VRz6ClOHx+1VnE5XLb5bUlun6lAjCabKDtmy1lyvfENXPxT8t7J9neSSvhjCqdXfRvtjNONK1j8qpQddY8wvbwsNZzP4qX4icN3DADYdJgMr+uhv95WBPFplfsnUr2SuXxJBzE1544QU59WLfmydw4oMRTNxKIbt6P1xHAdmfkobH0j3w7HWipzaI+GIP+va4KkHsQhpzD9tb2cLPSSTKwRM7Akc81YHZEpE/PT6/oesJsZ4/51YWSGhJGkl5MY6TfniMXXwY2frhPqbP5u/PixwkFWeRKP396QC89f5esO0fxJB8XDEhLjblX3XMpgY3Eu0H/AjI+UhqzmL65hE/H9RvkByYRPiD3dq7q2m1ziONZFMJWY47MXiofjnueMMrSnpVHHOZRr8r6gzr4aZuy7pzHi3eT2BUHgxqNzT1a1w2uH1DsnxKILnmN9hWWFaYsTVIY1PPaV1H1D9Kdcv4o87fuFIfrQ9+oga57AheCmGgTuFSSCUhQ2c49W93/e3c2g/PSVFO7XejUGh8jmy5vi9Kvj6tDBTTq5ZKQRRW2s3HgwkEzuk1BO/lEXhqHpNHz5Zy/TC9aL3MzaeT4oyusmNA1DlassNdDqKn72cMx9EqHAONrqte8sB/Us5fn8Vcvc3f70NAuzGRRvhb80Bw8ccYJrRgtQehi6e090ztOIhBGfxc3rVBGrNxvRyyn/Wgv2H2srXewMhmh1PmP+dLFvLug+Ia1teIiGitrKvgbPZRqb2eF45OxWYLi6IKpevfVgmDWWJ3YLe8qEeqSWW/Y9QWq4N6SwORDtGbw3BZabH7LI/UzQkMvb0P/a+UglNyco3IhazRWu3KVlvOj+OIHK0TGi5mkbkr5/fsrBtA1vXA6ZKtA/NzyLTdAqqI7EO92qm26N1p2sqroud1l7ywz2PuYZsXlb+Ii8ObEcRuxKqmyI0oEg+W311f5mkWqVsTGHn7ILYb94uYtrhHayqAzRXuRzD6SSXk5zzkQZ+cb8ndKKZ+MqZJEZk7EUyUg671FJF7lDGsdwER33Zsqtk2bXr5ICYMLa2yuUUUzfqdXWkam8ojeSuCyBejOPVmP7b/YxAT/2kzD7SjuIhsZk6+UCVwqip4XJmq80EGuSdLbVS81f2SNZRT/XD29da90O3Z5sTu8vFTwHwma75vVsOj+XLQ2utqFBC0YdP/k7N3s5XA6u/Zcnp5X69pkb5MH5ylFls3jBeba6CnD/2lPg4f5y3dmKj0zyj7H1zLgGMHzyONiXL859L5Xlzols6zZmybyvnDrPVY4Y/yGX6F9YYR9Bu3V069r+/DiTMRvY/F1dCV8yiQKz/Z4cXuV5oEA151yvMoEPt1TY+glZcVZTnkHsrZV3obBKNNPK91HZsDfaWyMZ5EqqPRnkqf2faTEYzs36K/bSL7qDTahDiGG9xoU4ON3i9nMPODmN43CTqupL5vlE8h9sUQTvxL1BtqyoP+83KZFcsicm5Iz9vqTbijZjnSDkfp/CGOO6tFUO5RKd+40dcwPc04sFPr21S4bfjNNT8GetDnKjVTFutRt8/dneUbE/lPY0gsW66AxNURvb5w3I+BhpVlOzxH5U2OB1EkjS1xHyQR1V7b4d9v3rI1ly+VjTvRu4JzUeFRApHzpzDgFt9Tlf96MXhLLkRERM+ldRSczSJbjk70wWH5MZwmnhbKlbXWOeF9T3/IBXdOYPBcHJkWO+W3rnRhuN3QYjVs6XGkwn/HcPDlXvT7TmHsuqhgt/nYYdzXq1UANomLcK3CuCeEiTMNWms8yZcDHW4LLZ03bS5fYiPXdjoWkC8NDLPfIVKpiSYX9pY8S2D0A7H/3xqsmk68LdK71O1FHepgUCfe2I7+N09h9HqinF5te5JC5LMR2SpC2B9C6H3rwdmeI8MYPlzaoxlEbiZRboz2JI34zUqHBn1H67VILKLwpL2WnYvieFwyCwCuII0texTDqUNBRB6sURPaZ0WRz9v7rWI7LRPF76mDR5SJi9MtmxsEXWxb0GNoqVMQv9n6r5oHtEpT3QtZUXaU8nD8re2mf1uaKt+RQbZ0kWf4e4e92UW4IWgjzgaLa7T7dZsqrTkLS6h03FPH0yRC705oF8SuixMINApadlinziPWGMpxjDbMQy+8PFjuZiX+eHl4ovi0/TO8FflfkqLMPYF9vdtx4rpJVzAGIy6T9S9N9YLbXTmPiu3Kl48gNB1/VZxHy6G13KKlmwwds9KyokyUb3Ufe27iua3rOHDwuAyAPRjB4HsTSD025HBxTikUskinW6+5ZL8ewZD6dI/dh4lznvK6mSk+LVX+dzcJzjaxovq+qoD05wfR29uPwQ/GELmbWnmdrY78zSGc0Oo2LoQuDNYJdhrOH/dFXpKzzRSflcrJNoOE5RathvNlF46BylMpot7YoODtOeBHSDtXRhD5vmaPPZpC5Lo6Y8fwscb5UNXzhkd2nVHdtUH6XlQP8Nr9cLvM61WVfNymZ1nEP+jHllcO4sQnE4jfy1gOyBMR0fNh/QRni1nM3Zbzx0QFTc52Ujv92DreGUf0mF4RSX06gJ1/M7koMFw8do6oCD3KNw+WPBiD5x9DSIgzuDa6bGoBi0vyUfrSlArJhVv0eB5Zi5WqngYxoOVynWmht1lUXFuQaz3ytCLFXyIIHDixvB+sHhe8x/zwH/fDJy66LBMV7vTNMIbKwUoXhk/70d9rPfFtW3fi4LFAOZhbuBFBQgYr86koIve0WUFUUI+64ah9zG6FVrdlphPBb2cx9/M85tUpPYvp2DiC2gjLUiGGkS+TyK5xXmhVUVwUt2OT8TFBUd61UuYtFtd5otRh29RK4bOo9lbTHX8UmgS1jP0zDmPsfWeTFsEdtJrnkTXTxqOkVYYxbRxZuzxKtnEE8kGM/bh6Gagr51H15kUrv9vWTZz1pfVH3iuet7qO/WgYU8f1ekj2+in0OwxPd/zfJmzZsh2739M7HbDM2Gf2pVDDbmdWSztlQfpzD3Z/lBC1bzvcH05iNruIJWMZKKbZC3LhlXiSQOij0lVDCiP/MH+ipqqlZD6H3JreFVGZd92w9sfAYuMuJGwu+D6QvdxeiZefqlGlb0/oXYMcCMG/18KKb/XAd1qfrXRtIK5P7+hz9vcOwt3sa0SVs/USpqD1NTvwhdo0xiGOm2nM5wxdo2lTDlHZ7QIRET2f1k1wtphKIirn1X4Z27nZa+r3bDlw2l4/tmrfoRnMXjH2z7ga/BjXOoNX+3fV30md98J/s9F9e/VxHflYlLiYj38Xhn+Po8WKU4X74ymtM/rpKz49/fMxDB4dRapepcjYX5lJi6ZaS09LNcuVPH7aA3upNbHxkat6ikvlgEj7j7mJivpRPZhaPfngrnfRUcyLfTOKWDm43Qf/lRnML4oK1uIspr6ZxOS1SUyct56vcqkoQucqtwFcZ0dwaq+9xUqgDXbXAAbLA3OI4y4+i3whg+mbkXLLCPvxQXhe76nz3TbYqvrs8yD03ZweEG0yzV3wwDyW3EYaL7MFva844XytD33qtMsFz9EAwt8kMF56NFDI30uuYgt4gxdt2GLskuSfw5hKWUun8SN9rVfuxe/ZNhseHX0sLuYatcAtigseQzr09tTb342YBbQq0/RZuVgtkX9KD6UGvs2Z/u3yKVK5yBdlT+kx68xvzUqBIpb+lLMrfNywdUtA6cL0lV5D/9LLVffPOGKtO5uO6Ox5xBpbpdX2P8OYNd3fJtOHy0vLSndIK923m7BFHAM9VZMDzsNBTN2NysFp0hj5pv7gNMMJk3UuTYlhuVSNrpxHRS6zl48gk1amNcR5tNwmv9UuAVZqpWVFiagLljqZabku8FzXdRzwXhPnpXgIvtfMVtYBlygPrKvpM7vOQHNGts2lPTzXPC82spL6fiGByEdaKah15zV9WdTNtrVzTmymiOQlvxxYqxU5NOlmdxX0oqd0HurCMVB5ysqB3iYNBRyHRH1RnXkwhInb8refivrtZT2o6n+nziBvy9jQf2BYL+NKXRuoA6xpXTo4MXSoXo09j+zPcvYNsb5y1rIHEYzIwf+838xg6rQHfcYRdomI6C9hnQRni5i9G5GVTw+84sTWKfnf5uWcG/a2WwH2oG+brRy48l6br74Q+HlSXrithAO7tc7gfQjdjMKn1QzyiPkGMVq3pU4G6a/k7KGDK76Y7+nr1zqj97wfQfyCrID8OALve7Hytlcx9lfWbAAOcdmQTsmHE+0reXTNBscrpYvKJOabPHpb+DklH4m0Y3e7NcRdfgxf0YOpVdPVCQwfqzPYQmEes/crKdL3YRihk27zwZksSl2fQKIUKN8VxMi7Ik+30TpkU48T3qO+8uNd6RtRRG9FEbtZymdOvdVs3fxkQ49dVNrlK/WiYWmzyAuloGijqd7FTjtpbFVPH/rfkN2TqJoFLTvlxU0inQwdTvwuLhjsTvN0qZkcbVXKbejd4ahcgDzLIPtb/au5wuM05gzHj8PR20ZrI7OAVmXaUq/B1zaxT+RsprBk+rdmUzlVXnKUAzbx9HyTlnyinCz1lXfEkD5roZDBbOmJkFcbPJr8rLZ/xrW8KOvsecSaHu1GiuY/ovywme/vZdOydctX+hHdb1+9oKFhlGzcTtc9123aYrLOpanewdCV8yjQu618BDUZaE34NV3uWsArypg1tdKyoiSfRalnU8fWFk/Ez31dR9RxDw8j+nMOyp+Guu2i2nJvAbOfy344LcjV9pmtv92QY0dpD882Dc4WCwVtMDCzlpQrqu+LPD4hZz3/ajT42soU/xPC0Gdq+tjhuzKtNYhoNE19XMoDcWSbx0Q19m2lK5I5ZMvdx1hlKFNFPa+3dKis+TFQQCZVCrWLOlGz71BbvJ7V833k6ylt/bK3xvQnUezD8B2wfszbXG74ta/SuzbI3o/rx9auQbjrdjWUE8vJ2W12Q/3YmnxmVrbS9WKgg9fARES0sayP4OyTBGKl0XgPeOFuMvBBK7K/li4pnO1Xkg39AGotAY731VwItPbIWVPbfIjcDskWlSmMHPYj1nIFq6K42GovXDa4Po6Wu3PI3xjE4CcpkwCIA7sPyAu8uxOIN+rPrdzvk6gnHTeMTN8Gxz888u+TmBAXyvVlMfW1fBzP7odrDftvLD7No2CoSPf2bjEJfBWx+JtxACerHAicC8C9rc3LhxdtopI9CP9r8nVefQRxtHzxjQODGPhH4xa5vX3O8gWzWoGN32rQVUAhg4T6eaPH0lZVEUXjs+w9toYj7HfMi+KC19lfqaQ/jmDqXv0+K4uPk4jfyaCwgkcA1RssrvJFaQbx2+Ji1+wHn+Uxl5jSW0tq3Oh31h88rON6dqNfBruSX1Y/hmiqNk1su+EujeT8mdkgIBXFu1GEZdnkOeBavQCeicK9ePmCP/CP+j1Dz1603j9jt7R+HmnM6RqQ+2IMsTtNmoTVPSYMg9TsaqO1Ujs63pqpO+dR2z/cCMj5sZsJ1N8DRSRjYXmMeuAR54Y1tdKyQso/nJMNANzoc7S6D/9CdZ3Nxrpti+lUiGKkjT6ze9RgmDaXx9Rds7qmVBR18b4t2LJlC9xfL0+PjtT3GxJ1tj/kbDuKaYydloN/HhnD2PserUFEo8n7r0pLzfmmT4noHK/slmVrHMl0k7K11tM5JG/I+cMiHeXsmh8DT0R9qHTT8GS/hXEVbHC/HRIllHBHrN9/Rb30it61huvMQPOuCIxsbgx8pK91OhbB2B05QLLPXX9bfs9gTu4e9yvNBilt1+Ia95lPRERrbR0EZ4tIXQlBr1baMXy6Xsf4bXiSQPRLebY86cbuts6W4sLkwqB+91Wc9ievWGsJsFK2PcOIxpp1L2CDrVT5/XrcNIBb+CUC/9ul8EArHPCJC6FQky4WnMdCCGgrmcbQSbGOZhWHpxlELozo/T6pj8C/7V5ZxWWXH6GTetUzfSaA0f+Y/WgRma9HMCL7Z/Vc8LdWOVshm60H4r+y5J1kueKmKyJ7ZwxDH5RajEsWAnP24yLND6yw8mfvx4CoaC7XA/8xb9MWvrZXPRg8XrlIz3zlx9BXSeRrr6qepBE7N4iDb+7D7rfHkDQONrJGCg8SiFwrh55Fpt2Nvq1rkRlscLwhjptSEFzs85g6wNn3WTFXrfirONbe3ocBz04MXki0Hci2veTCwNHKZUzmqyGMXE9VB3yfFZC+GcLQp4aL2yM+eF5dy5CgHd6TpUcHhxA4V/9R8eztU+jvO4HIL8YleuB5NyxvYEUQ+CiGrNmxIy7wQufH9GPMHkTwSOdL7/Ev6/z24xgCpb4a7cPw7q+fvgl58ded/hlX8zzSwB4fQgf02ch7AUR+rVM2FNIY827HvvMJ5GvSufB9FOOyAA28sXtlZWIjj5OYKvX9uN9peQBGq7pyHu3xwH9ZBn6uBxC4YX6bsHA3hBGtpZ/IxqeDGOzgzXNrVlpWqNKIXpGt8HZ5sLuNbWBdx4K7Ca3f6pb7zDa0ekyfD9bp11lcK3w2glEtK3oQOFQTJltpfd/QfUbkqtnTYgWRzn74v5Av25D+KoAR9Sacei1xUdbvm9m8pbxe+ULTISV1u1yy5afYlksT9bsmW0ak8eeh8g1F/37DzWWh48fAl+bnG/VmQ+wjcU7Q5sV14RG3tRuWOwbgP67OpBE+OiBvyoq6aRtPXzn3D+rp/mACE1rZ78SgKPvrSd8al11qOOH5R+v1DNvm0q3FOMZvmNygeJZH4pwfp0o3I4mI6PmkdMv/lpTFxUUllwwp4vJAUVcFh8aVOfGe+n7jaVoZLv3N4UllvvT+n/pXL/02p0zHwop/j1wGdiXw3aL+4TI5JXpELnckKl5VW7o/rIjTsfa56/KcfLfGb1HFK5fxxmq/obHZC/K3EVJm5XsVS+Jzl/wciv1YVFmQn5TkYt7y59jhVYLXppSZ5Iwyk4gq4XfciqhHVT4X07L1a7bu2ajis5f+3qWEUkvyg4rct77K74h1CMVmlPmcuk8WlLn4eNV+8MVqt0BIheTnLaTfb1OG9XIo3gtRZSaT0/LBQnpKGT/eON0a+t+iMnPWWf57caGhzPwhPzNqtNzSgjL1jr3ymTr1uBX/6bASvhBQfP/sqf5Mm3oUvyF9ln6eLO+b8vSST4lmqvdB7XLeawsi50iLc0p4f+Uz+8kpJfc//aOlzKTi21z5TJt2BZWZ0i74Y0YZ3lX5zHl2RlmUf6taTIUVj/FvxdSz168MX55UJq9NKuOXAopnh/Fzu+K/Nq+vWyfSWFj41l+Vx/sO+RT/cX958h2p5IPS5Ls6V06fZWm8x6v4DH/vP+5T3C8ZPhd5zX3U+Ln4jcOG9ROT50rl+8UvKPPXfIq4sKhaxnU0qISv6ukUPu1V+oyfv+hRwilZXtXsA+P+q0fdJt9Ww/eJqe9QQAl9KX7vy7ASPFq9vuICSgn/VK98NNe43KpoqXwTeWc8PivLjpwyn4wqoSMO+bkoO76pPYqXlLmLtX8/pyyo54LcvDITG1Y8TcquKi2U41Xlrpga/3bzck+bDkyal1OG5UIp+V6JcZ2vzuvnQbPJkM9Lyy0Z8tGKzyM1rOaP6vOLXo5Ppxf0dc7OKVNX/Iq79Pke8V1aNl1Scj9NK9FL/krdwR5Qps3KD1WT/VpZ12Fl2phm2qSew8KKt1yOuZRwWv5hSaP9Y9Rkua6cR5fmlJDhe93vjCtTMv1zmRkletZTWSc1/WUdy7IO5c+2y4o/xLEYn1SChyrn4rr1OKFZvn3u6jpWNcy7hjq0NtmV4A9mZW3jurby56whL4rtvDSlzBq2M1zev2IfXjScwztW36/eDseRoDIZF2WgKAe1799bU5+DV4n+Jv/UioeT5fqScf2bMhxDuNCwNK1izKv2vWJbkvNKTj3WsqJOUa4T+pVJmca5zLQybizr94QVsyNlxceAcXvUyS7qxVemlLls5VgeNhyvpnm6QZm+lByurJ/696LeWpXWlo9BUXc21L2w3+z8vCjWd0qZ/NBYTpqnm6bRcbQk8n/599SyOKxEE3r+m7oWNJyDSlOTcysREW1I3QvOGk5SHZtkxWXZhXPDCmuDypqxstjohNvk4q+R5hexC0r0mOHCQmxjdaVODV4tD0CVJ1HxCX0zXl4/u6gUVrGw7ktiX1Uugn1KNCs/MFj4Lli5iDadHJXAXC3LlaUa2WkluKzCXD05jk8q861eUHYocLj4k0j3HvmZxcktLhxLlxVmwVljYLGk3eCsspRTpj/sK3+mTh7x++W/bRKcFV+gzH8TqA4sNpjcH08rudKXr1JwttnkeCeqzBuu28zSeKVTdXBWWFpQps+6TZddPvUpgW8N+6+N4Ky6Xxbiwcox23ASv/eNyHNNv7Oa1eBb8+UWldmLhgsb00lcqNemadmSMnfFqzhM/05Oogwc/sFC8LmFctx4jvG+H2iQ1uIi62JtmS1VnQNNgn4ljS7oai90W5iqv2uF55EaVvOHaikTVQLlC3rzSQ0uTJfPO8uDQaZBgJIm+7Wyrs0mlxL4zuR3Gu0fIwvLdeU8+uecMm4IfJlN9r11yudmOpY/VW2UFVXHmJiaBJit5Nvnqq5jVcO8W3082k9Ol+sw1RoFRqWm22nX6ijG7+9YfV+lnm8blEX2vSElKs43+mu7EvpJ/l1Toh5f+l1Rh2ntJsdspTFKvXQzVX1Do6Vph1+ZMqnnl6zoGDCWCUcCDct+Nb1N06phmS7qvOXvdDa8mdbsGFy4Wqm3eUS9ejlxjSg/16cmN4EbHkfquXDScCNm+eQ4HlUmz5Ze+5Qp65mBiIg2iHUyINjqsL/mQeDKLDLf+NroikB9vCcoH0FyIfRFoPxo0doy6V6g6vHDHoiLf+SS4wgccZW3U9v2S1OYz8xg+Fg/dosrGlX+3lzLfZyadrFQ8ziT41AYMz/PYepSAF7DyL6OPV6xHlHM5hYwebyNEegb2eZB+IcM5uLhqm3HDhe8J8OIpnJYuOZH35oMcLNcz98DmPh+HL66j1D2wfdhAB5D/6fJ1Bxy9R5BOzyOoSMtPCrYjM2O/jf95VHv8ZIfg4da2Uc29B0LI/lDGP6Gfcs5Ebg6i+g5T+e7a7TMCf/lGcxc9q1oULa22BzwXJjC7NWAfAy/jh0+hJPTCB9ZaX9lNjgOhxC/Pw7/3+VbZl4Vv/eD+L1jTvSsRR+8pnrgOjuN7G8zmDwt8qJhtHDHHjf8F/SyY6ruI7I2ON8X5dyyv7ejb68fwWvTWBBlYKhBlwIrtds3Ltax9vcdcB0PiTIojZmzzQeXaaV/xtWx+ueRemwiH47fX1xejtv74D4SwHhiAZlkGJ7SyPVlYh8fEp/fzyB6tHLO6bRKPpzF+KHV+x1VV86jm0X5/O282PeTCB53o698CIn0Px7EpJb+IbjbHlC1U1ZQVog6gV+UwfN3h1c84B3rOg2stM/sOttpf03s39OTmPkti+kPxflKvm+0svq+tNWN0P0cZq4Y961ezoTj8+I4GIbPVerPNY9k2lopmL05gqD2aLwdgQtDLeZBGzaVsvrDHKz3/K2OHSHLdFGv079C3RYfPOVzjQdewzGvpbN6nPw0Ce+y8raiY8fA64Oi/BbpfS0I/97SOqrf40coNov0D+0cr6Kud0YOYHdkCIMrOK+q3VLpdbZmA1Xr5/upTBLDe9o/8m2v+hHNzGNK7Zqkqi4hyuGkeoz7cNDpk+/HMPvz2ncTRkREq+sFNUIr59fWj6N4wTWizXpjOUwdLZ2IWvR7DAMvD+p9/VyYhfJxw/AHkQVFZP+TQOrhItQevjZt3gn3IZdJYNHicoUsUneTSKZSyKpB7Rdt2kAfngNuOO1FZO4mMJvX+xLb1CO+Qx20SP2OJ2kk7maQK4rPXtyk/Y3brF9Q43LYhF71u1+TyxXzSN1JYl7rq2wTNr0kLub2G4J/5c/Fp3YnPPv7KoE69bPvxWdP9b/d8ooLnn/WCRyKZTMpsY33RIX6d1lh3NoHl6sf7jeccCzr47UzaVz4NYnET1ks1eurV6SbOir87tdExd+skl+Vdp0gfs/pFhc/5uVZ8UkW6fsJkU7pcr+yPQ4n+v/pRr9LrOOyZKreB8v2XzPL9osNPepgbn8X+0X8XqvjvZAuf3MAvT69h7lQShEXZNrs+mc4726o9aa/BuZPolWWR+zNXgxqweIQ1Ha5a3rVtIGu2bLXD2L72wltIOiFxNqMN0JERH9tDM4SERG1gMFZolXA/Em0yhictSaNMeduDD1Y4TUqERFRC57rbg2IiIiolheOl+Qs0brD/ElE3ZO9GUb4gTrnx+B+BmaJiGhtMDhLREREREREf0EFZO6pXUDFMfHeQezzxZAX77ouB+Dten/bRET0V8HgLBEREREREf0FZRB378M+9wBOfZXQBry0H5tE9GR3hoImIqK/pu4FZ/cMQ+3uVp1W1JfPSz5Mye9hf7NERER1lM+7U/DxsXFab5g/iagrbOjZ2wf1atT+mgeBKzNIX/PDwUFTiYhoDXVvQDAiIiIiIiIiIiKivzB2a0BERERERERERETUBQzOEhEREREREREREXUBg7NEREREREREREREXcDgLBEREREREREREVEXMDhLRERERERERERE1AUMzhIRERERERERERF1AYOzRERERERERERERF3A4CwRERERERERERFRFzA4S0RERERERERERNQFDM4SERERERERERERdQGDs0RERERERERERERdwOAsERERERERERERURcwOEtERERERERERETUBQzOEhEREREREREREXUBg7NEREREREREREREXcDgLBEREREREREREVEXMDhLRERERERERERE1AUMzhIRERERERERERF1AYOzRERERERERERERF3A4CwRERERERERERFRFzA4S0RERERERERERNQFDM4SERERERERERERdQGDs0RERERERERERERdwOAsERERERERERERURcwOEtERERERERERETUBQzOEhEREREREREREXUBg7NEREREREREREREXcDgLBEREREREREREVEXMDhLRERERERERERE1AUMzhIRERERERERERF1AYOzRERERERERERERF3A4CwRERERERERERFRFzA4S0RERERERERERNQFDM4SERERERERERERdQGDs0RERERERERERERdwOAsERERERERERERURcwOEtERERERERERETUBQzOEhEREREREREREXUBg7NEREREREREREREXcDgLBEREREREREREVEXMDhLRERERERERERE1AUMzhIRERERERERERF1AYOzRERERERERERERF3A4CwRERERERERERFRFzA4S0RERERERERERNQFDM4SERERERERERERdQGDs0RERERERERERERdwOAsERERERERERERURcwOEtERERERERERETUBQzOEhEREREREREREXUBg7NEREREREREREREXcDgLBEREREREREREVEXMDhLRERERERERERE1AUMzhIRERERERERERF1AYOzRERERERERERERF3A4CwRERERERERERFRFzA4S0RERERERERERNQFDM4SERERERERERERdQGDs0RERERERERERERdsE6DswWkPjuBiQfy5V9WEclPTiDyS0G+3rgK/xnDia/S8hW1InvjBEbu5OWrjav4awxDnyTE0U0r8bzkByIiIiIiIiJal8HZLOJv70b/mQii9zPyvb+oZ2mkvongxOsejNzduCGt7K0T2P3GECLfzOIvvkfbkEfq+whGPU4Mfp1BUb670RR/HMXBvYMYO5/A7FP5JrXh+cgPRERERERERKRbZ8HZIlKfDGLgehb2Y5OIHO+T7z8fCo8SmHhvAP2vvIAXXhBT707se3sUsR/rtIJ70YXhu1H47CmM/suD0R83XihGDcoNvhlB1u7D5HU/zPZo/scYxozp8kIvdroHcOqzONJP5EJ/WXb4rs4itCeP2Ltu+G9m5fsbyOMY/IdHkMyL/PxDCJ7N8n2q78EY+rVj4QXs+9q4z5+D/EBEREREREREZS8ogpzvuuzNQfT7YsjvCWH27jBcz00Qp4jUpwfhPZeEeRjWDvfHUUxdcKNHvmNUvDsEx7/GkLcHMP3zODxb5Qfr3eMYBl2DiOVdCKWSGN5jkx9ITzOIfHAQJ643CjC5EPguivFDDvn6L+pRBAdfOYGESI9wehbBXfL99e5pCqP7+zHyox2+2CyiR//i+9GSLCKe7ThxR768MAvlY5d8IW3U/EBEREREREREVdZPy9nfYxhSA7NwIvR5cG0Cs/8dw+AnMaR+X90Wqdmb/nJg1r43iMnEHBYWc5hPTiK41y7ezSP5yT54Pk2bPqZs2z+CyEmxXH4C/kvJDfIocx6xM2pgFnBeGEOwNjCLLGLvucuBWceRMKZS88gtLmIxO4epK37o4agUJv49iNH//sUf4N7hR+iymiIpDJ2LiNTbCIpIfR7AyI9i9sgYxhiYtSR7Y6gSmFX9nNXKjiobMj8QERERERERUa11EpwtInkliLiYs58MIbAskLdKnhUROz+I/pcd2OnTuxfoeAjwSRyjWtBZbNuxKGZ/CMN/wAlHjx19e/0IJ2cRPaYGaIHUuUCdQdB64PkoBI+Yy382hLEN0L1B8W4YwVtixh5A6KQLtXu0cHsUgzf0kJP3y3nMfxuEd08f7D096NnmhPf9SSRToXKAduR89C8fgHK+E0JQzSp3TmDo5rJw3frzKIrQeXUQOBfC53zQczk19CSBsTNaSQjHDpliD3PI6XNVNlx+ICIiIiIiIqJl1kdw9lEUY5+pwQUnht71mD7av7ryyNwcwaCrF5teGcDozRTyHYp/Zr+PIKLNeRA674PjRe2FgQO+83rgVQ1Chr+t0zJ2xwD8x9WZNEaurvcR77OIfj6mBaSdH/lNumHIYuprPVWwK4yRk33Lgrcq254gQqfliztJpP/q8afNbgx+5NRm45eiIiesZ0Ukr40goc4eH4Kfj91bINLskh8Taj4/MobohX797QeL5mXChsoPRERERERERGRmXQRn07cn9CDO/gC8axnE2RPEYmYak6d96Cs163sUx4ivH72btuPgexNIrqjLgzzS97QtE9vmhXuHPrtMOfAq/uJ6qk6QpQeeY8N668PrEUw90t60KIvIv/TBhXZ/3kIIR+3XUhuUaDfGTFv01vEgjgntsWw3Aof14FGVYhaZ0mPb3n6YLCHZsNPplfMZZNk4EM7DAT2Q/yCMqXut5M0ikmfkgGvvtRDcLyYx0qv/3YnbLdwSeJJA7FN9hwWPduOGy8ZT/E8IQ9pNKg8mL4oyaXOv/oGa93+XszXazw9EREREREREtB6sg+BsConLesDQeWA3mvdKWUTyXK8eZBLT0N06AQl1MCoZVOr99xjST+X7VWzoedUD/6Uo5n9bwkIqitBxl1yHLBJfncK+lzdhu+cUJu5k22itmkXmhpx9Y2eDbeuBc68MQubnkH2sz9ayudwY1OYSiN1r5SF/B9xH9ba56W+SFlvYFZG6KYPmx0daavmY+j6s/8YuD3abBaSLm9B3KYywmCb398k3m3Ggt0GEL3v9YDlPVI9ub6AOTuXSl3nBdQqJOulsTRH5HyMYOhNf3h+oFfk4BuX6vvCm3u2FuSxib8rlnCNI2d3w7lffz2P0zqx5i0pTNvQfkMH9r+JIPtHebCp/ewKj6srtCiNw2HqINX83KluMB+D+h4VuSso3AsT0r3p9qIo8+Um/vswL/Tj1vbpUHvG35N+9MIBYnSCmKntjQC63GyP/WUEg80kGic8GMfZf+boTimmMnR7VjhvXxRAGxXHT87dScHa2/o2JHe3mByIiIiIiIiJaF5RuS4cVp1gNwK6EfpLvNVP+GzGdnlGW5Ntlf84qoT3y8z0hZfZP+b5VSzllLj6uBA71KfbS76jTDo8SuDKtzP8hl2tKrEfpby/MyvfquD9c/p1QSr63zKIyfVJ+3/5JZUG+a8kfU4pf+36RznW/38Cw/HByWQo3MKeEd+nraL84J99r3+wFu769drEf5XumyusrJtO0WVCix0rf5VOiWfl2q/63KPJGSPG9Jr/rSFTJyY9aY8gbDfbl4ncBmQftSuC7Re29uctO/e8QVGZa2TWGfeONWVnryvKea63kNkM+PTZlMX0Wlanj8m/gViYfyrcNFmK+clr4YpX1mb3Q+O80f0wrAbu+nP3ktPi11i39NqOMn/QoDu23Gh2nrZu77NK3wS72aam8ykYVr/yt4A/1d3T7+YGIiIiIiIiIuq3rLWezP8/KlpwDcNZ77L/WLi8CB+T8Z3Ekq5q0ZhF7z6uPEG/3IXpzGK7N+ieW2eza48Lj380j98c8ZmIh+F6zA48SmPjgIHa+16ilY5te3CRnGulBn9Otz95NI9NKU96tbni0rhPyYrvq9GtrUO4r90AI/r0tDND2OINZ2QXCwGsrHJ3/aRJTX+op7fzIIwcHq2OrB76zWrtQkTYTiFd1w6C2uByUA5C5ELodgW+b/ollxTySX5zAvpe3YLd3BLFfZA6wtTt4nR2Ow3L2bt48PxVTmDg/oX1mPzaBkUN6y9W+12QeQBLpX+WsJU64fbKP0hvTdVqnVhTvTSGspqN9GMGjrexLkQe+0uecTofFgcAM3XaI7Zr4vrp9d/HHUQzKgfVcF+KIGNbHvq3U9UUSedMWwWL/fzWi9+UqyoSJc611s1B4EMfom9ux6eV9OPVVQqabWNNl/Ue36VEEIx+lxIwdgasjcJfKK5G3Srkr+6T+wd5+fiAiIiIiIiKibutycLaI7M/qyOTCrsaPrVdzYOAdv5yfQOJ+KXCRReIDGYRTA7OpaOtBuFpbHdjpsKP3ZSvB01qGANz9+abBMCscfaUQ5RTSLfU7Wwl+5a8nMdsoOltMInJO7dDAjsDJgQbdMSxXfDgHfY864Xi5lRBYrSLSX4xgTItaejF0tH7PtDob3G8Oyf5r04jeKwX3xPd8PgDveTX45UIolcTwnhYCqvkUYp8MYPumXuz7IIKktj529B0NifyVw9I3Xi1NW7cJtvJNgxwWTWJv2RshjGhBZnUwucrv2F7ZLVJElcbcQ22FLCv3UXonjmTD/JNF9LNRPRh6ZgDuVmLQj+ahpraqf4f13GPbO4Ah2X2GsfuN4oMxDBwe0b7TdWEWyY9d5aClapMhQJ77wyQhH0VF+unf5rkQgvclbbaJArJ3JnDC3YstzgGM3JJH7w4PAlemMf9HDsN/199amSxi507o3YccGUNQBuA19l7slLPxR/VLj5XkByIiIiIiIiLqri4HZwvIl/r9fKUXpR4Wreg54ENQzk/cTopv0ltHHvxCBuHaaR1p9KyA9O1RDL7uQK/rBMbuqMERBzyno5j70mcxIOdA3xsyqHi3UTCsiGR8XM43YXdAbyeXx3yLI2TZ9h7EKS06O4r43fot8Qp3YrKf0SH4jcEiCwpPSkEkkW5b5Wwbij+OIXBOD/F5robhsxJQU1tUa/1vVoJ72Zt+eD5KiNSywxeLWg7MFn5NYMy3E729/Rg8H9cD64bA3HxsGL499qogYWvs6H1FziKHQm2fyE/E75/XB5NzXQ7Bb2xVbreXA+bJRzk5Z9GOgxg8os4klrVOrVIe1M2PoWPNAuM1nuSRlLO9f2sl/zjhfU+2An0QRVINTD+OwX9gCAmRH+3HoojWBGZV9pdLIUyRkk9r7zoUkLg8ogc/94QReqdJsLiYR+r6EA6+skXrazpyTz0QDMH4h9MYf9+DvhXkbaP8rREEb6lzLoTP+WpuhNhgK/X1nFus3+f1SvIDEREREREREXVVl4OzWWS1wITwutXHnyVbPzylx9ivJxD53F9pHXk/0VrrSCM52M/OqsfXHfBemMLcHwuYvuSDs4XAjHO/X6yRKoGRCzGT1rNFZL72Y1Abpd0C26byI9nF4pKcs8oFz0d6oE0PaJvJYuprfSgn75lB2RLVuuwj2RIau+Gw1ELRhBqQky0l1YDceLOAWlll4DM1uDf1eelReDt838wiauXR/EISo57t2NJ3EEM3M1rLUceBAMYTC1jscGCu8jh+Frmqx/ENj+HvGsbYOzV7QeSBLXI2v9TqEFB2eI7qrc7rDw5XRPJbfVA35wU/PC1ubz47J+e8LecBx16f3rJX/Ho0PobRo4OIiXRQ88HstdrgpWQXx6eczearg5PFHycw8pWakE4MfxZomJ+zN8Rx7+hF/9tjSKg3Uux98F0Qv5vrRDDexJMEQh/oXTU4L4whsGzQvd5KAD9fwKKcXWZF+YGIiIiIiIiIuqnrfc62z/gYewRDH8kgnNo68p+tP05fUPuTfe8gtv9tJw6eiSGjRkwMQdmpj70tBWXLXvNj7IIens3fGET/v0cQu5dBvpBH5sc4xt7ciZ3vxqC2ftM5LXdjGn+srWRL1MfatbaJ16NImIxsX7wXwYjaYtI+jMDhlsLlnfE0VQ7IYYcfExfrBOTqcBzyQ4YeMfpR6VH4OCLHLH7L0zzmtFbSwqs+TKYXsZAYR+CAo6V+Sq3Y0lNqK55G0RhTKz+Gb0fw0kjjPpN/zWrBvVaUW50/CCOh9s1cS/z+2Kfqt3oQOLq8peqq2jEAv9Y3skiVT4b0vqP3hBD/UuSDen289vSUW92nq1rOZhG9MKIFme2nwxj5Z+MtyT8uHfeA++Np5LLziH7sg2tVDoMikpdE/lZ/zx5E+EOzdLbD8aqcvW1xP7eRH4iIiIiIiIioezZwcFYwDgymtgi8nKgaKKi5IvI/RjCktpR85aBhsB8HvJemsbC4gqBsmQ2uj6OYOq6vV/77UQy6d6J3Sy92ugYwdCsLx/EoklcHtc+BPjhWMya6ww2flmZxRO/WtuMtIHFD72fUc8HfWj+jnaAGZvf3VwZzuztpsX9QA+PAYILr/WnTR+Hr2mzH7gMyD/0awwlnH3b6RhH7MS9yS2f1/K3SkUelr9Q84hf0x/DVQcCG9q/CTii3OjcfHC59e0L//dNBDFodpK9jjAODCXsCmG42qF/PlkqXKIbH/9UuA/QbDT5MfOBumgfs23zokz+c/OQgel8XZcIXCWRMBxlbGbXbjiGttbwdvitDlUHAav2f/BfzyDHqSkRERERERPTc2djB2ccpJMvPZefRu83RWiu/H8cM/ckK6mPMpaDsaQ8cHWsq6YD32pzeAvNQnww82dF3KIDxZA4L13yw5eWG7Nq9usFZsS6lwdQSt5LV3Sw8mkLkuvjXHkDgcCtB7k7IIvaeVw/MrqTP4EIaKa2fUF3x5d6WWt6ix43hUhcG77jFXsojc3MEg65ebFID+J0M1hkexy/1lVq8G0ZAHdCuZhCwzqq0Ol82ONzTJKKX1bzowpCveUCz8wpI/yep3SDQFB3iuJbzdRkG3nui9j4tiO0Iyy4DrA4C5jgWxfxvOczGxPJqUFptTf/BQez8W2+HA/RpTHyot+hVy63Ym7144YUXTKf+89pCQgYtdjFNRERERERERBvAxg3OPo5h0CUff5ciX09VBxut0oKyM/pjzB0Nyhr16H2XfjePnKJAUXKY/24cgb1q+K2AdEoOobTfiT59ril3uSuE1vTs9SKgztyZQFwddElTRPKa3mLT+VHr/YyujD6Y26AWlHRh+Ic2+wxWW94ekC1vpfTlKSTbiKj1qIN/XRV5IjeL6AWvHuDtdLDO8Dj+7GO1r9Q0Js6PaQHFZYOA1bPN3l53C7vcGFT7OK0ZHC57awxj6gocH4J/WR+oq03NBx70a31HSw/CmLrXLJW3oKd0KNzPQkvJr0f07bAyCJjRi3a4jg5j6qHenYVfOz47G6DPinUbMutOoqE0FmsHjTPTbn4gIiIiIiIioq7ocnDWAYc2crzwcwt9JRYq/ZKqAwVNXZLD/FQFGy14sQf+K6WgrBv2tW8mqCu1WIUdwwf6G7dWLC6VH9u292yScy3qccOrPdaeRvSubLH7JIGY1s+oF0NHGw2b1JhjR6kt6ByyJn3aLldE6tODcjA3vc/g0P42wkvPDC1v94Qw/Y0WftaCj7E7leBjy+wu+D6ewsJSDjNXAvBoAVNDsO6tuPV8W8vwOH7+WRH5myE9aLcrhLGTDfaByAOlwaHsW7a02brVCe8H+tBblcHh0ohf0cLzCL3raTvIZ3fslnNxi3lAl71hGNTvu6h+A0Gk7uiNRDnPm+vBlnJCiuT5PYbQR+r3iO34vPEgYPXpN1MmkzkspqcQOipbvBsC9KP/1RZszeMYht5V01hs5dkoZpIzjacv9VbuqsxvdXJaR/IDEREREREREXWF0lVLysxpKOpqYFdYmZPvNvTnrBLaI/9mT0iZ/VO893BS8aivxWQ/OyO+dSNZUKLH7HJ7LKTB/WF9WdiV0E/yvXakw4pT/R6Z7nOXXR1Jv6UfgnL9nEo4Ld9sYCHmU+xye9wXZ9v8bUMa2n1KNCveWppRhu3q94rpwKRYokP+t6jMxUOK7zX5e0eiSk5+1LqcEj1SWkev4tXW164Ef2iSCtmo4tXSDIrv2/Z/XfljSvFr3+NXpv5QlMXvAvq+WGl6iePRLdcv8N2ifLMxYz7wxdRfF2XDWZnG8CiTD/Xl6snFvOVlvYf1v7Of7mxZsPTbjDJ+0qM4tN+BEkrJDyzLKVOlfLpLlF1WVs6wr+0X65QOncoPRERERERERLTmutxy1gbH67Kl5YMsck0bOBpaR6oDRpUGCtrhhlcODJb/NIaE1UeOfxxd1sejpelNvS/LFcsnMfrv/vLj/FZa+WWzGTnnRl+rg2UZlR5rVx8b/z6BqUtqS0MPQm+vrJ9R2yu7ZT+qaWR/a7xDiyL9B316WrouxDF9toWBu8qqu0Qo91Vr64f7uNbWsfUW1Y282APn4WFEfxb5NTWJ4LYVpRZ6St1H3IkjLjbBfjKCkWaDgP0+j7g2Y8fOlXRQvNUNz3F1JoKImge+mhD7wo7gh4Ot9dNba8dOsSd0s4+adzRSmw/0Qf1s6N/v11urIoGJ2+XOpU3ZNpeaziYQv60mZACRM53tM9f2khuBL6ex8Mc8pi/5YHtRfmBR4fuQ7E9YpPGlIFxWVs7Q9UV+cdG8G41O5QciIiIiIiIiWnNd73PW8Xq/DEhOIf1Im6kji9hbMpCpBmZTUcOAUQ4cPCaDvFqgqa2eZ1ddsZBF+l4SydsRDPl2ord3H0a+V4M1Dvi/jVroZ7WI7M96GAb73XCuKA5Teqw9j8i7foyqq3Hcj4GVjs6/rQ/9sq/SqV/q74figzEMHB6B1rvooXFMnOwT6VNAoclUfKb9uaQGZt2yj1IXQqmkIQ1tcP/7lAzupRH+Nmke2GqbDfY9foQvrWTQLsPj+Bovxs40704gm9FSTRiE6zU525YeeI4Na+ufOOfHyB0xs2sIg82Cw02JPHBSn0unG3dXogZm3S49H7guzCL5cSVAb9t7EKdk4jbrO7jnb1UJCe+l4Or1m7y1D57TUQT/Ll9b8TSJ0Ltq8FsUX8cmMGQ1jQ1dX+Bx3rR7h87lByIiIiIiIiJac7IFbRfNKiH5+Ln7ar2HqZeU2Qv6Y/eASwmlTJ4HLj+iLSarXST8Ma/MJGdan37KtfG4tNjO0voZJvveoBL92dqj38a0cl62tIWNGbqDsNoNgRWzF+Sj2/vrPx4/e6H0u61NxkfJlz8KX2tOCe8q/W1AmbaazGuo8jg+FJelfWroCuHktLLiTTJ2/yAmf7wziVTZrqAyU+9gyUYVn/xt+7GoaV6Zu+Qsr1vDLhJ+qzzab6l7kDUlyq+PS9vh1bvdsGxBiR6W24WQKAFqdTg/EBEREREREdGaWgfBWUMAxjSYZwzM1gvCqRaV6ZMySNHBQGPnlIKzDsW136sEPp5UptItBnlTIRmMbN4HpzWLytRxmWad7Je11J8t3HXXc6XB2UpgForrQv2+aucuV4J7nQo8dtLit359/faElDkrmaEchLQrw8nWbxGYKR9/9uH6gdRWGW6WmPahawjMlvuONlPOS2I6PlU/+Fj+PZcS+qlTG9EZS+K4dcltsBaAN1L7qZXbb3aDYRXyAxERERERERGtnRfU/4kL/+56FMHBV04gASfC6TkE5WPxZFRE8pwD+z7NA8ensHjN2/Tx9+7JIuLZjhN3AOelOcydbtaT7l/U0xRG3ujH6AM7gj9kEbbwqHv2+kFsfzsB7ApjLh1s2kdx96xlfi0idb4f/Z+kYT89g+ylzvY1u55tnPxARERERERERGa63uesZscggqfVziXTCF9NmPar+Jf3JIGYGuiCE6F3m/dL2l0ODH4Y1PoyTV+OWB+g7S+liNTnQYw+gLVBwDRpxK8ktDnvmcF1Hoizwf12CGqvxrgeRqRTA7KZKP44huAnaZGQnR8EbH3bSPmBiIiIiIiIiMysj+CsGsj5YAI+O5D/KoSJ/3Z26KaNr4jUlRAiYs5+Ooxg04HDus+2fwgTx9QdOoHQ12mxBWSUvemHVx3IzO6zNAiYKnsjhCE1yHlgEuGjauh7ndsxiNBFl5hJIXw53nBgsLY9jsGvDSxnh+/yKg4Ctg5tuPxARERERERERMusj24NpOzNQfT7YsjvCWH27jBcm+UHf3HlEe3tQcw8DMO9UdLlcQyDrkHE8i6EUkkMb4Cg8qop5pFOzWNR/Ju6EcL4zQzycCGYTCC810JotpyWHkw+nIZ/h3x/vXuawuj+foz8aIcvNovoUYf8oF1F5P87i/k/xb//iSL0ZQyZPOA6PYPEJfc6b1HeQRs1PxARERERERFRlXUVnNVaiH7iRv/5FOzHopj9xoeVhnI2vA0e4KwEln2IpqLwbZMf/MUU7w5h07/G5CuVC4Hvohg/ZCGHdzzAucY6mYeLSQxt2oeqlHx/GtErnr9OWbHR8wMRERERERERla2Tbg1KbHB9HMXUcQfyNwZx4quMfP8vqqgGYfSg1vAPiQ3Z8tS2ZxjRb/1w5GMYfHsCf9U9mnmU1oOH9j54To5jJjdrLTCLPGJvy0Dc1SQiGzEQt82HyO0Q3PYURg6PIPFUvt+OXzNIa61E7eg7FMB4MofZv1Jg9nnID0RERERERERUts5azpYUkPpsCHP7JxHYJd/6Syoi+ckpZA+H4X9tYz+wXfjPGIbSbky+z2GLWpW9cQKRrSGEDmzsfkWLv8Yw8k0PRi6u9wHt1rfnJT8QERERERER0boNzhIRERERERERERE939ZZtwZEREREREREREREfw0MzhIRERERERERERF1AYOzRERERERERERERF3A4CwRERERERERERFRFzA4S0RERERERERERNQFDM4SERERERERERERdQGDs0RERERERERERERdwOAsERERERERERERURcwOEtERERERERERETUBQzOEhEREREREREREXUBg7NEREREREREREREXcDgLBEREREREREREVEXMDhLRERERERERERE1AUMzhIRERERERERERF1AYOzRERERERERERERF3A4CwRERERERERERFRFzA4S0RERERERERERNQFDM4SERERERERERERdQGDs0RERERERERERERdwOAsERERERERERERURcwOEtERERERERERETUBQzOEhEREREREREREXUBg7NEREREREREREREXcDgLBEREREREREREVEXMDhLRERERERERERE1AUMzhIRERERERERERF1AYOzRERERERERERERF3A4CwRERERERERERFRFzA4S0RERERERERERNQFDM4SERERERERERERdQGDs0RERERERERERERdwOAsERERERERERERURcwOEtERERERERERETUBQzOEhEREREREREREXUBg7NEREREREREREREXcDgLBEREREREREREVEXMDhLRERERERERERE1AUMzhIRERERERERERF1AYOzRERERERERERERF3A4CwRERERERERERFRFzA4S0RERERERERERNQFDM4SERERERERERERdQGDs0RERERERERERERdwOAsERERERERERERURcwOEtERERERERERETUBQzOEhEREREREREREXUBg7NEREREREREREREXcDgLBEREREREREREVEXMDhLRERERERERERE1AUMzhIRERERERERERF1AYOzRERERERERERERF3A4CwRERERERERERFRFzA4S0RERERERERERNQFDM4SERERERERERERdQGDs0RERERERERERERdwOAsERERERERERERURcwOEtERERERERERETUBQzOEhEREREREREREXUBg7NERBteAanPTmDigXxJREQb36MYTpxPIP9MviYiIiKi5xKDs0REG1oW8bd3o/9MBNH7GfkeERFtdPnUFCKfHITz7QgyT+Wb9JeTvTGAF154AS+8l0BBvkdERETPFwZniYg2rCJSnwxi4HoW9mOTiBzvk+8TEdF6Vvg1gYn3DmL7Jyn5znL2YxHMXnAhf+ME3O/FkJXv019H4UEEI2fi2rzzlV70aHNERET0vHlBEeQ8ERFtINmbg+j3xZDfE8Ls3WG4NssPiIho/XmSQeLmBCauTCDxSL53YRbKxy75wkwWEc92nLgDuC7PYfZDp3yfnksij6Tuz2I2lULizjSSv+TlBx5MPpyGf4d8SURERM8VBmeJiDai32MYeHkQcTgRSs1ieI9NfkBEROvGsyKy/40jdiWE8ZsZlEJtZU2Ds8KDMfQ7h5BigO75VUgjcmYII18nl+eRHV6Er0cQ/CfbzRIRET2vGJwlItpwikiecWDfZ3nYT04j86WHjzoSEa1D+ZsD6PXpj6VrdngQ+KAfxQ9GEFFfWwnOGsp8HIki960PdvkJPQcexzDoGkSsHJW1o2/vQXgOu+F+wwX3aw7YXpQfERER0XOJfc4SEW00j6IYUy/S4cTQuwzMEhGtbw54To5jKp3D0sNpjL/vFu+0wga3b0iU+MKtMKIPtDfpefA0iaFSYHaHF6HYLHJLOcwnJxF+3wfPLgZmiYiI/goYnCUi2mDStyeQUGf2B+Ddpb1FRETrUM/+CSwuLWD6S7W8tqPtDmh2eRE4oM6kEf42iaL2Jm1sRSQvDGJMDcyqfcf/NIXhoy7Y2UsRERHRX073grM/juKFF15obXoztrwfJhSQvTOBU2/2Y3tpuVf6se/tUcR+XL60qvifEewuLesaE9Xc5dTH0Eq/O/qjfNNIvdPdK7/jhYOIlAZ2qJH6pLRMk6nBaL265du53bUPJz6JI1OQizRQ/D2JyJkT2Pd6r/zNXux0n8DQ9STyz+RCZSmMltbL8jSA2O/yz8Veir1ptkxp2o7+fw3g1GcxpMx3UY12tt2wDqb5pqTxcpX9NypSpT6ryyGfQuyT2v0g0uKLBLIW9qM5i9v6OIYB7TebLCcUHsQx9t4A+l+Ry6v77M1TGLudEXujmvFYsTwZ87uhLDA91jRFpM7vrr+c2v+q/GzgZoMta7JcR/f3swIyWr7dh53lsqJ+OlqXQuKyXmo5D+w2aX210uO3BYUsEl+cwoBru/we9dg+gdEVbV8jzcoWk2lZXq+kj54Hlpcvva8fbHJMduiYs5T3hUbLWcz72RuV43T5cjXp6olYHBW+gPjbhr9rlBbqQEhqXnHvRG9peXGuHnhvDPFfLOaW2vKzdyf2ieNp4p7Jr3asjtFY/l4EQ28bj/HSubVB/unEfi8rIv9jDKNiHSrldaPzu85aWWcxnwuldSilQ+/r+8S+nUCywR91pLy1mEYNzx9Gq1Cm2bba0dORYJsD7sNubS7/aQKzLUdnn7Py0wpD+dhsalguNvn9hnXsRvup9BSM3YfozWG42ngMxupxZMqYPjXXIdmvD8rvFWlzo84ZwXgt1DuE5FP5fjMdqrNVrOwayezvG19LtnEsialS9qyf46gj5bBB8Xd5ni6Xofr54MSZiPn5oFPn6lbqBzUq29ZsMtl2y3m0HqvlTOPlWA5IK8gHreTFZfWIFeaDyv6ruR4zpq1zBKk6aWvcTwe/tlaDr1ZE8lzp/PUChu7WOXGJ8mSwVM/79xjS9fa1xfRofG1i0X9HK9cVjeJpT1MYccrlxDHUTiqtCbXP2a5IhdS+blubjkSVnPxzTXZaCe61my8rJ8fxSWX+T7l82ZIy+7GzvIw3VvWtmlzMW/48lJJvGsxddpU/91xdkO8uN3uhsi4Npwuz8i9M/DGjDDfaTrtbCd1flAvXWlLmrngVh9nflaYdfmUysySXV80qIbPlGk5eJfqb/HOxl6JHzJYxmxyK98qcWMs62t52wzrU5psqjZer7L+QSJX6mi9nYT+IbRn+od5+bMTKtuaUqWOGdKy73IIy/aFbsZeWM5nse4eVmT/k4oLxWLE8GfO7oSwwO9ZUSz+FFJfh75ct91tU8crPzI7nsibLdWp/L2UmFf+O0jLmk32v+NtlZZMF6bDi1L7DroR+ku9VWenxa83iD8OK2272XfqkbV872bmhVsoWOS3L64b0eX9cmTQeF7WT3VdTNpZ06JizkPc1jZazkvd/m1J8hn21fLnadHUq4bT8qJFyXpSTaVosKfPX/I3LPpGX3Rdn658HLHyH43hUWfifXFzViTpGI3/OKeNHHObfU5rsHpGOJlvVif2uanZ+VCdxfp/KyuUNrJV1FvL5n/PK5PFG6eBQ/DHzOlJHylsLadn0/CGtbZlmKIca1f9qGY654A/1jxhzz1n5aYWhfGw2NSwX6/6+lbqdKAd+Ms84C1fd2jLOS3Pa61xyUgkedyt9pXy4w6V4T44r0w/rZzyrx5EpY/osy4dzSniP/MweUKYN9T6d8VrK3lp+7FCdTbOiayShrWvJNo4lMVXKnvVzHHWkHNYsKjMfN75+0M4H39acD1Z8rm6jflCjsm3NJpNtt5qX67KyH1WNl/vLlwMdyAet5MVl9YgV5oPK/lt+Pbb4XaB8XLku6+eKKlnD/jswKa7k22Ss05+eESla409RbpXywh6Rzxpdw1pJj6bXJhYZ86/ZekuV2J3L2jVOl3Sv5ezfg1hcXKyefp6ESFyN9+r88s+veisDIDxJ4NT+gxjT7oQ44L0QxUwmpy23kJ5C+Ig4PIXs9RNwv1cbHbfBdSaMoPyy+EchJJ7o85Y8imDkIxmZ3xNG6B39txrzIHApjLBxOuvT+w9r5GkKo4f2YbS0nZemMJdV02MBc/EwvOqIvfkkRt7wI/ZY+4sq2Zt+eD6Ia9tv3xvEZGIOC2paZucwdcUPcSGibc+JvX7Ey3dqXAga012b5jF5WH58eBLzyz6PwPuS/NzIbFnx29OxkL7uYs3iH3gQumdyh2aF276epL84aNgPfozH5X7IzWPmWlDfD2JbRv/lweiPnX9YsfB9CIEbze5IFZH6ZBAHP9dHCnYcCWMqNY+cWM9cZgbRC16tlWb+3ij2HRpFWq6m/XCkev+qU2JY/1AYTtR8pk4fNhv8xCiNifdHWr8T3C2/x+Hfe0JvTW93I3htBvM5fbu1dDzr0cqx/L0ReM8kWm6Nlf15Vrb2H4DTdMTuDh6/dRR/HIXnX6N6Kwh1FOlSflbLlUulfDKC/ndX8c6k6XaUJsP2NvLFKZy4AbjfGcdUchbzmTnMJKIIyfMH8jGcOBqqe6e6EWvH3FooIHExYBhoxgorj00Xkfw2bPrkiVH+ljjPvK23xNXOQUm9TFlcVPtUjGL4kHY0IHnOi6HvzY8G9Txm9h3q8TT5oVs7nrLXBzFwIVVZ55XWMRrKI/6eB6du6blbKyvTC/p3GI4B5BMYOj6GVOeLdJH86TrnR7kO4vyulbLi/D5w1PwJoZXLIvaeGyeua3sG7g8nZT1M7y8zuFfbM4j4BjDyn9VIBCusnT/WRZlmxatO6G1ngeQvGTnXhr9K+VlcKp9j/TF5jBonQ5nQuiLSn7qxu1kdWy0H/mFWt8sjfT8p/nViUBysE29uR6/7BMauJ5EpbfqjFOJfncLBV/pE3SzdpEzuNCeCX4X1ciQ/Af+lmnPCgwkEP9FLFvtpsd/3d6EvhpVeJ7R9LWkX5xBDPpLT9Fn5MYYxXfOZOgX/Lj82ei7qIeqx4MG+TwzXD6VzorYvxuHfoy4nzgdvDmLM2Gf2Cs/VbdUPqhSx9Kec3RXCbO1viamyX/+KNkA5IKw8H4ic8OeinHMidH95PjBe266lnkMhRE7qOT710UjN09qijn8pCH3IUQ8mxXlHlhytK3edJHwWR7KqSq7W97wYUVsMl5702Kx/0p52rk3qeMmBPjmLx3nz6+rfYwjJ2J3r4gQC67lLQBmkXR8s33VYVKZPlu4EuurcEV1SZi80bt1qvBPhvFDdaqd+y1njXUjx2z81vkPU8E6WMdJv2nJiSZk5bfitlMlvZaOVuw7Hp0TKGDycVDzy++3HoqZ3UpYy4+V1sJ+tf7fB+p09lcVljXd6lt3pWOG2W17fztyJbLhcOlxutaPtB7O7dsZtsQeVmZZaVDbZ1j9nlKDhzlS95ZaSw5U7czXHQ8liIli+q+a51uDenNWWYaomyy5c9ZQ/r7uc1bKjyXKd2N9zl0t3kD3K5EP5ZhXjXeZ6y9SjHhfyt3eFFZP7p3W0cvw2YcxPde6cLsR85bzkjzdosdKyThzXhhYromwJfGeWjxfFPq6cP5bfqe7MMWf5OGm0XJM8vfRDcFlLluXLGbanPPmVqWUtJAz+mFL8VcuLadk2zinhXfKzenfz/5xVhhst0/Q8ZjzXN2nxa7mO0YShdYHzY/Oy0lhuDd+Xb5Z0YL+r9Rf9s/otVRa+KdVj7MpwsnoZa2Vd43xe2Ua74jNrHWtsZWFSXnXk/NqJ80dXyjRDOWRa/6tnQYkeln93bGp5mdLQc1Z+WtHsWGtYJjRZz9q6nXy7irFut0vkrarDsJSWdsUul3EcCSnR5LySW1xUFnPzykwspHjLT+GYH2dWjyNThu2vlw+NrY0q1zwLyuQB+XemremasFoWN1xupdcJnbmWNLK+L9bPcdSRcnhxWgnI37DXa7lmuOZrfL0pWM0fHakfNC8XG2671XWtq/nv6xov99ctB4QO1RMrsZ86TxOuoC7eTGX/1fntP8QxJo9nu+Hcb6zjm7aqbdFi3C/XA6JcKpWJC8r0+zL97D4lavI01jJN0sPatYlVc0qofJ41uzY2nCtajrGsvY05INijKUx8pYfanRfGEPynWSdNNrg+jkIUGprE+QiSNbdKeg6NYOKYyBpC+nwQExZGvy3eDZfvQjo/Fr/990Z3iPLI/ixn21EekV1u5x6T39rmQ+iiKJJU16NIGPopKQ8aBA9C532md1JsrwYwcklvv5v/NLlKrWvq2ObCQKl1Ru2djhVu+/qhty7T79V4MXZR7AezUXfFtkS+Cep3gvNjGJMtslauiNSlIX2wiV1eePfr7y5XQOLGqHbHG/ZhhE67TAct6TkwgpHj+nzi+5ShFcEqeRzD0Lt6LvYeEcX8BuA4EMZMckZMYQyYtmwVZZNnQM4nkLbWIZpUQL7U+uOVXvTK2bWUvSXyp5ZRnAh9HjS9c+o4GkJIlr2Rmwk9X61Hh08heMisZOyB6/QYQvLOauqbVspGq8fcGniaQujMmJb+TnH8lFrcNXTYD7+23RGErtff6uz3EbGEYLeXW7As54DnsnosiOnygPnd/M0uHCwd2nfSNf0DivLz2og8j8nyU5s3EsfT6RCGtZVIIyzKpdWW/y2HLfvdcO/3IvCmeVnp2FtJ78xvnT8CbE6/LGcSGHrDvB7i2DsgWx/lkXiwglaWZopJRM7rewZHRJlw1GTvin0bvDis548HYSQa9fW6GiyePzZWmdYLe+m8cjeDnJztiue9/GxI1JmuDul1O3sAkcvmdWy1bjdxNSCPgRFE7hgKuN+zmNNm8siL7XVdmMX8t8Pw7e2DvacHPfY+uI8OY+qnWYS0Vod5xHyjiLfypF8HOE9OyN9PYeR8VKv35W+JuuAd9T07AldD8GxV59fYSq8TOnQtuWLPw3Fk2w2/dj6aQeKDftNzIra5MXBEn82r53p9dgXWZ/3gebVuy4G/Sj7Y6sHIFZ92LsnfCCCs9glbTGPsvF7HV5/knviw6fPYTfUc8CEo5yduJ8WZTj5V+4WaZi6Ebkfg26Z/3rZ2rk0a6oXjDTn7oCjWuMaDCYxo5wo1n47AvaIWv6tvQwZns/di8iB0I3DU/MJI58DAO359Nh9B6hd9tsIO78UJ+LSDNYWhi4064haMB8GuYUycafTbNfY3uoA1l00l5HY6MXio/m853ihl7DjmMqUsmUYyJk/jR8RBZRok0jn3DoqLTPVCs4jFhgnQYcUs5mX5aN9hF9WQipVt+zpSnEXiU5mopwNo9Oi4bf8ghmQlLHEv3TgvWlT8r6hwao+b2BG8FMJAvcEmCrNIXtdn7e8dhLtuxu5B/6GAnl+eLlYH1Dsuj/h5+ajGgUmEP9itvbve9bwq0mavOvVV5el6ck9bybdZZG/J2dcdLZcpK5dF6nv9yMSuQXjMLoY0lYFrcGsO8+vw0NS8CGySs8vYXPC8JSs6DxKYqzPoYy3Lx9yqKyL9RRCj6k1HexDhCwOW8iNedMP3gX4xm748ZX4hWkwhdkXPB56LIZzS5sz0oE87FsT0qqWjAYWqRzfFeaxUfp70w1Ov/LT1w31Mn83fn1/1m0b2Q2HM/CAuRH+Ygv81+WaNYjYD9YFlNR/02TufCWwvOWU547Q0snu6ppyx20vV4Tlk27mx+d8kRuWuCRzTu2oxY3O5MajN5ZH8edVv5xlYPX9stDLNhk3/T87ml5ZfhKylDVV+ihxqdmO8XcU5JL/SZ+3viXzTICjRc2gQp+QBErk7a15v2hXCWJ2b4ugx3ORABJHv1/I4EmxOBL8I6Y813zmBoc/GEPpAv16yn4wgdKg7J7mVXid07lpyhZ6HeojNLq4l9XO98yULJySzAErLVqF+YLOw7n9V67QcWJ16og22Tp4vOsR+ZEw2Ksxj7Iw4Z3wW0LsZEHsl/FVQlIQdINLJc1aesK4nEPncD+95GZi9n8Bw3TqSVW1emzRkh+NVOSuuIxarTrJ5xC7KG6ki/YJdy6fWbcDgbBHZh/olj5pRdjYIOqp6XnfJk3Iecw/lwWv0khehS7JFxa0gQnX6vFNlb4zIg0A92Y201tdGz6b6J19TYjt/1nsQUVu+9sugnSnbpnLGzuZlO4pCDtlSS+BmQZy/B+WFZhiehgt2yLMi8r8mMPrmoLy48yD0tttQMVrhtq8nv2fFaUPnFfuhcZHWB2fp7vaNTAcCDJW+9tQT58j+LfrbZh5nMCtn+3eYtv8osx8el/kl0JkTQR2VvrLESeei37zF8Xr2LI/UzQltJPfKKOpyco3IhTaYYhZzt+X8of6G+3/T5vKRqbUK2oic/5AtbpBE3lJrpRaOudX2YAKBc9qatHyneOchP7RL0fwoYsaWXlLhjtg27fwilju0U3uvKXUE3S+GcOJf/ZXRsOXUf14uU+vRvF6hEryuRjc7DAGruyK/ydnuKKLwIIah82P6yz1DGNi7mhd86ijfYn+8N2AYKV5OLw/qwUkTvdtKR28cU/dbT7Fsprxn0P96g8quOEeXjoLkKrQgrsfy+WNDl2minrAunxjSrYfys/BHqV7YD0cn67e/puXNF8D9auM6k1a3Kz0ldjtdqdvls+V6l/1ND1wNignb3oPlAG/ip0ydG+Mj6Dce/3Iqj5T/e/vhMJu4Tpi4qIVlED8zhAk1/9t9mDjn6cCFdTtWep3Q4WvJVbTR6iGFRwlEzp/CgHtnZQR1berFYKlxQSd0rH6QQ+6hnH2lt/H1chNxX805WJu2o//NUxi7Xe+47bS/UjkgdLCemBNlsk7k3RVkhMb5II3CM7lgywyNCh+MinqmvuWd7UPVBvebQ7IuFMHQR2oA3g5fLIph06cLWrSCa5NGbFtKtbfqRh7qE+9BrdzxYNK0VfX6swGDs4bHevdbaDlmIXjnOBaWj6zkMfHvLdpB1OurXNKMuPQDa7t8PE4/2Vm52DIU+C3fjTNsJ0ZNC9ryZLgAiz+Wxc3Tgvh1nbdJsG1V3RqsOTmL6f82obfvIEa+z8NxIIhoZgr+qorRCre9ltk6lCerlQXzk11pqhtceJIvV+Ad9mYPoRtOHMvu/LQu+/UIhmTH3U1PnMViOYi8u6NXMG16mkTo3Qnt5NnqScf8pCinBsGKam3ub6nw3zEcfLkX/T5xIr6eRMpia4d1T+Tn8oXlJ/2maVOaKmVoXJS9cnajebFyS23xz+YV2paOuRql84zp1HIwP4vIOf1Osf3YBEZavVO81QP/BVk1+3qqss81WUx9rXVoAPtZn4XH2ApIf34Qvb39GPxgDJG7LXSHYig/429tN08bOVWOybUOWKUwWrUum7DFOYgJkQ8cR8Yxd6dxa4YV7ffHcZxybcF2zwmMfhVH8hfrB5rtjYHy47LxjwYxol44GrJ4sSDOw7/OYb7OeSifL+8ZDDpM1r089YvSVPq1XuB8ZeXtMq2cP/5qZdpaWsPys57i0w7dtK+tRzqHynWmnS83qzP1YEup+ifyTTklxAV6KRv1b2tWP3RUHtt8oj5oal3+lyQin53Avpd34sT1TEt/W2GD8/0x+VizSlysXxlr+DSYVe3V2VZ6ndD5a8lVsw6OI0ueqQM892PLKwdx4pMJxO9l6pT3HdKx+kERRQvdGrYvi9StCQx5d6LPPYJkowB7R65Xza33cqBtHawnFp+WSvXVUMoHu9H3ryb5oBG1UeFlvXsDzZ6Q1p1BR5sAGAcGE7/kuZxAxKzrqpat8NqkgV57af2yyJXS1vDEu+tiCINNbsKtFxuzz9mSza21Rc01KIk2bbUekHL0brF2EBQXkSsV+Cu8G/e8yj7MYDa1VncTu8u2qZWic1GNl7bP2NfepVB3T5wtM/aVNYyx9zt80lltD8bg+ccQEmL9tRFDUwtYXFLUwRcrUyokF6aNotjsgFxHx1z2xhBOaP2AeTF2oTKqsXU2uI4GoLXXuSMusowXLg/imNC+u/aJB3Ppzz3Y/ZHaR6c+mv9sdhFLxmNBTLMX5MLPFXHBv7mIxZWU442oo4y7BrQgMHZ4EU7MI/dndboqv0Vln7MmbC4EvwrJ0eSTGBUXjls2VS5iNm3Zot1EHb2rL75xbPDzx3Oq++XnOnxMVaxPZ68LhjFdO7q4NlJ+GF7tolRcGL89iLEf2yyU1GuackA0j0JhSc5vcB28llxt67ceUtD6mh3Q+qV0iN+exnxuqfp8pOQQlX3Orlf2F1d2tvBena85/sQxk5nB5Idu7VjP3xvFvveadKG4YiwHVkzsrJXkhNXOB4W84Ub3Y/H9bbfEreNxCslynDqP3m3Nnvy1ZuXXJvXZX+6Tc+ly/KT8xLs9iNAGqgtuwOBsD+yljohv12uFYVBcKgf+6t2Zzt4cQVAO8uU6G9U6NJ/6uNQfG+D/Uu/kfPKkno1S570YUTtibsbw2JOv6WNPtWzoKbVI+mcYszUHed3pQ/1xA2zuKQ8WFH9kuZ1S5x2exLzZembnMHXJC8ejBCbe3g3PJynDXbwVbnuteuugTfOYLD1u1pDZya4yTZ+Vi9XaapePQlkZFKaIpT/l7Ioeqajpa++Yhbxns5Vbd811uUlQdV9ZLXYfIpidFMvTz5P1gxVV2tzfagW1NEjIrmHEvwvDv8eBnuclOmAoV1yXZ03TxmwK/l3+0UbzrFLp7P1bozu8bRxzNYYT5mmnTYlhuZQFv8cxckZvJ+S5Gm6/4/4dA/Brg/+lMXQlLs+jRSRjYb3F2HF/nQHvDAoJRD7SjgY4P45j+rIfrm091itIhnIp8G3OPG2WTZE1Doy7EDT8/kJ6BtMxcVG8I4vU9SHscw4i3qAlb7v7PS0qndojhaJEi96dQvBAH+wtlpW2PcOYEes7ftJj+qiX/TUX+uqch2yby3sGU7+ZrLvZdLVeZbzd8na5ls8fG7pMc8DelQFYLFrD8rOe7KNSm8mVPaa6rB5pODZzfzRrXpCvPEUn1qFc/tkd6JezzS1hqWkrhk3Yog4kVjU54DwcxNTd0o2aNEa+UQd5aZWo25z3yzJHl3j3FCIdeCqovTrbSq8TOn8tuWrWwXHU1IMIRuTgat5vxDX0aY84d6xyxbdT9YPywHwd2Lebt9QcfyKfveqG//I04h/Ltb0VRrReS92OXK9uzHKgbR2rJxoGcX/DUa4XtGWl+aCRB2MIyHq1Jj+GwQtJQwxlhR7HMOgaRMywj5c/QdeGTl2b1CPSvJQP5tV4y5MExrRBazfGIGBGGzA4a4PjlVK4K4n5JgVC4eeUDJDazR/XfhTBKZ+8e6GOdHfRp3Vo3t9XOQE6nHon5/5LUQS1r8hj7C1/wwsuVfanhH4RC/H3zlZrheKC4RWZzf6Tw5Kt+iCvO5UyX08vHKVH+X5uUvF4VkShUNCmjh3cJS+anSTEtM0J7+kpzFzV+1JKnQ9golxIrXDba9VbB23agk2WWlM0+o4ebKl34/0lcUKUs/H0fJP0zSBdaqV0xGF6sWxFrravPf3txrb1lS8SZpsF84t6XikYn4HtlGe1fWW1UbkzOSlWJqstJNrc3+o+lIOE4NDBlgPLzYl8UWp50Oy4Xg2GciWVW4LNJG3MpvXYsb4VaVGG67wN+yts65irsWmLedppU/0MVyOHxMWAXqkS57PQOyu5OOuB55gchOZ6BFPqubY8OrYdw8csPC75qzie5aznX40GXKnDUC5lCkvmaWMyrfIl4TLG48Cxyw2POsL6PXkRlI8hdKvcBGGZ9vZ7HpmU/M7DA3CtpJJrdyPw5TQWlKWqi5el/ynI/Swq06VHqWs4dpT3DBaLJutuOtXbM+2WtzXaOX9suDLNcBPXvgVb1jqzt2Aty09zhqBoG4PyVqmtRzp3wyc/mnrQbNz5LDKlut1hZ2X7RP2w1Nanaf2wYKgfvmrhMfxahpHyq/q9tajw/Qj8WvBNXOjGpuVjzQmc+CCy8ov2tupsK71O6PC15Crq/nHUXD4zK693vRh4Y41+uVP1A0Pfz46tTWs1bbLB5RmQ8+n6/RZ35Hq1gfVcDrSrY/XEHLL35ey26kHKO8diPqgrjbGTsgGQqONPx/TuDfKfDVprNNhMIYXRo3pg1n4siqlLsoytfYKuZZ28Nqljq6jLydnisyWkvpINGI6MdbT7hLWwIbs1cPzDIwNeSUyIwqW+St94sPvhqu137KnIhMdOyNE6xcms2Uh3m90IfRPUK0XigitwLtagMEoj/qVsN3vAB3cb/Vw4XQP6b2HMdFCWKsuatDvh9smtuTWFZINAcvbGALZsEZX8LSNItn4bbUUcr5eK1EozdNXKtn0dse2G+6Sc/yyGRIM+Zop3owjLws9zwCW3v0WFKEba6au1px9urZWcyNrxJFJ1y/gikhf69Pyyd0Lstc6avdilvrLWWHGx3T7LDK09HubK/UqvHSf6vTJnNsnPmvV8bDaVRvIbmcN39aOvXgCs3WNuFRRulCrOLoS+WPmAfba9foS0fqcS2rk2fXtCP192dJCrIhb/kLO1enajX15IJL+MNy9v1ii/pb/Yh33/Uqex+uv0kgO75Ww63YUbKaqniy20jLFVX7g0uQjscfbrweem9bC10975Y6OVaTnkS4Gk/X0ra92zqtZD+WkIiu5aYUuoWnZRx5Z98uW/FHVswwAktQrfRzEuCwD//n5DvhTfURoVu0neK9yLyxtddgzvXWnJ3qInifI+0i50j3oQ/GxYP7/cOYFTX3cnLLPS64SOXUuuqo1XD6lvccVjaVTpUP0g/3BOnp/d6HOszd2uLS2PQ7MOrNNyoGP1xN8zmJPltPuVzjzG32npzwN6HUekekjMe46GMKZtu9pocKTheagpNSZ2oF/vBmBPCPEvffAelt2biVQNf9t+69xOX5uYMtS5Z28NIXRezQn6IGBtxVO6aGP2ObtLXDDKLgbSZwIY/Y9ZaV9E5usRjGh9W4jdc8EPd9WRVkTq86CeCQXX5QkELZzMbPtDiJ7Wfzt/YxBDN8wLI61Ddi3QZkfg5EB7dzD3+OSFMRB5L4DIr3UOi0IaY97t2Hc+gbyh0HGWD6o4gvUCyY9jGDmnh6ftp71wr3E0LPtzeaxaqP1vla1w29ePHnjeDYviSBVB4COxH8zW80lSFCR6p9Vq3yjBI23eVbqb0Po6bb2vPUMruQcj4oRr7GaiovijOCF/qp+9PO95O17AJu7oeXHj9ZNbYoOtVI58PY5YuV+misIvEfjfLrUnbJUNjtflQ34Pssh1sqJrpLWONj/mXKIyoJcran6OIFOnMqANita3T5TBsrZj1OD719StcUTqnD9Sn4hKUOlmyQcN8nrbx1znJcXxo66K8+MxBP/eiTVxYOAdvzaXvjyAgct6tdd/xm/t2Dc8bha5anYOKojztB/+L+TLZezwniyVS0MInKv/GF729in0951A5JfVOigqerf2IHk3KaYwwjfrXJA8mq+MxN7XRku3hgyP9N4W5YxZ33F5cSF1/JRs7bUKXvIiIANLaj1s5G6ddJeDxGx/W5QVq7xr2j1/dKRMWzN5zN/W5zqfr1q0zstPY1A08MbuDpfNomw8GdDTX32s9L36dexAKaCxKwT/AWMlWx8Vu6p+qM3XUL/jPRkcbPfG2OMkpkqDCRlb7zZlfIy5cqFr++cIwvJaqGuPNa/0OqEj15Id8BzUQ2ybS7c+4hi/YXL98CyPxDk/TnW0D/NO1A/SiF6RXZ/s8mD3qg0YJPZlYkrOu+E0PJ27pp7HcqAj+UDkBHEc6jnBCc8/2rwGb8qYD5zY/YqedpYYujOwnw4juEc9yh3wXZzU6y8r6t4gi5i4ptf7Z/UhenNYf/Jzhxve0k3ITy3cvK6j89cmZirX3/nbca0hieuyOOeaHdPyifF1cBVqaoMOCNYDz7kJ+LQ8ncKIqHQNfBJD8le1Y+oCsuqAJW+7sfNdvbsCtWn2eE0T6uLdEXjPyz471O4MPrR0qSmIytT5UvcG4jT01iDG5IlTpY1wfG8Ug7JDdhwagV/UvErdBlRPhk60lxb196ouChzwfxnVtzMfw4m+ndp2Jh5k9WUfpxH/4gT29e3G0PdZcaGYRtb49zv8GC81eb8xiH73ECJ3xDLq3+YzSKr94ZX6FVFbmnzQfHCXlj1bwmJ5ew2Tuu6fDWBfKZ12nYL7NX1Wt8JtX092BTBxUa9+a/vhXye0u/Tl/XBzBAdf34dR7UaBC6HboRX2jdJeX622vSOIX9DXM3W+HzvfHEP8xwzyhv2106U/MqreVQutVn9Wa91XVkc5MXhGBk9Fvh3cP4Ch63Ek7yXFySmGsXf3oe/1E1V9+bRKbW2ul1ZTSK9GReh3dfR1tSX9JmwXZeSyk1dVuXICO50DGL2ZQPqxfmxr5a+6neqgaI/Edv9XHLP6X+qaff+aqn/+6C+fH0IYaXqzpL1jblXYgwifaaMLgTp6DvgwrO3srD5CvX0YvqoAQwO7BjEkWzSoZd++N8U56LbIE+J4SNwcwwl3X/k8XU9VufSpyFdutfxMIZNX81semXsxjL65Hdu9E0g9mkYyvagtu5rshwLlLo5ivn1a/knJ/F8oZJFSy/Q3Kk/lDB2wWr+wqgfut0KyHBB5+PBBnFBb3qnlzL04ImcGsL33oDynrBZRFzoXl481pjD6rz5xPp+onDO0c9soBvq2a4PEZO8kka53xdRJ7Zw/VlqmraVH8/o5WBj8e+mh+G5Zj+VnEfn/JhD77AQ8/5ZBUXsAHlfngyE9h8LlsmlZHVvUmRLGOrZat/sqCFdtwSzqh2O136GOcl86hmq/4/NGrY7M6ttZpG+PYWD/oAw8iO8Q+8dqahTviotb2Zdo9YWuOP7PRBDQysFuPda80uuElV9LdsZ6OY7qXK/JabF8yVparlJ76xH5KyQDI+q4LAffVVsz6+f6uMjDA329OPhpqeTqnLbrB0/EsXU7gqF/e2RLRJG/33I3OLYsUp9WqUm3/K9JRD46CK/WF7rYSyeDzfvrX5ENWg6YpF1lMsRL5HJFw42W9uuJBfGZqDOJ/eMp9eO6ZxDulbY8t5IPjo1g0PLvZBE5J7szEOezyBlDvEbUX0KX5Tmkre4Nsoi91Y9BtUsUNTCbEmVquYW+AwePyWtaRBAR5WjbOnxtslwvel+Rsyr1RtU7Jke02qfuy5u0J4Ad5zrYV28nKevJb1FFZAFFXS1vLCffbCA7rQT32rXl602O45PK/J9y+ZLfphRxMpbLeJTJh/J9g1zMW/6OUEq+abB0f1gRu1xfZk9ImdV+I6dEj5S+t83pwqz2/UZLmagS2GOyrGGy7w0q01n5B1WWlLkrXkWc0k3/Tpv2BJQp0781Mmzbkah41UiL6WD3KZOZJfm31drfdqvr23i52QvyM4h9LN8z03w5C/vB7laGf1iUy7eiOr3tJ6cV82+xkiYLyvSHbkWcZyvrVTPZD4WVuWarmQqVlzc7fqoYlhWnfSWclu/XavSdVsuOJst1Zn8vKjNnXfJzk0ns59A34+X1sF+ck39n1awSkuWX++qCfK8Zq8eDULU/6ufn+VhAEdUBw7K1k11xfzgtclQNS99fTyeOa5F+pd/fH1AChxqcQ3b465SNHTrmrB4nFvO+muaB7+ocnA3zfuP1nLtcyc/OS7X51ZCeZtv4x4wy3KAMt+8NKVFRNuqv7UroJ/l3VRaV2YuehuWSqEQq3itzImc20Godo5FsVBEXKDXrUDu5xP4wOUY7sd/VY/Cqr0GaOBR/bFIZLr0+NrV83zRl4Xj7Q+z/RseQOu3wKuPp5XumI+VtVXnS5vlDs4IyrS2G48ak3ldPpW4aUKZbri5Y2J+aRsuto/LTVPV3q/vMF2uwx1ZQLurE+f7jxnWm5nW7RVHGNinf7B4l/JP5d1SOj2aTKBO+rUkL4/mjNh/+OaMES9dKu8SxZ1K4LnxTuVbyftPCkWG1LLaw3MqukYR2ryVNWC3T1tNxZD3/1Ew137WUmTRcWy+fHMejyuTZ0mufMtVgt7d2rm6jflB13hBT+TreXMP9ajyGmkza9dOy37FaznVqP67PcqDVafl5vJ16ouE41CaX+F6TDSxpVI9oJR+Iem9tfqvsP68S/U2+KS1c9ZT/1vR4+HNWGd4l/37XcMO8XG1J/G6pfl9n2/+YUvzyt7FL5F/5dlNV6dHutUlrKmlY//fmLlbKWnsLda+1tEFbzkrbPAj/kMFcPIzAERfK9xR3uOA9GUY0lcPCNT/6qu4iZhE7JzslFjxXx82bPDehNuWfKI249+MIApdWrwWY7VUfxu8vLt9Oex/cRwIYTywgkwzDY9oXkQ3O96cw/9sMJk/74X5NFFsaB1zib8PxOSzeH4e3Xj9Gq0Vd9/1+hGKzyGWj8L9qfi9lZdu+ntTbD3b07fUjeG0aC5kZhPavsHXHivtqdcBzeQaZ9BTCJ71wlY4NNb2PBzGZzCH7XRDOzjdC0azfvrJa0QP3RZGvk+NVedb+mkeUEyIPiP08fKwfu2UWyN+ba/FOswuej/SyJ3kr2f5d6npecyO0V105B7zXRB7Q361hQ9/Rccz+MYepSwF495SPTLGdblH+jmP6YQYzl01Ggbf0/Wukpx8j32UwX1O+aPvqijgmf5psXjau+JjrHPuxiVXp+N55bAh65wZeDB1tsW3JVrG/7+cwc8WYT0S5d0g9/8yL8nsYPtdurdWiOBqQTJvl6B64zk4ju6z8FLlojxv+C1HM5hYwtZaPc27zYTJTOje50VdeJbVM92rH+twfsxg/tOwI6BBxDL4TRebnKYSOG35f1H/8pycxI9Jj8uhB7D4m378xi/nVqKRsdWH4u6wo7yYRNK6HOJpcpXN8ZkqU66u/Z1Z2/lhBmbZmxPFxW2/3ZD+79t1QLbOuy0+9jBm/n0H06GruMXG+vyDqTA+n69TtZkQdt1ndrgfOD6ebfMc0gn9vL5WMZeSk5S6z1PEFBjGmXSupLTJNWv0KjmNhTMrHXuNvDZl25bTaVnyd0Na1ZAc9J/UQ26t+RDPzmFK7fjBea8prh4VrPhx0lobRi/3/7d2/a9xlHAfwT8Ahg4PjFbocVCiCoFtvbXAw3SIVmtBBWgc1uqS4pO0QLpPRyViQFEG5GwoxU+0gnFvjIE1B8AaFdmsGh/4H533vLiaV1l5+fvK9vF4Q+HKXcBx57vne8+Z5Pp+4//tB3ZD28f2guF8udL+X/zw4xn0Ydo7DYv10WK/zEqM+D+xrHPTGaT1W262Y75ULOATPzEe7GG9F4/qtU8bFyaBL2+/rX6/W4nr3f9N75uHikJlUUTZla3d+Jaabjee/9+53+Kmt3jkPG9HacVp8WIe1Nvmv8fH+aaL/e71TZy/05tjqu/VofJS6An2hsSKhHVyzb5vRfP9UzBT1XC424smd/jG5l1uPxbHuzbm4XLgfnRvHc7AAx0T3Zn3h9eLY9NuxtPFgqHrZbNkx3+5qngZIdCzmffMn7F9ZP0d7XefCAfh1McZqvU9N1Nc7Md8rqwRdj5vxXrUo2zEZK3/e3dPGy+Oi3DtnAU6iMzMx1yvCvxFL3/6UV/8QgCOxsbbcr2N88douatUBAIyqR9G8Oderp/zCJmAlIpwFKJ3xOP9Zv5HF5q16LP92LEuaA3AQHjej/nnRSGS7UzZAmjer5iGSTEX19OCSE64ozzDTb2h2rv78JmAlI5wFKKPTU1H/qlikr8f1T7+M9We6EAMwGrZ3hey1TwIAQOn93Y7WL61orS3H7OQb/bq5lclY+e4Qa0cfIeEsQElVL92OHxdqvaaEUx83D745GACJtneFVC434usPh23kAgAwWh6tzcbE+YmYmJqN5XvdlW9lMpburcaVs4NfKDnh7IGqxPSdThQ91jq7KpJei/nib4ofzcCAoY1H7UYjVj+oxuYPM3H1VnvwOABlV8zrxa6QyuWVaH0zvd1JHuDI7VjnWq9y1M7N98deZzWmlTU4oZ5Gu/2kn7GdqcWVhdX4o3035t4a7z07Csa6g7wzuAaglJ7G+hfX4sE7K/GJRjEAo+GvZlz9/rWo35yMyiuDxwAAGDnCWQAAAACABMoaAAAAAAAkEM4CAAAAACQQzgIAAAAAJBDOAgAAAAAkEM4CAAAAACQQzgIAAAAAJBDOAgAAAAAkEM4CAAAAACQQzgIAAAAAJBDOAgAAAAAkEM4CAAAAACQQzgIAAAAAJBDOAgAAAAAkEM4CAAAAACQQzgIAAAAAJBDOAgAAAAAkEM4CAAAAACQQzgIAAAAAJBDOAgAAAAAkEM4CAAAAACQQzgIAAAAAJBDOAgAAAAAkEM4CAAAAACQQzgIAAAAAJBDOAgAAAAAkEM4CAAAAACQQzgIAAAAAJBDOAgAAAAAkEM4CAAAAACQQzgIAAAAAJBDOAgAAAAAkEM4CAAAAACQQzgIAAAAAJBDOAgAAAAAkEM4CAAAAACQQzgIAAAAAJBDOAgAAAAAkEM4CAAAAACQQzgIAAAAAHLmIfwDcXT5kyC1NkQAAAABJRU5ErkJggg==)"
      ],
      "metadata": {
        "id": "0zt32ml4w-k8"
      }
    },
    {
      "cell_type": "code",
      "source": [
        "def f(x,y,a):\n",
        "  return (x >= 9) or (2*x < y) or (x*y < a)\n",
        "\n",
        "for a in range(200):\n",
        "  if all(f(x,y,a) for x in range(1000) for y in range(1000)):\n",
        "    print(a)\n",
        "    break"
      ],
      "metadata": {
        "colab": {
          "base_uri": "https://localhost:8080/"
        },
        "id": "b5QAzmXbw_Vc",
        "outputId": "3f33193f-7fd4-4966-a072-b2e8ad796d24"
      },
      "execution_count": null,
      "outputs": [
        {
          "output_type": "stream",
          "name": "stdout",
          "text": [
            "129\n"
          ]
        }
      ]
    },
    {
      "cell_type": "markdown",
      "source": [
        "![image.png](data:image/png;base64,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)"
      ],
      "metadata": {
        "id": "t03yeVz8xGXk"
      }
    },
    {
      "cell_type": "code",
      "source": [
        "f = open('17_7619.txt')\n",
        "\n",
        "nums = [int(x) for x in f]\n",
        "\n",
        "mx = max(x for x in nums if 10 <= x <= 99)\n",
        "\n",
        "sums = [a+b for a,b in zip(nums, nums[1:]) if (a+b)%mx == 0 and ((10 <= a <= 99) + (10 <= b <= 99) == 1)]\n",
        "print(len(sums), max(sums))"
      ],
      "metadata": {
        "colab": {
          "base_uri": "https://localhost:8080/"
        },
        "id": "Nzdr-0CJxIe6",
        "outputId": "26371e72-121c-4258-ef4c-0a4078ce710a"
      },
      "execution_count": null,
      "outputs": [
        {
          "output_type": "stream",
          "name": "stdout",
          "text": [
            "1 2970\n"
          ]
        }
      ]
    },
    {
      "cell_type": "markdown",
      "source": [
        "#### **Пробник 3**"
      ],
      "metadata": {
        "id": "q6jimElq8Sju"
      }
    },
    {
      "cell_type": "markdown",
      "source": [
        "**Задание 2.**\n",
        "\n",
        "Логическая функция $F$ задаётся выражением $w ∧ (y ≠ (z → x))$.\n",
        "\n",
        "На рисунке приведён частично заполненный фрагмент таблицы истинности функции F, содержащий неповторяющиеся строки. Определите, какому столбцу таблицы истинности функции $F$ соответствует каждая из переменных $x, y, z, w$. \n",
        "\n",
        "![image.png](data:image/png;base64,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)\n",
        "\n",
        "В ответе напишите буквы $x, y, z, w$ в том порядке, в котором идут соответствующие им столбцы. "
      ],
      "metadata": {
        "id": "tE51HfGekMpA"
      }
    },
    {
      "cell_type": "markdown",
      "source": [
        "**Ответ:** zwyx"
      ],
      "metadata": {
        "id": "ovCl1NT0-ylV"
      }
    },
    {
      "cell_type": "code",
      "source": [
        "from itertools import *\n",
        "\n",
        "#for a1, a2, a3, a4, a5 in product([0,1], repeat = 5):\n",
        "#  table = [(0,a1,0,1),(a2,a3,a4,0),(0,1,a5,1)]\n",
        "#  if len(table) == len(set(table)):\n",
        "def f(a, b, c):\n",
        "  print(a + b + c)\n",
        "\n",
        "f('мама ', 'роет ', 'уме ')\n",
        "\n",
        "p = ['c', 'b', 'a']\n",
        "r = ['мама ', 'уме ', 'в ']\n",
        "d = dict(zip(p,r))\n",
        "d"
      ],
      "metadata": {
        "colab": {
          "base_uri": "https://localhost:8080/"
        },
        "id": "Tc18csNvklf-",
        "outputId": "5ef4bcf7-d37d-46a9-ed6b-fa6bd8097bd9"
      },
      "execution_count": null,
      "outputs": [
        {
          "output_type": "stream",
          "name": "stdout",
          "text": [
            "мама роет уме \n"
          ]
        },
        {
          "output_type": "execute_result",
          "data": {
            "text/plain": [
              "{'c': 'мама ', 'b': 'уме ', 'a': 'в '}"
            ]
          },
          "metadata": {},
          "execution_count": 24
        }
      ]
    },
    {
      "cell_type": "code",
      "source": [
        "from itertools import *\n",
        "def f(x,y,z,w):\n",
        "  return w and (y != (z <= x))\n",
        "\n",
        "\n",
        "for a1, a2, a3, a4, a5 in product([0,1], repeat = 5):\n",
        "  table = [(0,a1,0,1),(a2,a3,a4,0),(0,1,a5,1)]\n",
        "  if len(table) == len(set(table)):\n",
        "    for p in permutations('xyzw'):\n",
        "      if [f(**dict(zip(p,r))) for r in table] == [1,1,0]:\n",
        "        print(p)"
      ],
      "metadata": {
        "colab": {
          "base_uri": "https://localhost:8080/"
        },
        "id": "nzSuzsoLGu0k",
        "outputId": "b8f685c9-5101-4da3-ab2e-da2d3cae2016"
      },
      "execution_count": null,
      "outputs": [
        {
          "output_type": "stream",
          "name": "stdout",
          "text": [
            "('z', 'w', 'y', 'x')\n",
            "('z', 'w', 'y', 'x')\n"
          ]
        }
      ]
    },
    {
      "cell_type": "markdown",
      "source": [
        "**Задание 5.**\n",
        "\n",
        "Автомат обрабатывает натуральное число N < 256 по следующему алгоритму:\n",
        "1. Строится восьмибитная двоичная запись числа N.\n",
        "2. Инвертируются все разряды исходного числа (0 заменяется на 1, 1 на 0).\n",
        "3. Полученное число переводится в десятичную систему счисления.\n",
        "4. Из нового числа вычитается исходное, полученная разность выводится на экран.\n",
        "\n",
        "Для какого значения N результат работы алгоритма равен 113?"
      ],
      "metadata": {
        "id": "m9I3AFh98diK"
      }
    },
    {
      "cell_type": "markdown",
      "source": [
        "**Ответ:** 71"
      ],
      "metadata": {
        "id": "QdEMZnWN8diL"
      }
    },
    {
      "cell_type": "code",
      "source": [
        "def R(n):\n",
        "  # получаем двоичную запись числа\n",
        "  b = bin(n)[2:]\n",
        "  # дописываем недостающие нули для получения восьмибитной записи\n",
        "  b = b.zfill(8) \n",
        "  # b = '0' * (8 - len(b) ) + b\n",
        "\n",
        "  b = b.replace('1', '*')\n",
        "  b = b.replace('0', '1')\n",
        "  b = b.replace('*', '0')\n",
        "\n",
        "  return int(b, 2) - n\n",
        "\n",
        "for n in range(1, 257):\n",
        "  if R(n) == 113:\n",
        "    print(n)"
      ],
      "metadata": {
        "colab": {
          "base_uri": "https://localhost:8080/"
        },
        "outputId": "b8577839-427f-4a5e-b053-5083bb33c10a",
        "id": "J3uAD6Mg8diM"
      },
      "execution_count": null,
      "outputs": [
        {
          "output_type": "stream",
          "name": "stdout",
          "text": [
            "71\n"
          ]
        }
      ]
    },
    {
      "cell_type": "markdown",
      "source": [
        "**Задание 9.**\n",
        "\n",
        "Откройте [файл](https://kpolyakov.spb.ru/cms/files/ege-xls/9-194.xls) электронной таблицы, содержащей в каждой строке пять натуральных чисел.\n",
        "\n",
        "Определите количество строк таблицы, для которых выполнены все условия:\n",
        "\n",
        "– в строке встречается ровно четыре различных числа; одно из них два раза, три – по одному;\n",
        "\n",
        "– сумма повторяющихся чисел больше суммы неповторяющихся.\n"
      ],
      "metadata": {
        "id": "KFx_KgJE8hPm"
      }
    },
    {
      "cell_type": "markdown",
      "source": [
        "**Ответ:** 424"
      ],
      "metadata": {
        "id": "7HBHwXxg8hPo"
      }
    },
    {
      "cell_type": "code",
      "source": [
        "f = open('9.txt')\n",
        "\n",
        "# счётчик подходящих строк\n",
        "cnt = 0\n",
        "for s in f:\n",
        "  # построчно считываем файл в список\n",
        "  row = [int(x) for x in s.split()]\n",
        "  #row = list(map(int, s.split()))\n",
        "\n",
        "  if len(row) != len(set(row)) + 1:\n",
        "    continue\n",
        "  \n",
        "  sum_duplicates = (sum(row) - sum(set(row)))*2\n",
        "  sum_uniques = sum(row) - sum_duplicates\n",
        "\n",
        "  if sum_duplicates > sum_uniques:\n",
        "    cnt += 1\n",
        "  \n",
        "\n",
        "print(cnt)"
      ],
      "metadata": {
        "colab": {
          "base_uri": "https://localhost:8080/"
        },
        "outputId": "80f9b38c-a745-433a-e9a2-e9dd1f09c772",
        "id": "03WKEuPs8hPo"
      },
      "execution_count": null,
      "outputs": [
        {
          "output_type": "stream",
          "name": "stdout",
          "text": [
            "424\n"
          ]
        }
      ]
    },
    {
      "cell_type": "markdown",
      "source": [
        "**Задание 13.**\n",
        "\n",
        "На рисунке представлена схема дорог, связывающих города А, Б, В, Г, Д, Е, Ж, З, И, К, Л, М. По каждой дороге можно двигаться только в одном направлении, указанном стрелкой.\n",
        "\n",
        "![image.png](data:image/png;base64,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)\n",
        "\n",
        "Сколько существует различных путей из города А в город М, содержащих не менее семи городов, включая города А и М?"
      ],
      "metadata": {
        "id": "ow1j9xmB9aje"
      }
    },
    {
      "cell_type": "markdown",
      "source": [
        "**Ответ:** 62"
      ],
      "metadata": {
        "id": "cj-B68ep9aj5"
      }
    },
    {
      "cell_type": "code",
      "source": [
        "А = 1\n",
        "Б = А\n",
        "Е = Б\n",
        "В = А + Б + Е\n",
        "Г = А + В\n",
        "Д = А + Г\n",
        "З = Д\n",
        "Ж = Е + В + Г + Д + З\n",
        "И = Е + Ж + З\n",
        "Л = И\n",
        "К = И + Л\n",
        "М = К + Л\n",
        "М"
      ],
      "metadata": {
        "colab": {
          "base_uri": "https://localhost:8080/"
        },
        "outputId": "79726b21-958a-4243-d5a6-6637beda04fc",
        "id": "DASGZsdZ9aj6"
      },
      "execution_count": null,
      "outputs": [
        {
          "output_type": "execute_result",
          "data": {
            "text/plain": [
              "72"
            ]
          },
          "metadata": {},
          "execution_count": 4
        }
      ]
    },
    {
      "cell_type": "markdown",
      "source": [
        "**Задание 14.**\n",
        "\n",
        "Дано арифметическое выражение:\n",
        "\n",
        "\n",
        "$x321_{111} + 17x4_{211}$\n",
        "\n",
        "\n",
        "В записи чисел переменной $x$ обозначена неизвестная цифра из допустимого алфавита для указанных систем счисления. Определите наибольшее значение x, при котором значение данного арифметического выражения кратно 111. Для найденного значения $x$ вычислите частное от деления значения арифметического выражения на 111 и укажите его в ответе в десятичной системе счисления. Основание системы счисления в ответе указывать не нужно."
      ],
      "metadata": {
        "id": "Pvq6kNDO9aj7"
      }
    },
    {
      "cell_type": "markdown",
      "source": [
        "**Ответ:** 297262"
      ],
      "metadata": {
        "id": "J55HYlRT9aj8"
      }
    },
    {
      "cell_type": "code",
      "source": [
        "for x in range(1,111):\n",
        "  t1 = 1 + 2*111 + 3*111**2 + x*111**3\n",
        "  t2 = 4 + x*211 + 7*211**2 + 1*211**3\n",
        "  if (t1 + t2) % 111 == 0:\n",
        "    print((t1+t2)//111)\n",
        "    break"
      ],
      "metadata": {
        "colab": {
          "base_uri": "https://localhost:8080/"
        },
        "outputId": "2ee60391-b0a2-403d-c877-b4c088212823",
        "id": "l27e7e5x9aj9"
      },
      "execution_count": null,
      "outputs": [
        {
          "output_type": "stream",
          "name": "stdout",
          "text": [
            "297262\n"
          ]
        }
      ]
    },
    {
      "cell_type": "markdown",
      "source": [
        "**Задание 15.**\n",
        "\n",
        "На числовой прямой даны два отрезка: P = [15; 39] и Q = [44; 57]. Укажите наибольшую возможную длину такого отрезка A, что формула\n",
        "\n",
        "$((x ∈ A) → (x ∈ P)) ∨ (x ∈ Q)$\n",
        "\n",
        "тождественно истинна (т.е. принимает значение 1 при любом неотрицательном целом значении переменной $x$)?"
      ],
      "metadata": {
        "id": "kLGcUjT89aj9"
      }
    },
    {
      "cell_type": "markdown",
      "source": [
        "**Ответ:** 24"
      ],
      "metadata": {
        "id": "VVVtnjG49aj-"
      }
    },
    {
      "cell_type": "code",
      "source": [
        "# импортируем итератор сочетаний для перебора всех возможных вариантов начала и конца отрезка A\n",
        "from itertools import combinations\n",
        "\n",
        "# логическое выражение\n",
        "def f(x, a1, a2):\n",
        "  # задаём отрезки с помощью двойных неравенств\n",
        "  P = 15 <= x <= 39\n",
        "  Q = 44 <= x <= 57\n",
        "  # границы отрезка A - переменные a1 и a2\n",
        "  A = a1 <= x <= a2\n",
        "  return (A <= P) or Q\n",
        "\n",
        "# Ox - диапазон значений x\n",
        "# начало диапазона должно быть меньше минимального из заданных начал отрезков \n",
        "# конец диапазона должен быть больше максимального из заданных концов отрезков\n",
        "# шаг диапазона - 0.25 для корректности работы с отрезками с выколотыми границами (интервалами) \n",
        "Ox = [x/4 for x in range(10*4, 80*4+1)]\n",
        "\n",
        "# список длин интервалов A, при которых выражение тождественно истинно \n",
        "answers = []\n",
        "\n",
        "for a1, a2 in combinations(Ox, 2):\n",
        "  if all(f(x,a1,a2) == True for x in Ox):\n",
        "    answers.append(round(a2) - round(a1))\n",
        "\n",
        "# выбираем наибольшую из найденных длин интервалов\n",
        "print(max(answers))"
      ],
      "metadata": {
        "colab": {
          "base_uri": "https://localhost:8080/"
        },
        "outputId": "863b5848-091c-4a88-8338-6a24025800d7",
        "id": "I2wECnNR9aj-"
      },
      "execution_count": null,
      "outputs": [
        {
          "output_type": "stream",
          "name": "stdout",
          "text": [
            "24\n"
          ]
        }
      ]
    },
    {
      "cell_type": "markdown",
      "source": [
        "**Задание 17.**\n",
        "\n",
        "В [файле](https://kpolyakov.spb.ru/cms/files/ege-seq/17-354.txt) содержится последовательность целых чисел, по модулю не превышающих 10000. Определите количество пар, для которых выполняются следующие условия:\n",
        "- последние цифры десятичной записи элементов пары различаются на 1;\n",
        "- только один из элементов пары делится без остатка на 5;\n",
        "- сумма квадратов элементов пары превышает квадрат наименьшего из всех элементов последовательности, запись которых заканчивается цифрой 2.\n",
        "\n",
        "В ответе запишите два числа: сначала количество найденных пар, затем минимальную положительную сумму элементов этих пар."
      ],
      "metadata": {
        "id": "gjJhy-ir9ilH"
      }
    },
    {
      "cell_type": "markdown",
      "source": [
        "**Ответ:** 67 79"
      ],
      "metadata": {
        "id": "mFR3Q1jE9ilJ"
      }
    },
    {
      "cell_type": "code",
      "source": [
        "f = open('17-354.txt')\n",
        "nums = [int(x) for x in f]\n",
        "\n",
        "#mn = min(x for x in nums if str(x)[-1] == '2')\n",
        "mn = min([x for x in nums if x % 10 == 2])\n",
        "\n",
        "sums = [a+b for a,b in zip(nums, nums[1:]) if abs(abs(a)%10 - abs(b)%10) == 1 and ((abs(a)%5 == 0) + (abs(b)%5 == 0) == 1) and (a**2+b**2 > mn**2)]\n",
        "print(len(sums), min([x for x in sums if x > 0]))"
      ],
      "metadata": {
        "colab": {
          "base_uri": "https://localhost:8080/"
        },
        "outputId": "3235ad6d-7a9c-4d9a-a80f-aad4e64c6096",
        "id": "hNFCpVKD9ilJ"
      },
      "execution_count": null,
      "outputs": [
        {
          "output_type": "stream",
          "name": "stdout",
          "text": [
            "71 79\n"
          ]
        }
      ]
    },
    {
      "cell_type": "markdown",
      "source": [
        "**Задание 18.**\n",
        "\n",
        "Квадрат разлинован на N×N клеток (1 < N < 20). Исполнитель Робот может перемещаться по клеткам, выполняя за одно перемещение одну из трёх команд: **влево**, **вверх** или **влево-вверх**. По команде влево Робот перемещается в соседнюю левую клетку, по команде вверх – в соседнюю верхнюю, а по команде влево-вверх – на одну клетку влево и вверх по диагонали. При попытке выхода за границу квадрата Робот разрушается. Перед каждым запуском Робота в каждой клетке квадрата записана величина вознаграждения от 1 до 100. Попав в клетку после хода влево или вверх, Робот получает указанное в ней вознаграждение, а если он попал в клетку после выполнения команды влево-вверх, вознаграждение удваивается. Это также относится к начальной и конечной клетке маршрута Робота. \n",
        "\n",
        "[файл](https://kpolyakov.spb.ru/cms/files/ege-dynxls/18-95.xls) с исходными данными представляет собой электронную таблицу размером N × N, каждая ячейка которой соответствует клетке квадрата.\n",
        "\n",
        "Определите максимальное и минимальное вознаграждение, которое может получить Робот, пройдя из правой нижней клетки в левую верхнюю. В ответе укажите два числа – сначала максимальное вознаграждение, затем минимальное."
      ],
      "metadata": {
        "id": "HYXL_aCytg_8"
      }
    },
    {
      "cell_type": "markdown",
      "source": [
        "**Ответ:** 734 343"
      ],
      "metadata": {
        "id": "RLQ-jUBf-0Uk"
      }
    },
    {
      "cell_type": "markdown",
      "source": [
        "**Задание 22.**\n",
        "\n",
        "В файле содержится информация о совокупности N вычислительных процессов, которые могут выполняться параллельно или последовательно. Будем говорить, что процесс B зависит от процесса A, если для выполнения процесса B необходимы результаты выполнения процесса A. В этом случае процессы могут выполняться только последовательно. Информация о процессах представлена в [файле](https://kpolyakov.spb.ru/cms/files/ege-proc/22-24.xls) в виде таблицы. В первом столбце таблицы указан идентификатор процесса (ID), во втором столбце таблицы – время его выполнения в миллисекундах, в третьем столбце перечислены с разделителем «;» ID процессов, от которых зависит данный процесс. Если процесс является независимым, то в таблице указано значение 0.\n",
        "\n",
        "Определите минимальное время, через которое завершится выполнение всей совокупности процессов, при условии, что все независимые друг от друга процессы могут выполняться параллельно."
      ],
      "metadata": {
        "id": "0SJ7fEMNvdJy"
      }
    },
    {
      "cell_type": "markdown",
      "source": [
        "**Ответ:** 906"
      ],
      "metadata": {
        "id": "YpFh0FKH-0tX"
      }
    },
    {
      "cell_type": "markdown",
      "source": [
        "**Задание 26.**\n",
        "\n",
        "В магазине для упаковки подарков есть N кубических коробок. Самой интересной считается упаковка подарка по принципу матрешки – подарок упаковывается в одну из коробок, та, в свою очередь, в другую коробку и т.д. Одну коробку можно поместить в другую, если длина её стороны хотя бы на 3 единицы меньше длины стороны другой коробки. Определите наибольшее количество коробок, которое можно использовать для упаковки одного подарка, и максимально возможную длину стороны самой маленькой коробки, где будет находиться подарок. Размер подарка позволяет поместить его в самую маленькую коробку.\n",
        "\n",
        "**Входные данные**\n",
        "\n",
        "В первой строке [входного файла](https://kpolyakov.spb.ru/cms/files/ege-sort/26-89.txt) записано число N – количество коробок в магазине (натуральное число, не превышающее 10 000). В каждой из следующих N строк находится значения длины стороны очередной коробки (натуральное число, не превышающее 10 000).\n",
        "\n",
        "**Выходные данные**\n",
        "\n",
        "Запишите в ответе два целых числа: сначала наибольшее количество коробок, которое можно использовать для упаковки одного подарка, затем максимально возможную длину стороны самой маленькой коробки в таком наборе.\n",
        "\n",
        "**Пример входного файла:**\n",
        "\n",
        "5\n",
        "\n",
        "43\n",
        "\n",
        "40\n",
        "\n",
        "32\n",
        "\n",
        "40\n",
        "\n",
        "30 \n",
        "\n",
        "При таких исходных данных условию задачи удовлетворяют наборы коробок с длинами сторон 30, 40 и 43 или 32, 40 и 43 соответственно. В обоих случаях количество коробок равно 3, а длина стороны самой маленькой коробки равна 32. \n",
        "\n",
        "Ответ: 3 32."
      ],
      "metadata": {
        "id": "BixIyVxC9r3S"
      }
    },
    {
      "cell_type": "markdown",
      "source": [
        "**Ответ:** 331 10"
      ],
      "metadata": {
        "id": "HZWumbJy9r3T"
      }
    },
    {
      "cell_type": "code",
      "source": [
        "f = open('26-89.txt')\n",
        "n = int(f.readline())\n",
        "\n",
        "# список коробок\n",
        "boxes = []\n",
        "# считываем размеры коробок\n",
        "for i in range(n):\n",
        "  boxes += [int(f.readline())]\n",
        "# упорядочиваем размеры коробок по убыванию\n",
        "\n",
        "boxes = sorted(boxes)\n",
        "\n",
        "size = -float('inf')\n",
        "cnt = 0\n",
        "for i in range(n):\n",
        "  if boxes[i] >= size + 3:\n",
        "    size = boxes[i]\n",
        "    cnt += 1\n",
        "    if cnt == 72:\n",
        "      break\n",
        "\n",
        "print(cnt, size)\n",
        "\n",
        "\n",
        "  \n"
      ],
      "metadata": {
        "colab": {
          "base_uri": "https://localhost:8080/"
        },
        "outputId": "964513fb-0c20-4cf4-ffd0-9e519a5db451",
        "id": "lXaBdGG89r3U"
      },
      "execution_count": null,
      "outputs": [
        {
          "output_type": "stream",
          "name": "stdout",
          "text": [
            "72 223\n"
          ]
        }
      ]
    },
    {
      "cell_type": "markdown",
      "source": [
        "#### **Пробник 6**"
      ],
      "metadata": {
        "id": "fUnG8TZCJ3cn"
      }
    },
    {
      "cell_type": "markdown",
      "source": [
        "**Задание 2**\n",
        "\n",
        "Логическая функция F задаётся выражением $x → ((w → y) ≠ z)$. \n",
        "\n",
        "На рисунке приведён частично заполненный фрагмент таблицы истинности функции F, содержащий неповторяющиеся строки. Определите, какому столбцу таблицы истинности функции F соответствует каждая из переменных x, y, z, w.\n",
        "\n",
        "![image.png](data:image/png;base64,iVBORw0KGgoAAAANSUhEUgAAAQMAAABXCAIAAACP27fJAAADVklEQVR4nO3dUY6bQBCE4ZooN4IzmTOZM5kzTR5aO2KdjdWBabuB/3tiE4mUhq2AwW2XWquAy/v16QBACjQBkGgCYH4//VxK+UgO4CPa6+TnJqz/Lo9SCqmcSOW3/n+fqyNAogmAoQmAFNeEsrIsS9C/8r9I5ZctVfmHeZ677L9/E5ZlKaXcbrdaa631druN4/jxpSTV0VNZEtswj8ej4/6jzgnDMNiGpe9V3J1I5ZczVZwf7qLuNAzD+n6ZrWBb1k8hlV/OVGvjOEp6PB4978zW7/7+k83ayaudZzcjld+JU9nZyVhdO6Z6ft7R8QlIK+7+XZHK78Sppmma57nW2ivYOlX/q6Mm1fm0IZVfzlTqVM4ngeeEjkjld+JU7ZzQJZK+p4q6d2R34pLcim5I5ZctVXt0UEqxq6PO++ecsBmp/PKn4t0WgEQTAEMTAIkmAIYmABJNAAxNAKQfnyd8Kgrwfq/ed5T8CUgepPJLm6ptc3UESDQBMNdqwjRNQe/f2oNUfnGprtKEeZ47fg5CL6Tyi051ufeiZpvDMqTyC0p1lXMC8BpNACSaABiaAEg0ATA0AZAU+Rl4He1Ptf74tGbnR7uR6kypLvc8oSNS+eVPxdURINEEwNAEQKIJgGF6E5dWmd7cj1R+aVO1ba6OAIkmACaqCeM42qfvpxr/y5kKfnFHMKQJ0zQty9IeaCf5tcuZCn6xR/DFOzG2sbG6+/1uP97vd319YehmZ00V4aypoo9g/3OCfRlR+7I62/j4eHjOVPCLPoJRTcgmZyr4RR9B7h0BUkQTcn6Jb85U8Is+glFNeLqA+3HM4p1ypoJf+BF88Wp6M8tn28MwDMOwc4cnTtXdiVOFHsGo6c31a/z9ezt3qr7OnSruCDK9uR2p/PKn4t4RINEEwNAEQKIJgGF6E5fWfv+Z3tyOVH5pU7Vtro4AiSYA5lpNYHrTL+daHWx6MyemN/1yrtXBpjcj7E/F9KZfzrU63vRmTkxv+uVcq+NNb+bE9KZfzrViehN4h6s0gelNv5xrdbzpzZyY3vTLuVaHnN7srksqpjf9cq7VIac3++qViulNv5xrxfQmqbxI5cf0JvCMJgASTQAMM2u4tPb7n/F1DPB+XB0BEk0ADE0AJOkPN+W84EeFJuwAAAAASUVORK5CYII=)\n",
        "\n",
        "В ответе напишите буквы x, y, z, w в том порядке, в котором идут соответствующие им столбцы."
      ],
      "metadata": {
        "id": "gD0Y8thWK1IF"
      }
    },
    {
      "cell_type": "markdown",
      "source": [
        "**Ответ:** zyxw"
      ],
      "metadata": {
        "id": "b1l6FAWeL6fT"
      }
    },
    {
      "cell_type": "code",
      "source": [
        "from itertools import *\n",
        "def f(x,y,z,w):\n",
        "  return x <= ((w <= y) != z)\n",
        "\n",
        "\n",
        "for a1, a2, a3, a4, a5 in product([0,1], repeat = 5):\n",
        "  table = [(a1,1,1,1),(0,0,a2,a3),(a4,0,a5,0)]\n",
        "  if len(table) == len(set(table)):\n",
        "    for p in permutations('xyzw'):\n",
        "      if [f(**dict(zip(p,r))) for r in table] == [1,0,0]:\n",
        "        print(''.join(p))"
      ],
      "metadata": {
        "colab": {
          "base_uri": "https://localhost:8080/"
        },
        "id": "Hie24mtfLlfE",
        "outputId": "fdaa3bfb-0bdf-465b-862a-96455b49c652"
      },
      "execution_count": null,
      "outputs": [
        {
          "output_type": "stream",
          "name": "stdout",
          "text": [
            "zyxw\n"
          ]
        }
      ]
    },
    {
      "cell_type": "markdown",
      "source": [
        "**Задание 4**\n",
        "\n",
        "Алфавит передаваемых по каналу связи информационных сообщений содержит только девять букв: А, Г, Д, И, О, П, Р, Т, У. Для передачи используется двоичный код, удовлетворяющий условию однозначного декодирования. Кодовые слова некоторых букв известны: Д – 010, И – 10. Какое наименьшее количество двоичных разрядов потребуется для кодирования слова АУДИОАППАРАТУРА?"
      ],
      "metadata": {
        "id": "m0zYimkTNJl4"
      }
    },
    {
      "cell_type": "markdown",
      "source": [
        "**Ответ:** 46"
      ],
      "metadata": {
        "id": "jAI7Ohe_NJsa"
      }
    },
    {
      "cell_type": "markdown",
      "source": [
        "![image.png](data:image/png;base64,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)"
      ],
      "metadata": {
        "id": "-5qnW8RzaYA8"
      }
    },
    {
      "cell_type": "code",
      "source": [
        "# А - 5\n",
        "# У - 2\n",
        "# П - 2\n",
        "# Р - 2\n",
        "# Д - 1\n",
        "# И - 1\n",
        "# О - 1\n",
        "# Т - 1\n",
        "# Г - 0\n",
        "\n",
        "# А У Д И О А П П А Р А Т У Р А\n",
        "print(2+3+3+2+4+2+4+4+2+4+2+5+3+4+2)\n",
        "print(5*2 + 3*2 + 4*2 + 4*2 + 3 + 2 + 4 + 5)"
      ],
      "metadata": {
        "colab": {
          "base_uri": "https://localhost:8080/"
        },
        "id": "L1s6-OBKNJ8Y",
        "outputId": "a2b66ff2-b967-4d63-893c-31bb3db4d1c0"
      },
      "execution_count": null,
      "outputs": [
        {
          "output_type": "stream",
          "name": "stdout",
          "text": [
            "46\n",
            "46\n"
          ]
        }
      ]
    },
    {
      "cell_type": "markdown",
      "source": [
        "**Задание 7**\n",
        "\n",
        "Текст, имеющий информационный объём 1 Мбайт, сохранили в виде стереофонической (двухканальной) аудиозаписи, при этом использовали частоту дискретизации 48 кГц и глубину кодирования 16 бит. За одну минуту диктор успевал в среднем прочитать 2 Кбайт текста. При последующем сжатии размер полученного звукового файла сократился на 68% от исходного. Затем звукозапись разделили на фрагменты размером 50 Мбайт. Определите количество полученных фрагментов."
      ],
      "metadata": {
        "id": "qcOv6Nl6i5-z"
      }
    },
    {
      "cell_type": "markdown",
      "source": [
        "**Ответ:** 36"
      ],
      "metadata": {
        "id": "uofDZgXFjO2l"
      }
    },
    {
      "cell_type": "code",
      "source": [
        "f = 48_000\n",
        "k = 2\n",
        "i = 16\n",
        "t = 1024/2*60\n",
        "v = f*k*i*t\n",
        "v = v*0.32\n",
        "v//(50*(2**23))"
      ],
      "metadata": {
        "colab": {
          "base_uri": "https://localhost:8080/"
        },
        "id": "aNjYCYjNjzjs",
        "outputId": "5939d74f-b58a-44fa-b0fb-851a914ffa34"
      },
      "execution_count": null,
      "outputs": [
        {
          "output_type": "execute_result",
          "data": {
            "text/plain": [
              "36.0"
            ]
          },
          "metadata": {},
          "execution_count": 13
        }
      ]
    },
    {
      "cell_type": "markdown",
      "source": [
        "**Задание 9**\n",
        "\n",
        "В [файле](https://kpolyakov.spb.ru/cms/files/ege-xls/9-201.xls) в каждой строке записаны 6 неотрицательных целых чисел. Определите количество строк таблицы, для которых выполнены следующие условия:\n",
        "– в строке только одно число повторяется ровно три раза, остальные числа различны;\n",
        "– среднее арифметическое неповторяющихся чисел строки меньше суммы повторяющихся чисел."
      ],
      "metadata": {
        "id": "sqnzeVfNkp2N"
      }
    },
    {
      "cell_type": "markdown",
      "source": [
        "**Ответ:** 125"
      ],
      "metadata": {
        "id": "yBNidoOcnDEb"
      }
    },
    {
      "cell_type": "code",
      "source": [
        "f = open('9.txt')\n",
        "cnt = 0\n",
        "\n",
        "for s in f:\n",
        "  row = list(map(int,s.split()))\n",
        "  if len(row) != len(set(row)) + 2:\n",
        "    continue\n",
        "  for n in row:\n",
        "    if row.count(n) == 3:\n",
        "      sm = n*3\n",
        "      mean = (sum(row) - sm) / 3\n",
        "      if mean < sm:\n",
        "        cnt += 1\n",
        "      break\n",
        "\n",
        "cnt "
      ],
      "metadata": {
        "colab": {
          "base_uri": "https://localhost:8080/"
        },
        "id": "8RDSkdNKkrJm",
        "outputId": "d3f7e17f-a40c-4f95-d211-fb06f4425ef4"
      },
      "execution_count": null,
      "outputs": [
        {
          "output_type": "execute_result",
          "data": {
            "text/plain": [
              "125"
            ]
          },
          "metadata": {},
          "execution_count": 16
        }
      ]
    },
    {
      "cell_type": "markdown",
      "source": [
        "**Задание 16**\n",
        "\n",
        "Алгоритм вычисления значения функции F(n), где n – натуральное число, задан следующими соотношениями:\n",
        "\n",
        "$F(n) = n$, если n ≥ 10 000,\n",
        "\n",
        "$F(n) = 1 + F(n / 2)$, если n < 10 000 и n чётное,\n",
        "\n",
        "$F(n) = n^2 + F(n + 2)$ , если n < 10 000 и n нечётное.\n",
        "\n",
        "Чему равно значение выражения F(192) – F(9)?"
      ],
      "metadata": {
        "id": "_JEnMJopnhVa"
      }
    },
    {
      "cell_type": "markdown",
      "source": [
        "**Ответ:** 89"
      ],
      "metadata": {
        "id": "nZqUGaAjoiQI"
      }
    },
    {
      "cell_type": "code",
      "source": [
        "import sys\n",
        "sys.setrecursionlimit(100000)\n",
        "\n",
        "def f(n):\n",
        "  if n >= 10_000:\n",
        "    return n\n",
        "  if n % 2 == 0:\n",
        "    return 1 + f(n/2)\n",
        "  if n % 2 == 1:\n",
        "    return n**2 + f(n+2)\n",
        "\n",
        "f(192) - f(9)"
      ],
      "metadata": {
        "colab": {
          "base_uri": "https://localhost:8080/"
        },
        "id": "65t0ZaNZnspN",
        "outputId": "d2cb9955-2eab-488e-c49a-b72b808ac7d7"
      },
      "execution_count": null,
      "outputs": [
        {
          "output_type": "execute_result",
          "data": {
            "text/plain": [
              "89.0"
            ]
          },
          "metadata": {},
          "execution_count": 19
        }
      ]
    },
    {
      "cell_type": "markdown",
      "source": [
        "**Задание 17**\n",
        "\n",
        "В [файле](https://kpolyakov.spb.ru/cms/files/ege-seq/17-354.txt) содержится последовательность целых чисел, по модулю не превышающих 10000. Определите количество пар элементов последовательности, в которых запись меньшего из двух элементов заканчивается цифрой 4, а сумма квадратов элементов пары меньше, чем квадрат наименьшего из всех элементов последовательности, запись которых заканчивается цифрой 1. В ответе запишите два числа: сначала количество найденных пар, затем максимальную сумму квадратов элементов этих пар. В данной задаче под парой подразумевается два идущих подряд элемента последовательности."
      ],
      "metadata": {
        "id": "4vB1KXqKnhY9"
      }
    },
    {
      "cell_type": "markdown",
      "source": [
        "**Ответ:** 402 99550625"
      ],
      "metadata": {
        "id": "YSJkPWvzpB4U"
      }
    },
    {
      "cell_type": "code",
      "source": [
        "f = open('17.txt')\n",
        "\n",
        "nums = [int(x) for x in f]\n",
        "\n",
        "mn = min(x for x in nums if abs(x)%10 == 1)\n",
        "\n",
        "sums = [a**2 + b**2 for a,b in zip(nums, nums[1:]) if str(min(a,b))[-1] == '4' and a**2 + b**2 < mn**2]\n",
        "\n",
        "print(len(sums), max(sums))"
      ],
      "metadata": {
        "colab": {
          "base_uri": "https://localhost:8080/"
        },
        "id": "3Uj-rkcAnhfT",
        "outputId": "de5a0fcb-0148-40c5-ba6b-8f2514ca4232"
      },
      "execution_count": null,
      "outputs": [
        {
          "output_type": "stream",
          "name": "stdout",
          "text": [
            "402 99550625\n"
          ]
        }
      ]
    },
    {
      "cell_type": "markdown",
      "source": [
        "**Задание 24**\n",
        "\n",
        "Текстовый [файл](https://kpolyakov.spb.ru/cms/files/ege-sym/24-2.txt) содержит последовательность из строчных и заглавных букв английского алфавита и цифр, всего не более $10^6$ символов. Убывающей подпоследовательностью будем называть непрерывную последовательность символов, расположенных в порядке уменьшения их номера в кодовой таблице символов ASCII. Запишите в ответе номер символа, с которого начинается наибольшая убывающая подпоследовательность. Если таких последовательностей несколько, используйте первую из них. Нумерация символов начинается с 1."
      ],
      "metadata": {
        "id": "R1wwT_iYrdMk"
      }
    },
    {
      "cell_type": "markdown",
      "source": [
        "**Ответ:** 44701"
      ],
      "metadata": {
        "id": "mnuTuUVXrycx"
      }
    },
    {
      "cell_type": "code",
      "source": [
        "f = open('24.txt')\n",
        "s = f.readline()\n",
        "\n",
        "mx = 0\n",
        "k = 1\n",
        "index= 0\n",
        "start = 0\n",
        "\n",
        "for i in range(len(s) - 1):\n",
        "  if s[i] > s[i+1]:\n",
        "    if k == 1:\n",
        "      ind = i\n",
        "    k += 1\n",
        "    if mx < k:\n",
        "      mx = k\n",
        "      start = ind\n",
        "  else:\n",
        "    k = 1\n",
        "\n",
        "print(start + 1)"
      ],
      "metadata": {
        "colab": {
          "base_uri": "https://localhost:8080/"
        },
        "id": "eK9jXxWXr0J4",
        "outputId": "9d25f4f8-0cf3-4724-80b4-15b118ce5a14"
      },
      "execution_count": null,
      "outputs": [
        {
          "output_type": "stream",
          "name": "stdout",
          "text": [
            "44701\n"
          ]
        }
      ]
    },
    {
      "cell_type": "markdown",
      "source": [
        "**Задание 25**\n",
        "\n",
        "Назовём маской числа последовательность цифр, в которой также могут встречаться следующие символы:\n",
        "\n",
        "— символ «?» означает ровно одну произвольную цифру;\n",
        "\n",
        "— символ «*» означает любую последовательность цифр произвольной длины; в том числе «*» может задавать и пустую последовательность.\n",
        "\n",
        "Найдите все натуральные числа, не превышающие $10^{10}$, которые соответствуют маске $1?2*0*2?1$ и при этом содержат ровно три делителя. В ответе запишите все найденные числа в порядке возрастания, справа от каждого числа запишите его второй по величине делитель."
      ],
      "metadata": {
        "id": "NiH9F5TLLG6V"
      }
    },
    {
      "cell_type": "markdown",
      "source": [
        "**Ответ:**\n"
      ],
      "metadata": {
        "id": "bU6S7s-GLG9a"
      }
    },
    {
      "cell_type": "code",
      "source": [
        "from fnmatch import fnmatch\n",
        "\n",
        "def is_three(n):\n",
        "  cnt = 0\n",
        "  for i in range(1, int(n**0.5)+1):\n",
        "    if n % i == 0:\n",
        "      cnt += 1\n",
        "    if cnt > 2:\n",
        "      return False\n",
        "  return cnt == 2\n",
        "\n",
        "for n in range(10_0001):\n",
        "  if fnmatch(str(n**2), '1?2*0*2?1'):\n",
        "    if is_three(n**2):\n",
        "      print(n**2, n)"
      ],
      "metadata": {
        "colab": {
          "base_uri": "https://localhost:8080/"
        },
        "id": "dtmohS9GLHFK",
        "outputId": "07acc672-a58b-4bcc-9f3c-91255fb937ca"
      },
      "execution_count": null,
      "outputs": [
        {
          "output_type": "stream",
          "name": "stdout",
          "text": [
            "152004241 12329\n",
            "1129027201 33601\n",
            "1320668281 36341\n",
            "1628203201 40351\n"
          ]
        }
      ]
    },
    {
      "cell_type": "markdown",
      "source": [
        "**Задание 26**\n",
        "\n",
        "В операционном зале есть N банкоматов, работающих круглосуточно. Все банкоматы пронумерованы. В течение дня M клиентов хотят воспользоваться банкоматом. Клиенты обслуживаются в порядке общей очереди. Если в один момент подошли несколько клиентов, то они становятся в очередь в порядке расположения данных в файле. Клиент, стоящий первым в очереди, подходит к первому освободившемуся банкомату (если таких несколько – к банкомату с наименьшим номером). Обслуживание очередного клиента может начаться в ту же минуту, когда банкомат станет свободным. Известно время в минутах от начала суток, когда клиент подошёл к банкомату, и время его обслуживания.\n",
        "\n",
        "Определите наибольшее время (в минутах), которое клиент стоял в очереди, и время начала обслуживания последнего клиента в том банкомате, в котором было обслужено наибольшее количество клиентов. Если таких банкоматов несколько, укажите наименьший подходящий номер банкомата.\n",
        "\n",
        "**Входные данные**\n",
        "\n",
        "В первой строке [файла](https://kpolyakov.spb.ru/cms/files/ege-sort/26-112.txt) задается два числа: N - количество банкоматов и M – количество клиентов. В каждой из последующих M строк содержится информация по одному клиенту: время начала обслуживания клиента (в минутах с начала суток) и время обслуживания (в минутах).\n",
        "\n",
        "**Выходные данные**\n",
        "\n",
        "Запишите в ответе два числа: наименьшее количество клиентов, которые были обслужены одним банкоматом за 24 часа, и время начала обслуживания последнего клиента этим банкоматом.\n",
        "\n",
        "**Пример входного файла:**\n",
        "\n",
        "2 5\n",
        "\n",
        "1 8\n",
        "\n",
        "6 12\n",
        "\n",
        "8 4\n",
        "\n",
        "8 14\n",
        "\n",
        "8 9\n",
        "\n",
        "При таких исходных данных наибольшее время ожидания (10) будет у клиента со временем обслуживания 9. Наибольшее число клиентов (3) обслужит 1-й банкомат: это клиенты со временем обслуживания 8, 4 и 14. Последний клиент начинает работу со 1-м банкоматом на 13-й минуте. \n",
        "\n",
        "Ответ для примера: 10 13."
      ],
      "metadata": {
        "id": "wlteNnLTwHGv"
      }
    },
    {
      "cell_type": "markdown",
      "source": [
        "**Ответ:** 663 1432"
      ],
      "metadata": {
        "id": "sKgJ4NzHwpER"
      }
    },
    {
      "cell_type": "code",
      "source": [
        "f = open('26-t.txt')\n",
        "\n",
        "n, m = map(int, f.readline().split())\n",
        "\n",
        "# список посетителей [время прихода, время обслуживания]\n",
        "guests  = []\n",
        "# считываем данные по времени прихода и времени обслуживания посетителей\n",
        "for i in range(m):\n",
        "  start, dur = map(int,f.readline().split())\n",
        "  guests.append([start, dur])\n",
        "\n",
        "# упорядочиваем время прихода в хронологическом порядке в порядке следования в файле\n",
        "guests = sorted(guests, key = lambda x: x[0])\n",
        "\n",
        "# список банкоматов (в каждом банкомате хранится время его очередного освобождения)\n",
        "atms = [0]*n\n",
        "cnts = [0]*n\n",
        "durs = [0]*n\n",
        "\n",
        "# функция назначения банкомата посетителю\n",
        "# в первый по индексу банкомат, время завершения обслуживания в котором меньше времени прихода текущего клиента\n",
        "# записывается время завершения обслуживания текущего клиента\n",
        "def assign(guest):\n",
        "  for i in range(n): # n = len(atms)\n",
        "    # если в текущие сутки клиент не успеет подойти к банкомату\n",
        "    if min(atms) > 1440:\n",
        "      # возвращаем признак завершения\n",
        "      return -1\n",
        "\n",
        "    # если время обслуживания клиента в текущем банкомате уже истекло \n",
        "    if atms[i] <= guest[0]:\n",
        "      # записываем в этот банкомат время завершения обслуживания текущего клиента\n",
        "      atms[i] = guest[0] + guest[1]\n",
        "      cnts[i] = cnts[i] + 1\n",
        "      durs[i] = guest[1]\n",
        "      # возвращаем 0 (в данной задаче - признак попадание клиента к банкомату без очереди)\n",
        "      return 0\n",
        "  \n",
        "  # если ни одного свободного банкомата не нашлось - находим время ожидания\n",
        "  delay = min(atms) - guest[0]\n",
        "  # находим индекс банкомата, в который попадёт клиент из очереди\n",
        "  index = atms.index(min(atms))\n",
        "  atms[index] = atms[index] + guest[1]\n",
        "  cnts[index] = cnts[index] + 1\n",
        "  durs[index] = guest[1]\n",
        "  return delay\n",
        "\n",
        "\n",
        "# суммарное количество обслуженных клиентов\n",
        "cnt = 0\n",
        "# максимальное время ожидания \n",
        "max_delay = 0\n",
        "\n",
        "# обходим список клиентов\n",
        "for guest in guests:\n",
        "  # пробуем записать клиента в свободное окно\n",
        "  delay = assign(guest)\n",
        "  # если клиент не успеет подойти к банкомату до завершения суток\n",
        "  if delay == -1:\n",
        "    # не успеют и остальные клиенты\n",
        "    break\n",
        "  # обновляем максимальное время ожидания банкомата\n",
        "  max_delay = max(delay, max_delay)\n",
        "\n",
        "# находим индекс банкомата, который обслужил наибольшее количество клиентов\n",
        "start = atms[cnts.index(max(cnts))] - durs[cnts.index(max(cnts))]\n",
        "print(max_delay, start)"
      ],
      "metadata": {
        "colab": {
          "base_uri": "https://localhost:8080/"
        },
        "id": "XwX5vEgGwrGT",
        "outputId": "740b5d50-8538-4f59-c4cf-a33a9e7ec0b8"
      },
      "execution_count": null,
      "outputs": [
        {
          "output_type": "stream",
          "name": "stdout",
          "text": [
            "10 13\n"
          ]
        }
      ]
    },
    {
      "cell_type": "markdown",
      "source": [
        "**Задание 27**\n",
        "\n",
        "В файле записана последовательность натуральных чисел. Назовём тройкой любые три числа из последовательности, для которых расстояние между двумя любыми числами не меньше 17. Расстоянием называется разность номеров элементов последовательности. Необходимо определить количество троек, в которых сумма чисел в тройке делится без остатка на 7717.\n",
        "\n",
        "**Входные данные.** \n",
        "\n",
        "Даны два входных файла ([файл A](https://kpolyakov.spb.ru/cms/files/ege-stream/140/27-140a.txt) и файл B), каждый из которых в первой строке содержит натуральное число N (1 ≤ N < 1 000 000). В каждой из следующих N строк записано по одному натуральному числу, не превышающему 10 000.\n",
        "\n",
        "**Пример входного файла:**\n",
        "\n",
        "7\n",
        "\n",
        "5\n",
        "\n",
        "12\n",
        "\n",
        "23\n",
        "\n",
        "14\n",
        "\n",
        "45\n",
        "\n",
        "3\n",
        "\n",
        "17\n",
        "\n",
        "Будем искать тройки с расстоянием между элементами не менее 3, сумма которых делится на 9. В этой последовательности существует одна такая тройка чисел: (5, 14, 17). Их сумма 36 делится на 9, а расстояние между каждыми двумя числами в последовательности не меньше 3. \n",
        "\n",
        "Ответ для примера: 1."
      ],
      "metadata": {
        "id": "WHgS1hHnwHOA"
      }
    },
    {
      "cell_type": "markdown",
      "source": [
        "**Ответ:** 19493"
      ],
      "metadata": {
        "id": "nnumse-SwHTH"
      }
    },
    {
      "cell_type": "code",
      "source": [
        "f = open('27.txt')\n",
        "\n",
        "n = int(f.readline())\n",
        "nums = [int(s) for s in f]\n",
        "\n",
        "cnt = 0\n",
        "\n",
        "for i in range(n):\n",
        "  for j in range(i+17, n):\n",
        "    for k in range(j+17, n):\n",
        "        if (nums[i] + nums[j] + nums[k]) % 7717 == 0:\n",
        "          cnt += 1\n",
        "print(cnt)"
      ],
      "metadata": {
        "colab": {
          "base_uri": "https://localhost:8080/"
        },
        "id": "46byQYmWBJK8",
        "outputId": "e7913825-8811-4889-d108-f34d6f132b3a"
      },
      "execution_count": null,
      "outputs": [
        {
          "output_type": "stream",
          "name": "stdout",
          "text": [
            "19493\n"
          ]
        }
      ]
    }
  ]
}