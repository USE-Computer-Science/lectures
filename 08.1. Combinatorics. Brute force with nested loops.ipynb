{
  "nbformat": 4,
  "nbformat_minor": 0,
  "metadata": {
    "colab": {
      "provenance": [],
      "collapsed_sections": [
        "lHD0WKZp-1i-",
        "KRYy3WO-Uqlk",
        "edlGazcIO8a7"
      ],
      "include_colab_link": true
    },
    "kernelspec": {
      "name": "python3",
      "display_name": "Python 3"
    },
    "language_info": {
      "name": "python"
    }
  },
  "cells": [
    {
      "cell_type": "markdown",
      "metadata": {
        "id": "view-in-github",
        "colab_type": "text"
      },
      "source": [
        "<a href=\"https://colab.research.google.com/github/USE-Computer-Science/lectures/blob/main/8.1.%20Combinatorics.%20Brute%20force%20with%20nested%20loops.ipynb\" target=\"_parent\"><img src=\"https://colab.research.google.com/assets/colab-badge.svg\" alt=\"Open In Colab\"/></a>"
      ]
    },
    {
      "cell_type": "markdown",
      "source": [
        "### **Брутфорс комбинаторики с помощью вложенных циклов**"
      ],
      "metadata": {
        "id": "ynkwyaz--rvC"
      }
    },
    {
      "cell_type": "markdown",
      "source": [
        "#### **Обобщённая схема решения**"
      ],
      "metadata": {
        "id": "lHD0WKZp-1i-"
      }
    },
    {
      "cell_type": "code",
      "source": [
        "cnt = 0    # инициализируем счётчик нулём, если нужно что-то посчитать\n",
        "index = 1  # инициализируем индекс, если нужно найти номер слова (числа), слово по номеру или количество слов между двумя словами\n",
        "\n",
        "# cоздаём столько вложенных циклов, сколькибуквенные слова (-значные числа) собираются по условию задачи   \n",
        "for b1 in '123456789':           # каждая переменная цикла крутится по допустимому для неё множесту символов. Например число не может начинаться с нуля\n",
        "  for b2 in '02468':             # на втором месте в числе, например, могут стоять только чётные цифры\n",
        "    for b3 in '9876543210':      # если в задании указан порядок (алфавитный, возрастание, убывание) - алфавиты циклов нужно отсортировать руками \n",
        "      ...# если ограничений на символ нет - переменная крутится по всему алфавиту  \n",
        "        for bn in '0123456789':\n",
        "          # формируем слово методом сложения символов\n",
        "          word = b1 + b2 + b3 + ... + bn    \n",
        "          \n",
        "          # если требуется подсчитать количество специальных слов - проверяем условие для текущего слова \n",
        "          if ('условие_для_слова_верно'):\n",
        "            # увеличиваем счётчик на 1\n",
        "            cnt += 1\n",
        "          \n",
        "          # если требуется найти индекс какого-то слова - проверяем не добрались ли мы до этого слова \n",
        "          if (word == 'искомое_слово'):\n",
        "            # печатаем индекс найденного слова\n",
        "            print(index)\n",
        "\n",
        "          # если требуется найти слово по индексу - проверяем не добрались ли мы до этого индекса \n",
        "          if (index == искомый_индекс):\n",
        "            # печатаем найденное слово\n",
        "            print(word)\n",
        "          \n",
        "          # на каждой итерации увеличиваем индекс\n",
        "          index += 1 \n",
        "\n",
        "# если требовалось что-то посчитать - печатаем ответ после всех циклов\n",
        "print(cnt)"
      ],
      "metadata": {
        "id": "7bC4Ckeh-87o"
      },
      "execution_count": null,
      "outputs": []
    },
    {
      "cell_type": "markdown",
      "source": [
        "**Варианты проверки условий**\n",
        "\n",
        "<code>if ('условие_для_слова_верно'): # сейчас вы находитесь здесь</code>"
      ],
      "metadata": {
        "id": "t-I-BqgaFFwP"
      }
    },
    {
      "cell_type": "code",
      "source": [
        "# Если требуется проверить стоит ли на конкретном месте слова конкретный символ - пользуемся индексацией строки и оператором in\n",
        "word = 'ЕГЭ на сотку сдам?'\n",
        "word[0] == 'Е' \n",
        "word[1] == '1'\n",
        "word[5] in 'абвгд'\n",
        "'ам' in word"
      ],
      "metadata": {
        "colab": {
          "base_uri": "https://localhost:8080/"
        },
        "id": "iSVwAdRzE6pw",
        "outputId": "8de76324-8f69-4f8b-c281-6667bed9dfaa"
      },
      "execution_count": null,
      "outputs": [
        {
          "output_type": "execute_result",
          "data": {
            "text/plain": [
              "True"
            ]
          },
          "metadata": {},
          "execution_count": 1
        }
      ]
    },
    {
      "cell_type": "code",
      "source": [
        "# Если требуется проверить, не содержит ли слово подряд идущих (не)чётных цифр - пользуемся методом replace\n",
        "word = '012456789'\n",
        "\n",
        "# очень длинно и неустойчиво к опечаткам\n",
        "#'00' in word or '02' in word or '04' in word or '06' in word or '08' in word or '22' in word or '24' in word or '86' in word or '88' in word\n",
        "\n",
        "# рабочий вариант\n",
        "num_word = word.replace('2','0').replace('4','0').replace('6','0').replace('8','0')\n",
        "\n",
        "'00' in num_word"
      ],
      "metadata": {
        "colab": {
          "base_uri": "https://localhost:8080/"
        },
        "id": "qpsYJiq4I4vb",
        "outputId": "6ac31cf9-b23e-4f89-cf99-5c0857d59b3f"
      },
      "execution_count": null,
      "outputs": [
        {
          "output_type": "execute_result",
          "data": {
            "text/plain": [
              "True"
            ]
          },
          "metadata": {},
          "execution_count": 2
        }
      ]
    },
    {
      "cell_type": "code",
      "source": [
        "# Если требуется проверить, не содержит ли слово подряд идущих (со)гласных букв - пользуемся вложенным циклом\n",
        "word = 'АБЯВЕГЁДЖИЗА'\n",
        "\n",
        "# рабочий вариант - уже не такой рабочий\n",
        "#new_word = word.replace('Б','0').replace('В','0').replace('Г','0').replace('Д','0').replace('Ж','0').replace('Ш','0').replace('Щ','0')\n",
        "\n",
        "# более рабочий вариант \n",
        "num_word = ''\n",
        "for letter in word:\n",
        "  # на месте гласных букв из word в num_word стоят единицы\n",
        "  if letter in 'АЕЁИОУЫЭЮЯ':\n",
        "    num_word = num_word + '1'\n",
        "  # знаки - не буквы\n",
        "  elif letter in 'ЪЬ':\n",
        "    num_word = num_word + '*' \n",
        "  # а на месте согласных букв из word в num_word стоят нули\n",
        "  else: \n",
        "    num_word = num_word + '0'\n",
        "\n",
        "print(num_word)\n",
        "print('00' in num_word)\n",
        "\n",
        "# раздел для гиков\n",
        "#lst = [letter in 'АЕЁИОУЫЭЮЯ' for letter in word]\n",
        "#print(lst)\n",
        "#lst = [int(letter) for letter in lst]\n",
        "#print(lst)\n",
        "#lst = [str(letter) for letter in lst]\n",
        "#print(lst)\n",
        "#lst = ''.join(lst)\n",
        "#print(lst)\n",
        "#'00' in lst"
      ],
      "metadata": {
        "colab": {
          "base_uri": "https://localhost:8080/"
        },
        "id": "31osn9zXI-WI",
        "outputId": "185f1dfe-27b6-404a-d2f5-e358186425f3"
      },
      "execution_count": null,
      "outputs": [
        {
          "output_type": "stream",
          "name": "stdout",
          "text": [
            "101010100101\n",
            "True\n"
          ]
        }
      ]
    },
    {
      "cell_type": "markdown",
      "source": [
        "#### **Задачи**"
      ],
      "metadata": {
        "id": "KRYy3WO-Uqlk"
      }
    },
    {
      "cell_type": "markdown",
      "source": [
        "**1.** Игорь составляет таблицу кодовых слов для передачи сообщений, каждому сообщению соответствует своё кодовое слово. В качестве кодовых слов Игорь использует 4-буквенные слова, в которых есть только буквы A, B, C, D, X, причём буква X появляется ровно 1 раз. Каждая из других допустимых букв может встречаться в кодовом слове любое количество раз или не встречаться совсем. Сколько различных кодовых слов может использовать Игорь?\n",
        "<br>\n",
        "Ответ: 256"
      ],
      "metadata": {
        "id": "isgzi4SPKvEB"
      }
    },
    {
      "cell_type": "code",
      "source": [
        "# инициализируем счётчик\n",
        "cnt = 0\n",
        "# четырёхбуквенные коды - 4 цикла\n",
        "for b1 in 'ABCDX':\n",
        "  for b2 in 'ABCDX':\n",
        "    for b3 in 'ABCDX':\n",
        "      for b4 in 'ABCDX':\n",
        "        # собираем слово на каждой итерации\n",
        "        word = b1 + b2 + b3 + b4\n",
        "        # проверяем условие\n",
        "        if word.count('X') == 1:\n",
        "          # увеличиваем счётчик\n",
        "          cnt += 1\n",
        "# печатаем результат\n",
        "print(cnt)"
      ],
      "metadata": {
        "id": "49XGLiFqLemO",
        "colab": {
          "base_uri": "https://localhost:8080/"
        },
        "outputId": "64fc2c83-11af-4566-db01-42cd73b08698"
      },
      "execution_count": null,
      "outputs": [
        {
          "output_type": "stream",
          "name": "stdout",
          "text": [
            "256\n"
          ]
        }
      ]
    },
    {
      "cell_type": "markdown",
      "source": [
        "**2.** Определите количество семизначных чисел, записанных в девятеричной системе счисления, учитывая, что числа не могут начинаться с цифр 2, 4 и 6 и не должны заканчиваться на тройку одинаковых цифр (например, на 000).\n",
        "\n",
        "\n",
        "2624400"
      ],
      "metadata": {
        "id": "zL2WNN6opbr9"
      }
    },
    {
      "cell_type": "code",
      "source": [
        "# инициализируем счётчик\n",
        "cnt = 0\n",
        "# семизначные числа - 7 циклов\n",
        "for b1 in '13578': # число не может начинаться с 0, 2, 4, 6\n",
        "  for b2 in '012345678':\n",
        "    for b3 in '012345678': # алфавит в девятиричной системе - {0,1,2,3,4,5,6,7,8}\n",
        "      for b4 in '012345678':\n",
        "        for b5 in '012345678':\n",
        "          for b6 in '012345678':\n",
        "            for b7 in '012345678':\n",
        "              if b5 == b6 and b6 == b7: # проверяем равны ли последние 3 цифры числа\n",
        "                # если равны - пропускаем такие числа \n",
        "                continue\n",
        "              # увеличиваем счётчик для каждого числа с различными 3 последними цифрами \n",
        "              cnt +=1\n",
        "# печатаем ответ\n",
        "print(cnt)\n"
      ],
      "metadata": {
        "colab": {
          "base_uri": "https://localhost:8080/"
        },
        "id": "LQ8ukScnp3_Q",
        "outputId": "b60f5256-fab3-4a1e-bc5c-f04e66d3b112"
      },
      "execution_count": null,
      "outputs": [
        {
          "output_type": "stream",
          "name": "stdout",
          "text": [
            "2624400\n"
          ]
        }
      ]
    },
    {
      "cell_type": "markdown",
      "source": [
        "**3.** (Досрочный ЕГЭ-2022)\n",
        "<br>\n",
        "Все 5-буквенные слова, составленные из букв слова **ПАРУС** записаны в алфавитном порядке и пронумерованы. Вот начало списка:\n",
        "\n",
        "1. ААААА\n",
        "2. ААААП\n",
        "3. ААААР\n",
        "4. ААААС\n",
        "5. ААААУ\n",
        "6. АААПА\n",
        "\n",
        "Укажите номер первого слова в списке, начинающегося на У, в котором две буквы А НЕ стоят рядом?\n",
        "<br>\n",
        "<br>\n",
        "Ответ: 2527"
      ],
      "metadata": {
        "id": "3J3S60BTrsP3"
      }
    },
    {
      "cell_type": "code",
      "source": [
        "# получим алфавитный порядок букв\n",
        "''.join( sorted('ПАРУС') )"
      ],
      "metadata": {
        "colab": {
          "base_uri": "https://localhost:8080/"
        },
        "id": "ynkBxq3ZCGju",
        "outputId": "39c4ce1a-176c-45bd-a11f-b999382be5fe"
      },
      "execution_count": null,
      "outputs": [
        {
          "output_type": "execute_result",
          "data": {
            "text/plain": [
              "'АПРСУ'"
            ],
            "application/vnd.google.colaboratory.intrinsic+json": {
              "type": "string"
            }
          },
          "metadata": {},
          "execution_count": 6
        }
      ]
    },
    {
      "cell_type": "code",
      "source": [
        "# инициализируем индекс\n",
        "index = 1\n",
        "# ставим мышеловку\n",
        "ok = True\n",
        "# 5-буквенные слова - 5 циклов\n",
        "for b1 in 'АПРСУ':\n",
        "  for b2 in 'АПРСУ':\n",
        "    for b3 in 'АПРСУ':\n",
        "      for b4 in 'АПРСУ':\n",
        "        for b5 in 'АПРСУ':\n",
        "          # собираем слово на каждой итерации\n",
        "          word = b1+b2+b3+b4+b5\n",
        "          # если слово начинается на У, не содержит АА и таких слов не встречалось ранее (ok = True)\n",
        "          if ((word[0] == 'У') and ( not 'АА' in word ) and ok):\n",
        "            # печатаем его индекс\n",
        "            print(index)\n",
        "            # защёлкиваем мышеловку\n",
        "            ok = False\n",
        "          #увеличиваем индекс на каждой итерации\n",
        "          index += 1"
      ],
      "metadata": {
        "colab": {
          "base_uri": "https://localhost:8080/"
        },
        "id": "V1pI7FaB0_Yk",
        "outputId": "e7ff27be-a465-4e56-fbb4-b55ff60784bf"
      },
      "execution_count": null,
      "outputs": [
        {
          "output_type": "stream",
          "name": "stdout",
          "text": [
            "2527\n"
          ]
        }
      ]
    },
    {
      "cell_type": "markdown",
      "source": [
        "**4.** Ольга составляет 5-буквенные коды из букв О, Л, Ь, Г, А. Каждую букву нужно использовать ровно 1 раз, при этом Ь нельзя ставить первым и нельзя ставить после гласной. Сколько различных кодов может составить Ольга?\n",
        "<br>\n",
        "Ответ: 48"
      ],
      "metadata": {
        "id": "nGuiZTX5QgeL"
      }
    },
    {
      "cell_type": "code",
      "source": [
        "# инициализируем счётчик\n",
        "cnt = 0\n",
        "# пятибуквенные слова - 5 циклов\n",
        "for b1 in 'ОЛГА': # слово не может начинаться с мягкого знака \n",
        "  for b2 in 'ОЛЬГА':\n",
        "    for b3 in 'ОЛЬГА':\n",
        "      for b4 in 'ОЛЬГА':\n",
        "        for b5 in 'ОЛЬГА':\n",
        "          # собираем слово на каждой итерации\n",
        "          word = b1 + b2 + b3 + b4 + b5\n",
        "          # проверяем нет ли в слове повторяющихся символов\n",
        "          if len(set(word)) == len(word):\n",
        "          #if word.count('О') == 1 and word.count('Л') == 1 and word.count('Ь') == 1 and word.count('Г') == 1 and word.count('А') == 1:\n",
        "            # проверяем не стоит ли Ь перед гласной\n",
        "            if ('ОЬ' in word) or ('АЬ' in word):\n",
        "              # пропускаем такие слова\n",
        "              continue\n",
        "            # увеличиваем счётчик для всех слов без гласной перед Ь\n",
        "            cnt += 1\n",
        "# печатаем ответ\n",
        "print(cnt)\n"
      ],
      "metadata": {
        "colab": {
          "base_uri": "https://localhost:8080/"
        },
        "id": "ijgIgJPiQoNs",
        "outputId": "c072cae0-fa32-4b01-e1b0-a9b078cf7776"
      },
      "execution_count": null,
      "outputs": [
        {
          "output_type": "stream",
          "name": "stdout",
          "text": [
            "48\n"
          ]
        }
      ]
    },
    {
      "cell_type": "markdown",
      "source": [
        "**5.** Из букв слова КАНКАН составляются 6-буквенные последовательности. Сколько можно составить различных последовательностей, если известно, что в каждой из них содержится не менее 3 согласных?\n",
        "<br>\n",
        "Ответ: 656"
      ],
      "metadata": {
        "id": "vCnDp0caDQE6"
      }
    },
    {
      "cell_type": "code",
      "source": [
        "# инициализируем счётчик\n",
        "cnt = 0\n",
        "# шестибуквенные слова - 6 циклов\n",
        "for b1 in 'КАН': # исключаем из алфавита повторяющиеся буквы\n",
        "  for b2 in 'КАН':\n",
        "    for b3 in 'КАН':\n",
        "      for b4 in 'КАН':\n",
        "        for b5 in 'КАН':\n",
        "          for b6 in 'КАН':\n",
        "            # собираем слово на каждой итерации\n",
        "            word = b1 + b2 + b3 + b4 + b5 + b6\n",
        "            # находим слова, в которых не менее трёх согласных\n",
        "            if word.count('К') + word.count('Н') >= 3:\n",
        "              # увеличиваем счётчик для таких слов\n",
        "              cnt += 1\n",
        "# печатаем ответ              \n",
        "print(cnt)"
      ],
      "metadata": {
        "colab": {
          "base_uri": "https://localhost:8080/"
        },
        "id": "cAXgYWkHDQ35",
        "outputId": "3d892fb9-d3af-45d1-9733-1d4b7d4f6807"
      },
      "execution_count": null,
      "outputs": [
        {
          "output_type": "stream",
          "name": "stdout",
          "text": [
            "656\n"
          ]
        }
      ]
    },
    {
      "cell_type": "markdown",
      "source": [
        "**6.** (Е. Джобс) Петя составляет четырёхбуквенные слова из букв слова СТЕПУХА и записывает их в алфавитном порядке в список. Вот начало списка:\n",
        "1. АААА\n",
        "2. АААЕ\n",
        "3. АААП\n",
        "4. АААС\n",
        "5. АААТ\n",
        "6. АААУ\n",
        "7. АААХ\n",
        "8. ААЕА\n",
        "<br>\n",
        "...\n",
        "<br>\n",
        "\n",
        "Сколько существует слов, стоящих на позициях с номером большим 1000, в которых нет двух одинаковых подряд идущих букв?\n",
        "\n",
        "883"
      ],
      "metadata": {
        "id": "t9FqPMRXaLoa"
      }
    },
    {
      "cell_type": "code",
      "source": [
        "# получим алфавитный порядок букв\n",
        "''.join( sorted('СТЕПУХА') )"
      ],
      "metadata": {
        "colab": {
          "base_uri": "https://localhost:8080/"
        },
        "id": "EawyRD7pefhr",
        "outputId": "0ae1ffe0-7b1e-4904-d83a-5fab0d9ad598"
      },
      "execution_count": null,
      "outputs": [
        {
          "output_type": "execute_result",
          "data": {
            "text/plain": [
              "'АЕПСТУХ'"
            ],
            "application/vnd.google.colaboratory.intrinsic+json": {
              "type": "string"
            }
          },
          "metadata": {},
          "execution_count": 10
        }
      ]
    },
    {
      "cell_type": "code",
      "source": [
        "# инициализируем индекс\n",
        "index = 1\n",
        "# инициализируем счётчик\n",
        "cnt = 0\n",
        "# четырёхбуквенные слова - 4 цикла\n",
        "for b1 in 'АЕПСТУХ':\n",
        "  for b2 in 'АЕПСТУХ':\n",
        "    for b3 in 'АЕПСТУХ':\n",
        "      for b4 in 'АЕПСТУХ':\n",
        "        # собираем слово на каждой итерации\n",
        "        word = b1 + b2 + b3 + b4\n",
        "        # находим слова с индексом более 1000\n",
        "        if (index > 1000):\n",
        "          # найдём слова с двумя одинаковыми буквами подряд\n",
        "          if ('АА' in word) or ('ЕЕ' in word) or ('ПП' in word) or ('СС' in word) or ('ТТ' in word) or ('УУ' in word) or ('ХХ' in word):\n",
        "            # пропустим их\n",
        "            continue\n",
        "          # увеличиваем счётчик для всех слов, в которых нет двух одинаковых букв подряд\n",
        "          cnt += 1\n",
        "        # увеличиваем индекс на каждой итерации\n",
        "        index += 1\n",
        "# печатаем ответ              \n",
        "print(cnt)"
      ],
      "metadata": {
        "colab": {
          "base_uri": "https://localhost:8080/"
        },
        "id": "ZT_k_FRlaOvk",
        "outputId": "bf5e583b-0437-4c32-bc62-073c5ba35567"
      },
      "execution_count": null,
      "outputs": [
        {
          "output_type": "stream",
          "name": "stdout",
          "text": [
            "883\n"
          ]
        }
      ]
    },
    {
      "cell_type": "markdown",
      "source": [
        "**7.** Вася составляет слова из букв слова БАРХАТКА. Код должен состоять из 8 букв, и каждая буква в нём должна встречаться столько же раз, сколько в заданном слове. Кроме того, в коде НЕ должны стоять рядом две гласные и две согласные буквы. Сколько различных слов может составить Вася?\n",
        "\n",
        "Ответ: 0 (чтобы в восьмибуквенном слове гласные и согласные чередовались - гласных должно быть не менее четырёх, а у нас только 3 буквы А)."
      ],
      "metadata": {
        "id": "Q5X-cSIas-ZV"
      }
    },
    {
      "cell_type": "code",
      "source": [
        "# как решать, если очень хочется\n",
        "\n",
        "# инициализируем счётчик\n",
        "cnt = 0\n",
        "# восьмибуквенные слова - 8 циклов\n",
        "for b1 in 'БАРХТК': # исключаем повторения А из алфавита\n",
        "  for b2 in 'БАРХТК':\n",
        "    for b3 in 'БАРХТК':\n",
        "      for b4 in 'БАРХТК':\n",
        "        for b5 in 'БАРХТК':\n",
        "          for b6 in 'БАРХТК':\n",
        "            for b7 in 'БАРХТК':\n",
        "              for b8 in 'БАРХТК':\n",
        "                # собираем слово на каждой итерации\n",
        "                word = b1 + b2 + b3 + b4 + b5 + b6 + b7 + b8\n",
        "                # проверяем совпадают ли буквы слова с буквами слова БАРХАТКА\n",
        "                # вариант с длиной множества не годится из-за повтояющейся буквы А\n",
        "                if word.count('К') == 1 and word.count('Т') == 1 and word.count('Х') == 1 and word.count('Р') == 1 and word.count('Б') == 1 and word.count('А') == 3:\n",
        "                  # заменяем все согласные в полученном слове на 0\n",
        "                  num_word = word.replace('Б','0').replace('Р','0').replace('Х','0').replace('Т','0').replace('К','0')\n",
        "                  # если в слове содержатся 2 согласные или 2 гласные подряд\n",
        "                  if ('00' in num_word) or ('АА' in num_word):\n",
        "                    # пропускаем такое слово\n",
        "                    continue\n",
        "                  # увеличиваем счётчик для всех слов без подряд идущих (со)гласных\n",
        "                  cnt += 1\n",
        "# печатаем ответ              \n",
        "print(cnt)"
      ],
      "metadata": {
        "id": "BBazO9SJQ7QK",
        "colab": {
          "base_uri": "https://localhost:8080/"
        },
        "outputId": "c8084ce4-baaa-4026-b3c1-0a2f4456ba19"
      },
      "execution_count": null,
      "outputs": [
        {
          "output_type": "stream",
          "name": "stdout",
          "text": [
            "0\n"
          ]
        }
      ]
    },
    {
      "cell_type": "markdown",
      "source": [
        "**8.**(Е. Джобс) Сколько десятичных чисел длиной 9 можно составить, если известно, что цифры идут в порядке убывания, при этом четные и нечетные цифры чередуются?\n",
        "<br>\n",
        "Ответ: 2 (987654321 и 876543210, других подходящих чисел не существует)."
      ],
      "metadata": {
        "id": "xSXHEW1C0D1s"
      }
    },
    {
      "cell_type": "code",
      "source": [
        "# как решать не надо \n",
        "# (писать код - мучительно долго, работает алгоритм ещё немного мучительнее)\n",
        "\n",
        "# инициализируем счётчик\n",
        "cnt = 0\n",
        "# девятибуквенные слова - 9 циклов\n",
        "for b1 in '987654321':\n",
        "  for b2 in '9876543210':\n",
        "    for b3 in '9876543210':\n",
        "      for b4 in '9876543210':\n",
        "        for b5 in '9876543210':\n",
        "          for b6 in '9876543210':\n",
        "            for b7 in '9876543210':\n",
        "              for b8 in '9876543210':\n",
        "                for b9 in '9876543210':\n",
        "                  # собираем число на каждой итерации\n",
        "                  word = b1 + b2 + b3 + b4 + b5 + b6 + b7 + b8 + b9\n",
        "                  # флаг годности числа\n",
        "                  ok = True\n",
        "                  # перебираем все пары подряд идущих цифр в числе\n",
        "                  for i in range(1,len(word)):\n",
        "                    # если в паре цифры расположены в неубывающем порядке\n",
        "                    if word[i] >= word[i - 1]:\n",
        "                      # флаг становится негодным\n",
        "                      ok = False\n",
        "                      break\n",
        "                    # если оба числа в паре одинаково (не)чётны \n",
        "                    if int(word[i]) % 2 == int(word[i - 1]) % 2:\n",
        "                      # флаг становится негодным\n",
        "                      ok = False\n",
        "                      break\n",
        "                  # если флаг остался годным для всех пар в числе\n",
        "                  if ok:\n",
        "                    #выводим на экран такое число\n",
        "                    print(word)\n",
        "                    # увеличиваем счётчик найденных чисел\n",
        "                    cnt += 1\n",
        "# печатаем ответ\n",
        "print(cnt)"
      ],
      "metadata": {
        "id": "TyeHCCCCwr3D",
        "colab": {
          "base_uri": "https://localhost:8080/"
        },
        "outputId": "f7dc2778-d5a6-427f-cca2-681f16c4df42"
      },
      "execution_count": null,
      "outputs": [
        {
          "output_type": "stream",
          "name": "stdout",
          "text": [
            "987654321\n",
            "876543210\n",
            "2\n"
          ]
        }
      ]
    },
    {
      "cell_type": "markdown",
      "source": [
        "#### **Домашнее задание**"
      ],
      "metadata": {
        "id": "RqaEC2G634kR"
      }
    },
    {
      "cell_type": "markdown",
      "source": [
        "#####**1.1.** Все пятибуквенные слова, составленные из букв Т, О, Р, записаны в обратном алфавитном порядке. Вот начало списка:\n",
        "\n",
        "1. ТТТТТ\n",
        "2. ТТТТР\n",
        "3. ТТТТО\n",
        "4. ТТТРТ\n",
        "<br>\n",
        "...\n",
        "\n",
        "Укажите слово, которое стоит на 143-м месте от начала списка."
      ],
      "metadata": {
        "id": "S04aajgrWTQz"
      }
    },
    {
      "cell_type": "code",
      "source": [],
      "metadata": {
        "id": "KLwySmj9WhLR"
      },
      "execution_count": null,
      "outputs": []
    },
    {
      "cell_type": "markdown",
      "source": [
        "**1.2.** Алина выписывает в обратном алфавитном порядке все шестисимвольные комбинации, составленные из букв Г, Е, Т, Р, А. Вот начало списка:\n",
        "\n",
        "1. ТТТТТТ\n",
        "2. ТТТТТР\n",
        "3. ТТТТТЕ\n",
        "4. ТТТТТГ\n",
        "5. ТТТТТА\n",
        "6. ТТТТРТ\n",
        "<br>\n",
        "...\n",
        "\n",
        "Укажите номер слова ГЕТЕРА в этом списке."
      ],
      "metadata": {
        "id": "j5oHcO5sW0C6"
      }
    },
    {
      "cell_type": "code",
      "source": [],
      "metadata": {
        "id": "0aOHtKb2XQpy"
      },
      "execution_count": null,
      "outputs": []
    },
    {
      "cell_type": "markdown",
      "source": [
        "**1.3.** Сергей составляет слова, меняя местами буквы в слове КОЛОСС так, что любые две соседние буквы должны быть различны между собой. Сколько всего слов может составить Сергей?"
      ],
      "metadata": {
        "id": "mZzdxiJLXIM_"
      }
    },
    {
      "cell_type": "code",
      "source": [],
      "metadata": {
        "id": "Rn83WPDZXQHS"
      },
      "execution_count": null,
      "outputs": []
    },
    {
      "cell_type": "markdown",
      "source": [
        "**1.4.** Никита составляет 5-буквенные слова из букв слова СКАНВОРД. Полученное слово не должно заканчиваться на гласную и содержать сочетания букв ВОР. Буквы в слове не повторяются. Сколько всего слов может составить Никита?"
      ],
      "metadata": {
        "id": "JEFS6JcvXdrC"
      }
    },
    {
      "cell_type": "code",
      "source": [],
      "metadata": {
        "id": "8v-nYuIvXgYE"
      },
      "execution_count": null,
      "outputs": []
    },
    {
      "cell_type": "markdown",
      "source": [
        "**1.5.** Пётр составляет шестибуквенные слова, в которых есть только буквы П, А, Ф, О, С, причём каждая из соглаcных букв встречается ровно по одному разу. Буква О встречается не более 2 раз, а буква А может встречаться любое количество раз или не встречаться вовсе. Словом считается любая допустимая последовательность букв. Сколько различных слов может составить Пётр?"
      ],
      "metadata": {
        "id": "xeLjGvccXgik"
      }
    },
    {
      "cell_type": "code",
      "source": [],
      "metadata": {
        "id": "Sk6JhofJXlXR"
      },
      "execution_count": null,
      "outputs": []
    },
    {
      "cell_type": "markdown",
      "source": [
        "**1.6.** Все 5-буквенные слова, составленные из букв Т, О, П, записаны в алфавитном порядке. Вот начало списка:\n",
        "\n",
        "1. ООООО\n",
        "2. ООООП\n",
        "3. ООООТ\n",
        "4. ОООПО\n",
        "<br>\n",
        "...\n",
        "\n",
        "Какое количество слов находятся между словами ПОТОП и ТОПОТ (не включая сами эти слова)?"
      ],
      "metadata": {
        "id": "8TExBcBFXlrx"
      }
    },
    {
      "cell_type": "code",
      "source": [],
      "metadata": {
        "id": "l8QrhDuAXx4f"
      },
      "execution_count": null,
      "outputs": []
    },
    {
      "cell_type": "markdown",
      "source": [
        "**1.7.** Боря составляет пятибуквенные слова из букв слова АПЛОМБ и записывает их в алфавитном порядке. Вот начало списка:\n",
        "\n",
        "1. ААААА\n",
        "2. ААААБ\n",
        "3. ААААЛ\n",
        "4. ААААМ\n",
        "5. ААААО\n",
        "6. ААААП\n",
        "7. АААБА\n",
        "<br>\n",
        "...\n",
        "\n",
        "Сколько существует слов, стоящих в списке на позициях с нечётными номерами, в которых нет двух одинаковых подряд идущих букв?"
      ],
      "metadata": {
        "id": "cW3l2MmyXyUO"
      }
    },
    {
      "cell_type": "code",
      "source": [],
      "metadata": {
        "id": "fv5DoRfmYIKf"
      },
      "execution_count": null,
      "outputs": []
    },
    {
      "cell_type": "markdown",
      "source": [
        "**1.8.** Коля составляет слова из букв слова БАКАЛАВР. Код должен состоять из 8 букв, и каждая буква в нём должна встречаться столько же раз, сколько в заданном слове. Помимо этого, в полученном слове должны хотя бы раз рядом встречаться две гласные или две согласные буквы. Сколько различных слов может составить Коля?"
      ],
      "metadata": {
        "id": "twYqDZNyYESB"
      }
    },
    {
      "cell_type": "code",
      "source": [],
      "metadata": {
        "id": "DAP1IcJXYNQr"
      },
      "execution_count": null,
      "outputs": []
    },
    {
      "cell_type": "markdown",
      "source": [
        "**1.9.** Разведчик кодирует символы текста пятью стрелками. Каждая стрелка может иметь четыре положения (направления): ↑→↓←. Для первой стрелки запрещено положение вверх: ↑. Стрелки, расположенные через одну, не могут находиться в одинаковом положении (направлении): первая и третья, вторая и четвертая, третья и пятая. Сколько всего различных символов текста может закодировать разведчик?"
      ],
      "metadata": {
        "id": "dWm71HXMYOC7"
      }
    },
    {
      "cell_type": "code",
      "source": [],
      "metadata": {
        "id": "6ioAsbUCYZA7"
      },
      "execution_count": null,
      "outputs": []
    },
    {
      "cell_type": "markdown",
      "source": [
        "**1.10.** Ира составляет слова из букв О, Л, И, В, А. Каждая согласная буква встречается в слове не более двух раз. Каждая гласная может стоять в слове на первой позиции, либо не встречаться вовсе. Сколько слов длиной более двух символов может составить Ира?"
      ],
      "metadata": {
        "id": "nATQoyfWdCQV"
      }
    },
    {
      "cell_type": "code",
      "source": [],
      "metadata": {
        "id": "k8DabCutdGYB"
      },
      "execution_count": null,
      "outputs": []
    },
    {
      "cell_type": "markdown",
      "source": [
        "#####**2.1.** Все четырёхзначные числа, в пятиричной системе счисления записаны по возрастанию и пронумерованы.\n",
        "\n",
        "Вот начало списка:\n",
        "\n",
        "1. 1000\n",
        "\n",
        "2. 1001\n",
        "\n",
        "3. 1002\n",
        "\n",
        "4. 1003\n",
        "\n",
        "5. 1004\n",
        "\n",
        "6. 1010\n",
        "\n",
        "……\n",
        "\n",
        "Запишите число, которое стоит под номером 139."
      ],
      "metadata": {
        "id": "-y08UP1L4Gkd"
      }
    },
    {
      "cell_type": "code",
      "source": [],
      "metadata": {
        "id": "MsopdyfG4HtU"
      },
      "execution_count": null,
      "outputs": []
    },
    {
      "cell_type": "markdown",
      "source": [
        "**2.2.** Сколько в восьмеричной системе счисления существует пятизначных чисел делящихся на 5 без остатка?"
      ],
      "metadata": {
        "id": "gsACQ2TI4qDn"
      }
    },
    {
      "cell_type": "code",
      "source": [],
      "metadata": {
        "id": "7Mb8yaba4r60"
      },
      "execution_count": null,
      "outputs": []
    },
    {
      "cell_type": "markdown",
      "source": [
        "**2.3** Сколько в восьмеричной системе счисления существует четырёхзначных чисел, начинающихся с чётной цифры, в которых все цифры располагаются в невозрастающем порядке?"
      ],
      "metadata": {
        "id": "AhsjW0eq4tWZ"
      }
    },
    {
      "cell_type": "code",
      "source": [],
      "metadata": {
        "id": "fkHxpsJ34tf5"
      },
      "execution_count": null,
      "outputs": []
    },
    {
      "cell_type": "markdown",
      "source": [
        "**2.4.** Выведите на экран количество таких чисел, девятеричная запись которых содержит 6 неповторяющихся цифр, и никакие две чётные и две нечётные цифры не стоят рядом."
      ],
      "metadata": {
        "id": "U842927q4twa"
      }
    },
    {
      "cell_type": "code",
      "source": [],
      "metadata": {
        "id": "WeBlaRTk4t30"
      },
      "execution_count": null,
      "outputs": []
    },
    {
      "cell_type": "markdown",
      "source": [
        "**2.5** Богдан составляет пятизначные числа в шестнадцатеричной системе счисления, в которых цифры расположены в порядке возрастания. Сколько различных чисел всего может составить Богдан?"
      ],
      "metadata": {
        "id": "Zpj-MBur4uFY"
      }
    },
    {
      "cell_type": "code",
      "source": [],
      "metadata": {
        "id": "sWRQr4qI4uLo"
      },
      "execution_count": null,
      "outputs": []
    },
    {
      "cell_type": "markdown",
      "source": [
        "**2.6** Все пятизначные числа в семеричной системе счисления, состоящие из неповторяющихся цифр записаны по убыванию и пронумерованы. Вот начало списка:\n",
        "\n",
        "1. 65432\n",
        "\n",
        "2. 65431\n",
        "\n",
        "3. 65430\n",
        "\n",
        "4. 65423\n",
        "\n",
        "……\n",
        "\n",
        "Выведите на экран индекс числа 43210."
      ],
      "metadata": {
        "id": "mAV8OA3V4uSm"
      }
    },
    {
      "cell_type": "code",
      "source": [],
      "metadata": {
        "id": "ZvxoAbJH4uYG"
      },
      "execution_count": null,
      "outputs": []
    },
    {
      "cell_type": "markdown",
      "source": [
        "**2.7** Сколько существует нечётных шестеричных чисел длиной 5, начинающихся с цифры 3?"
      ],
      "metadata": {
        "id": "RBhfXaXH4uez"
      }
    },
    {
      "cell_type": "code",
      "source": [],
      "metadata": {
        "id": "EbFX7P7p4ukq"
      },
      "execution_count": null,
      "outputs": []
    },
    {
      "cell_type": "markdown",
      "source": [
        "**2.8** Определите количество шестизначных чисел, записанных в восьмеричной системе счисления, учитывая, что числа не могут начинаться с цифр 1 и 5 и не должны содержать сочетания цифр 22 и 33 одновременно."
      ],
      "metadata": {
        "id": "4XcDJj654uqp"
      }
    },
    {
      "cell_type": "code",
      "source": [],
      "metadata": {
        "id": "b_IZJfeb4uv5"
      },
      "execution_count": null,
      "outputs": []
    },
    {
      "cell_type": "markdown",
      "source": [
        "**2.9** (ЕГЭ-2022) Определите количество пятизначных чисел, записанных в девятеричной системе счисления, которые не начинаются с нечётных цифр, не оканчиваются цифрами 1 или 8, а также содержат в своей записи не более одной цифры 3."
      ],
      "metadata": {
        "id": "xCryI2GL4u2R"
      }
    },
    {
      "cell_type": "code",
      "source": [],
      "metadata": {
        "id": "rQEQidR04u7c"
      },
      "execution_count": null,
      "outputs": []
    },
    {
      "cell_type": "markdown",
      "source": [
        "**2.10.** (демо ЕГЭ 2023) Определите количество пятизначных чисел, записанных в восьмеричной системе счисления, в записи которых только одна цифра 6, при этом никакая нечётная цифра не стоит рядом с цифрой 6."
      ],
      "metadata": {
        "id": "gKOXz7Ha4vB6"
      }
    },
    {
      "cell_type": "code",
      "source": [],
      "metadata": {
        "id": "wy57vUDc4vHx"
      },
      "execution_count": null,
      "outputs": []
    }
  ]
}
